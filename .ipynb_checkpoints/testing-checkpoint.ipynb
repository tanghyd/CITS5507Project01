{
 "cells": [
  {
   "cell_type": "code",
   "execution_count": 1,
   "metadata": {},
   "outputs": [],
   "source": [
    "import glob\n",
    "\n",
    "import numpy as np\n",
    "import pandas as pd\n",
    "\n",
    "import seaborn as sns\n",
    "import matplotlib.pyplot as plt\n",
    "import matplotlib.colors as mcolors\n",
    "\n",
    "import plotly.express as px\n",
    "import plotly.graph_objects as go"
   ]
  },
  {
   "cell_type": "code",
   "execution_count": 112,
   "metadata": {},
   "outputs": [
    {
     "data": {
      "text/plain": [
       "['results/results_final.csv',\n",
       " 'results/results.csv',\n",
       " 'results/results_latest.csv']"
      ]
     },
     "execution_count": 112,
     "metadata": {},
     "output_type": "execute_result"
    }
   ],
   "source": [
    "glob.glob('results/*.csv')"
   ]
  },
  {
   "cell_type": "code",
   "execution_count": 113,
   "metadata": {},
   "outputs": [],
   "source": [
    "columns = ['Algorithm','Construct','Threads','Size','Cutoff','Duration']\n",
    "# results = pd.concat([\n",
    "#     pd.read_csv(file, names=columns)\n",
    "#     for file in glob.glob('results/*.csv')\n",
    "# ])\n",
    "results = pd.read_csv('results/results_final.csv', names=columns)\n",
    "\n",
    "cutoff = 100"
   ]
  },
  {
   "cell_type": "code",
   "execution_count": 114,
   "metadata": {
    "scrolled": false
   },
   "outputs": [],
   "source": [
    "# take average over trials\n",
    "df = results.groupby(['Algorithm', 'Construct', 'Threads', 'Size', 'Cutoff'])['Duration'].mean().to_frame('Duration')\n",
    "\n",
    "# exclude parallel implementations without cutoffs\n",
    "df = df.loc[\n",
    "    (\n",
    "        (df.index.get_level_values('Construct') == 'serial')\n",
    "        | (df.index.get_level_values('Cutoff') == 100)\n",
    "    )\n",
    "#     & (df.index.get_level_values('Algorithm') != 'enumeration')\n",
    "    & (df.index.get_level_values('Construct') != 'sections')\n",
    "    & (df.index.get_level_values('Size') <= 1000000)\n",
    "]\n",
    "\n",
    "df = df.reset_index(['Cutoff'], drop=True)\n",
    "\n",
    "# copy single threaded \"serial\" to one each for tasks and sections for visualisation\n",
    "sections = df.loc[df.index.get_level_values('Construct') == 'serial'].reset_index()\n",
    "tasks = sections.copy()\n",
    "\n",
    "sections.Construct = sections.Construct.str.replace('serial', 'sections')\n",
    "sections.set_index(df.index.names, inplace=True)\n",
    "# sections.set_index(df.'Construct', inplace=True, append=True)\n",
    "\n",
    "tasks.loc[tasks.Algorithm != 'enumeration', 'Construct'] = (\n",
    "    tasks.Construct.str.replace('serial', 'tasks')\n",
    ")\n",
    "tasks.set_index(df.index.names, inplace=True)\n",
    "# sections.set_index('Construct', inplace=True, append=True)\n",
    "\n",
    "# merge copies together\n",
    "df = pd.concat([df.loc[df.index.get_level_values('Construct') != 'serial'], sections, tasks]).reset_index()\n",
    "df = df.sort_values(['Threads', 'Size'])\n",
    "\n",
    "# the way we have copied serial implementations to tasks/sections for visualisation\n",
    "# has meant we have duplicated num_threads==1 entries for enumeration;\n",
    "# this is not the most elegant solution, but this should replace duplicate enumeration serial entries\n",
    "df.loc[df['Algorithm'] == 'enumeration', 'Construct'] = (\n",
    "    np.repeat('parallel', len(df.loc[df['Algorithm'] == 'enumeration', 'Construct']))\n",
    ")\n",
    "\n",
    "# assert (len(df) - len(df.drop_duplicates())) == 5\n",
    "\n",
    "df = df.drop_duplicates()"
   ]
  },
  {
   "cell_type": "code",
   "execution_count": 87,
   "metadata": {},
   "outputs": [],
   "source": [
    "# temp = (\n",
    "#     results\n",
    "#     .groupby(['Algorithm', 'Construct', 'Threads', 'Size', 'Cutoff'])['Duration'].mean()\n",
    "#     .to_frame('Duration')\n",
    "#     .reset_index()\n",
    "# )\n",
    "\n",
    "# a = temp.loc[(temp['Algorithm'] == 'quick') & (temp['Construct'] == 'serial')]\n",
    "# b = df.loc[\n",
    "#     (df['Algorithm'] == 'quick') & \n",
    "#     (df['Threads'] == 1)\n",
    "# ].sort_values(['Construct','Size'])\n",
    "# display(a, b)"
   ]
  },
  {
   "cell_type": "code",
   "execution_count": 115,
   "metadata": {},
   "outputs": [
    {
     "data": {
      "application/vnd.plotly.v1+json": {
       "config": {
        "plotlyServerURL": "https://plot.ly"
       },
       "data": [
        {
         "hovertemplate": "Threads=1<br>Algorithm=enumeration<br>Array Size=%{x}<br>Duration (s)=%{y}<extra></extra>",
         "legendgroup": "1",
         "line": {
          "color": "rgb(76,114,176)",
          "dash": "solid"
         },
         "mode": "lines",
         "name": "1",
         "orientation": "v",
         "showlegend": true,
         "type": "scatter",
         "x": [
          1000,
          5000,
          10000,
          50000,
          100000
         ],
         "xaxis": "x",
         "y": [
          0.003027388802729547,
          0.05277263740426861,
          0.22231946359970606,
          6.791740235802718,
          26.825873957190197
         ],
         "yaxis": "y"
        },
        {
         "hovertemplate": "Threads=1<br>Algorithm=merge<br>Array Size=%{x}<br>Duration (s)=%{y}<extra></extra>",
         "legendgroup": "1",
         "line": {
          "color": "rgb(76,114,176)",
          "dash": "solid"
         },
         "mode": "lines",
         "name": "1",
         "orientation": "v",
         "showlegend": false,
         "type": "scatter",
         "x": [
          1000,
          5000,
          10000,
          50000,
          100000
         ],
         "xaxis": "x2",
         "y": [
          0.0001423625973984599,
          0.0005351307976525277,
          0.0011604002036619929,
          0.006632926798192784,
          0.014113142207497731
         ],
         "yaxis": "y2"
        },
        {
         "hovertemplate": "Threads=1<br>Algorithm=quick<br>Array Size=%{x}<br>Duration (s)=%{y}<extra></extra>",
         "legendgroup": "1",
         "line": {
          "color": "rgb(76,114,176)",
          "dash": "solid"
         },
         "mode": "lines",
         "name": "1",
         "orientation": "v",
         "showlegend": false,
         "type": "scatter",
         "x": [
          1000,
          5000,
          10000,
          50000,
          100000
         ],
         "xaxis": "x3",
         "y": [
          0.0001493101997766644,
          0.0005886966071557253,
          0.0012569456070195884,
          0.007614820799790323,
          0.016349963803077117
         ],
         "yaxis": "y3"
        },
        {
         "hovertemplate": "Threads=2<br>Algorithm=enumeration<br>Array Size=%{x}<br>Duration (s)=%{y}<extra></extra>",
         "legendgroup": "2",
         "line": {
          "color": "rgb(221,132,82)",
          "dash": "solid"
         },
         "mode": "lines",
         "name": "2",
         "orientation": "v",
         "showlegend": true,
         "type": "scatter",
         "x": [
          1000,
          5000,
          10000,
          50000,
          100000
         ],
         "xaxis": "x",
         "y": [
          0.0024668266007211058,
          0.06015709940111265,
          0.2400586995994672,
          5.972959492803784,
          23.93171816819813
         ],
         "yaxis": "y"
        },
        {
         "hovertemplate": "Threads=2<br>Algorithm=merge<br>Array Size=%{x}<br>Duration (s)=%{y}<extra></extra>",
         "legendgroup": "2",
         "line": {
          "color": "rgb(221,132,82)",
          "dash": "solid"
         },
         "mode": "lines",
         "name": "2",
         "orientation": "v",
         "showlegend": false,
         "type": "scatter",
         "x": [
          1000,
          5000,
          10000,
          50000,
          100000
         ],
         "xaxis": "x2",
         "y": [
          8.815680048428476e-05,
          0.00043031739187426865,
          0.0008730943955015391,
          0.0053330410039052365,
          0.011017061804886907
         ],
         "yaxis": "y2"
        },
        {
         "hovertemplate": "Threads=2<br>Algorithm=quick<br>Array Size=%{x}<br>Duration (s)=%{y}<extra></extra>",
         "legendgroup": "2",
         "line": {
          "color": "rgb(221,132,82)",
          "dash": "solid"
         },
         "mode": "lines",
         "name": "2",
         "orientation": "v",
         "showlegend": false,
         "type": "scatter",
         "x": [
          1000,
          5000,
          10000,
          50000,
          100000
         ],
         "xaxis": "x3",
         "y": [
          8.403719984926284e-05,
          0.00045426379656419156,
          0.0010083609959110618,
          0.0052101236011367295,
          0.01286235599545762
         ],
         "yaxis": "y3"
        },
        {
         "hovertemplate": "Threads=4<br>Algorithm=enumeration<br>Array Size=%{x}<br>Duration (s)=%{y}<extra></extra>",
         "legendgroup": "4",
         "line": {
          "color": "rgb(85,168,104)",
          "dash": "solid"
         },
         "mode": "lines",
         "name": "4",
         "orientation": "v",
         "showlegend": true,
         "type": "scatter",
         "x": [
          1000,
          5000,
          10000,
          50000,
          100000
         ],
         "xaxis": "x",
         "y": [
          0.0012390754010993988,
          0.03018024460761808,
          0.12158549559535459,
          3.00584616959095,
          12.060942454793258
         ],
         "yaxis": "y"
        },
        {
         "hovertemplate": "Threads=4<br>Algorithm=merge<br>Array Size=%{x}<br>Duration (s)=%{y}<extra></extra>",
         "legendgroup": "4",
         "line": {
          "color": "rgb(85,168,104)",
          "dash": "solid"
         },
         "mode": "lines",
         "name": "4",
         "orientation": "v",
         "showlegend": false,
         "type": "scatter",
         "x": [
          1000,
          5000,
          10000,
          50000,
          100000
         ],
         "xaxis": "x2",
         "y": [
          8.636360289528965e-05,
          0.0004380261991173029,
          0.0006853401951957494,
          0.004892008996102959,
          0.012158845399972052
         ],
         "yaxis": "y2"
        },
        {
         "hovertemplate": "Threads=4<br>Algorithm=quick<br>Array Size=%{x}<br>Duration (s)=%{y}<extra></extra>",
         "legendgroup": "4",
         "line": {
          "color": "rgb(85,168,104)",
          "dash": "solid"
         },
         "mode": "lines",
         "name": "4",
         "orientation": "v",
         "showlegend": false,
         "type": "scatter",
         "x": [
          1000,
          5000,
          10000,
          50000,
          100000
         ],
         "xaxis": "x3",
         "y": [
          8.154000388458372e-05,
          0.0003962212009355426,
          0.0007983049959875643,
          0.003990622999845072,
          0.00781336780055426
         ],
         "yaxis": "y3"
        },
        {
         "hovertemplate": "Threads=8<br>Algorithm=enumeration<br>Array Size=%{x}<br>Duration (s)=%{y}<extra></extra>",
         "legendgroup": "8",
         "line": {
          "color": "rgb(196,78,82)",
          "dash": "solid"
         },
         "mode": "lines",
         "name": "8",
         "orientation": "v",
         "showlegend": true,
         "type": "scatter",
         "x": [
          1000,
          5000,
          10000,
          50000,
          100000
         ],
         "xaxis": "x",
         "y": [
          0.000644481397466734,
          0.015384748595533893,
          0.06140193978790194,
          1.532392706797691,
          6.115675331209786
         ],
         "yaxis": "y"
        },
        {
         "hovertemplate": "Threads=8<br>Algorithm=merge<br>Array Size=%{x}<br>Duration (s)=%{y}<extra></extra>",
         "legendgroup": "8",
         "line": {
          "color": "rgb(196,78,82)",
          "dash": "solid"
         },
         "mode": "lines",
         "name": "8",
         "orientation": "v",
         "showlegend": false,
         "type": "scatter",
         "x": [
          1000,
          5000,
          10000,
          50000,
          100000
         ],
         "xaxis": "x2",
         "y": [
          8.666819194331765e-05,
          0.0003371143946424127,
          0.0005786569963674992,
          0.0031667952076531946,
          0.007759435591287911
         ],
         "yaxis": "y2"
        },
        {
         "hovertemplate": "Threads=8<br>Algorithm=quick<br>Array Size=%{x}<br>Duration (s)=%{y}<extra></extra>",
         "legendgroup": "8",
         "line": {
          "color": "rgb(196,78,82)",
          "dash": "solid"
         },
         "mode": "lines",
         "name": "8",
         "orientation": "v",
         "showlegend": false,
         "type": "scatter",
         "x": [
          1000,
          5000,
          10000,
          50000,
          100000
         ],
         "xaxis": "x3",
         "y": [
          0.00010535040055401624,
          0.0003957080014515668,
          0.00075582901481539,
          0.0035397392057348043,
          0.006974426208762452
         ],
         "yaxis": "y3"
        },
        {
         "hovertemplate": "Threads=16<br>Algorithm=enumeration<br>Array Size=%{x}<br>Duration (s)=%{y}<extra></extra>",
         "legendgroup": "16",
         "line": {
          "color": "rgb(129,114,179)",
          "dash": "solid"
         },
         "mode": "lines",
         "name": "16",
         "orientation": "v",
         "showlegend": true,
         "type": "scatter",
         "x": [
          1000,
          5000,
          10000,
          50000,
          100000
         ],
         "xaxis": "x",
         "y": [
          0.00039951938670128583,
          0.008907577989157289,
          0.035540709004271774,
          0.8777054241974838,
          3.4588222188001962
         ],
         "yaxis": "y"
        },
        {
         "hovertemplate": "Threads=16<br>Algorithm=merge<br>Array Size=%{x}<br>Duration (s)=%{y}<extra></extra>",
         "legendgroup": "16",
         "line": {
          "color": "rgb(129,114,179)",
          "dash": "solid"
         },
         "mode": "lines",
         "name": "16",
         "orientation": "v",
         "showlegend": false,
         "type": "scatter",
         "x": [
          1000,
          5000,
          10000,
          50000,
          100000
         ],
         "xaxis": "x2",
         "y": [
          0.00010665520094335079,
          0.00033546501072123647,
          0.0006277881911955774,
          0.003237940004328266,
          0.007116475398652256
         ],
         "yaxis": "y2"
        },
        {
         "hovertemplate": "Threads=16<br>Algorithm=quick<br>Array Size=%{x}<br>Duration (s)=%{y}<extra></extra>",
         "legendgroup": "16",
         "line": {
          "color": "rgb(129,114,179)",
          "dash": "solid"
         },
         "mode": "lines",
         "name": "16",
         "orientation": "v",
         "showlegend": false,
         "type": "scatter",
         "x": [
          1000,
          5000,
          10000,
          50000,
          100000
         ],
         "xaxis": "x3",
         "y": [
          0.00013301820727065205,
          0.00043896620627492666,
          0.0008376113954000175,
          0.004121434199623764,
          0.008050750195980071
         ],
         "yaxis": "y3"
        }
       ],
       "layout": {
        "annotations": [
         {
          "font": {},
          "showarrow": false,
          "text": "Algorithm=enumeration",
          "x": 0.15,
          "xanchor": "center",
          "xref": "paper",
          "y": 1,
          "yanchor": "bottom",
          "yref": "paper"
         },
         {
          "font": {},
          "showarrow": false,
          "text": "Algorithm=merge",
          "x": 0.49999999999999994,
          "xanchor": "center",
          "xref": "paper",
          "y": 1,
          "yanchor": "bottom",
          "yref": "paper"
         },
         {
          "font": {},
          "showarrow": false,
          "text": "Algorithm=quick",
          "x": 0.85,
          "xanchor": "center",
          "xref": "paper",
          "y": 1,
          "yanchor": "bottom",
          "yref": "paper"
         }
        ],
        "height": 400,
        "legend": {
         "title": {
          "text": "Threads"
         },
         "tracegroupgap": 0
        },
        "template": {
         "data": {
          "bar": [
           {
            "error_x": {
             "color": "rgb(36,36,36)"
            },
            "error_y": {
             "color": "rgb(36,36,36)"
            },
            "marker": {
             "line": {
              "color": "rgb(234,234,242)",
              "width": 0.5
             }
            },
            "type": "bar"
           }
          ],
          "barpolar": [
           {
            "marker": {
             "line": {
              "color": "rgb(234,234,242)",
              "width": 0.5
             }
            },
            "type": "barpolar"
           }
          ],
          "carpet": [
           {
            "aaxis": {
             "endlinecolor": "rgb(36,36,36)",
             "gridcolor": "white",
             "linecolor": "white",
             "minorgridcolor": "white",
             "startlinecolor": "rgb(36,36,36)"
            },
            "baxis": {
             "endlinecolor": "rgb(36,36,36)",
             "gridcolor": "white",
             "linecolor": "white",
             "minorgridcolor": "white",
             "startlinecolor": "rgb(36,36,36)"
            },
            "type": "carpet"
           }
          ],
          "choropleth": [
           {
            "colorbar": {
             "outlinewidth": 0,
             "tickcolor": "rgb(36,36,36)",
             "ticklen": 8,
             "ticks": "outside",
             "tickwidth": 2
            },
            "type": "choropleth"
           }
          ],
          "contour": [
           {
            "colorbar": {
             "outlinewidth": 0,
             "tickcolor": "rgb(36,36,36)",
             "ticklen": 8,
             "ticks": "outside",
             "tickwidth": 2
            },
            "colorscale": [
             [
              0,
              "rgb(2,4,25)"
             ],
             [
              0.06274509803921569,
              "rgb(24,15,41)"
             ],
             [
              0.12549019607843137,
              "rgb(47,23,57)"
             ],
             [
              0.18823529411764706,
              "rgb(71,28,72)"
             ],
             [
              0.25098039215686274,
              "rgb(97,30,82)"
             ],
             [
              0.3137254901960784,
              "rgb(123,30,89)"
             ],
             [
              0.3764705882352941,
              "rgb(150,27,91)"
             ],
             [
              0.4392156862745098,
              "rgb(177,22,88)"
             ],
             [
              0.5019607843137255,
              "rgb(203,26,79)"
             ],
             [
              0.5647058823529412,
              "rgb(223,47,67)"
             ],
             [
              0.6274509803921569,
              "rgb(236,76,61)"
             ],
             [
              0.6901960784313725,
              "rgb(242,107,73)"
             ],
             [
              0.7529411764705882,
              "rgb(244,135,95)"
             ],
             [
              0.8156862745098039,
              "rgb(245,162,122)"
             ],
             [
              0.8784313725490196,
              "rgb(246,188,153)"
             ],
             [
              0.9411764705882353,
              "rgb(247,212,187)"
             ],
             [
              1,
              "rgb(250,234,220)"
             ]
            ],
            "type": "contour"
           }
          ],
          "contourcarpet": [
           {
            "colorbar": {
             "outlinewidth": 0,
             "tickcolor": "rgb(36,36,36)",
             "ticklen": 8,
             "ticks": "outside",
             "tickwidth": 2
            },
            "type": "contourcarpet"
           }
          ],
          "heatmap": [
           {
            "colorbar": {
             "outlinewidth": 0,
             "tickcolor": "rgb(36,36,36)",
             "ticklen": 8,
             "ticks": "outside",
             "tickwidth": 2
            },
            "colorscale": [
             [
              0,
              "rgb(2,4,25)"
             ],
             [
              0.06274509803921569,
              "rgb(24,15,41)"
             ],
             [
              0.12549019607843137,
              "rgb(47,23,57)"
             ],
             [
              0.18823529411764706,
              "rgb(71,28,72)"
             ],
             [
              0.25098039215686274,
              "rgb(97,30,82)"
             ],
             [
              0.3137254901960784,
              "rgb(123,30,89)"
             ],
             [
              0.3764705882352941,
              "rgb(150,27,91)"
             ],
             [
              0.4392156862745098,
              "rgb(177,22,88)"
             ],
             [
              0.5019607843137255,
              "rgb(203,26,79)"
             ],
             [
              0.5647058823529412,
              "rgb(223,47,67)"
             ],
             [
              0.6274509803921569,
              "rgb(236,76,61)"
             ],
             [
              0.6901960784313725,
              "rgb(242,107,73)"
             ],
             [
              0.7529411764705882,
              "rgb(244,135,95)"
             ],
             [
              0.8156862745098039,
              "rgb(245,162,122)"
             ],
             [
              0.8784313725490196,
              "rgb(246,188,153)"
             ],
             [
              0.9411764705882353,
              "rgb(247,212,187)"
             ],
             [
              1,
              "rgb(250,234,220)"
             ]
            ],
            "type": "heatmap"
           }
          ],
          "heatmapgl": [
           {
            "colorbar": {
             "outlinewidth": 0,
             "tickcolor": "rgb(36,36,36)",
             "ticklen": 8,
             "ticks": "outside",
             "tickwidth": 2
            },
            "colorscale": [
             [
              0,
              "rgb(2,4,25)"
             ],
             [
              0.06274509803921569,
              "rgb(24,15,41)"
             ],
             [
              0.12549019607843137,
              "rgb(47,23,57)"
             ],
             [
              0.18823529411764706,
              "rgb(71,28,72)"
             ],
             [
              0.25098039215686274,
              "rgb(97,30,82)"
             ],
             [
              0.3137254901960784,
              "rgb(123,30,89)"
             ],
             [
              0.3764705882352941,
              "rgb(150,27,91)"
             ],
             [
              0.4392156862745098,
              "rgb(177,22,88)"
             ],
             [
              0.5019607843137255,
              "rgb(203,26,79)"
             ],
             [
              0.5647058823529412,
              "rgb(223,47,67)"
             ],
             [
              0.6274509803921569,
              "rgb(236,76,61)"
             ],
             [
              0.6901960784313725,
              "rgb(242,107,73)"
             ],
             [
              0.7529411764705882,
              "rgb(244,135,95)"
             ],
             [
              0.8156862745098039,
              "rgb(245,162,122)"
             ],
             [
              0.8784313725490196,
              "rgb(246,188,153)"
             ],
             [
              0.9411764705882353,
              "rgb(247,212,187)"
             ],
             [
              1,
              "rgb(250,234,220)"
             ]
            ],
            "type": "heatmapgl"
           }
          ],
          "histogram": [
           {
            "marker": {
             "colorbar": {
              "outlinewidth": 0,
              "tickcolor": "rgb(36,36,36)",
              "ticklen": 8,
              "ticks": "outside",
              "tickwidth": 2
             }
            },
            "type": "histogram"
           }
          ],
          "histogram2d": [
           {
            "colorbar": {
             "outlinewidth": 0,
             "tickcolor": "rgb(36,36,36)",
             "ticklen": 8,
             "ticks": "outside",
             "tickwidth": 2
            },
            "colorscale": [
             [
              0,
              "rgb(2,4,25)"
             ],
             [
              0.06274509803921569,
              "rgb(24,15,41)"
             ],
             [
              0.12549019607843137,
              "rgb(47,23,57)"
             ],
             [
              0.18823529411764706,
              "rgb(71,28,72)"
             ],
             [
              0.25098039215686274,
              "rgb(97,30,82)"
             ],
             [
              0.3137254901960784,
              "rgb(123,30,89)"
             ],
             [
              0.3764705882352941,
              "rgb(150,27,91)"
             ],
             [
              0.4392156862745098,
              "rgb(177,22,88)"
             ],
             [
              0.5019607843137255,
              "rgb(203,26,79)"
             ],
             [
              0.5647058823529412,
              "rgb(223,47,67)"
             ],
             [
              0.6274509803921569,
              "rgb(236,76,61)"
             ],
             [
              0.6901960784313725,
              "rgb(242,107,73)"
             ],
             [
              0.7529411764705882,
              "rgb(244,135,95)"
             ],
             [
              0.8156862745098039,
              "rgb(245,162,122)"
             ],
             [
              0.8784313725490196,
              "rgb(246,188,153)"
             ],
             [
              0.9411764705882353,
              "rgb(247,212,187)"
             ],
             [
              1,
              "rgb(250,234,220)"
             ]
            ],
            "type": "histogram2d"
           }
          ],
          "histogram2dcontour": [
           {
            "colorbar": {
             "outlinewidth": 0,
             "tickcolor": "rgb(36,36,36)",
             "ticklen": 8,
             "ticks": "outside",
             "tickwidth": 2
            },
            "colorscale": [
             [
              0,
              "rgb(2,4,25)"
             ],
             [
              0.06274509803921569,
              "rgb(24,15,41)"
             ],
             [
              0.12549019607843137,
              "rgb(47,23,57)"
             ],
             [
              0.18823529411764706,
              "rgb(71,28,72)"
             ],
             [
              0.25098039215686274,
              "rgb(97,30,82)"
             ],
             [
              0.3137254901960784,
              "rgb(123,30,89)"
             ],
             [
              0.3764705882352941,
              "rgb(150,27,91)"
             ],
             [
              0.4392156862745098,
              "rgb(177,22,88)"
             ],
             [
              0.5019607843137255,
              "rgb(203,26,79)"
             ],
             [
              0.5647058823529412,
              "rgb(223,47,67)"
             ],
             [
              0.6274509803921569,
              "rgb(236,76,61)"
             ],
             [
              0.6901960784313725,
              "rgb(242,107,73)"
             ],
             [
              0.7529411764705882,
              "rgb(244,135,95)"
             ],
             [
              0.8156862745098039,
              "rgb(245,162,122)"
             ],
             [
              0.8784313725490196,
              "rgb(246,188,153)"
             ],
             [
              0.9411764705882353,
              "rgb(247,212,187)"
             ],
             [
              1,
              "rgb(250,234,220)"
             ]
            ],
            "type": "histogram2dcontour"
           }
          ],
          "mesh3d": [
           {
            "colorbar": {
             "outlinewidth": 0,
             "tickcolor": "rgb(36,36,36)",
             "ticklen": 8,
             "ticks": "outside",
             "tickwidth": 2
            },
            "type": "mesh3d"
           }
          ],
          "parcoords": [
           {
            "line": {
             "colorbar": {
              "outlinewidth": 0,
              "tickcolor": "rgb(36,36,36)",
              "ticklen": 8,
              "ticks": "outside",
              "tickwidth": 2
             }
            },
            "type": "parcoords"
           }
          ],
          "pie": [
           {
            "automargin": true,
            "type": "pie"
           }
          ],
          "scatter": [
           {
            "marker": {
             "colorbar": {
              "outlinewidth": 0,
              "tickcolor": "rgb(36,36,36)",
              "ticklen": 8,
              "ticks": "outside",
              "tickwidth": 2
             }
            },
            "type": "scatter"
           }
          ],
          "scatter3d": [
           {
            "line": {
             "colorbar": {
              "outlinewidth": 0,
              "tickcolor": "rgb(36,36,36)",
              "ticklen": 8,
              "ticks": "outside",
              "tickwidth": 2
             }
            },
            "marker": {
             "colorbar": {
              "outlinewidth": 0,
              "tickcolor": "rgb(36,36,36)",
              "ticklen": 8,
              "ticks": "outside",
              "tickwidth": 2
             }
            },
            "type": "scatter3d"
           }
          ],
          "scattercarpet": [
           {
            "marker": {
             "colorbar": {
              "outlinewidth": 0,
              "tickcolor": "rgb(36,36,36)",
              "ticklen": 8,
              "ticks": "outside",
              "tickwidth": 2
             }
            },
            "type": "scattercarpet"
           }
          ],
          "scattergeo": [
           {
            "marker": {
             "colorbar": {
              "outlinewidth": 0,
              "tickcolor": "rgb(36,36,36)",
              "ticklen": 8,
              "ticks": "outside",
              "tickwidth": 2
             }
            },
            "type": "scattergeo"
           }
          ],
          "scattergl": [
           {
            "marker": {
             "colorbar": {
              "outlinewidth": 0,
              "tickcolor": "rgb(36,36,36)",
              "ticklen": 8,
              "ticks": "outside",
              "tickwidth": 2
             }
            },
            "type": "scattergl"
           }
          ],
          "scattermapbox": [
           {
            "marker": {
             "colorbar": {
              "outlinewidth": 0,
              "tickcolor": "rgb(36,36,36)",
              "ticklen": 8,
              "ticks": "outside",
              "tickwidth": 2
             }
            },
            "type": "scattermapbox"
           }
          ],
          "scatterpolar": [
           {
            "marker": {
             "colorbar": {
              "outlinewidth": 0,
              "tickcolor": "rgb(36,36,36)",
              "ticklen": 8,
              "ticks": "outside",
              "tickwidth": 2
             }
            },
            "type": "scatterpolar"
           }
          ],
          "scatterpolargl": [
           {
            "marker": {
             "colorbar": {
              "outlinewidth": 0,
              "tickcolor": "rgb(36,36,36)",
              "ticklen": 8,
              "ticks": "outside",
              "tickwidth": 2
             }
            },
            "type": "scatterpolargl"
           }
          ],
          "scatterternary": [
           {
            "marker": {
             "colorbar": {
              "outlinewidth": 0,
              "tickcolor": "rgb(36,36,36)",
              "ticklen": 8,
              "ticks": "outside",
              "tickwidth": 2
             }
            },
            "type": "scatterternary"
           }
          ],
          "surface": [
           {
            "colorbar": {
             "outlinewidth": 0,
             "tickcolor": "rgb(36,36,36)",
             "ticklen": 8,
             "ticks": "outside",
             "tickwidth": 2
            },
            "colorscale": [
             [
              0,
              "rgb(2,4,25)"
             ],
             [
              0.06274509803921569,
              "rgb(24,15,41)"
             ],
             [
              0.12549019607843137,
              "rgb(47,23,57)"
             ],
             [
              0.18823529411764706,
              "rgb(71,28,72)"
             ],
             [
              0.25098039215686274,
              "rgb(97,30,82)"
             ],
             [
              0.3137254901960784,
              "rgb(123,30,89)"
             ],
             [
              0.3764705882352941,
              "rgb(150,27,91)"
             ],
             [
              0.4392156862745098,
              "rgb(177,22,88)"
             ],
             [
              0.5019607843137255,
              "rgb(203,26,79)"
             ],
             [
              0.5647058823529412,
              "rgb(223,47,67)"
             ],
             [
              0.6274509803921569,
              "rgb(236,76,61)"
             ],
             [
              0.6901960784313725,
              "rgb(242,107,73)"
             ],
             [
              0.7529411764705882,
              "rgb(244,135,95)"
             ],
             [
              0.8156862745098039,
              "rgb(245,162,122)"
             ],
             [
              0.8784313725490196,
              "rgb(246,188,153)"
             ],
             [
              0.9411764705882353,
              "rgb(247,212,187)"
             ],
             [
              1,
              "rgb(250,234,220)"
             ]
            ],
            "type": "surface"
           }
          ],
          "table": [
           {
            "cells": {
             "fill": {
              "color": "rgb(231,231,240)"
             },
             "line": {
              "color": "white"
             }
            },
            "header": {
             "fill": {
              "color": "rgb(183,183,191)"
             },
             "line": {
              "color": "white"
             }
            },
            "type": "table"
           }
          ]
         },
         "layout": {
          "annotationdefaults": {
           "arrowcolor": "rgb(67,103,167)"
          },
          "autotypenumbers": "strict",
          "coloraxis": {
           "colorbar": {
            "outlinewidth": 0,
            "tickcolor": "rgb(36,36,36)",
            "ticklen": 8,
            "ticks": "outside",
            "tickwidth": 2
           }
          },
          "colorscale": {
           "sequential": [
            [
             0,
             "rgb(2,4,25)"
            ],
            [
             0.06274509803921569,
             "rgb(24,15,41)"
            ],
            [
             0.12549019607843137,
             "rgb(47,23,57)"
            ],
            [
             0.18823529411764706,
             "rgb(71,28,72)"
            ],
            [
             0.25098039215686274,
             "rgb(97,30,82)"
            ],
            [
             0.3137254901960784,
             "rgb(123,30,89)"
            ],
            [
             0.3764705882352941,
             "rgb(150,27,91)"
            ],
            [
             0.4392156862745098,
             "rgb(177,22,88)"
            ],
            [
             0.5019607843137255,
             "rgb(203,26,79)"
            ],
            [
             0.5647058823529412,
             "rgb(223,47,67)"
            ],
            [
             0.6274509803921569,
             "rgb(236,76,61)"
            ],
            [
             0.6901960784313725,
             "rgb(242,107,73)"
            ],
            [
             0.7529411764705882,
             "rgb(244,135,95)"
            ],
            [
             0.8156862745098039,
             "rgb(245,162,122)"
            ],
            [
             0.8784313725490196,
             "rgb(246,188,153)"
            ],
            [
             0.9411764705882353,
             "rgb(247,212,187)"
            ],
            [
             1,
             "rgb(250,234,220)"
            ]
           ],
           "sequentialminus": [
            [
             0,
             "rgb(2,4,25)"
            ],
            [
             0.06274509803921569,
             "rgb(24,15,41)"
            ],
            [
             0.12549019607843137,
             "rgb(47,23,57)"
            ],
            [
             0.18823529411764706,
             "rgb(71,28,72)"
            ],
            [
             0.25098039215686274,
             "rgb(97,30,82)"
            ],
            [
             0.3137254901960784,
             "rgb(123,30,89)"
            ],
            [
             0.3764705882352941,
             "rgb(150,27,91)"
            ],
            [
             0.4392156862745098,
             "rgb(177,22,88)"
            ],
            [
             0.5019607843137255,
             "rgb(203,26,79)"
            ],
            [
             0.5647058823529412,
             "rgb(223,47,67)"
            ],
            [
             0.6274509803921569,
             "rgb(236,76,61)"
            ],
            [
             0.6901960784313725,
             "rgb(242,107,73)"
            ],
            [
             0.7529411764705882,
             "rgb(244,135,95)"
            ],
            [
             0.8156862745098039,
             "rgb(245,162,122)"
            ],
            [
             0.8784313725490196,
             "rgb(246,188,153)"
            ],
            [
             0.9411764705882353,
             "rgb(247,212,187)"
            ],
            [
             1,
             "rgb(250,234,220)"
            ]
           ]
          },
          "colorway": [
           "rgb(76,114,176)",
           "rgb(221,132,82)",
           "rgb(85,168,104)",
           "rgb(196,78,82)",
           "rgb(129,114,179)",
           "rgb(147,120,96)",
           "rgb(218,139,195)",
           "rgb(140,140,140)",
           "rgb(204,185,116)",
           "rgb(100,181,205)"
          ],
          "font": {
           "color": "rgb(36,36,36)"
          },
          "geo": {
           "bgcolor": "white",
           "lakecolor": "white",
           "landcolor": "rgb(234,234,242)",
           "showlakes": true,
           "showland": true,
           "subunitcolor": "white"
          },
          "hoverlabel": {
           "align": "left"
          },
          "hovermode": "closest",
          "paper_bgcolor": "white",
          "plot_bgcolor": "rgb(234,234,242)",
          "polar": {
           "angularaxis": {
            "gridcolor": "white",
            "linecolor": "white",
            "showgrid": true,
            "ticks": ""
           },
           "bgcolor": "rgb(234,234,242)",
           "radialaxis": {
            "gridcolor": "white",
            "linecolor": "white",
            "showgrid": true,
            "ticks": ""
           }
          },
          "scene": {
           "xaxis": {
            "backgroundcolor": "rgb(234,234,242)",
            "gridcolor": "white",
            "gridwidth": 2,
            "linecolor": "white",
            "showbackground": true,
            "showgrid": true,
            "ticks": "",
            "zerolinecolor": "white"
           },
           "yaxis": {
            "backgroundcolor": "rgb(234,234,242)",
            "gridcolor": "white",
            "gridwidth": 2,
            "linecolor": "white",
            "showbackground": true,
            "showgrid": true,
            "ticks": "",
            "zerolinecolor": "white"
           },
           "zaxis": {
            "backgroundcolor": "rgb(234,234,242)",
            "gridcolor": "white",
            "gridwidth": 2,
            "linecolor": "white",
            "showbackground": true,
            "showgrid": true,
            "ticks": "",
            "zerolinecolor": "white"
           }
          },
          "shapedefaults": {
           "fillcolor": "rgb(67,103,167)",
           "line": {
            "width": 0
           },
           "opacity": 0.5
          },
          "ternary": {
           "aaxis": {
            "gridcolor": "white",
            "linecolor": "white",
            "showgrid": true,
            "ticks": ""
           },
           "baxis": {
            "gridcolor": "white",
            "linecolor": "white",
            "showgrid": true,
            "ticks": ""
           },
           "bgcolor": "rgb(234,234,242)",
           "caxis": {
            "gridcolor": "white",
            "linecolor": "white",
            "showgrid": true,
            "ticks": ""
           }
          },
          "xaxis": {
           "automargin": true,
           "gridcolor": "white",
           "linecolor": "white",
           "showgrid": true,
           "ticks": "",
           "title": {
            "standoff": 15
           },
           "zerolinecolor": "white"
          },
          "yaxis": {
           "automargin": true,
           "gridcolor": "white",
           "linecolor": "white",
           "showgrid": true,
           "ticks": "",
           "title": {
            "standoff": 15
           },
           "zerolinecolor": "white"
          }
         }
        },
        "title": {
         "text": "Algorithm Runtime Comparisons in C / OpenMP (No Hybrid Parallelism)"
        },
        "xaxis": {
         "anchor": "y",
         "domain": [
          0,
          0.3
         ],
         "title": {
          "text": "Array Size"
         },
         "type": "log"
        },
        "xaxis2": {
         "anchor": "y2",
         "domain": [
          0.35,
          0.6499999999999999
         ],
         "matches": "x",
         "title": {
          "text": "Array Size"
         },
         "type": "log"
        },
        "xaxis3": {
         "anchor": "y3",
         "domain": [
          0.7,
          1
         ],
         "matches": "x",
         "title": {
          "text": "Array Size"
         },
         "type": "log"
        },
        "yaxis": {
         "anchor": "x",
         "domain": [
          0,
          1
         ],
         "title": {
          "text": "Duration (s)"
         }
        },
        "yaxis2": {
         "anchor": "x2",
         "domain": [
          0,
          1
         ],
         "showticklabels": true
        },
        "yaxis3": {
         "anchor": "x3",
         "domain": [
          0,
          1
         ],
         "showticklabels": true
        }
       }
      },
      "text/html": [
       "<div>                            <div id=\"53bcaea3-e371-484f-a765-a36e09f1c4da\" class=\"plotly-graph-div\" style=\"height:400px; width:100%;\"></div>            <script type=\"text/javascript\">                require([\"plotly\"], function(Plotly) {                    window.PLOTLYENV=window.PLOTLYENV || {};                                    if (document.getElementById(\"53bcaea3-e371-484f-a765-a36e09f1c4da\")) {                    Plotly.newPlot(                        \"53bcaea3-e371-484f-a765-a36e09f1c4da\",                        [{\"hovertemplate\": \"Threads=1<br>Algorithm=enumeration<br>Array Size=%{x}<br>Duration (s)=%{y}<extra></extra>\", \"legendgroup\": \"1\", \"line\": {\"color\": \"rgb(76,114,176)\", \"dash\": \"solid\"}, \"mode\": \"lines\", \"name\": \"1\", \"orientation\": \"v\", \"showlegend\": true, \"type\": \"scatter\", \"x\": [1000, 5000, 10000, 50000, 100000], \"xaxis\": \"x\", \"y\": [0.003027388802729547, 0.05277263740426861, 0.22231946359970606, 6.791740235802718, 26.825873957190197], \"yaxis\": \"y\"}, {\"hovertemplate\": \"Threads=1<br>Algorithm=merge<br>Array Size=%{x}<br>Duration (s)=%{y}<extra></extra>\", \"legendgroup\": \"1\", \"line\": {\"color\": \"rgb(76,114,176)\", \"dash\": \"solid\"}, \"mode\": \"lines\", \"name\": \"1\", \"orientation\": \"v\", \"showlegend\": false, \"type\": \"scatter\", \"x\": [1000, 5000, 10000, 50000, 100000], \"xaxis\": \"x2\", \"y\": [0.0001423625973984599, 0.0005351307976525277, 0.0011604002036619929, 0.006632926798192784, 0.014113142207497731], \"yaxis\": \"y2\"}, {\"hovertemplate\": \"Threads=1<br>Algorithm=quick<br>Array Size=%{x}<br>Duration (s)=%{y}<extra></extra>\", \"legendgroup\": \"1\", \"line\": {\"color\": \"rgb(76,114,176)\", \"dash\": \"solid\"}, \"mode\": \"lines\", \"name\": \"1\", \"orientation\": \"v\", \"showlegend\": false, \"type\": \"scatter\", \"x\": [1000, 5000, 10000, 50000, 100000], \"xaxis\": \"x3\", \"y\": [0.0001493101997766644, 0.0005886966071557253, 0.0012569456070195884, 0.007614820799790323, 0.016349963803077117], \"yaxis\": \"y3\"}, {\"hovertemplate\": \"Threads=2<br>Algorithm=enumeration<br>Array Size=%{x}<br>Duration (s)=%{y}<extra></extra>\", \"legendgroup\": \"2\", \"line\": {\"color\": \"rgb(221,132,82)\", \"dash\": \"solid\"}, \"mode\": \"lines\", \"name\": \"2\", \"orientation\": \"v\", \"showlegend\": true, \"type\": \"scatter\", \"x\": [1000, 5000, 10000, 50000, 100000], \"xaxis\": \"x\", \"y\": [0.0024668266007211058, 0.06015709940111265, 0.2400586995994672, 5.972959492803784, 23.93171816819813], \"yaxis\": \"y\"}, {\"hovertemplate\": \"Threads=2<br>Algorithm=merge<br>Array Size=%{x}<br>Duration (s)=%{y}<extra></extra>\", \"legendgroup\": \"2\", \"line\": {\"color\": \"rgb(221,132,82)\", \"dash\": \"solid\"}, \"mode\": \"lines\", \"name\": \"2\", \"orientation\": \"v\", \"showlegend\": false, \"type\": \"scatter\", \"x\": [1000, 5000, 10000, 50000, 100000], \"xaxis\": \"x2\", \"y\": [8.815680048428476e-05, 0.00043031739187426865, 0.0008730943955015391, 0.0053330410039052365, 0.011017061804886907], \"yaxis\": \"y2\"}, {\"hovertemplate\": \"Threads=2<br>Algorithm=quick<br>Array Size=%{x}<br>Duration (s)=%{y}<extra></extra>\", \"legendgroup\": \"2\", \"line\": {\"color\": \"rgb(221,132,82)\", \"dash\": \"solid\"}, \"mode\": \"lines\", \"name\": \"2\", \"orientation\": \"v\", \"showlegend\": false, \"type\": \"scatter\", \"x\": [1000, 5000, 10000, 50000, 100000], \"xaxis\": \"x3\", \"y\": [8.403719984926284e-05, 0.00045426379656419156, 0.0010083609959110618, 0.0052101236011367295, 0.01286235599545762], \"yaxis\": \"y3\"}, {\"hovertemplate\": \"Threads=4<br>Algorithm=enumeration<br>Array Size=%{x}<br>Duration (s)=%{y}<extra></extra>\", \"legendgroup\": \"4\", \"line\": {\"color\": \"rgb(85,168,104)\", \"dash\": \"solid\"}, \"mode\": \"lines\", \"name\": \"4\", \"orientation\": \"v\", \"showlegend\": true, \"type\": \"scatter\", \"x\": [1000, 5000, 10000, 50000, 100000], \"xaxis\": \"x\", \"y\": [0.0012390754010993988, 0.03018024460761808, 0.12158549559535459, 3.00584616959095, 12.060942454793258], \"yaxis\": \"y\"}, {\"hovertemplate\": \"Threads=4<br>Algorithm=merge<br>Array Size=%{x}<br>Duration (s)=%{y}<extra></extra>\", \"legendgroup\": \"4\", \"line\": {\"color\": \"rgb(85,168,104)\", \"dash\": \"solid\"}, \"mode\": \"lines\", \"name\": \"4\", \"orientation\": \"v\", \"showlegend\": false, \"type\": \"scatter\", \"x\": [1000, 5000, 10000, 50000, 100000], \"xaxis\": \"x2\", \"y\": [8.636360289528965e-05, 0.0004380261991173029, 0.0006853401951957494, 0.004892008996102959, 0.012158845399972052], \"yaxis\": \"y2\"}, {\"hovertemplate\": \"Threads=4<br>Algorithm=quick<br>Array Size=%{x}<br>Duration (s)=%{y}<extra></extra>\", \"legendgroup\": \"4\", \"line\": {\"color\": \"rgb(85,168,104)\", \"dash\": \"solid\"}, \"mode\": \"lines\", \"name\": \"4\", \"orientation\": \"v\", \"showlegend\": false, \"type\": \"scatter\", \"x\": [1000, 5000, 10000, 50000, 100000], \"xaxis\": \"x3\", \"y\": [8.154000388458372e-05, 0.0003962212009355426, 0.0007983049959875643, 0.003990622999845072, 0.00781336780055426], \"yaxis\": \"y3\"}, {\"hovertemplate\": \"Threads=8<br>Algorithm=enumeration<br>Array Size=%{x}<br>Duration (s)=%{y}<extra></extra>\", \"legendgroup\": \"8\", \"line\": {\"color\": \"rgb(196,78,82)\", \"dash\": \"solid\"}, \"mode\": \"lines\", \"name\": \"8\", \"orientation\": \"v\", \"showlegend\": true, \"type\": \"scatter\", \"x\": [1000, 5000, 10000, 50000, 100000], \"xaxis\": \"x\", \"y\": [0.000644481397466734, 0.015384748595533893, 0.06140193978790194, 1.532392706797691, 6.115675331209786], \"yaxis\": \"y\"}, {\"hovertemplate\": \"Threads=8<br>Algorithm=merge<br>Array Size=%{x}<br>Duration (s)=%{y}<extra></extra>\", \"legendgroup\": \"8\", \"line\": {\"color\": \"rgb(196,78,82)\", \"dash\": \"solid\"}, \"mode\": \"lines\", \"name\": \"8\", \"orientation\": \"v\", \"showlegend\": false, \"type\": \"scatter\", \"x\": [1000, 5000, 10000, 50000, 100000], \"xaxis\": \"x2\", \"y\": [8.666819194331765e-05, 0.0003371143946424127, 0.0005786569963674992, 0.0031667952076531946, 0.007759435591287911], \"yaxis\": \"y2\"}, {\"hovertemplate\": \"Threads=8<br>Algorithm=quick<br>Array Size=%{x}<br>Duration (s)=%{y}<extra></extra>\", \"legendgroup\": \"8\", \"line\": {\"color\": \"rgb(196,78,82)\", \"dash\": \"solid\"}, \"mode\": \"lines\", \"name\": \"8\", \"orientation\": \"v\", \"showlegend\": false, \"type\": \"scatter\", \"x\": [1000, 5000, 10000, 50000, 100000], \"xaxis\": \"x3\", \"y\": [0.00010535040055401624, 0.0003957080014515668, 0.00075582901481539, 0.0035397392057348043, 0.006974426208762452], \"yaxis\": \"y3\"}, {\"hovertemplate\": \"Threads=16<br>Algorithm=enumeration<br>Array Size=%{x}<br>Duration (s)=%{y}<extra></extra>\", \"legendgroup\": \"16\", \"line\": {\"color\": \"rgb(129,114,179)\", \"dash\": \"solid\"}, \"mode\": \"lines\", \"name\": \"16\", \"orientation\": \"v\", \"showlegend\": true, \"type\": \"scatter\", \"x\": [1000, 5000, 10000, 50000, 100000], \"xaxis\": \"x\", \"y\": [0.00039951938670128583, 0.008907577989157289, 0.035540709004271774, 0.8777054241974838, 3.4588222188001962], \"yaxis\": \"y\"}, {\"hovertemplate\": \"Threads=16<br>Algorithm=merge<br>Array Size=%{x}<br>Duration (s)=%{y}<extra></extra>\", \"legendgroup\": \"16\", \"line\": {\"color\": \"rgb(129,114,179)\", \"dash\": \"solid\"}, \"mode\": \"lines\", \"name\": \"16\", \"orientation\": \"v\", \"showlegend\": false, \"type\": \"scatter\", \"x\": [1000, 5000, 10000, 50000, 100000], \"xaxis\": \"x2\", \"y\": [0.00010665520094335079, 0.00033546501072123647, 0.0006277881911955774, 0.003237940004328266, 0.007116475398652256], \"yaxis\": \"y2\"}, {\"hovertemplate\": \"Threads=16<br>Algorithm=quick<br>Array Size=%{x}<br>Duration (s)=%{y}<extra></extra>\", \"legendgroup\": \"16\", \"line\": {\"color\": \"rgb(129,114,179)\", \"dash\": \"solid\"}, \"mode\": \"lines\", \"name\": \"16\", \"orientation\": \"v\", \"showlegend\": false, \"type\": \"scatter\", \"x\": [1000, 5000, 10000, 50000, 100000], \"xaxis\": \"x3\", \"y\": [0.00013301820727065205, 0.00043896620627492666, 0.0008376113954000175, 0.004121434199623764, 0.008050750195980071], \"yaxis\": \"y3\"}],                        {\"annotations\": [{\"font\": {}, \"showarrow\": false, \"text\": \"Algorithm=enumeration\", \"x\": 0.15, \"xanchor\": \"center\", \"xref\": \"paper\", \"y\": 1.0, \"yanchor\": \"bottom\", \"yref\": \"paper\"}, {\"font\": {}, \"showarrow\": false, \"text\": \"Algorithm=merge\", \"x\": 0.49999999999999994, \"xanchor\": \"center\", \"xref\": \"paper\", \"y\": 1.0, \"yanchor\": \"bottom\", \"yref\": \"paper\"}, {\"font\": {}, \"showarrow\": false, \"text\": \"Algorithm=quick\", \"x\": 0.85, \"xanchor\": \"center\", \"xref\": \"paper\", \"y\": 1.0, \"yanchor\": \"bottom\", \"yref\": \"paper\"}], \"height\": 400, \"legend\": {\"title\": {\"text\": \"Threads\"}, \"tracegroupgap\": 0}, \"template\": {\"data\": {\"bar\": [{\"error_x\": {\"color\": \"rgb(36,36,36)\"}, \"error_y\": {\"color\": \"rgb(36,36,36)\"}, \"marker\": {\"line\": {\"color\": \"rgb(234,234,242)\", \"width\": 0.5}}, \"type\": \"bar\"}], \"barpolar\": [{\"marker\": {\"line\": {\"color\": \"rgb(234,234,242)\", \"width\": 0.5}}, \"type\": \"barpolar\"}], \"carpet\": [{\"aaxis\": {\"endlinecolor\": \"rgb(36,36,36)\", \"gridcolor\": \"white\", \"linecolor\": \"white\", \"minorgridcolor\": \"white\", \"startlinecolor\": \"rgb(36,36,36)\"}, \"baxis\": {\"endlinecolor\": \"rgb(36,36,36)\", \"gridcolor\": \"white\", \"linecolor\": \"white\", \"minorgridcolor\": \"white\", \"startlinecolor\": \"rgb(36,36,36)\"}, \"type\": \"carpet\"}], \"choropleth\": [{\"colorbar\": {\"outlinewidth\": 0, \"tickcolor\": \"rgb(36,36,36)\", \"ticklen\": 8, \"ticks\": \"outside\", \"tickwidth\": 2}, \"type\": \"choropleth\"}], \"contour\": [{\"colorbar\": {\"outlinewidth\": 0, \"tickcolor\": \"rgb(36,36,36)\", \"ticklen\": 8, \"ticks\": \"outside\", \"tickwidth\": 2}, \"colorscale\": [[0.0, \"rgb(2,4,25)\"], [0.06274509803921569, \"rgb(24,15,41)\"], [0.12549019607843137, \"rgb(47,23,57)\"], [0.18823529411764706, \"rgb(71,28,72)\"], [0.25098039215686274, \"rgb(97,30,82)\"], [0.3137254901960784, \"rgb(123,30,89)\"], [0.3764705882352941, \"rgb(150,27,91)\"], [0.4392156862745098, \"rgb(177,22,88)\"], [0.5019607843137255, \"rgb(203,26,79)\"], [0.5647058823529412, \"rgb(223,47,67)\"], [0.6274509803921569, \"rgb(236,76,61)\"], [0.6901960784313725, \"rgb(242,107,73)\"], [0.7529411764705882, \"rgb(244,135,95)\"], [0.8156862745098039, \"rgb(245,162,122)\"], [0.8784313725490196, \"rgb(246,188,153)\"], [0.9411764705882353, \"rgb(247,212,187)\"], [1.0, \"rgb(250,234,220)\"]], \"type\": \"contour\"}], \"contourcarpet\": [{\"colorbar\": {\"outlinewidth\": 0, \"tickcolor\": \"rgb(36,36,36)\", \"ticklen\": 8, \"ticks\": \"outside\", \"tickwidth\": 2}, \"type\": \"contourcarpet\"}], \"heatmap\": [{\"colorbar\": {\"outlinewidth\": 0, \"tickcolor\": \"rgb(36,36,36)\", \"ticklen\": 8, \"ticks\": \"outside\", \"tickwidth\": 2}, \"colorscale\": [[0.0, \"rgb(2,4,25)\"], [0.06274509803921569, \"rgb(24,15,41)\"], [0.12549019607843137, \"rgb(47,23,57)\"], [0.18823529411764706, \"rgb(71,28,72)\"], [0.25098039215686274, \"rgb(97,30,82)\"], [0.3137254901960784, \"rgb(123,30,89)\"], [0.3764705882352941, \"rgb(150,27,91)\"], [0.4392156862745098, \"rgb(177,22,88)\"], [0.5019607843137255, \"rgb(203,26,79)\"], [0.5647058823529412, \"rgb(223,47,67)\"], [0.6274509803921569, \"rgb(236,76,61)\"], [0.6901960784313725, \"rgb(242,107,73)\"], [0.7529411764705882, \"rgb(244,135,95)\"], [0.8156862745098039, \"rgb(245,162,122)\"], [0.8784313725490196, \"rgb(246,188,153)\"], [0.9411764705882353, \"rgb(247,212,187)\"], [1.0, \"rgb(250,234,220)\"]], \"type\": \"heatmap\"}], \"heatmapgl\": [{\"colorbar\": {\"outlinewidth\": 0, \"tickcolor\": \"rgb(36,36,36)\", \"ticklen\": 8, \"ticks\": \"outside\", \"tickwidth\": 2}, \"colorscale\": [[0.0, \"rgb(2,4,25)\"], [0.06274509803921569, \"rgb(24,15,41)\"], [0.12549019607843137, \"rgb(47,23,57)\"], [0.18823529411764706, \"rgb(71,28,72)\"], [0.25098039215686274, \"rgb(97,30,82)\"], [0.3137254901960784, \"rgb(123,30,89)\"], [0.3764705882352941, \"rgb(150,27,91)\"], [0.4392156862745098, \"rgb(177,22,88)\"], [0.5019607843137255, \"rgb(203,26,79)\"], [0.5647058823529412, \"rgb(223,47,67)\"], [0.6274509803921569, \"rgb(236,76,61)\"], [0.6901960784313725, \"rgb(242,107,73)\"], [0.7529411764705882, \"rgb(244,135,95)\"], [0.8156862745098039, \"rgb(245,162,122)\"], [0.8784313725490196, \"rgb(246,188,153)\"], [0.9411764705882353, \"rgb(247,212,187)\"], [1.0, \"rgb(250,234,220)\"]], \"type\": \"heatmapgl\"}], \"histogram\": [{\"marker\": {\"colorbar\": {\"outlinewidth\": 0, \"tickcolor\": \"rgb(36,36,36)\", \"ticklen\": 8, \"ticks\": \"outside\", \"tickwidth\": 2}}, \"type\": \"histogram\"}], \"histogram2d\": [{\"colorbar\": {\"outlinewidth\": 0, \"tickcolor\": \"rgb(36,36,36)\", \"ticklen\": 8, \"ticks\": \"outside\", \"tickwidth\": 2}, \"colorscale\": [[0.0, \"rgb(2,4,25)\"], [0.06274509803921569, \"rgb(24,15,41)\"], [0.12549019607843137, \"rgb(47,23,57)\"], [0.18823529411764706, \"rgb(71,28,72)\"], [0.25098039215686274, \"rgb(97,30,82)\"], [0.3137254901960784, \"rgb(123,30,89)\"], [0.3764705882352941, \"rgb(150,27,91)\"], [0.4392156862745098, \"rgb(177,22,88)\"], [0.5019607843137255, \"rgb(203,26,79)\"], [0.5647058823529412, \"rgb(223,47,67)\"], [0.6274509803921569, \"rgb(236,76,61)\"], [0.6901960784313725, \"rgb(242,107,73)\"], [0.7529411764705882, \"rgb(244,135,95)\"], [0.8156862745098039, \"rgb(245,162,122)\"], [0.8784313725490196, \"rgb(246,188,153)\"], [0.9411764705882353, \"rgb(247,212,187)\"], [1.0, \"rgb(250,234,220)\"]], \"type\": \"histogram2d\"}], \"histogram2dcontour\": [{\"colorbar\": {\"outlinewidth\": 0, \"tickcolor\": \"rgb(36,36,36)\", \"ticklen\": 8, \"ticks\": \"outside\", \"tickwidth\": 2}, \"colorscale\": [[0.0, \"rgb(2,4,25)\"], [0.06274509803921569, \"rgb(24,15,41)\"], [0.12549019607843137, \"rgb(47,23,57)\"], [0.18823529411764706, \"rgb(71,28,72)\"], [0.25098039215686274, \"rgb(97,30,82)\"], [0.3137254901960784, \"rgb(123,30,89)\"], [0.3764705882352941, \"rgb(150,27,91)\"], [0.4392156862745098, \"rgb(177,22,88)\"], [0.5019607843137255, \"rgb(203,26,79)\"], [0.5647058823529412, \"rgb(223,47,67)\"], [0.6274509803921569, \"rgb(236,76,61)\"], [0.6901960784313725, \"rgb(242,107,73)\"], [0.7529411764705882, \"rgb(244,135,95)\"], [0.8156862745098039, \"rgb(245,162,122)\"], [0.8784313725490196, \"rgb(246,188,153)\"], [0.9411764705882353, \"rgb(247,212,187)\"], [1.0, \"rgb(250,234,220)\"]], \"type\": \"histogram2dcontour\"}], \"mesh3d\": [{\"colorbar\": {\"outlinewidth\": 0, \"tickcolor\": \"rgb(36,36,36)\", \"ticklen\": 8, \"ticks\": \"outside\", \"tickwidth\": 2}, \"type\": \"mesh3d\"}], \"parcoords\": [{\"line\": {\"colorbar\": {\"outlinewidth\": 0, \"tickcolor\": \"rgb(36,36,36)\", \"ticklen\": 8, \"ticks\": \"outside\", \"tickwidth\": 2}}, \"type\": \"parcoords\"}], \"pie\": [{\"automargin\": true, \"type\": \"pie\"}], \"scatter\": [{\"marker\": {\"colorbar\": {\"outlinewidth\": 0, \"tickcolor\": \"rgb(36,36,36)\", \"ticklen\": 8, \"ticks\": \"outside\", \"tickwidth\": 2}}, \"type\": \"scatter\"}], \"scatter3d\": [{\"line\": {\"colorbar\": {\"outlinewidth\": 0, \"tickcolor\": \"rgb(36,36,36)\", \"ticklen\": 8, \"ticks\": \"outside\", \"tickwidth\": 2}}, \"marker\": {\"colorbar\": {\"outlinewidth\": 0, \"tickcolor\": \"rgb(36,36,36)\", \"ticklen\": 8, \"ticks\": \"outside\", \"tickwidth\": 2}}, \"type\": \"scatter3d\"}], \"scattercarpet\": [{\"marker\": {\"colorbar\": {\"outlinewidth\": 0, \"tickcolor\": \"rgb(36,36,36)\", \"ticklen\": 8, \"ticks\": \"outside\", \"tickwidth\": 2}}, \"type\": \"scattercarpet\"}], \"scattergeo\": [{\"marker\": {\"colorbar\": {\"outlinewidth\": 0, \"tickcolor\": \"rgb(36,36,36)\", \"ticklen\": 8, \"ticks\": \"outside\", \"tickwidth\": 2}}, \"type\": \"scattergeo\"}], \"scattergl\": [{\"marker\": {\"colorbar\": {\"outlinewidth\": 0, \"tickcolor\": \"rgb(36,36,36)\", \"ticklen\": 8, \"ticks\": \"outside\", \"tickwidth\": 2}}, \"type\": \"scattergl\"}], \"scattermapbox\": [{\"marker\": {\"colorbar\": {\"outlinewidth\": 0, \"tickcolor\": \"rgb(36,36,36)\", \"ticklen\": 8, \"ticks\": \"outside\", \"tickwidth\": 2}}, \"type\": \"scattermapbox\"}], \"scatterpolar\": [{\"marker\": {\"colorbar\": {\"outlinewidth\": 0, \"tickcolor\": \"rgb(36,36,36)\", \"ticklen\": 8, \"ticks\": \"outside\", \"tickwidth\": 2}}, \"type\": \"scatterpolar\"}], \"scatterpolargl\": [{\"marker\": {\"colorbar\": {\"outlinewidth\": 0, \"tickcolor\": \"rgb(36,36,36)\", \"ticklen\": 8, \"ticks\": \"outside\", \"tickwidth\": 2}}, \"type\": \"scatterpolargl\"}], \"scatterternary\": [{\"marker\": {\"colorbar\": {\"outlinewidth\": 0, \"tickcolor\": \"rgb(36,36,36)\", \"ticklen\": 8, \"ticks\": \"outside\", \"tickwidth\": 2}}, \"type\": \"scatterternary\"}], \"surface\": [{\"colorbar\": {\"outlinewidth\": 0, \"tickcolor\": \"rgb(36,36,36)\", \"ticklen\": 8, \"ticks\": \"outside\", \"tickwidth\": 2}, \"colorscale\": [[0.0, \"rgb(2,4,25)\"], [0.06274509803921569, \"rgb(24,15,41)\"], [0.12549019607843137, \"rgb(47,23,57)\"], [0.18823529411764706, \"rgb(71,28,72)\"], [0.25098039215686274, \"rgb(97,30,82)\"], [0.3137254901960784, \"rgb(123,30,89)\"], [0.3764705882352941, \"rgb(150,27,91)\"], [0.4392156862745098, \"rgb(177,22,88)\"], [0.5019607843137255, \"rgb(203,26,79)\"], [0.5647058823529412, \"rgb(223,47,67)\"], [0.6274509803921569, \"rgb(236,76,61)\"], [0.6901960784313725, \"rgb(242,107,73)\"], [0.7529411764705882, \"rgb(244,135,95)\"], [0.8156862745098039, \"rgb(245,162,122)\"], [0.8784313725490196, \"rgb(246,188,153)\"], [0.9411764705882353, \"rgb(247,212,187)\"], [1.0, \"rgb(250,234,220)\"]], \"type\": \"surface\"}], \"table\": [{\"cells\": {\"fill\": {\"color\": \"rgb(231,231,240)\"}, \"line\": {\"color\": \"white\"}}, \"header\": {\"fill\": {\"color\": \"rgb(183,183,191)\"}, \"line\": {\"color\": \"white\"}}, \"type\": \"table\"}]}, \"layout\": {\"annotationdefaults\": {\"arrowcolor\": \"rgb(67,103,167)\"}, \"autotypenumbers\": \"strict\", \"coloraxis\": {\"colorbar\": {\"outlinewidth\": 0, \"tickcolor\": \"rgb(36,36,36)\", \"ticklen\": 8, \"ticks\": \"outside\", \"tickwidth\": 2}}, \"colorscale\": {\"sequential\": [[0.0, \"rgb(2,4,25)\"], [0.06274509803921569, \"rgb(24,15,41)\"], [0.12549019607843137, \"rgb(47,23,57)\"], [0.18823529411764706, \"rgb(71,28,72)\"], [0.25098039215686274, \"rgb(97,30,82)\"], [0.3137254901960784, \"rgb(123,30,89)\"], [0.3764705882352941, \"rgb(150,27,91)\"], [0.4392156862745098, \"rgb(177,22,88)\"], [0.5019607843137255, \"rgb(203,26,79)\"], [0.5647058823529412, \"rgb(223,47,67)\"], [0.6274509803921569, \"rgb(236,76,61)\"], [0.6901960784313725, \"rgb(242,107,73)\"], [0.7529411764705882, \"rgb(244,135,95)\"], [0.8156862745098039, \"rgb(245,162,122)\"], [0.8784313725490196, \"rgb(246,188,153)\"], [0.9411764705882353, \"rgb(247,212,187)\"], [1.0, \"rgb(250,234,220)\"]], \"sequentialminus\": [[0.0, \"rgb(2,4,25)\"], [0.06274509803921569, \"rgb(24,15,41)\"], [0.12549019607843137, \"rgb(47,23,57)\"], [0.18823529411764706, \"rgb(71,28,72)\"], [0.25098039215686274, \"rgb(97,30,82)\"], [0.3137254901960784, \"rgb(123,30,89)\"], [0.3764705882352941, \"rgb(150,27,91)\"], [0.4392156862745098, \"rgb(177,22,88)\"], [0.5019607843137255, \"rgb(203,26,79)\"], [0.5647058823529412, \"rgb(223,47,67)\"], [0.6274509803921569, \"rgb(236,76,61)\"], [0.6901960784313725, \"rgb(242,107,73)\"], [0.7529411764705882, \"rgb(244,135,95)\"], [0.8156862745098039, \"rgb(245,162,122)\"], [0.8784313725490196, \"rgb(246,188,153)\"], [0.9411764705882353, \"rgb(247,212,187)\"], [1.0, \"rgb(250,234,220)\"]]}, \"colorway\": [\"rgb(76,114,176)\", \"rgb(221,132,82)\", \"rgb(85,168,104)\", \"rgb(196,78,82)\", \"rgb(129,114,179)\", \"rgb(147,120,96)\", \"rgb(218,139,195)\", \"rgb(140,140,140)\", \"rgb(204,185,116)\", \"rgb(100,181,205)\"], \"font\": {\"color\": \"rgb(36,36,36)\"}, \"geo\": {\"bgcolor\": \"white\", \"lakecolor\": \"white\", \"landcolor\": \"rgb(234,234,242)\", \"showlakes\": true, \"showland\": true, \"subunitcolor\": \"white\"}, \"hoverlabel\": {\"align\": \"left\"}, \"hovermode\": \"closest\", \"paper_bgcolor\": \"white\", \"plot_bgcolor\": \"rgb(234,234,242)\", \"polar\": {\"angularaxis\": {\"gridcolor\": \"white\", \"linecolor\": \"white\", \"showgrid\": true, \"ticks\": \"\"}, \"bgcolor\": \"rgb(234,234,242)\", \"radialaxis\": {\"gridcolor\": \"white\", \"linecolor\": \"white\", \"showgrid\": true, \"ticks\": \"\"}}, \"scene\": {\"xaxis\": {\"backgroundcolor\": \"rgb(234,234,242)\", \"gridcolor\": \"white\", \"gridwidth\": 2, \"linecolor\": \"white\", \"showbackground\": true, \"showgrid\": true, \"ticks\": \"\", \"zerolinecolor\": \"white\"}, \"yaxis\": {\"backgroundcolor\": \"rgb(234,234,242)\", \"gridcolor\": \"white\", \"gridwidth\": 2, \"linecolor\": \"white\", \"showbackground\": true, \"showgrid\": true, \"ticks\": \"\", \"zerolinecolor\": \"white\"}, \"zaxis\": {\"backgroundcolor\": \"rgb(234,234,242)\", \"gridcolor\": \"white\", \"gridwidth\": 2, \"linecolor\": \"white\", \"showbackground\": true, \"showgrid\": true, \"ticks\": \"\", \"zerolinecolor\": \"white\"}}, \"shapedefaults\": {\"fillcolor\": \"rgb(67,103,167)\", \"line\": {\"width\": 0}, \"opacity\": 0.5}, \"ternary\": {\"aaxis\": {\"gridcolor\": \"white\", \"linecolor\": \"white\", \"showgrid\": true, \"ticks\": \"\"}, \"baxis\": {\"gridcolor\": \"white\", \"linecolor\": \"white\", \"showgrid\": true, \"ticks\": \"\"}, \"bgcolor\": \"rgb(234,234,242)\", \"caxis\": {\"gridcolor\": \"white\", \"linecolor\": \"white\", \"showgrid\": true, \"ticks\": \"\"}}, \"xaxis\": {\"automargin\": true, \"gridcolor\": \"white\", \"linecolor\": \"white\", \"showgrid\": true, \"ticks\": \"\", \"title\": {\"standoff\": 15}, \"zerolinecolor\": \"white\"}, \"yaxis\": {\"automargin\": true, \"gridcolor\": \"white\", \"linecolor\": \"white\", \"showgrid\": true, \"ticks\": \"\", \"title\": {\"standoff\": 15}, \"zerolinecolor\": \"white\"}}}, \"title\": {\"text\": \"Algorithm Runtime Comparisons in C / OpenMP (No Hybrid Parallelism)\"}, \"xaxis\": {\"anchor\": \"y\", \"domain\": [0.0, 0.3], \"title\": {\"text\": \"Array Size\"}, \"type\": \"log\"}, \"xaxis2\": {\"anchor\": \"y2\", \"domain\": [0.35, 0.6499999999999999], \"matches\": \"x\", \"title\": {\"text\": \"Array Size\"}, \"type\": \"log\"}, \"xaxis3\": {\"anchor\": \"y3\", \"domain\": [0.7, 1.0], \"matches\": \"x\", \"title\": {\"text\": \"Array Size\"}, \"type\": \"log\"}, \"yaxis\": {\"anchor\": \"x\", \"domain\": [0.0, 1.0], \"title\": {\"text\": \"Duration (s)\"}}, \"yaxis2\": {\"anchor\": \"x2\", \"domain\": [0.0, 1.0], \"showticklabels\": true}, \"yaxis3\": {\"anchor\": \"x3\", \"domain\": [0.0, 1.0], \"showticklabels\": true}},                        {\"responsive\": true}                    ).then(function(){\n",
       "                            \n",
       "var gd = document.getElementById('53bcaea3-e371-484f-a765-a36e09f1c4da');\n",
       "var x = new MutationObserver(function (mutations, observer) {{\n",
       "        var display = window.getComputedStyle(gd).display;\n",
       "        if (!display || display === 'none') {{\n",
       "            console.log([gd, 'removed!']);\n",
       "            Plotly.purge(gd);\n",
       "            observer.disconnect();\n",
       "        }}\n",
       "}});\n",
       "\n",
       "// Listen for the removal of the full notebook cells\n",
       "var notebookContainer = gd.closest('#notebook-container');\n",
       "if (notebookContainer) {{\n",
       "    x.observe(notebookContainer, {childList: true});\n",
       "}}\n",
       "\n",
       "// Listen for the clearing of the current output cell\n",
       "var outputEl = gd.closest('.output');\n",
       "if (outputEl) {{\n",
       "    x.observe(outputEl, {childList: true});\n",
       "}}\n",
       "\n",
       "                        })                };                });            </script>        </div>"
      ]
     },
     "metadata": {},
     "output_type": "display_data"
    }
   ],
   "source": [
    "fig = px.line(\n",
    "    df.loc[\n",
    "        (df['Construct'] != 'sections') &\n",
    "        (df['Size'] <= 100000)\n",
    "    ],\n",
    "    x='Size', y='Duration', color='Threads',\n",
    "    facet_col='Algorithm', facet_col_wrap=3,\n",
    "    facet_col_spacing=0.05,\n",
    "#     facet_row='Construct',\n",
    "    template='seaborn',\n",
    "    log_x=True,\n",
    "#     log_y=True,\n",
    "    title='Algorithm Runtime Comparisons in C / OpenMP (No Hybrid Parallelism)',\n",
    "    height=400,\n",
    "    labels={\n",
    "        \"Duration\": \"Duration (s)\",\n",
    "        \"Size\": \"Array Size\",\n",
    "     },\n",
    ")\n",
    "\n",
    "fig.update_yaxes(matches=None)\n",
    "fig.update_yaxes(showticklabels=True, col=2) # assuming second facet\n",
    "fig.update_yaxes(showticklabels=True, col=3) # assuming third facet\n",
    "fig.show()"
   ]
  },
  {
   "cell_type": "code",
   "execution_count": 82,
   "metadata": {},
   "outputs": [
    {
     "data": {
      "text/html": [
       "<div>\n",
       "<style scoped>\n",
       "    .dataframe tbody tr th:only-of-type {\n",
       "        vertical-align: middle;\n",
       "    }\n",
       "\n",
       "    .dataframe tbody tr th {\n",
       "        vertical-align: top;\n",
       "    }\n",
       "\n",
       "    .dataframe thead th {\n",
       "        text-align: right;\n",
       "    }\n",
       "</style>\n",
       "<table border=\"1\" class=\"dataframe\">\n",
       "  <thead>\n",
       "    <tr style=\"text-align: right;\">\n",
       "      <th></th>\n",
       "      <th>Algorithm</th>\n",
       "      <th>Construct</th>\n",
       "      <th>Threads</th>\n",
       "      <th>Size</th>\n",
       "      <th>Duration</th>\n",
       "    </tr>\n",
       "  </thead>\n",
       "  <tbody>\n",
       "    <tr>\n",
       "      <th>44</th>\n",
       "      <td>enumeration</td>\n",
       "      <td>parallel</td>\n",
       "      <td>1</td>\n",
       "      <td>1000</td>\n",
       "      <td>0.002037</td>\n",
       "    </tr>\n",
       "    <tr>\n",
       "      <th>55</th>\n",
       "      <td>enumeration</td>\n",
       "      <td>parallel</td>\n",
       "      <td>1</td>\n",
       "      <td>1000</td>\n",
       "      <td>0.002037</td>\n",
       "    </tr>\n",
       "    <tr>\n",
       "      <th>45</th>\n",
       "      <td>enumeration</td>\n",
       "      <td>parallel</td>\n",
       "      <td>1</td>\n",
       "      <td>10000</td>\n",
       "      <td>0.243465</td>\n",
       "    </tr>\n",
       "    <tr>\n",
       "      <th>56</th>\n",
       "      <td>enumeration</td>\n",
       "      <td>parallel</td>\n",
       "      <td>1</td>\n",
       "      <td>10000</td>\n",
       "      <td>0.243465</td>\n",
       "    </tr>\n",
       "    <tr>\n",
       "      <th>46</th>\n",
       "      <td>enumeration</td>\n",
       "      <td>parallel</td>\n",
       "      <td>1</td>\n",
       "      <td>100000</td>\n",
       "      <td>25.388560</td>\n",
       "    </tr>\n",
       "    <tr>\n",
       "      <th>57</th>\n",
       "      <td>enumeration</td>\n",
       "      <td>parallel</td>\n",
       "      <td>1</td>\n",
       "      <td>100000</td>\n",
       "      <td>25.388560</td>\n",
       "    </tr>\n",
       "    <tr>\n",
       "      <th>0</th>\n",
       "      <td>enumeration</td>\n",
       "      <td>parallel</td>\n",
       "      <td>2</td>\n",
       "      <td>1000</td>\n",
       "      <td>0.002530</td>\n",
       "    </tr>\n",
       "    <tr>\n",
       "      <th>1</th>\n",
       "      <td>enumeration</td>\n",
       "      <td>parallel</td>\n",
       "      <td>2</td>\n",
       "      <td>10000</td>\n",
       "      <td>0.254216</td>\n",
       "    </tr>\n",
       "    <tr>\n",
       "      <th>2</th>\n",
       "      <td>enumeration</td>\n",
       "      <td>parallel</td>\n",
       "      <td>2</td>\n",
       "      <td>100000</td>\n",
       "      <td>25.447741</td>\n",
       "    </tr>\n",
       "    <tr>\n",
       "      <th>3</th>\n",
       "      <td>enumeration</td>\n",
       "      <td>parallel</td>\n",
       "      <td>4</td>\n",
       "      <td>1000</td>\n",
       "      <td>0.001349</td>\n",
       "    </tr>\n",
       "    <tr>\n",
       "      <th>4</th>\n",
       "      <td>enumeration</td>\n",
       "      <td>parallel</td>\n",
       "      <td>4</td>\n",
       "      <td>10000</td>\n",
       "      <td>0.130633</td>\n",
       "    </tr>\n",
       "    <tr>\n",
       "      <th>5</th>\n",
       "      <td>enumeration</td>\n",
       "      <td>parallel</td>\n",
       "      <td>4</td>\n",
       "      <td>100000</td>\n",
       "      <td>13.068542</td>\n",
       "    </tr>\n",
       "    <tr>\n",
       "      <th>6</th>\n",
       "      <td>enumeration</td>\n",
       "      <td>parallel</td>\n",
       "      <td>8</td>\n",
       "      <td>1000</td>\n",
       "      <td>0.000768</td>\n",
       "    </tr>\n",
       "    <tr>\n",
       "      <th>7</th>\n",
       "      <td>enumeration</td>\n",
       "      <td>parallel</td>\n",
       "      <td>8</td>\n",
       "      <td>10000</td>\n",
       "      <td>0.074966</td>\n",
       "    </tr>\n",
       "    <tr>\n",
       "      <th>8</th>\n",
       "      <td>enumeration</td>\n",
       "      <td>parallel</td>\n",
       "      <td>8</td>\n",
       "      <td>100000</td>\n",
       "      <td>6.997121</td>\n",
       "    </tr>\n",
       "    <tr>\n",
       "      <th>9</th>\n",
       "      <td>enumeration</td>\n",
       "      <td>parallel</td>\n",
       "      <td>16</td>\n",
       "      <td>1000</td>\n",
       "      <td>0.000462</td>\n",
       "    </tr>\n",
       "    <tr>\n",
       "      <th>10</th>\n",
       "      <td>enumeration</td>\n",
       "      <td>parallel</td>\n",
       "      <td>16</td>\n",
       "      <td>10000</td>\n",
       "      <td>0.043073</td>\n",
       "    </tr>\n",
       "    <tr>\n",
       "      <th>11</th>\n",
       "      <td>enumeration</td>\n",
       "      <td>parallel</td>\n",
       "      <td>16</td>\n",
       "      <td>100000</td>\n",
       "      <td>4.130612</td>\n",
       "    </tr>\n",
       "  </tbody>\n",
       "</table>\n",
       "</div>"
      ],
      "text/plain": [
       "      Algorithm Construct  Threads    Size   Duration\n",
       "44  enumeration  parallel        1    1000   0.002037\n",
       "55  enumeration  parallel        1    1000   0.002037\n",
       "45  enumeration  parallel        1   10000   0.243465\n",
       "56  enumeration  parallel        1   10000   0.243465\n",
       "46  enumeration  parallel        1  100000  25.388560\n",
       "57  enumeration  parallel        1  100000  25.388560\n",
       "0   enumeration  parallel        2    1000   0.002530\n",
       "1   enumeration  parallel        2   10000   0.254216\n",
       "2   enumeration  parallel        2  100000  25.447741\n",
       "3   enumeration  parallel        4    1000   0.001349\n",
       "4   enumeration  parallel        4   10000   0.130633\n",
       "5   enumeration  parallel        4  100000  13.068542\n",
       "6   enumeration  parallel        8    1000   0.000768\n",
       "7   enumeration  parallel        8   10000   0.074966\n",
       "8   enumeration  parallel        8  100000   6.997121\n",
       "9   enumeration  parallel       16    1000   0.000462\n",
       "10  enumeration  parallel       16   10000   0.043073\n",
       "11  enumeration  parallel       16  100000   4.130612"
      ]
     },
     "metadata": {},
     "output_type": "display_data"
    },
    {
     "data": {
      "text/html": [
       "<div>\n",
       "<style scoped>\n",
       "    .dataframe tbody tr th:only-of-type {\n",
       "        vertical-align: middle;\n",
       "    }\n",
       "\n",
       "    .dataframe tbody tr th {\n",
       "        vertical-align: top;\n",
       "    }\n",
       "\n",
       "    .dataframe thead th {\n",
       "        text-align: right;\n",
       "    }\n",
       "</style>\n",
       "<table border=\"1\" class=\"dataframe\">\n",
       "  <thead>\n",
       "    <tr style=\"text-align: right;\">\n",
       "      <th></th>\n",
       "      <th>Algorithm</th>\n",
       "      <th>Construct</th>\n",
       "      <th>Threads</th>\n",
       "      <th>Size</th>\n",
       "      <th>Duration</th>\n",
       "    </tr>\n",
       "  </thead>\n",
       "  <tbody>\n",
       "    <tr>\n",
       "      <th>44</th>\n",
       "      <td>enumeration</td>\n",
       "      <td>parallel</td>\n",
       "      <td>1</td>\n",
       "      <td>1000</td>\n",
       "      <td>0.002037</td>\n",
       "    </tr>\n",
       "    <tr>\n",
       "      <th>45</th>\n",
       "      <td>enumeration</td>\n",
       "      <td>parallel</td>\n",
       "      <td>1</td>\n",
       "      <td>10000</td>\n",
       "      <td>0.243465</td>\n",
       "    </tr>\n",
       "    <tr>\n",
       "      <th>46</th>\n",
       "      <td>enumeration</td>\n",
       "      <td>parallel</td>\n",
       "      <td>1</td>\n",
       "      <td>100000</td>\n",
       "      <td>25.388560</td>\n",
       "    </tr>\n",
       "    <tr>\n",
       "      <th>0</th>\n",
       "      <td>enumeration</td>\n",
       "      <td>parallel</td>\n",
       "      <td>2</td>\n",
       "      <td>1000</td>\n",
       "      <td>0.002530</td>\n",
       "    </tr>\n",
       "    <tr>\n",
       "      <th>1</th>\n",
       "      <td>enumeration</td>\n",
       "      <td>parallel</td>\n",
       "      <td>2</td>\n",
       "      <td>10000</td>\n",
       "      <td>0.254216</td>\n",
       "    </tr>\n",
       "    <tr>\n",
       "      <th>2</th>\n",
       "      <td>enumeration</td>\n",
       "      <td>parallel</td>\n",
       "      <td>2</td>\n",
       "      <td>100000</td>\n",
       "      <td>25.447741</td>\n",
       "    </tr>\n",
       "    <tr>\n",
       "      <th>3</th>\n",
       "      <td>enumeration</td>\n",
       "      <td>parallel</td>\n",
       "      <td>4</td>\n",
       "      <td>1000</td>\n",
       "      <td>0.001349</td>\n",
       "    </tr>\n",
       "    <tr>\n",
       "      <th>4</th>\n",
       "      <td>enumeration</td>\n",
       "      <td>parallel</td>\n",
       "      <td>4</td>\n",
       "      <td>10000</td>\n",
       "      <td>0.130633</td>\n",
       "    </tr>\n",
       "    <tr>\n",
       "      <th>5</th>\n",
       "      <td>enumeration</td>\n",
       "      <td>parallel</td>\n",
       "      <td>4</td>\n",
       "      <td>100000</td>\n",
       "      <td>13.068542</td>\n",
       "    </tr>\n",
       "    <tr>\n",
       "      <th>6</th>\n",
       "      <td>enumeration</td>\n",
       "      <td>parallel</td>\n",
       "      <td>8</td>\n",
       "      <td>1000</td>\n",
       "      <td>0.000768</td>\n",
       "    </tr>\n",
       "    <tr>\n",
       "      <th>7</th>\n",
       "      <td>enumeration</td>\n",
       "      <td>parallel</td>\n",
       "      <td>8</td>\n",
       "      <td>10000</td>\n",
       "      <td>0.074966</td>\n",
       "    </tr>\n",
       "    <tr>\n",
       "      <th>8</th>\n",
       "      <td>enumeration</td>\n",
       "      <td>parallel</td>\n",
       "      <td>8</td>\n",
       "      <td>100000</td>\n",
       "      <td>6.997121</td>\n",
       "    </tr>\n",
       "    <tr>\n",
       "      <th>9</th>\n",
       "      <td>enumeration</td>\n",
       "      <td>parallel</td>\n",
       "      <td>16</td>\n",
       "      <td>1000</td>\n",
       "      <td>0.000462</td>\n",
       "    </tr>\n",
       "    <tr>\n",
       "      <th>10</th>\n",
       "      <td>enumeration</td>\n",
       "      <td>parallel</td>\n",
       "      <td>16</td>\n",
       "      <td>10000</td>\n",
       "      <td>0.043073</td>\n",
       "    </tr>\n",
       "    <tr>\n",
       "      <th>11</th>\n",
       "      <td>enumeration</td>\n",
       "      <td>parallel</td>\n",
       "      <td>16</td>\n",
       "      <td>100000</td>\n",
       "      <td>4.130612</td>\n",
       "    </tr>\n",
       "  </tbody>\n",
       "</table>\n",
       "</div>"
      ],
      "text/plain": [
       "      Algorithm Construct  Threads    Size   Duration\n",
       "44  enumeration  parallel        1    1000   0.002037\n",
       "45  enumeration  parallel        1   10000   0.243465\n",
       "46  enumeration  parallel        1  100000  25.388560\n",
       "0   enumeration  parallel        2    1000   0.002530\n",
       "1   enumeration  parallel        2   10000   0.254216\n",
       "2   enumeration  parallel        2  100000  25.447741\n",
       "3   enumeration  parallel        4    1000   0.001349\n",
       "4   enumeration  parallel        4   10000   0.130633\n",
       "5   enumeration  parallel        4  100000  13.068542\n",
       "6   enumeration  parallel        8    1000   0.000768\n",
       "7   enumeration  parallel        8   10000   0.074966\n",
       "8   enumeration  parallel        8  100000   6.997121\n",
       "9   enumeration  parallel       16    1000   0.000462\n",
       "10  enumeration  parallel       16   10000   0.043073\n",
       "11  enumeration  parallel       16  100000   4.130612"
      ]
     },
     "metadata": {},
     "output_type": "display_data"
    }
   ],
   "source": [
    "display(\n",
    "    df.loc[df['Algorithm'] == 'enumeration'],\n",
    "    df.loc[df['Algorithm'] == 'enumeration'].drop_duplicates()\n",
    ")"
   ]
  },
  {
   "cell_type": "code",
   "execution_count": 116,
   "metadata": {},
   "outputs": [
    {
     "data": {
      "application/vnd.plotly.v1+json": {
       "config": {
        "plotlyServerURL": "https://plot.ly"
       },
       "data": [
        {
         "hovertemplate": "Threads=1<br>Construct=parallel<br>Algorithm=enumeration<br>Array Size=%{x}<br>Duration (s)=%{y}<extra></extra>",
         "legendgroup": "1",
         "line": {
          "color": "rgb(76,114,176)",
          "dash": "solid"
         },
         "mode": "lines",
         "name": "1",
         "orientation": "v",
         "showlegend": true,
         "type": "scatter",
         "x": [
          1000,
          5000,
          10000,
          50000,
          100000
         ],
         "xaxis": "x7",
         "y": [
          0.003027388802729547,
          0.05277263740426861,
          0.22231946359970606,
          6.791740235802718,
          26.825873957190197
         ],
         "yaxis": "y7"
        },
        {
         "hovertemplate": "Threads=1<br>Construct=sections<br>Algorithm=merge<br>Array Size=%{x}<br>Duration (s)=%{y}<extra></extra>",
         "legendgroup": "1",
         "line": {
          "color": "rgb(76,114,176)",
          "dash": "solid"
         },
         "mode": "lines",
         "name": "1",
         "orientation": "v",
         "showlegend": false,
         "type": "scatter",
         "x": [
          1000,
          5000,
          10000,
          50000,
          100000,
          500000,
          1000000
         ],
         "xaxis": "x5",
         "y": [
          0.0001423625973984599,
          0.0005351307976525277,
          0.0011604002036619929,
          0.006632926798192784,
          0.014113142207497731,
          0.0827958818001207,
          0.1743911601952277
         ],
         "yaxis": "y5"
        },
        {
         "hovertemplate": "Threads=1<br>Construct=sections<br>Algorithm=quick<br>Array Size=%{x}<br>Duration (s)=%{y}<extra></extra>",
         "legendgroup": "1",
         "line": {
          "color": "rgb(76,114,176)",
          "dash": "solid"
         },
         "mode": "lines",
         "name": "1",
         "orientation": "v",
         "showlegend": false,
         "type": "scatter",
         "x": [
          1000,
          5000,
          10000,
          50000,
          100000,
          500000,
          1000000
         ],
         "xaxis": "x6",
         "y": [
          0.0001493101997766644,
          0.0005886966071557253,
          0.0012569456070195884,
          0.007614820799790323,
          0.016349963803077117,
          0.09268957159947604,
          0.19565799401025288
         ],
         "yaxis": "y6"
        },
        {
         "hovertemplate": "Threads=1<br>Construct=tasks<br>Algorithm=merge<br>Array Size=%{x}<br>Duration (s)=%{y}<extra></extra>",
         "legendgroup": "1",
         "line": {
          "color": "rgb(76,114,176)",
          "dash": "solid"
         },
         "mode": "lines",
         "name": "1",
         "orientation": "v",
         "showlegend": false,
         "type": "scatter",
         "x": [
          1000,
          5000,
          10000,
          50000,
          100000,
          500000,
          1000000
         ],
         "xaxis": "x2",
         "y": [
          0.0001423625973984599,
          0.0005351307976525277,
          0.0011604002036619929,
          0.006632926798192784,
          0.014113142207497731,
          0.0827958818001207,
          0.1743911601952277
         ],
         "yaxis": "y2"
        },
        {
         "hovertemplate": "Threads=1<br>Construct=tasks<br>Algorithm=quick<br>Array Size=%{x}<br>Duration (s)=%{y}<extra></extra>",
         "legendgroup": "1",
         "line": {
          "color": "rgb(76,114,176)",
          "dash": "solid"
         },
         "mode": "lines",
         "name": "1",
         "orientation": "v",
         "showlegend": false,
         "type": "scatter",
         "x": [
          1000,
          5000,
          10000,
          50000,
          100000,
          500000,
          1000000
         ],
         "xaxis": "x3",
         "y": [
          0.0001493101997766644,
          0.0005886966071557253,
          0.0012569456070195884,
          0.007614820799790323,
          0.016349963803077117,
          0.09268957159947604,
          0.19565799401025288
         ],
         "yaxis": "y3"
        },
        {
         "hovertemplate": "Threads=2<br>Construct=parallel<br>Algorithm=enumeration<br>Array Size=%{x}<br>Duration (s)=%{y}<extra></extra>",
         "legendgroup": "2",
         "line": {
          "color": "rgb(221,132,82)",
          "dash": "solid"
         },
         "mode": "lines",
         "name": "2",
         "orientation": "v",
         "showlegend": true,
         "type": "scatter",
         "x": [
          1000,
          5000,
          10000,
          50000,
          100000
         ],
         "xaxis": "x7",
         "y": [
          0.0024668266007211058,
          0.06015709940111265,
          0.2400586995994672,
          5.972959492803784,
          23.93171816819813
         ],
         "yaxis": "y7"
        },
        {
         "hovertemplate": "Threads=2<br>Construct=tasks<br>Algorithm=merge<br>Array Size=%{x}<br>Duration (s)=%{y}<extra></extra>",
         "legendgroup": "2",
         "line": {
          "color": "rgb(221,132,82)",
          "dash": "solid"
         },
         "mode": "lines",
         "name": "2",
         "orientation": "v",
         "showlegend": false,
         "type": "scatter",
         "x": [
          1000,
          5000,
          10000,
          50000,
          100000,
          500000,
          1000000
         ],
         "xaxis": "x2",
         "y": [
          8.815680048428476e-05,
          0.00043031739187426865,
          0.0008730943955015391,
          0.0053330410039052365,
          0.011017061804886907,
          0.05924691060208716,
          0.12156609399826265
         ],
         "yaxis": "y2"
        },
        {
         "hovertemplate": "Threads=2<br>Construct=tasks<br>Algorithm=quick<br>Array Size=%{x}<br>Duration (s)=%{y}<extra></extra>",
         "legendgroup": "2",
         "line": {
          "color": "rgb(221,132,82)",
          "dash": "solid"
         },
         "mode": "lines",
         "name": "2",
         "orientation": "v",
         "showlegend": false,
         "type": "scatter",
         "x": [
          1000,
          5000,
          10000,
          50000,
          100000,
          500000,
          1000000
         ],
         "xaxis": "x3",
         "y": [
          8.403719984926284e-05,
          0.00045426379656419156,
          0.0010083609959110618,
          0.0052101236011367295,
          0.01286235599545762,
          0.06148072379874066,
          0.11824139620293864
         ],
         "yaxis": "y3"
        },
        {
         "hovertemplate": "Threads=4<br>Construct=parallel<br>Algorithm=enumeration<br>Array Size=%{x}<br>Duration (s)=%{y}<extra></extra>",
         "legendgroup": "4",
         "line": {
          "color": "rgb(85,168,104)",
          "dash": "solid"
         },
         "mode": "lines",
         "name": "4",
         "orientation": "v",
         "showlegend": true,
         "type": "scatter",
         "x": [
          1000,
          5000,
          10000,
          50000,
          100000
         ],
         "xaxis": "x7",
         "y": [
          0.0012390754010993988,
          0.03018024460761808,
          0.12158549559535459,
          3.00584616959095,
          12.060942454793258
         ],
         "yaxis": "y7"
        },
        {
         "hovertemplate": "Threads=4<br>Construct=tasks<br>Algorithm=merge<br>Array Size=%{x}<br>Duration (s)=%{y}<extra></extra>",
         "legendgroup": "4",
         "line": {
          "color": "rgb(85,168,104)",
          "dash": "solid"
         },
         "mode": "lines",
         "name": "4",
         "orientation": "v",
         "showlegend": false,
         "type": "scatter",
         "x": [
          1000,
          5000,
          10000,
          50000,
          100000,
          500000,
          1000000
         ],
         "xaxis": "x2",
         "y": [
          8.636360289528965e-05,
          0.0004380261991173029,
          0.0006853401951957494,
          0.004892008996102959,
          0.012158845399972052,
          0.05050113759934902,
          0.09468591779004783
         ],
         "yaxis": "y2"
        },
        {
         "hovertemplate": "Threads=4<br>Construct=tasks<br>Algorithm=quick<br>Array Size=%{x}<br>Duration (s)=%{y}<extra></extra>",
         "legendgroup": "4",
         "line": {
          "color": "rgb(85,168,104)",
          "dash": "solid"
         },
         "mode": "lines",
         "name": "4",
         "orientation": "v",
         "showlegend": false,
         "type": "scatter",
         "x": [
          1000,
          5000,
          10000,
          50000,
          100000,
          500000,
          1000000
         ],
         "xaxis": "x3",
         "y": [
          8.154000388458372e-05,
          0.0003962212009355426,
          0.0007983049959875643,
          0.003990622999845072,
          0.00781336780055426,
          0.041192257986404,
          0.07832928480347617
         ],
         "yaxis": "y3"
        },
        {
         "hovertemplate": "Threads=8<br>Construct=parallel<br>Algorithm=enumeration<br>Array Size=%{x}<br>Duration (s)=%{y}<extra></extra>",
         "legendgroup": "8",
         "line": {
          "color": "rgb(196,78,82)",
          "dash": "solid"
         },
         "mode": "lines",
         "name": "8",
         "orientation": "v",
         "showlegend": true,
         "type": "scatter",
         "x": [
          1000,
          5000,
          10000,
          50000,
          100000
         ],
         "xaxis": "x7",
         "y": [
          0.000644481397466734,
          0.015384748595533893,
          0.06140193978790194,
          1.532392706797691,
          6.115675331209786
         ],
         "yaxis": "y7"
        },
        {
         "hovertemplate": "Threads=8<br>Construct=tasks<br>Algorithm=merge<br>Array Size=%{x}<br>Duration (s)=%{y}<extra></extra>",
         "legendgroup": "8",
         "line": {
          "color": "rgb(196,78,82)",
          "dash": "solid"
         },
         "mode": "lines",
         "name": "8",
         "orientation": "v",
         "showlegend": false,
         "type": "scatter",
         "x": [
          1000,
          5000,
          10000,
          50000,
          100000,
          500000,
          1000000
         ],
         "xaxis": "x2",
         "y": [
          8.666819194331765e-05,
          0.0003371143946424127,
          0.0005786569963674992,
          0.0031667952076531946,
          0.007759435591287911,
          0.03994798599742353,
          0.07746274279779755
         ],
         "yaxis": "y2"
        },
        {
         "hovertemplate": "Threads=8<br>Construct=tasks<br>Algorithm=quick<br>Array Size=%{x}<br>Duration (s)=%{y}<extra></extra>",
         "legendgroup": "8",
         "line": {
          "color": "rgb(196,78,82)",
          "dash": "solid"
         },
         "mode": "lines",
         "name": "8",
         "orientation": "v",
         "showlegend": false,
         "type": "scatter",
         "x": [
          1000,
          5000,
          10000,
          50000,
          100000,
          500000,
          1000000
         ],
         "xaxis": "x3",
         "y": [
          0.00010535040055401624,
          0.0003957080014515668,
          0.00075582901481539,
          0.0035397392057348043,
          0.006974426208762452,
          0.035902696999255565,
          0.0692190942063462
         ],
         "yaxis": "y3"
        },
        {
         "hovertemplate": "Threads=16<br>Construct=parallel<br>Algorithm=enumeration<br>Array Size=%{x}<br>Duration (s)=%{y}<extra></extra>",
         "legendgroup": "16",
         "line": {
          "color": "rgb(129,114,179)",
          "dash": "solid"
         },
         "mode": "lines",
         "name": "16",
         "orientation": "v",
         "showlegend": true,
         "type": "scatter",
         "x": [
          1000,
          5000,
          10000,
          50000,
          100000
         ],
         "xaxis": "x7",
         "y": [
          0.00039951938670128583,
          0.008907577989157289,
          0.035540709004271774,
          0.8777054241974838,
          3.4588222188001962
         ],
         "yaxis": "y7"
        },
        {
         "hovertemplate": "Threads=16<br>Construct=tasks<br>Algorithm=merge<br>Array Size=%{x}<br>Duration (s)=%{y}<extra></extra>",
         "legendgroup": "16",
         "line": {
          "color": "rgb(129,114,179)",
          "dash": "solid"
         },
         "mode": "lines",
         "name": "16",
         "orientation": "v",
         "showlegend": false,
         "type": "scatter",
         "x": [
          1000,
          5000,
          10000,
          50000,
          100000,
          500000,
          1000000
         ],
         "xaxis": "x2",
         "y": [
          0.00010665520094335079,
          0.00033546501072123647,
          0.0006277881911955774,
          0.003237940004328266,
          0.007116475398652256,
          0.040417508000973615,
          0.07026259519625455
         ],
         "yaxis": "y2"
        },
        {
         "hovertemplate": "Threads=16<br>Construct=tasks<br>Algorithm=quick<br>Array Size=%{x}<br>Duration (s)=%{y}<extra></extra>",
         "legendgroup": "16",
         "line": {
          "color": "rgb(129,114,179)",
          "dash": "solid"
         },
         "mode": "lines",
         "name": "16",
         "orientation": "v",
         "showlegend": false,
         "type": "scatter",
         "x": [
          1000,
          5000,
          10000,
          50000,
          100000,
          500000,
          1000000
         ],
         "xaxis": "x3",
         "y": [
          0.00013301820727065205,
          0.00043896620627492666,
          0.0008376113954000175,
          0.004121434199623764,
          0.008050750195980071,
          0.041958789009368044,
          0.07883342200657353
         ],
         "yaxis": "y3"
        }
       ],
       "layout": {
        "annotations": [
         {
          "font": {},
          "showarrow": false,
          "text": "Algorithm=enumeration",
          "x": 0.14666666666666667,
          "xanchor": "center",
          "xref": "paper",
          "y": 0.9999999999999998,
          "yanchor": "bottom",
          "yref": "paper"
         },
         {
          "font": {},
          "showarrow": false,
          "text": "Algorithm=merge",
          "x": 0.49,
          "xanchor": "center",
          "xref": "paper",
          "y": 0.9999999999999998,
          "yanchor": "bottom",
          "yref": "paper"
         },
         {
          "font": {},
          "showarrow": false,
          "text": "Algorithm=quick",
          "x": 0.8333333333333333,
          "xanchor": "center",
          "xref": "paper",
          "y": 0.9999999999999998,
          "yanchor": "bottom",
          "yref": "paper"
         },
         {
          "font": {},
          "showarrow": false,
          "text": "Construct=tasks",
          "textangle": 90,
          "x": 0.98,
          "xanchor": "left",
          "xref": "paper",
          "y": 0.15666666666666665,
          "yanchor": "middle",
          "yref": "paper"
         },
         {
          "font": {},
          "showarrow": false,
          "text": "Construct=sections",
          "textangle": 90,
          "x": 0.98,
          "xanchor": "left",
          "xref": "paper",
          "y": 0.4999999999999999,
          "yanchor": "middle",
          "yref": "paper"
         },
         {
          "font": {},
          "showarrow": false,
          "text": "Construct=parallel",
          "textangle": 90,
          "x": 0.98,
          "xanchor": "left",
          "xref": "paper",
          "y": 0.8433333333333332,
          "yanchor": "middle",
          "yref": "paper"
         }
        ],
        "height": 600,
        "legend": {
         "title": {
          "text": "Threads"
         },
         "tracegroupgap": 0
        },
        "template": {
         "data": {
          "bar": [
           {
            "error_x": {
             "color": "rgb(36,36,36)"
            },
            "error_y": {
             "color": "rgb(36,36,36)"
            },
            "marker": {
             "line": {
              "color": "rgb(234,234,242)",
              "width": 0.5
             }
            },
            "type": "bar"
           }
          ],
          "barpolar": [
           {
            "marker": {
             "line": {
              "color": "rgb(234,234,242)",
              "width": 0.5
             }
            },
            "type": "barpolar"
           }
          ],
          "carpet": [
           {
            "aaxis": {
             "endlinecolor": "rgb(36,36,36)",
             "gridcolor": "white",
             "linecolor": "white",
             "minorgridcolor": "white",
             "startlinecolor": "rgb(36,36,36)"
            },
            "baxis": {
             "endlinecolor": "rgb(36,36,36)",
             "gridcolor": "white",
             "linecolor": "white",
             "minorgridcolor": "white",
             "startlinecolor": "rgb(36,36,36)"
            },
            "type": "carpet"
           }
          ],
          "choropleth": [
           {
            "colorbar": {
             "outlinewidth": 0,
             "tickcolor": "rgb(36,36,36)",
             "ticklen": 8,
             "ticks": "outside",
             "tickwidth": 2
            },
            "type": "choropleth"
           }
          ],
          "contour": [
           {
            "colorbar": {
             "outlinewidth": 0,
             "tickcolor": "rgb(36,36,36)",
             "ticklen": 8,
             "ticks": "outside",
             "tickwidth": 2
            },
            "colorscale": [
             [
              0,
              "rgb(2,4,25)"
             ],
             [
              0.06274509803921569,
              "rgb(24,15,41)"
             ],
             [
              0.12549019607843137,
              "rgb(47,23,57)"
             ],
             [
              0.18823529411764706,
              "rgb(71,28,72)"
             ],
             [
              0.25098039215686274,
              "rgb(97,30,82)"
             ],
             [
              0.3137254901960784,
              "rgb(123,30,89)"
             ],
             [
              0.3764705882352941,
              "rgb(150,27,91)"
             ],
             [
              0.4392156862745098,
              "rgb(177,22,88)"
             ],
             [
              0.5019607843137255,
              "rgb(203,26,79)"
             ],
             [
              0.5647058823529412,
              "rgb(223,47,67)"
             ],
             [
              0.6274509803921569,
              "rgb(236,76,61)"
             ],
             [
              0.6901960784313725,
              "rgb(242,107,73)"
             ],
             [
              0.7529411764705882,
              "rgb(244,135,95)"
             ],
             [
              0.8156862745098039,
              "rgb(245,162,122)"
             ],
             [
              0.8784313725490196,
              "rgb(246,188,153)"
             ],
             [
              0.9411764705882353,
              "rgb(247,212,187)"
             ],
             [
              1,
              "rgb(250,234,220)"
             ]
            ],
            "type": "contour"
           }
          ],
          "contourcarpet": [
           {
            "colorbar": {
             "outlinewidth": 0,
             "tickcolor": "rgb(36,36,36)",
             "ticklen": 8,
             "ticks": "outside",
             "tickwidth": 2
            },
            "type": "contourcarpet"
           }
          ],
          "heatmap": [
           {
            "colorbar": {
             "outlinewidth": 0,
             "tickcolor": "rgb(36,36,36)",
             "ticklen": 8,
             "ticks": "outside",
             "tickwidth": 2
            },
            "colorscale": [
             [
              0,
              "rgb(2,4,25)"
             ],
             [
              0.06274509803921569,
              "rgb(24,15,41)"
             ],
             [
              0.12549019607843137,
              "rgb(47,23,57)"
             ],
             [
              0.18823529411764706,
              "rgb(71,28,72)"
             ],
             [
              0.25098039215686274,
              "rgb(97,30,82)"
             ],
             [
              0.3137254901960784,
              "rgb(123,30,89)"
             ],
             [
              0.3764705882352941,
              "rgb(150,27,91)"
             ],
             [
              0.4392156862745098,
              "rgb(177,22,88)"
             ],
             [
              0.5019607843137255,
              "rgb(203,26,79)"
             ],
             [
              0.5647058823529412,
              "rgb(223,47,67)"
             ],
             [
              0.6274509803921569,
              "rgb(236,76,61)"
             ],
             [
              0.6901960784313725,
              "rgb(242,107,73)"
             ],
             [
              0.7529411764705882,
              "rgb(244,135,95)"
             ],
             [
              0.8156862745098039,
              "rgb(245,162,122)"
             ],
             [
              0.8784313725490196,
              "rgb(246,188,153)"
             ],
             [
              0.9411764705882353,
              "rgb(247,212,187)"
             ],
             [
              1,
              "rgb(250,234,220)"
             ]
            ],
            "type": "heatmap"
           }
          ],
          "heatmapgl": [
           {
            "colorbar": {
             "outlinewidth": 0,
             "tickcolor": "rgb(36,36,36)",
             "ticklen": 8,
             "ticks": "outside",
             "tickwidth": 2
            },
            "colorscale": [
             [
              0,
              "rgb(2,4,25)"
             ],
             [
              0.06274509803921569,
              "rgb(24,15,41)"
             ],
             [
              0.12549019607843137,
              "rgb(47,23,57)"
             ],
             [
              0.18823529411764706,
              "rgb(71,28,72)"
             ],
             [
              0.25098039215686274,
              "rgb(97,30,82)"
             ],
             [
              0.3137254901960784,
              "rgb(123,30,89)"
             ],
             [
              0.3764705882352941,
              "rgb(150,27,91)"
             ],
             [
              0.4392156862745098,
              "rgb(177,22,88)"
             ],
             [
              0.5019607843137255,
              "rgb(203,26,79)"
             ],
             [
              0.5647058823529412,
              "rgb(223,47,67)"
             ],
             [
              0.6274509803921569,
              "rgb(236,76,61)"
             ],
             [
              0.6901960784313725,
              "rgb(242,107,73)"
             ],
             [
              0.7529411764705882,
              "rgb(244,135,95)"
             ],
             [
              0.8156862745098039,
              "rgb(245,162,122)"
             ],
             [
              0.8784313725490196,
              "rgb(246,188,153)"
             ],
             [
              0.9411764705882353,
              "rgb(247,212,187)"
             ],
             [
              1,
              "rgb(250,234,220)"
             ]
            ],
            "type": "heatmapgl"
           }
          ],
          "histogram": [
           {
            "marker": {
             "colorbar": {
              "outlinewidth": 0,
              "tickcolor": "rgb(36,36,36)",
              "ticklen": 8,
              "ticks": "outside",
              "tickwidth": 2
             }
            },
            "type": "histogram"
           }
          ],
          "histogram2d": [
           {
            "colorbar": {
             "outlinewidth": 0,
             "tickcolor": "rgb(36,36,36)",
             "ticklen": 8,
             "ticks": "outside",
             "tickwidth": 2
            },
            "colorscale": [
             [
              0,
              "rgb(2,4,25)"
             ],
             [
              0.06274509803921569,
              "rgb(24,15,41)"
             ],
             [
              0.12549019607843137,
              "rgb(47,23,57)"
             ],
             [
              0.18823529411764706,
              "rgb(71,28,72)"
             ],
             [
              0.25098039215686274,
              "rgb(97,30,82)"
             ],
             [
              0.3137254901960784,
              "rgb(123,30,89)"
             ],
             [
              0.3764705882352941,
              "rgb(150,27,91)"
             ],
             [
              0.4392156862745098,
              "rgb(177,22,88)"
             ],
             [
              0.5019607843137255,
              "rgb(203,26,79)"
             ],
             [
              0.5647058823529412,
              "rgb(223,47,67)"
             ],
             [
              0.6274509803921569,
              "rgb(236,76,61)"
             ],
             [
              0.6901960784313725,
              "rgb(242,107,73)"
             ],
             [
              0.7529411764705882,
              "rgb(244,135,95)"
             ],
             [
              0.8156862745098039,
              "rgb(245,162,122)"
             ],
             [
              0.8784313725490196,
              "rgb(246,188,153)"
             ],
             [
              0.9411764705882353,
              "rgb(247,212,187)"
             ],
             [
              1,
              "rgb(250,234,220)"
             ]
            ],
            "type": "histogram2d"
           }
          ],
          "histogram2dcontour": [
           {
            "colorbar": {
             "outlinewidth": 0,
             "tickcolor": "rgb(36,36,36)",
             "ticklen": 8,
             "ticks": "outside",
             "tickwidth": 2
            },
            "colorscale": [
             [
              0,
              "rgb(2,4,25)"
             ],
             [
              0.06274509803921569,
              "rgb(24,15,41)"
             ],
             [
              0.12549019607843137,
              "rgb(47,23,57)"
             ],
             [
              0.18823529411764706,
              "rgb(71,28,72)"
             ],
             [
              0.25098039215686274,
              "rgb(97,30,82)"
             ],
             [
              0.3137254901960784,
              "rgb(123,30,89)"
             ],
             [
              0.3764705882352941,
              "rgb(150,27,91)"
             ],
             [
              0.4392156862745098,
              "rgb(177,22,88)"
             ],
             [
              0.5019607843137255,
              "rgb(203,26,79)"
             ],
             [
              0.5647058823529412,
              "rgb(223,47,67)"
             ],
             [
              0.6274509803921569,
              "rgb(236,76,61)"
             ],
             [
              0.6901960784313725,
              "rgb(242,107,73)"
             ],
             [
              0.7529411764705882,
              "rgb(244,135,95)"
             ],
             [
              0.8156862745098039,
              "rgb(245,162,122)"
             ],
             [
              0.8784313725490196,
              "rgb(246,188,153)"
             ],
             [
              0.9411764705882353,
              "rgb(247,212,187)"
             ],
             [
              1,
              "rgb(250,234,220)"
             ]
            ],
            "type": "histogram2dcontour"
           }
          ],
          "mesh3d": [
           {
            "colorbar": {
             "outlinewidth": 0,
             "tickcolor": "rgb(36,36,36)",
             "ticklen": 8,
             "ticks": "outside",
             "tickwidth": 2
            },
            "type": "mesh3d"
           }
          ],
          "parcoords": [
           {
            "line": {
             "colorbar": {
              "outlinewidth": 0,
              "tickcolor": "rgb(36,36,36)",
              "ticklen": 8,
              "ticks": "outside",
              "tickwidth": 2
             }
            },
            "type": "parcoords"
           }
          ],
          "pie": [
           {
            "automargin": true,
            "type": "pie"
           }
          ],
          "scatter": [
           {
            "marker": {
             "colorbar": {
              "outlinewidth": 0,
              "tickcolor": "rgb(36,36,36)",
              "ticklen": 8,
              "ticks": "outside",
              "tickwidth": 2
             }
            },
            "type": "scatter"
           }
          ],
          "scatter3d": [
           {
            "line": {
             "colorbar": {
              "outlinewidth": 0,
              "tickcolor": "rgb(36,36,36)",
              "ticklen": 8,
              "ticks": "outside",
              "tickwidth": 2
             }
            },
            "marker": {
             "colorbar": {
              "outlinewidth": 0,
              "tickcolor": "rgb(36,36,36)",
              "ticklen": 8,
              "ticks": "outside",
              "tickwidth": 2
             }
            },
            "type": "scatter3d"
           }
          ],
          "scattercarpet": [
           {
            "marker": {
             "colorbar": {
              "outlinewidth": 0,
              "tickcolor": "rgb(36,36,36)",
              "ticklen": 8,
              "ticks": "outside",
              "tickwidth": 2
             }
            },
            "type": "scattercarpet"
           }
          ],
          "scattergeo": [
           {
            "marker": {
             "colorbar": {
              "outlinewidth": 0,
              "tickcolor": "rgb(36,36,36)",
              "ticklen": 8,
              "ticks": "outside",
              "tickwidth": 2
             }
            },
            "type": "scattergeo"
           }
          ],
          "scattergl": [
           {
            "marker": {
             "colorbar": {
              "outlinewidth": 0,
              "tickcolor": "rgb(36,36,36)",
              "ticklen": 8,
              "ticks": "outside",
              "tickwidth": 2
             }
            },
            "type": "scattergl"
           }
          ],
          "scattermapbox": [
           {
            "marker": {
             "colorbar": {
              "outlinewidth": 0,
              "tickcolor": "rgb(36,36,36)",
              "ticklen": 8,
              "ticks": "outside",
              "tickwidth": 2
             }
            },
            "type": "scattermapbox"
           }
          ],
          "scatterpolar": [
           {
            "marker": {
             "colorbar": {
              "outlinewidth": 0,
              "tickcolor": "rgb(36,36,36)",
              "ticklen": 8,
              "ticks": "outside",
              "tickwidth": 2
             }
            },
            "type": "scatterpolar"
           }
          ],
          "scatterpolargl": [
           {
            "marker": {
             "colorbar": {
              "outlinewidth": 0,
              "tickcolor": "rgb(36,36,36)",
              "ticklen": 8,
              "ticks": "outside",
              "tickwidth": 2
             }
            },
            "type": "scatterpolargl"
           }
          ],
          "scatterternary": [
           {
            "marker": {
             "colorbar": {
              "outlinewidth": 0,
              "tickcolor": "rgb(36,36,36)",
              "ticklen": 8,
              "ticks": "outside",
              "tickwidth": 2
             }
            },
            "type": "scatterternary"
           }
          ],
          "surface": [
           {
            "colorbar": {
             "outlinewidth": 0,
             "tickcolor": "rgb(36,36,36)",
             "ticklen": 8,
             "ticks": "outside",
             "tickwidth": 2
            },
            "colorscale": [
             [
              0,
              "rgb(2,4,25)"
             ],
             [
              0.06274509803921569,
              "rgb(24,15,41)"
             ],
             [
              0.12549019607843137,
              "rgb(47,23,57)"
             ],
             [
              0.18823529411764706,
              "rgb(71,28,72)"
             ],
             [
              0.25098039215686274,
              "rgb(97,30,82)"
             ],
             [
              0.3137254901960784,
              "rgb(123,30,89)"
             ],
             [
              0.3764705882352941,
              "rgb(150,27,91)"
             ],
             [
              0.4392156862745098,
              "rgb(177,22,88)"
             ],
             [
              0.5019607843137255,
              "rgb(203,26,79)"
             ],
             [
              0.5647058823529412,
              "rgb(223,47,67)"
             ],
             [
              0.6274509803921569,
              "rgb(236,76,61)"
             ],
             [
              0.6901960784313725,
              "rgb(242,107,73)"
             ],
             [
              0.7529411764705882,
              "rgb(244,135,95)"
             ],
             [
              0.8156862745098039,
              "rgb(245,162,122)"
             ],
             [
              0.8784313725490196,
              "rgb(246,188,153)"
             ],
             [
              0.9411764705882353,
              "rgb(247,212,187)"
             ],
             [
              1,
              "rgb(250,234,220)"
             ]
            ],
            "type": "surface"
           }
          ],
          "table": [
           {
            "cells": {
             "fill": {
              "color": "rgb(231,231,240)"
             },
             "line": {
              "color": "white"
             }
            },
            "header": {
             "fill": {
              "color": "rgb(183,183,191)"
             },
             "line": {
              "color": "white"
             }
            },
            "type": "table"
           }
          ]
         },
         "layout": {
          "annotationdefaults": {
           "arrowcolor": "rgb(67,103,167)"
          },
          "autotypenumbers": "strict",
          "coloraxis": {
           "colorbar": {
            "outlinewidth": 0,
            "tickcolor": "rgb(36,36,36)",
            "ticklen": 8,
            "ticks": "outside",
            "tickwidth": 2
           }
          },
          "colorscale": {
           "sequential": [
            [
             0,
             "rgb(2,4,25)"
            ],
            [
             0.06274509803921569,
             "rgb(24,15,41)"
            ],
            [
             0.12549019607843137,
             "rgb(47,23,57)"
            ],
            [
             0.18823529411764706,
             "rgb(71,28,72)"
            ],
            [
             0.25098039215686274,
             "rgb(97,30,82)"
            ],
            [
             0.3137254901960784,
             "rgb(123,30,89)"
            ],
            [
             0.3764705882352941,
             "rgb(150,27,91)"
            ],
            [
             0.4392156862745098,
             "rgb(177,22,88)"
            ],
            [
             0.5019607843137255,
             "rgb(203,26,79)"
            ],
            [
             0.5647058823529412,
             "rgb(223,47,67)"
            ],
            [
             0.6274509803921569,
             "rgb(236,76,61)"
            ],
            [
             0.6901960784313725,
             "rgb(242,107,73)"
            ],
            [
             0.7529411764705882,
             "rgb(244,135,95)"
            ],
            [
             0.8156862745098039,
             "rgb(245,162,122)"
            ],
            [
             0.8784313725490196,
             "rgb(246,188,153)"
            ],
            [
             0.9411764705882353,
             "rgb(247,212,187)"
            ],
            [
             1,
             "rgb(250,234,220)"
            ]
           ],
           "sequentialminus": [
            [
             0,
             "rgb(2,4,25)"
            ],
            [
             0.06274509803921569,
             "rgb(24,15,41)"
            ],
            [
             0.12549019607843137,
             "rgb(47,23,57)"
            ],
            [
             0.18823529411764706,
             "rgb(71,28,72)"
            ],
            [
             0.25098039215686274,
             "rgb(97,30,82)"
            ],
            [
             0.3137254901960784,
             "rgb(123,30,89)"
            ],
            [
             0.3764705882352941,
             "rgb(150,27,91)"
            ],
            [
             0.4392156862745098,
             "rgb(177,22,88)"
            ],
            [
             0.5019607843137255,
             "rgb(203,26,79)"
            ],
            [
             0.5647058823529412,
             "rgb(223,47,67)"
            ],
            [
             0.6274509803921569,
             "rgb(236,76,61)"
            ],
            [
             0.6901960784313725,
             "rgb(242,107,73)"
            ],
            [
             0.7529411764705882,
             "rgb(244,135,95)"
            ],
            [
             0.8156862745098039,
             "rgb(245,162,122)"
            ],
            [
             0.8784313725490196,
             "rgb(246,188,153)"
            ],
            [
             0.9411764705882353,
             "rgb(247,212,187)"
            ],
            [
             1,
             "rgb(250,234,220)"
            ]
           ]
          },
          "colorway": [
           "rgb(76,114,176)",
           "rgb(221,132,82)",
           "rgb(85,168,104)",
           "rgb(196,78,82)",
           "rgb(129,114,179)",
           "rgb(147,120,96)",
           "rgb(218,139,195)",
           "rgb(140,140,140)",
           "rgb(204,185,116)",
           "rgb(100,181,205)"
          ],
          "font": {
           "color": "rgb(36,36,36)"
          },
          "geo": {
           "bgcolor": "white",
           "lakecolor": "white",
           "landcolor": "rgb(234,234,242)",
           "showlakes": true,
           "showland": true,
           "subunitcolor": "white"
          },
          "hoverlabel": {
           "align": "left"
          },
          "hovermode": "closest",
          "paper_bgcolor": "white",
          "plot_bgcolor": "rgb(234,234,242)",
          "polar": {
           "angularaxis": {
            "gridcolor": "white",
            "linecolor": "white",
            "showgrid": true,
            "ticks": ""
           },
           "bgcolor": "rgb(234,234,242)",
           "radialaxis": {
            "gridcolor": "white",
            "linecolor": "white",
            "showgrid": true,
            "ticks": ""
           }
          },
          "scene": {
           "xaxis": {
            "backgroundcolor": "rgb(234,234,242)",
            "gridcolor": "white",
            "gridwidth": 2,
            "linecolor": "white",
            "showbackground": true,
            "showgrid": true,
            "ticks": "",
            "zerolinecolor": "white"
           },
           "yaxis": {
            "backgroundcolor": "rgb(234,234,242)",
            "gridcolor": "white",
            "gridwidth": 2,
            "linecolor": "white",
            "showbackground": true,
            "showgrid": true,
            "ticks": "",
            "zerolinecolor": "white"
           },
           "zaxis": {
            "backgroundcolor": "rgb(234,234,242)",
            "gridcolor": "white",
            "gridwidth": 2,
            "linecolor": "white",
            "showbackground": true,
            "showgrid": true,
            "ticks": "",
            "zerolinecolor": "white"
           }
          },
          "shapedefaults": {
           "fillcolor": "rgb(67,103,167)",
           "line": {
            "width": 0
           },
           "opacity": 0.5
          },
          "ternary": {
           "aaxis": {
            "gridcolor": "white",
            "linecolor": "white",
            "showgrid": true,
            "ticks": ""
           },
           "baxis": {
            "gridcolor": "white",
            "linecolor": "white",
            "showgrid": true,
            "ticks": ""
           },
           "bgcolor": "rgb(234,234,242)",
           "caxis": {
            "gridcolor": "white",
            "linecolor": "white",
            "showgrid": true,
            "ticks": ""
           }
          },
          "xaxis": {
           "automargin": true,
           "gridcolor": "white",
           "linecolor": "white",
           "showgrid": true,
           "ticks": "",
           "title": {
            "standoff": 15
           },
           "zerolinecolor": "white"
          },
          "yaxis": {
           "automargin": true,
           "gridcolor": "white",
           "linecolor": "white",
           "showgrid": true,
           "ticks": "",
           "title": {
            "standoff": 15
           },
           "zerolinecolor": "white"
          }
         }
        },
        "title": {
         "text": "Algorithm Runtime Comparisons in C / OpenMP (Hybrid Parallelism)"
        },
        "xaxis": {
         "anchor": "y",
         "domain": [
          0,
          0.29333333333333333
         ],
         "title": {
          "text": "Array Size"
         },
         "type": "log"
        },
        "xaxis2": {
         "anchor": "y2",
         "domain": [
          0.3433333333333333,
          0.6366666666666667
         ],
         "matches": "x",
         "title": {
          "text": "Array Size"
         },
         "type": "log"
        },
        "xaxis3": {
         "anchor": "y3",
         "domain": [
          0.6866666666666666,
          0.98
         ],
         "matches": "x",
         "title": {
          "text": "Array Size"
         },
         "type": "log"
        },
        "xaxis4": {
         "anchor": "y4",
         "domain": [
          0,
          0.29333333333333333
         ],
         "matches": "x",
         "showticklabels": false,
         "type": "log"
        },
        "xaxis5": {
         "anchor": "y5",
         "domain": [
          0.3433333333333333,
          0.6366666666666667
         ],
         "matches": "x",
         "showticklabels": false,
         "type": "log"
        },
        "xaxis6": {
         "anchor": "y6",
         "domain": [
          0.6866666666666666,
          0.98
         ],
         "matches": "x",
         "showticklabels": false,
         "type": "log"
        },
        "xaxis7": {
         "anchor": "y7",
         "domain": [
          0,
          0.29333333333333333
         ],
         "matches": "x",
         "showticklabels": false,
         "type": "log"
        },
        "xaxis8": {
         "anchor": "y8",
         "domain": [
          0.3433333333333333,
          0.6366666666666667
         ],
         "matches": "x",
         "showticklabels": false,
         "type": "log"
        },
        "xaxis9": {
         "anchor": "y9",
         "domain": [
          0.6866666666666666,
          0.98
         ],
         "matches": "x",
         "showticklabels": false,
         "type": "log"
        },
        "yaxis": {
         "anchor": "x",
         "domain": [
          0,
          0.3133333333333333
         ],
         "title": {
          "text": "Duration (s)"
         }
        },
        "yaxis2": {
         "anchor": "x2",
         "domain": [
          0,
          0.3133333333333333
         ],
         "showticklabels": false
        },
        "yaxis3": {
         "anchor": "x3",
         "domain": [
          0,
          0.3133333333333333
         ],
         "showticklabels": false
        },
        "yaxis4": {
         "anchor": "x4",
         "domain": [
          0.34333333333333327,
          0.6566666666666665
         ],
         "title": {
          "text": "Duration (s)"
         }
        },
        "yaxis5": {
         "anchor": "x5",
         "domain": [
          0.34333333333333327,
          0.6566666666666665
         ],
         "showticklabels": false
        },
        "yaxis6": {
         "anchor": "x6",
         "domain": [
          0.34333333333333327,
          0.6566666666666665
         ],
         "showticklabels": false
        },
        "yaxis7": {
         "anchor": "x7",
         "domain": [
          0.6866666666666665,
          0.9999999999999998
         ],
         "title": {
          "text": "Duration (s)"
         }
        },
        "yaxis8": {
         "anchor": "x8",
         "domain": [
          0.6866666666666665,
          0.9999999999999998
         ],
         "showticklabels": false
        },
        "yaxis9": {
         "anchor": "x9",
         "domain": [
          0.6866666666666665,
          0.9999999999999998
         ],
         "showticklabels": false
        }
       }
      },
      "text/html": [
       "<div>                            <div id=\"5ce6b29f-5195-44f8-8fec-2e402993c949\" class=\"plotly-graph-div\" style=\"height:600px; width:100%;\"></div>            <script type=\"text/javascript\">                require([\"plotly\"], function(Plotly) {                    window.PLOTLYENV=window.PLOTLYENV || {};                                    if (document.getElementById(\"5ce6b29f-5195-44f8-8fec-2e402993c949\")) {                    Plotly.newPlot(                        \"5ce6b29f-5195-44f8-8fec-2e402993c949\",                        [{\"hovertemplate\": \"Threads=1<br>Construct=parallel<br>Algorithm=enumeration<br>Array Size=%{x}<br>Duration (s)=%{y}<extra></extra>\", \"legendgroup\": \"1\", \"line\": {\"color\": \"rgb(76,114,176)\", \"dash\": \"solid\"}, \"mode\": \"lines\", \"name\": \"1\", \"orientation\": \"v\", \"showlegend\": true, \"type\": \"scatter\", \"x\": [1000, 5000, 10000, 50000, 100000], \"xaxis\": \"x7\", \"y\": [0.003027388802729547, 0.05277263740426861, 0.22231946359970606, 6.791740235802718, 26.825873957190197], \"yaxis\": \"y7\"}, {\"hovertemplate\": \"Threads=1<br>Construct=sections<br>Algorithm=merge<br>Array Size=%{x}<br>Duration (s)=%{y}<extra></extra>\", \"legendgroup\": \"1\", \"line\": {\"color\": \"rgb(76,114,176)\", \"dash\": \"solid\"}, \"mode\": \"lines\", \"name\": \"1\", \"orientation\": \"v\", \"showlegend\": false, \"type\": \"scatter\", \"x\": [1000, 5000, 10000, 50000, 100000, 500000, 1000000], \"xaxis\": \"x5\", \"y\": [0.0001423625973984599, 0.0005351307976525277, 0.0011604002036619929, 0.006632926798192784, 0.014113142207497731, 0.0827958818001207, 0.1743911601952277], \"yaxis\": \"y5\"}, {\"hovertemplate\": \"Threads=1<br>Construct=sections<br>Algorithm=quick<br>Array Size=%{x}<br>Duration (s)=%{y}<extra></extra>\", \"legendgroup\": \"1\", \"line\": {\"color\": \"rgb(76,114,176)\", \"dash\": \"solid\"}, \"mode\": \"lines\", \"name\": \"1\", \"orientation\": \"v\", \"showlegend\": false, \"type\": \"scatter\", \"x\": [1000, 5000, 10000, 50000, 100000, 500000, 1000000], \"xaxis\": \"x6\", \"y\": [0.0001493101997766644, 0.0005886966071557253, 0.0012569456070195884, 0.007614820799790323, 0.016349963803077117, 0.09268957159947604, 0.19565799401025288], \"yaxis\": \"y6\"}, {\"hovertemplate\": \"Threads=1<br>Construct=tasks<br>Algorithm=merge<br>Array Size=%{x}<br>Duration (s)=%{y}<extra></extra>\", \"legendgroup\": \"1\", \"line\": {\"color\": \"rgb(76,114,176)\", \"dash\": \"solid\"}, \"mode\": \"lines\", \"name\": \"1\", \"orientation\": \"v\", \"showlegend\": false, \"type\": \"scatter\", \"x\": [1000, 5000, 10000, 50000, 100000, 500000, 1000000], \"xaxis\": \"x2\", \"y\": [0.0001423625973984599, 0.0005351307976525277, 0.0011604002036619929, 0.006632926798192784, 0.014113142207497731, 0.0827958818001207, 0.1743911601952277], \"yaxis\": \"y2\"}, {\"hovertemplate\": \"Threads=1<br>Construct=tasks<br>Algorithm=quick<br>Array Size=%{x}<br>Duration (s)=%{y}<extra></extra>\", \"legendgroup\": \"1\", \"line\": {\"color\": \"rgb(76,114,176)\", \"dash\": \"solid\"}, \"mode\": \"lines\", \"name\": \"1\", \"orientation\": \"v\", \"showlegend\": false, \"type\": \"scatter\", \"x\": [1000, 5000, 10000, 50000, 100000, 500000, 1000000], \"xaxis\": \"x3\", \"y\": [0.0001493101997766644, 0.0005886966071557253, 0.0012569456070195884, 0.007614820799790323, 0.016349963803077117, 0.09268957159947604, 0.19565799401025288], \"yaxis\": \"y3\"}, {\"hovertemplate\": \"Threads=2<br>Construct=parallel<br>Algorithm=enumeration<br>Array Size=%{x}<br>Duration (s)=%{y}<extra></extra>\", \"legendgroup\": \"2\", \"line\": {\"color\": \"rgb(221,132,82)\", \"dash\": \"solid\"}, \"mode\": \"lines\", \"name\": \"2\", \"orientation\": \"v\", \"showlegend\": true, \"type\": \"scatter\", \"x\": [1000, 5000, 10000, 50000, 100000], \"xaxis\": \"x7\", \"y\": [0.0024668266007211058, 0.06015709940111265, 0.2400586995994672, 5.972959492803784, 23.93171816819813], \"yaxis\": \"y7\"}, {\"hovertemplate\": \"Threads=2<br>Construct=tasks<br>Algorithm=merge<br>Array Size=%{x}<br>Duration (s)=%{y}<extra></extra>\", \"legendgroup\": \"2\", \"line\": {\"color\": \"rgb(221,132,82)\", \"dash\": \"solid\"}, \"mode\": \"lines\", \"name\": \"2\", \"orientation\": \"v\", \"showlegend\": false, \"type\": \"scatter\", \"x\": [1000, 5000, 10000, 50000, 100000, 500000, 1000000], \"xaxis\": \"x2\", \"y\": [8.815680048428476e-05, 0.00043031739187426865, 0.0008730943955015391, 0.0053330410039052365, 0.011017061804886907, 0.05924691060208716, 0.12156609399826265], \"yaxis\": \"y2\"}, {\"hovertemplate\": \"Threads=2<br>Construct=tasks<br>Algorithm=quick<br>Array Size=%{x}<br>Duration (s)=%{y}<extra></extra>\", \"legendgroup\": \"2\", \"line\": {\"color\": \"rgb(221,132,82)\", \"dash\": \"solid\"}, \"mode\": \"lines\", \"name\": \"2\", \"orientation\": \"v\", \"showlegend\": false, \"type\": \"scatter\", \"x\": [1000, 5000, 10000, 50000, 100000, 500000, 1000000], \"xaxis\": \"x3\", \"y\": [8.403719984926284e-05, 0.00045426379656419156, 0.0010083609959110618, 0.0052101236011367295, 0.01286235599545762, 0.06148072379874066, 0.11824139620293864], \"yaxis\": \"y3\"}, {\"hovertemplate\": \"Threads=4<br>Construct=parallel<br>Algorithm=enumeration<br>Array Size=%{x}<br>Duration (s)=%{y}<extra></extra>\", \"legendgroup\": \"4\", \"line\": {\"color\": \"rgb(85,168,104)\", \"dash\": \"solid\"}, \"mode\": \"lines\", \"name\": \"4\", \"orientation\": \"v\", \"showlegend\": true, \"type\": \"scatter\", \"x\": [1000, 5000, 10000, 50000, 100000], \"xaxis\": \"x7\", \"y\": [0.0012390754010993988, 0.03018024460761808, 0.12158549559535459, 3.00584616959095, 12.060942454793258], \"yaxis\": \"y7\"}, {\"hovertemplate\": \"Threads=4<br>Construct=tasks<br>Algorithm=merge<br>Array Size=%{x}<br>Duration (s)=%{y}<extra></extra>\", \"legendgroup\": \"4\", \"line\": {\"color\": \"rgb(85,168,104)\", \"dash\": \"solid\"}, \"mode\": \"lines\", \"name\": \"4\", \"orientation\": \"v\", \"showlegend\": false, \"type\": \"scatter\", \"x\": [1000, 5000, 10000, 50000, 100000, 500000, 1000000], \"xaxis\": \"x2\", \"y\": [8.636360289528965e-05, 0.0004380261991173029, 0.0006853401951957494, 0.004892008996102959, 0.012158845399972052, 0.05050113759934902, 0.09468591779004783], \"yaxis\": \"y2\"}, {\"hovertemplate\": \"Threads=4<br>Construct=tasks<br>Algorithm=quick<br>Array Size=%{x}<br>Duration (s)=%{y}<extra></extra>\", \"legendgroup\": \"4\", \"line\": {\"color\": \"rgb(85,168,104)\", \"dash\": \"solid\"}, \"mode\": \"lines\", \"name\": \"4\", \"orientation\": \"v\", \"showlegend\": false, \"type\": \"scatter\", \"x\": [1000, 5000, 10000, 50000, 100000, 500000, 1000000], \"xaxis\": \"x3\", \"y\": [8.154000388458372e-05, 0.0003962212009355426, 0.0007983049959875643, 0.003990622999845072, 0.00781336780055426, 0.041192257986404, 0.07832928480347617], \"yaxis\": \"y3\"}, {\"hovertemplate\": \"Threads=8<br>Construct=parallel<br>Algorithm=enumeration<br>Array Size=%{x}<br>Duration (s)=%{y}<extra></extra>\", \"legendgroup\": \"8\", \"line\": {\"color\": \"rgb(196,78,82)\", \"dash\": \"solid\"}, \"mode\": \"lines\", \"name\": \"8\", \"orientation\": \"v\", \"showlegend\": true, \"type\": \"scatter\", \"x\": [1000, 5000, 10000, 50000, 100000], \"xaxis\": \"x7\", \"y\": [0.000644481397466734, 0.015384748595533893, 0.06140193978790194, 1.532392706797691, 6.115675331209786], \"yaxis\": \"y7\"}, {\"hovertemplate\": \"Threads=8<br>Construct=tasks<br>Algorithm=merge<br>Array Size=%{x}<br>Duration (s)=%{y}<extra></extra>\", \"legendgroup\": \"8\", \"line\": {\"color\": \"rgb(196,78,82)\", \"dash\": \"solid\"}, \"mode\": \"lines\", \"name\": \"8\", \"orientation\": \"v\", \"showlegend\": false, \"type\": \"scatter\", \"x\": [1000, 5000, 10000, 50000, 100000, 500000, 1000000], \"xaxis\": \"x2\", \"y\": [8.666819194331765e-05, 0.0003371143946424127, 0.0005786569963674992, 0.0031667952076531946, 0.007759435591287911, 0.03994798599742353, 0.07746274279779755], \"yaxis\": \"y2\"}, {\"hovertemplate\": \"Threads=8<br>Construct=tasks<br>Algorithm=quick<br>Array Size=%{x}<br>Duration (s)=%{y}<extra></extra>\", \"legendgroup\": \"8\", \"line\": {\"color\": \"rgb(196,78,82)\", \"dash\": \"solid\"}, \"mode\": \"lines\", \"name\": \"8\", \"orientation\": \"v\", \"showlegend\": false, \"type\": \"scatter\", \"x\": [1000, 5000, 10000, 50000, 100000, 500000, 1000000], \"xaxis\": \"x3\", \"y\": [0.00010535040055401624, 0.0003957080014515668, 0.00075582901481539, 0.0035397392057348043, 0.006974426208762452, 0.035902696999255565, 0.0692190942063462], \"yaxis\": \"y3\"}, {\"hovertemplate\": \"Threads=16<br>Construct=parallel<br>Algorithm=enumeration<br>Array Size=%{x}<br>Duration (s)=%{y}<extra></extra>\", \"legendgroup\": \"16\", \"line\": {\"color\": \"rgb(129,114,179)\", \"dash\": \"solid\"}, \"mode\": \"lines\", \"name\": \"16\", \"orientation\": \"v\", \"showlegend\": true, \"type\": \"scatter\", \"x\": [1000, 5000, 10000, 50000, 100000], \"xaxis\": \"x7\", \"y\": [0.00039951938670128583, 0.008907577989157289, 0.035540709004271774, 0.8777054241974838, 3.4588222188001962], \"yaxis\": \"y7\"}, {\"hovertemplate\": \"Threads=16<br>Construct=tasks<br>Algorithm=merge<br>Array Size=%{x}<br>Duration (s)=%{y}<extra></extra>\", \"legendgroup\": \"16\", \"line\": {\"color\": \"rgb(129,114,179)\", \"dash\": \"solid\"}, \"mode\": \"lines\", \"name\": \"16\", \"orientation\": \"v\", \"showlegend\": false, \"type\": \"scatter\", \"x\": [1000, 5000, 10000, 50000, 100000, 500000, 1000000], \"xaxis\": \"x2\", \"y\": [0.00010665520094335079, 0.00033546501072123647, 0.0006277881911955774, 0.003237940004328266, 0.007116475398652256, 0.040417508000973615, 0.07026259519625455], \"yaxis\": \"y2\"}, {\"hovertemplate\": \"Threads=16<br>Construct=tasks<br>Algorithm=quick<br>Array Size=%{x}<br>Duration (s)=%{y}<extra></extra>\", \"legendgroup\": \"16\", \"line\": {\"color\": \"rgb(129,114,179)\", \"dash\": \"solid\"}, \"mode\": \"lines\", \"name\": \"16\", \"orientation\": \"v\", \"showlegend\": false, \"type\": \"scatter\", \"x\": [1000, 5000, 10000, 50000, 100000, 500000, 1000000], \"xaxis\": \"x3\", \"y\": [0.00013301820727065205, 0.00043896620627492666, 0.0008376113954000175, 0.004121434199623764, 0.008050750195980071, 0.041958789009368044, 0.07883342200657353], \"yaxis\": \"y3\"}],                        {\"annotations\": [{\"font\": {}, \"showarrow\": false, \"text\": \"Algorithm=enumeration\", \"x\": 0.14666666666666667, \"xanchor\": \"center\", \"xref\": \"paper\", \"y\": 0.9999999999999998, \"yanchor\": \"bottom\", \"yref\": \"paper\"}, {\"font\": {}, \"showarrow\": false, \"text\": \"Algorithm=merge\", \"x\": 0.49, \"xanchor\": \"center\", \"xref\": \"paper\", \"y\": 0.9999999999999998, \"yanchor\": \"bottom\", \"yref\": \"paper\"}, {\"font\": {}, \"showarrow\": false, \"text\": \"Algorithm=quick\", \"x\": 0.8333333333333333, \"xanchor\": \"center\", \"xref\": \"paper\", \"y\": 0.9999999999999998, \"yanchor\": \"bottom\", \"yref\": \"paper\"}, {\"font\": {}, \"showarrow\": false, \"text\": \"Construct=tasks\", \"textangle\": 90, \"x\": 0.98, \"xanchor\": \"left\", \"xref\": \"paper\", \"y\": 0.15666666666666665, \"yanchor\": \"middle\", \"yref\": \"paper\"}, {\"font\": {}, \"showarrow\": false, \"text\": \"Construct=sections\", \"textangle\": 90, \"x\": 0.98, \"xanchor\": \"left\", \"xref\": \"paper\", \"y\": 0.4999999999999999, \"yanchor\": \"middle\", \"yref\": \"paper\"}, {\"font\": {}, \"showarrow\": false, \"text\": \"Construct=parallel\", \"textangle\": 90, \"x\": 0.98, \"xanchor\": \"left\", \"xref\": \"paper\", \"y\": 0.8433333333333332, \"yanchor\": \"middle\", \"yref\": \"paper\"}], \"height\": 600, \"legend\": {\"title\": {\"text\": \"Threads\"}, \"tracegroupgap\": 0}, \"template\": {\"data\": {\"bar\": [{\"error_x\": {\"color\": \"rgb(36,36,36)\"}, \"error_y\": {\"color\": \"rgb(36,36,36)\"}, \"marker\": {\"line\": {\"color\": \"rgb(234,234,242)\", \"width\": 0.5}}, \"type\": \"bar\"}], \"barpolar\": [{\"marker\": {\"line\": {\"color\": \"rgb(234,234,242)\", \"width\": 0.5}}, \"type\": \"barpolar\"}], \"carpet\": [{\"aaxis\": {\"endlinecolor\": \"rgb(36,36,36)\", \"gridcolor\": \"white\", \"linecolor\": \"white\", \"minorgridcolor\": \"white\", \"startlinecolor\": \"rgb(36,36,36)\"}, \"baxis\": {\"endlinecolor\": \"rgb(36,36,36)\", \"gridcolor\": \"white\", \"linecolor\": \"white\", \"minorgridcolor\": \"white\", \"startlinecolor\": \"rgb(36,36,36)\"}, \"type\": \"carpet\"}], \"choropleth\": [{\"colorbar\": {\"outlinewidth\": 0, \"tickcolor\": \"rgb(36,36,36)\", \"ticklen\": 8, \"ticks\": \"outside\", \"tickwidth\": 2}, \"type\": \"choropleth\"}], \"contour\": [{\"colorbar\": {\"outlinewidth\": 0, \"tickcolor\": \"rgb(36,36,36)\", \"ticklen\": 8, \"ticks\": \"outside\", \"tickwidth\": 2}, \"colorscale\": [[0.0, \"rgb(2,4,25)\"], [0.06274509803921569, \"rgb(24,15,41)\"], [0.12549019607843137, \"rgb(47,23,57)\"], [0.18823529411764706, \"rgb(71,28,72)\"], [0.25098039215686274, \"rgb(97,30,82)\"], [0.3137254901960784, \"rgb(123,30,89)\"], [0.3764705882352941, \"rgb(150,27,91)\"], [0.4392156862745098, \"rgb(177,22,88)\"], [0.5019607843137255, \"rgb(203,26,79)\"], [0.5647058823529412, \"rgb(223,47,67)\"], [0.6274509803921569, \"rgb(236,76,61)\"], [0.6901960784313725, \"rgb(242,107,73)\"], [0.7529411764705882, \"rgb(244,135,95)\"], [0.8156862745098039, \"rgb(245,162,122)\"], [0.8784313725490196, \"rgb(246,188,153)\"], [0.9411764705882353, \"rgb(247,212,187)\"], [1.0, \"rgb(250,234,220)\"]], \"type\": \"contour\"}], \"contourcarpet\": [{\"colorbar\": {\"outlinewidth\": 0, \"tickcolor\": \"rgb(36,36,36)\", \"ticklen\": 8, \"ticks\": \"outside\", \"tickwidth\": 2}, \"type\": \"contourcarpet\"}], \"heatmap\": [{\"colorbar\": {\"outlinewidth\": 0, \"tickcolor\": \"rgb(36,36,36)\", \"ticklen\": 8, \"ticks\": \"outside\", \"tickwidth\": 2}, \"colorscale\": [[0.0, \"rgb(2,4,25)\"], [0.06274509803921569, \"rgb(24,15,41)\"], [0.12549019607843137, \"rgb(47,23,57)\"], [0.18823529411764706, \"rgb(71,28,72)\"], [0.25098039215686274, \"rgb(97,30,82)\"], [0.3137254901960784, \"rgb(123,30,89)\"], [0.3764705882352941, \"rgb(150,27,91)\"], [0.4392156862745098, \"rgb(177,22,88)\"], [0.5019607843137255, \"rgb(203,26,79)\"], [0.5647058823529412, \"rgb(223,47,67)\"], [0.6274509803921569, \"rgb(236,76,61)\"], [0.6901960784313725, \"rgb(242,107,73)\"], [0.7529411764705882, \"rgb(244,135,95)\"], [0.8156862745098039, \"rgb(245,162,122)\"], [0.8784313725490196, \"rgb(246,188,153)\"], [0.9411764705882353, \"rgb(247,212,187)\"], [1.0, \"rgb(250,234,220)\"]], \"type\": \"heatmap\"}], \"heatmapgl\": [{\"colorbar\": {\"outlinewidth\": 0, \"tickcolor\": \"rgb(36,36,36)\", \"ticklen\": 8, \"ticks\": \"outside\", \"tickwidth\": 2}, \"colorscale\": [[0.0, \"rgb(2,4,25)\"], [0.06274509803921569, \"rgb(24,15,41)\"], [0.12549019607843137, \"rgb(47,23,57)\"], [0.18823529411764706, \"rgb(71,28,72)\"], [0.25098039215686274, \"rgb(97,30,82)\"], [0.3137254901960784, \"rgb(123,30,89)\"], [0.3764705882352941, \"rgb(150,27,91)\"], [0.4392156862745098, \"rgb(177,22,88)\"], [0.5019607843137255, \"rgb(203,26,79)\"], [0.5647058823529412, \"rgb(223,47,67)\"], [0.6274509803921569, \"rgb(236,76,61)\"], [0.6901960784313725, \"rgb(242,107,73)\"], [0.7529411764705882, \"rgb(244,135,95)\"], [0.8156862745098039, \"rgb(245,162,122)\"], [0.8784313725490196, \"rgb(246,188,153)\"], [0.9411764705882353, \"rgb(247,212,187)\"], [1.0, \"rgb(250,234,220)\"]], \"type\": \"heatmapgl\"}], \"histogram\": [{\"marker\": {\"colorbar\": {\"outlinewidth\": 0, \"tickcolor\": \"rgb(36,36,36)\", \"ticklen\": 8, \"ticks\": \"outside\", \"tickwidth\": 2}}, \"type\": \"histogram\"}], \"histogram2d\": [{\"colorbar\": {\"outlinewidth\": 0, \"tickcolor\": \"rgb(36,36,36)\", \"ticklen\": 8, \"ticks\": \"outside\", \"tickwidth\": 2}, \"colorscale\": [[0.0, \"rgb(2,4,25)\"], [0.06274509803921569, \"rgb(24,15,41)\"], [0.12549019607843137, \"rgb(47,23,57)\"], [0.18823529411764706, \"rgb(71,28,72)\"], [0.25098039215686274, \"rgb(97,30,82)\"], [0.3137254901960784, \"rgb(123,30,89)\"], [0.3764705882352941, \"rgb(150,27,91)\"], [0.4392156862745098, \"rgb(177,22,88)\"], [0.5019607843137255, \"rgb(203,26,79)\"], [0.5647058823529412, \"rgb(223,47,67)\"], [0.6274509803921569, \"rgb(236,76,61)\"], [0.6901960784313725, \"rgb(242,107,73)\"], [0.7529411764705882, \"rgb(244,135,95)\"], [0.8156862745098039, \"rgb(245,162,122)\"], [0.8784313725490196, \"rgb(246,188,153)\"], [0.9411764705882353, \"rgb(247,212,187)\"], [1.0, \"rgb(250,234,220)\"]], \"type\": \"histogram2d\"}], \"histogram2dcontour\": [{\"colorbar\": {\"outlinewidth\": 0, \"tickcolor\": \"rgb(36,36,36)\", \"ticklen\": 8, \"ticks\": \"outside\", \"tickwidth\": 2}, \"colorscale\": [[0.0, \"rgb(2,4,25)\"], [0.06274509803921569, \"rgb(24,15,41)\"], [0.12549019607843137, \"rgb(47,23,57)\"], [0.18823529411764706, \"rgb(71,28,72)\"], [0.25098039215686274, \"rgb(97,30,82)\"], [0.3137254901960784, \"rgb(123,30,89)\"], [0.3764705882352941, \"rgb(150,27,91)\"], [0.4392156862745098, \"rgb(177,22,88)\"], [0.5019607843137255, \"rgb(203,26,79)\"], [0.5647058823529412, \"rgb(223,47,67)\"], [0.6274509803921569, \"rgb(236,76,61)\"], [0.6901960784313725, \"rgb(242,107,73)\"], [0.7529411764705882, \"rgb(244,135,95)\"], [0.8156862745098039, \"rgb(245,162,122)\"], [0.8784313725490196, \"rgb(246,188,153)\"], [0.9411764705882353, \"rgb(247,212,187)\"], [1.0, \"rgb(250,234,220)\"]], \"type\": \"histogram2dcontour\"}], \"mesh3d\": [{\"colorbar\": {\"outlinewidth\": 0, \"tickcolor\": \"rgb(36,36,36)\", \"ticklen\": 8, \"ticks\": \"outside\", \"tickwidth\": 2}, \"type\": \"mesh3d\"}], \"parcoords\": [{\"line\": {\"colorbar\": {\"outlinewidth\": 0, \"tickcolor\": \"rgb(36,36,36)\", \"ticklen\": 8, \"ticks\": \"outside\", \"tickwidth\": 2}}, \"type\": \"parcoords\"}], \"pie\": [{\"automargin\": true, \"type\": \"pie\"}], \"scatter\": [{\"marker\": {\"colorbar\": {\"outlinewidth\": 0, \"tickcolor\": \"rgb(36,36,36)\", \"ticklen\": 8, \"ticks\": \"outside\", \"tickwidth\": 2}}, \"type\": \"scatter\"}], \"scatter3d\": [{\"line\": {\"colorbar\": {\"outlinewidth\": 0, \"tickcolor\": \"rgb(36,36,36)\", \"ticklen\": 8, \"ticks\": \"outside\", \"tickwidth\": 2}}, \"marker\": {\"colorbar\": {\"outlinewidth\": 0, \"tickcolor\": \"rgb(36,36,36)\", \"ticklen\": 8, \"ticks\": \"outside\", \"tickwidth\": 2}}, \"type\": \"scatter3d\"}], \"scattercarpet\": [{\"marker\": {\"colorbar\": {\"outlinewidth\": 0, \"tickcolor\": \"rgb(36,36,36)\", \"ticklen\": 8, \"ticks\": \"outside\", \"tickwidth\": 2}}, \"type\": \"scattercarpet\"}], \"scattergeo\": [{\"marker\": {\"colorbar\": {\"outlinewidth\": 0, \"tickcolor\": \"rgb(36,36,36)\", \"ticklen\": 8, \"ticks\": \"outside\", \"tickwidth\": 2}}, \"type\": \"scattergeo\"}], \"scattergl\": [{\"marker\": {\"colorbar\": {\"outlinewidth\": 0, \"tickcolor\": \"rgb(36,36,36)\", \"ticklen\": 8, \"ticks\": \"outside\", \"tickwidth\": 2}}, \"type\": \"scattergl\"}], \"scattermapbox\": [{\"marker\": {\"colorbar\": {\"outlinewidth\": 0, \"tickcolor\": \"rgb(36,36,36)\", \"ticklen\": 8, \"ticks\": \"outside\", \"tickwidth\": 2}}, \"type\": \"scattermapbox\"}], \"scatterpolar\": [{\"marker\": {\"colorbar\": {\"outlinewidth\": 0, \"tickcolor\": \"rgb(36,36,36)\", \"ticklen\": 8, \"ticks\": \"outside\", \"tickwidth\": 2}}, \"type\": \"scatterpolar\"}], \"scatterpolargl\": [{\"marker\": {\"colorbar\": {\"outlinewidth\": 0, \"tickcolor\": \"rgb(36,36,36)\", \"ticklen\": 8, \"ticks\": \"outside\", \"tickwidth\": 2}}, \"type\": \"scatterpolargl\"}], \"scatterternary\": [{\"marker\": {\"colorbar\": {\"outlinewidth\": 0, \"tickcolor\": \"rgb(36,36,36)\", \"ticklen\": 8, \"ticks\": \"outside\", \"tickwidth\": 2}}, \"type\": \"scatterternary\"}], \"surface\": [{\"colorbar\": {\"outlinewidth\": 0, \"tickcolor\": \"rgb(36,36,36)\", \"ticklen\": 8, \"ticks\": \"outside\", \"tickwidth\": 2}, \"colorscale\": [[0.0, \"rgb(2,4,25)\"], [0.06274509803921569, \"rgb(24,15,41)\"], [0.12549019607843137, \"rgb(47,23,57)\"], [0.18823529411764706, \"rgb(71,28,72)\"], [0.25098039215686274, \"rgb(97,30,82)\"], [0.3137254901960784, \"rgb(123,30,89)\"], [0.3764705882352941, \"rgb(150,27,91)\"], [0.4392156862745098, \"rgb(177,22,88)\"], [0.5019607843137255, \"rgb(203,26,79)\"], [0.5647058823529412, \"rgb(223,47,67)\"], [0.6274509803921569, \"rgb(236,76,61)\"], [0.6901960784313725, \"rgb(242,107,73)\"], [0.7529411764705882, \"rgb(244,135,95)\"], [0.8156862745098039, \"rgb(245,162,122)\"], [0.8784313725490196, \"rgb(246,188,153)\"], [0.9411764705882353, \"rgb(247,212,187)\"], [1.0, \"rgb(250,234,220)\"]], \"type\": \"surface\"}], \"table\": [{\"cells\": {\"fill\": {\"color\": \"rgb(231,231,240)\"}, \"line\": {\"color\": \"white\"}}, \"header\": {\"fill\": {\"color\": \"rgb(183,183,191)\"}, \"line\": {\"color\": \"white\"}}, \"type\": \"table\"}]}, \"layout\": {\"annotationdefaults\": {\"arrowcolor\": \"rgb(67,103,167)\"}, \"autotypenumbers\": \"strict\", \"coloraxis\": {\"colorbar\": {\"outlinewidth\": 0, \"tickcolor\": \"rgb(36,36,36)\", \"ticklen\": 8, \"ticks\": \"outside\", \"tickwidth\": 2}}, \"colorscale\": {\"sequential\": [[0.0, \"rgb(2,4,25)\"], [0.06274509803921569, \"rgb(24,15,41)\"], [0.12549019607843137, \"rgb(47,23,57)\"], [0.18823529411764706, \"rgb(71,28,72)\"], [0.25098039215686274, \"rgb(97,30,82)\"], [0.3137254901960784, \"rgb(123,30,89)\"], [0.3764705882352941, \"rgb(150,27,91)\"], [0.4392156862745098, \"rgb(177,22,88)\"], [0.5019607843137255, \"rgb(203,26,79)\"], [0.5647058823529412, \"rgb(223,47,67)\"], [0.6274509803921569, \"rgb(236,76,61)\"], [0.6901960784313725, \"rgb(242,107,73)\"], [0.7529411764705882, \"rgb(244,135,95)\"], [0.8156862745098039, \"rgb(245,162,122)\"], [0.8784313725490196, \"rgb(246,188,153)\"], [0.9411764705882353, \"rgb(247,212,187)\"], [1.0, \"rgb(250,234,220)\"]], \"sequentialminus\": [[0.0, \"rgb(2,4,25)\"], [0.06274509803921569, \"rgb(24,15,41)\"], [0.12549019607843137, \"rgb(47,23,57)\"], [0.18823529411764706, \"rgb(71,28,72)\"], [0.25098039215686274, \"rgb(97,30,82)\"], [0.3137254901960784, \"rgb(123,30,89)\"], [0.3764705882352941, \"rgb(150,27,91)\"], [0.4392156862745098, \"rgb(177,22,88)\"], [0.5019607843137255, \"rgb(203,26,79)\"], [0.5647058823529412, \"rgb(223,47,67)\"], [0.6274509803921569, \"rgb(236,76,61)\"], [0.6901960784313725, \"rgb(242,107,73)\"], [0.7529411764705882, \"rgb(244,135,95)\"], [0.8156862745098039, \"rgb(245,162,122)\"], [0.8784313725490196, \"rgb(246,188,153)\"], [0.9411764705882353, \"rgb(247,212,187)\"], [1.0, \"rgb(250,234,220)\"]]}, \"colorway\": [\"rgb(76,114,176)\", \"rgb(221,132,82)\", \"rgb(85,168,104)\", \"rgb(196,78,82)\", \"rgb(129,114,179)\", \"rgb(147,120,96)\", \"rgb(218,139,195)\", \"rgb(140,140,140)\", \"rgb(204,185,116)\", \"rgb(100,181,205)\"], \"font\": {\"color\": \"rgb(36,36,36)\"}, \"geo\": {\"bgcolor\": \"white\", \"lakecolor\": \"white\", \"landcolor\": \"rgb(234,234,242)\", \"showlakes\": true, \"showland\": true, \"subunitcolor\": \"white\"}, \"hoverlabel\": {\"align\": \"left\"}, \"hovermode\": \"closest\", \"paper_bgcolor\": \"white\", \"plot_bgcolor\": \"rgb(234,234,242)\", \"polar\": {\"angularaxis\": {\"gridcolor\": \"white\", \"linecolor\": \"white\", \"showgrid\": true, \"ticks\": \"\"}, \"bgcolor\": \"rgb(234,234,242)\", \"radialaxis\": {\"gridcolor\": \"white\", \"linecolor\": \"white\", \"showgrid\": true, \"ticks\": \"\"}}, \"scene\": {\"xaxis\": {\"backgroundcolor\": \"rgb(234,234,242)\", \"gridcolor\": \"white\", \"gridwidth\": 2, \"linecolor\": \"white\", \"showbackground\": true, \"showgrid\": true, \"ticks\": \"\", \"zerolinecolor\": \"white\"}, \"yaxis\": {\"backgroundcolor\": \"rgb(234,234,242)\", \"gridcolor\": \"white\", \"gridwidth\": 2, \"linecolor\": \"white\", \"showbackground\": true, \"showgrid\": true, \"ticks\": \"\", \"zerolinecolor\": \"white\"}, \"zaxis\": {\"backgroundcolor\": \"rgb(234,234,242)\", \"gridcolor\": \"white\", \"gridwidth\": 2, \"linecolor\": \"white\", \"showbackground\": true, \"showgrid\": true, \"ticks\": \"\", \"zerolinecolor\": \"white\"}}, \"shapedefaults\": {\"fillcolor\": \"rgb(67,103,167)\", \"line\": {\"width\": 0}, \"opacity\": 0.5}, \"ternary\": {\"aaxis\": {\"gridcolor\": \"white\", \"linecolor\": \"white\", \"showgrid\": true, \"ticks\": \"\"}, \"baxis\": {\"gridcolor\": \"white\", \"linecolor\": \"white\", \"showgrid\": true, \"ticks\": \"\"}, \"bgcolor\": \"rgb(234,234,242)\", \"caxis\": {\"gridcolor\": \"white\", \"linecolor\": \"white\", \"showgrid\": true, \"ticks\": \"\"}}, \"xaxis\": {\"automargin\": true, \"gridcolor\": \"white\", \"linecolor\": \"white\", \"showgrid\": true, \"ticks\": \"\", \"title\": {\"standoff\": 15}, \"zerolinecolor\": \"white\"}, \"yaxis\": {\"automargin\": true, \"gridcolor\": \"white\", \"linecolor\": \"white\", \"showgrid\": true, \"ticks\": \"\", \"title\": {\"standoff\": 15}, \"zerolinecolor\": \"white\"}}}, \"title\": {\"text\": \"Algorithm Runtime Comparisons in C / OpenMP (Hybrid Parallelism)\"}, \"xaxis\": {\"anchor\": \"y\", \"domain\": [0.0, 0.29333333333333333], \"title\": {\"text\": \"Array Size\"}, \"type\": \"log\"}, \"xaxis2\": {\"anchor\": \"y2\", \"domain\": [0.3433333333333333, 0.6366666666666667], \"matches\": \"x\", \"title\": {\"text\": \"Array Size\"}, \"type\": \"log\"}, \"xaxis3\": {\"anchor\": \"y3\", \"domain\": [0.6866666666666666, 0.98], \"matches\": \"x\", \"title\": {\"text\": \"Array Size\"}, \"type\": \"log\"}, \"xaxis4\": {\"anchor\": \"y4\", \"domain\": [0.0, 0.29333333333333333], \"matches\": \"x\", \"showticklabels\": false, \"type\": \"log\"}, \"xaxis5\": {\"anchor\": \"y5\", \"domain\": [0.3433333333333333, 0.6366666666666667], \"matches\": \"x\", \"showticklabels\": false, \"type\": \"log\"}, \"xaxis6\": {\"anchor\": \"y6\", \"domain\": [0.6866666666666666, 0.98], \"matches\": \"x\", \"showticklabels\": false, \"type\": \"log\"}, \"xaxis7\": {\"anchor\": \"y7\", \"domain\": [0.0, 0.29333333333333333], \"matches\": \"x\", \"showticklabels\": false, \"type\": \"log\"}, \"xaxis8\": {\"anchor\": \"y8\", \"domain\": [0.3433333333333333, 0.6366666666666667], \"matches\": \"x\", \"showticklabels\": false, \"type\": \"log\"}, \"xaxis9\": {\"anchor\": \"y9\", \"domain\": [0.6866666666666666, 0.98], \"matches\": \"x\", \"showticklabels\": false, \"type\": \"log\"}, \"yaxis\": {\"anchor\": \"x\", \"domain\": [0.0, 0.3133333333333333], \"title\": {\"text\": \"Duration (s)\"}}, \"yaxis2\": {\"anchor\": \"x2\", \"domain\": [0.0, 0.3133333333333333], \"showticklabels\": false}, \"yaxis3\": {\"anchor\": \"x3\", \"domain\": [0.0, 0.3133333333333333], \"showticklabels\": false}, \"yaxis4\": {\"anchor\": \"x4\", \"domain\": [0.34333333333333327, 0.6566666666666665], \"title\": {\"text\": \"Duration (s)\"}}, \"yaxis5\": {\"anchor\": \"x5\", \"domain\": [0.34333333333333327, 0.6566666666666665], \"showticklabels\": false}, \"yaxis6\": {\"anchor\": \"x6\", \"domain\": [0.34333333333333327, 0.6566666666666665], \"showticklabels\": false}, \"yaxis7\": {\"anchor\": \"x7\", \"domain\": [0.6866666666666665, 0.9999999999999998], \"title\": {\"text\": \"Duration (s)\"}}, \"yaxis8\": {\"anchor\": \"x8\", \"domain\": [0.6866666666666665, 0.9999999999999998], \"showticklabels\": false}, \"yaxis9\": {\"anchor\": \"x9\", \"domain\": [0.6866666666666665, 0.9999999999999998], \"showticklabels\": false}},                        {\"responsive\": true}                    ).then(function(){\n",
       "                            \n",
       "var gd = document.getElementById('5ce6b29f-5195-44f8-8fec-2e402993c949');\n",
       "var x = new MutationObserver(function (mutations, observer) {{\n",
       "        var display = window.getComputedStyle(gd).display;\n",
       "        if (!display || display === 'none') {{\n",
       "            console.log([gd, 'removed!']);\n",
       "            Plotly.purge(gd);\n",
       "            observer.disconnect();\n",
       "        }}\n",
       "}});\n",
       "\n",
       "// Listen for the removal of the full notebook cells\n",
       "var notebookContainer = gd.closest('#notebook-container');\n",
       "if (notebookContainer) {{\n",
       "    x.observe(notebookContainer, {childList: true});\n",
       "}}\n",
       "\n",
       "// Listen for the clearing of the current output cell\n",
       "var outputEl = gd.closest('.output');\n",
       "if (outputEl) {{\n",
       "    x.observe(outputEl, {childList: true});\n",
       "}}\n",
       "\n",
       "                        })                };                });            </script>        </div>"
      ]
     },
     "metadata": {},
     "output_type": "display_data"
    }
   ],
   "source": [
    "fig = px.line(\n",
    "    df,#.loc[df.Construct == 'tasks'],\n",
    "    x='Size', y='Duration', color='Threads',\n",
    "    facet_col='Algorithm', facet_col_wrap=2,\n",
    "    facet_col_spacing=0.05,\n",
    "    facet_row='Construct',\n",
    "    template='seaborn',\n",
    "    log_x=True,\n",
    "#     log_y=True,\n",
    "    title='Algorithm Runtime Comparisons in C / OpenMP (Hybrid Parallelism)',\n",
    "    height=600,\n",
    "    labels={\n",
    "        \"Duration\": \"Duration (s)\",\n",
    "        \"Size\": \"Array Size\",\n",
    "     },\n",
    ")\n",
    "\n",
    "fig.update_yaxes(matches=None)\n",
    "fig.update_yaxes(showticklabels=True, col=[2,3]) # assuming second facet\n",
    "fig.show()"
   ]
  },
  {
   "cell_type": "code",
   "execution_count": 58,
   "metadata": {
    "scrolled": false
   },
   "outputs": [
    {
     "data": {
      "application/vnd.plotly.v1+json": {
       "config": {
        "plotlyServerURL": "https://plot.ly"
       },
       "data": [
        {
         "hovertemplate": "Threads=1<br>Construct=sections<br>Algorithm=merge<br>Array Size=%{x}<br>Duration (s)=%{y}<extra></extra>",
         "legendgroup": "1",
         "line": {
          "color": "rgb(76,114,176)",
          "dash": "solid"
         },
         "mode": "lines",
         "name": "1",
         "orientation": "v",
         "showlegend": true,
         "type": "scatter",
         "x": [
          1000,
          10000,
          100000,
          1000000,
          10000000
         ],
         "xaxis": "x3",
         "y": [
          0.0001462405314669013,
          0.0012649175361730159,
          0.016475906937072675,
          0.19135471129848156,
          2.147955777007155
         ],
         "yaxis": "y3"
        },
        {
         "hovertemplate": "Threads=1<br>Construct=sections<br>Algorithm=quick<br>Array Size=%{x}<br>Duration (s)=%{y}<extra></extra>",
         "legendgroup": "1",
         "line": {
          "color": "rgb(76,114,176)",
          "dash": "solid"
         },
         "mode": "lines",
         "name": "1",
         "orientation": "v",
         "showlegend": false,
         "type": "scatter",
         "x": [
          1000,
          10000,
          100000,
          1000000,
          10000000
         ],
         "xaxis": "x4",
         "y": [
          0.00013859486401391526,
          0.001344819136041527,
          0.018164746866871914,
          0.20887709830130916,
          2.428922178404173
         ],
         "yaxis": "y4"
        },
        {
         "hovertemplate": "Threads=1<br>Construct=tasks<br>Algorithm=merge<br>Array Size=%{x}<br>Duration (s)=%{y}<extra></extra>",
         "legendgroup": "1",
         "line": {
          "color": "rgb(76,114,176)",
          "dash": "solid"
         },
         "mode": "lines",
         "name": "1",
         "orientation": "v",
         "showlegend": false,
         "type": "scatter",
         "x": [
          1000,
          10000,
          100000,
          1000000,
          10000000
         ],
         "xaxis": "x",
         "y": [
          0.0001462405314669013,
          0.0012649175361730159,
          0.016475906937072675,
          0.19135471129848156,
          2.147955777007155
         ],
         "yaxis": "y"
        },
        {
         "hovertemplate": "Threads=1<br>Construct=tasks<br>Algorithm=quick<br>Array Size=%{x}<br>Duration (s)=%{y}<extra></extra>",
         "legendgroup": "1",
         "line": {
          "color": "rgb(76,114,176)",
          "dash": "solid"
         },
         "mode": "lines",
         "name": "1",
         "orientation": "v",
         "showlegend": false,
         "type": "scatter",
         "x": [
          1000,
          10000,
          100000,
          1000000,
          10000000
         ],
         "xaxis": "x2",
         "y": [
          0.00013859486401391526,
          0.001344819136041527,
          0.018164746866871914,
          0.20887709830130916,
          2.428922178404173
         ],
         "yaxis": "y2"
        },
        {
         "hovertemplate": "Threads=2<br>Construct=sections<br>Algorithm=merge<br>Array Size=%{x}<br>Duration (s)=%{y}<extra></extra>",
         "legendgroup": "2",
         "line": {
          "color": "rgb(221,132,82)",
          "dash": "solid"
         },
         "mode": "lines",
         "name": "2",
         "orientation": "v",
         "showlegend": true,
         "type": "scatter",
         "x": [
          1000,
          10000,
          100000,
          1000000,
          10000000
         ],
         "xaxis": "x3",
         "y": [
          0.0003368529995592932,
          0.0028323903990288574,
          0.03499864059655617,
          0.29417079049453604,
          2.9453364249959124
         ],
         "yaxis": "y3"
        },
        {
         "hovertemplate": "Threads=2<br>Construct=sections<br>Algorithm=quick<br>Array Size=%{x}<br>Duration (s)=%{y}<extra></extra>",
         "legendgroup": "2",
         "line": {
          "color": "rgb(221,132,82)",
          "dash": "solid"
         },
         "mode": "lines",
         "name": "2",
         "orientation": "v",
         "showlegend": false,
         "type": "scatter",
         "x": [
          1000,
          10000,
          100000,
          1000000,
          10000000
         ],
         "xaxis": "x4",
         "y": [
          0.0002761800695831577,
          0.002833901799749583,
          0.030186157597927376,
          0.2845078221958829,
          2.619619078998221
         ],
         "yaxis": "y4"
        },
        {
         "hovertemplate": "Threads=2<br>Construct=tasks<br>Algorithm=merge<br>Array Size=%{x}<br>Duration (s)=%{y}<extra></extra>",
         "legendgroup": "2",
         "line": {
          "color": "rgb(221,132,82)",
          "dash": "solid"
         },
         "mode": "lines",
         "name": "2",
         "orientation": "v",
         "showlegend": false,
         "type": "scatter",
         "x": [
          1000,
          10000,
          100000,
          1000000,
          10000000
         ],
         "xaxis": "x",
         "y": [
          0.0011630331360114117,
          0.009463079675333575,
          0.07677836006623692,
          0.7669537014997332,
          7.338096018007491
         ],
         "yaxis": "y"
        },
        {
         "hovertemplate": "Threads=2<br>Construct=tasks<br>Algorithm=quick<br>Array Size=%{x}<br>Duration (s)=%{y}<extra></extra>",
         "legendgroup": "2",
         "line": {
          "color": "rgb(221,132,82)",
          "dash": "solid"
         },
         "mode": "lines",
         "name": "2",
         "orientation": "v",
         "showlegend": false,
         "type": "scatter",
         "x": [
          1000,
          10000,
          100000,
          1000000,
          10000000
         ],
         "xaxis": "x2",
         "y": [
          0.0013652878037343423,
          0.0027189785963855685,
          0.014549559133592993,
          0.14155828000511975,
          1.407738634000998
         ],
         "yaxis": "y2"
        },
        {
         "hovertemplate": "Threads=4<br>Construct=sections<br>Algorithm=merge<br>Array Size=%{x}<br>Duration (s)=%{y}<extra></extra>",
         "legendgroup": "4",
         "line": {
          "color": "rgb(85,168,104)",
          "dash": "solid"
         },
         "mode": "lines",
         "name": "4",
         "orientation": "v",
         "showlegend": true,
         "type": "scatter",
         "x": [
          1000,
          10000,
          100000,
          1000000,
          10000000
         ],
         "xaxis": "x3",
         "y": [
          0.00028179839719086883,
          0.0031640631282546868,
          0.0335756976021609,
          0.2784089278051397,
          2.91710635079653
         ],
         "yaxis": "y3"
        },
        {
         "hovertemplate": "Threads=4<br>Construct=sections<br>Algorithm=quick<br>Array Size=%{x}<br>Duration (s)=%{y}<extra></extra>",
         "legendgroup": "4",
         "line": {
          "color": "rgb(85,168,104)",
          "dash": "solid"
         },
         "mode": "lines",
         "name": "4",
         "orientation": "v",
         "showlegend": false,
         "type": "scatter",
         "x": [
          1000,
          10000,
          100000,
          1000000,
          10000000
         ],
         "xaxis": "x4",
         "y": [
          0.0002792287307480971,
          0.0033848383366906396,
          0.029362290339001142,
          0.267123815199011,
          2.4414325110032222
         ],
         "yaxis": "y4"
        },
        {
         "hovertemplate": "Threads=4<br>Construct=tasks<br>Algorithm=merge<br>Array Size=%{x}<br>Duration (s)=%{y}<extra></extra>",
         "legendgroup": "4",
         "line": {
          "color": "rgb(85,168,104)",
          "dash": "solid"
         },
         "mode": "lines",
         "name": "4",
         "orientation": "v",
         "showlegend": false,
         "type": "scatter",
         "x": [
          1000,
          10000,
          100000,
          1000000,
          10000000
         ],
         "xaxis": "x",
         "y": [
          0.0021171180706005543,
          0.01948679253497782,
          0.19198955546792906,
          1.7536999804957305,
          17.65285247119609
         ],
         "yaxis": "y"
        },
        {
         "hovertemplate": "Threads=4<br>Construct=tasks<br>Algorithm=quick<br>Array Size=%{x}<br>Duration (s)=%{y}<extra></extra>",
         "legendgroup": "4",
         "line": {
          "color": "rgb(85,168,104)",
          "dash": "solid"
         },
         "mode": "lines",
         "name": "4",
         "orientation": "v",
         "showlegend": false,
         "type": "scatter",
         "x": [
          1000,
          10000,
          100000,
          1000000,
          10000000
         ],
         "xaxis": "x2",
         "y": [
          0.0018706721350705872,
          0.0051296259295971446,
          0.01288489713333547,
          0.08128542789490893,
          0.8095229675993323
         ],
         "yaxis": "y2"
        },
        {
         "hovertemplate": "Threads=8<br>Construct=sections<br>Algorithm=merge<br>Array Size=%{x}<br>Duration (s)=%{y}<extra></extra>",
         "legendgroup": "8",
         "line": {
          "color": "rgb(196,78,82)",
          "dash": "solid"
         },
         "mode": "lines",
         "name": "8",
         "orientation": "v",
         "showlegend": true,
         "type": "scatter",
         "x": [
          1000,
          10000,
          100000,
          1000000,
          10000000
         ],
         "xaxis": "x3",
         "y": [
          0.00029891520001304646,
          0.0029698226038211337,
          0.03151128292859842,
          0.29650819780363236,
          2.9961567465972623
         ],
         "yaxis": "y3"
        },
        {
         "hovertemplate": "Threads=8<br>Construct=sections<br>Algorithm=quick<br>Array Size=%{x}<br>Duration (s)=%{y}<extra></extra>",
         "legendgroup": "8",
         "line": {
          "color": "rgb(196,78,82)",
          "dash": "solid"
         },
         "mode": "lines",
         "name": "8",
         "orientation": "v",
         "showlegend": false,
         "type": "scatter",
         "x": [
          1000,
          10000,
          100000,
          1000000,
          10000000
         ],
         "xaxis": "x4",
         "y": [
          0.00025024606729857625,
          0.0031203738045102606,
          0.02692383766019096,
          0.2808009555010358,
          2.332812703604577
         ],
         "yaxis": "y4"
        },
        {
         "hovertemplate": "Threads=8<br>Construct=tasks<br>Algorithm=merge<br>Array Size=%{x}<br>Duration (s)=%{y}<extra></extra>",
         "legendgroup": "8",
         "line": {
          "color": "rgb(196,78,82)",
          "dash": "solid"
         },
         "mode": "lines",
         "name": "8",
         "orientation": "v",
         "showlegend": false,
         "type": "scatter",
         "x": [
          1000,
          10000,
          100000,
          1000000,
          10000000
         ],
         "xaxis": "x",
         "y": [
          0.0025394329975824805,
          0.02561531699805831,
          0.26087964659673163,
          2.4345646803994896,
          24.320427292597014
         ],
         "yaxis": "y"
        },
        {
         "hovertemplate": "Threads=8<br>Construct=tasks<br>Algorithm=quick<br>Array Size=%{x}<br>Duration (s)=%{y}<extra></extra>",
         "legendgroup": "8",
         "line": {
          "color": "rgb(196,78,82)",
          "dash": "solid"
         },
         "mode": "lines",
         "name": "8",
         "orientation": "v",
         "showlegend": false,
         "type": "scatter",
         "x": [
          1000,
          10000,
          100000,
          1000000,
          10000000
         ],
         "xaxis": "x2",
         "y": [
          0.0019821433951923003,
          0.01059100946295075,
          0.021798258600756525,
          0.08839220739901066,
          0.594404127803864
         ],
         "yaxis": "y2"
        },
        {
         "hovertemplate": "Threads=16<br>Construct=sections<br>Algorithm=merge<br>Array Size=%{x}<br>Duration (s)=%{y}<extra></extra>",
         "legendgroup": "16",
         "line": {
          "color": "rgb(129,114,179)",
          "dash": "solid"
         },
         "mode": "lines",
         "name": "16",
         "orientation": "v",
         "showlegend": true,
         "type": "scatter",
         "x": [
          1000,
          10000,
          100000,
          1000000,
          10000000
         ],
         "xaxis": "x3",
         "y": [
          0.00038373192655853926,
          0.0043908813347419105,
          0.032234028404733786,
          0.29812288689718114,
          2.8974645622016397
         ],
         "yaxis": "y3"
        },
        {
         "hovertemplate": "Threads=16<br>Construct=sections<br>Algorithm=quick<br>Array Size=%{x}<br>Duration (s)=%{y}<extra></extra>",
         "legendgroup": "16",
         "line": {
          "color": "rgb(129,114,179)",
          "dash": "solid"
         },
         "mode": "lines",
         "name": "16",
         "orientation": "v",
         "showlegend": false,
         "type": "scatter",
         "x": [
          1000,
          10000,
          100000,
          1000000,
          10000000
         ],
         "xaxis": "x4",
         "y": [
          0.00041095953395900626,
          0.004217134062976887,
          0.02969560560110646,
          0.2673472590046003,
          2.3943333806120792
         ],
         "yaxis": "y4"
        },
        {
         "hovertemplate": "Threads=16<br>Construct=tasks<br>Algorithm=merge<br>Array Size=%{x}<br>Duration (s)=%{y}<extra></extra>",
         "legendgroup": "16",
         "line": {
          "color": "rgb(129,114,179)",
          "dash": "solid"
         },
         "mode": "lines",
         "name": "16",
         "orientation": "v",
         "showlegend": false,
         "type": "scatter",
         "x": [
          1000,
          10000,
          100000,
          1000000,
          10000000
         ],
         "xaxis": "x",
         "y": [
          0.0033896587983084222,
          0.03317649413559896,
          0.3406407218678699,
          3.221817659304361,
          32.56223616580246
         ],
         "yaxis": "y"
        },
        {
         "hovertemplate": "Threads=16<br>Construct=tasks<br>Algorithm=quick<br>Array Size=%{x}<br>Duration (s)=%{y}<extra></extra>",
         "legendgroup": "16",
         "line": {
          "color": "rgb(129,114,179)",
          "dash": "solid"
         },
         "mode": "lines",
         "name": "16",
         "orientation": "v",
         "showlegend": false,
         "type": "scatter",
         "x": [
          1000,
          10000,
          100000,
          1000000,
          10000000
         ],
         "xaxis": "x2",
         "y": [
          0.002578350802650675,
          0.023109584868264695,
          0.043480285730523364,
          0.11934058519254905,
          0.7526767737988849
         ],
         "yaxis": "y2"
        }
       ],
       "layout": {
        "annotations": [
         {
          "font": {},
          "showarrow": false,
          "text": "Algorithm=merge",
          "x": 0.23249999999999998,
          "xanchor": "center",
          "xref": "paper",
          "y": 1,
          "yanchor": "bottom",
          "yref": "paper"
         },
         {
          "font": {},
          "showarrow": false,
          "text": "Algorithm=quick",
          "x": 0.7475,
          "xanchor": "center",
          "xref": "paper",
          "y": 1,
          "yanchor": "bottom",
          "yref": "paper"
         },
         {
          "font": {},
          "showarrow": false,
          "text": "Construct=tasks",
          "textangle": 90,
          "x": 0.98,
          "xanchor": "left",
          "xref": "paper",
          "y": 0.2425,
          "yanchor": "middle",
          "yref": "paper"
         },
         {
          "font": {},
          "showarrow": false,
          "text": "Construct=sections",
          "textangle": 90,
          "x": 0.98,
          "xanchor": "left",
          "xref": "paper",
          "y": 0.7575000000000001,
          "yanchor": "middle",
          "yref": "paper"
         }
        ],
        "height": 600,
        "legend": {
         "title": {
          "text": "Threads"
         },
         "tracegroupgap": 0
        },
        "template": {
         "data": {
          "bar": [
           {
            "error_x": {
             "color": "rgb(36,36,36)"
            },
            "error_y": {
             "color": "rgb(36,36,36)"
            },
            "marker": {
             "line": {
              "color": "rgb(234,234,242)",
              "width": 0.5
             }
            },
            "type": "bar"
           }
          ],
          "barpolar": [
           {
            "marker": {
             "line": {
              "color": "rgb(234,234,242)",
              "width": 0.5
             }
            },
            "type": "barpolar"
           }
          ],
          "carpet": [
           {
            "aaxis": {
             "endlinecolor": "rgb(36,36,36)",
             "gridcolor": "white",
             "linecolor": "white",
             "minorgridcolor": "white",
             "startlinecolor": "rgb(36,36,36)"
            },
            "baxis": {
             "endlinecolor": "rgb(36,36,36)",
             "gridcolor": "white",
             "linecolor": "white",
             "minorgridcolor": "white",
             "startlinecolor": "rgb(36,36,36)"
            },
            "type": "carpet"
           }
          ],
          "choropleth": [
           {
            "colorbar": {
             "outlinewidth": 0,
             "tickcolor": "rgb(36,36,36)",
             "ticklen": 8,
             "ticks": "outside",
             "tickwidth": 2
            },
            "type": "choropleth"
           }
          ],
          "contour": [
           {
            "colorbar": {
             "outlinewidth": 0,
             "tickcolor": "rgb(36,36,36)",
             "ticklen": 8,
             "ticks": "outside",
             "tickwidth": 2
            },
            "colorscale": [
             [
              0,
              "rgb(2,4,25)"
             ],
             [
              0.06274509803921569,
              "rgb(24,15,41)"
             ],
             [
              0.12549019607843137,
              "rgb(47,23,57)"
             ],
             [
              0.18823529411764706,
              "rgb(71,28,72)"
             ],
             [
              0.25098039215686274,
              "rgb(97,30,82)"
             ],
             [
              0.3137254901960784,
              "rgb(123,30,89)"
             ],
             [
              0.3764705882352941,
              "rgb(150,27,91)"
             ],
             [
              0.4392156862745098,
              "rgb(177,22,88)"
             ],
             [
              0.5019607843137255,
              "rgb(203,26,79)"
             ],
             [
              0.5647058823529412,
              "rgb(223,47,67)"
             ],
             [
              0.6274509803921569,
              "rgb(236,76,61)"
             ],
             [
              0.6901960784313725,
              "rgb(242,107,73)"
             ],
             [
              0.7529411764705882,
              "rgb(244,135,95)"
             ],
             [
              0.8156862745098039,
              "rgb(245,162,122)"
             ],
             [
              0.8784313725490196,
              "rgb(246,188,153)"
             ],
             [
              0.9411764705882353,
              "rgb(247,212,187)"
             ],
             [
              1,
              "rgb(250,234,220)"
             ]
            ],
            "type": "contour"
           }
          ],
          "contourcarpet": [
           {
            "colorbar": {
             "outlinewidth": 0,
             "tickcolor": "rgb(36,36,36)",
             "ticklen": 8,
             "ticks": "outside",
             "tickwidth": 2
            },
            "type": "contourcarpet"
           }
          ],
          "heatmap": [
           {
            "colorbar": {
             "outlinewidth": 0,
             "tickcolor": "rgb(36,36,36)",
             "ticklen": 8,
             "ticks": "outside",
             "tickwidth": 2
            },
            "colorscale": [
             [
              0,
              "rgb(2,4,25)"
             ],
             [
              0.06274509803921569,
              "rgb(24,15,41)"
             ],
             [
              0.12549019607843137,
              "rgb(47,23,57)"
             ],
             [
              0.18823529411764706,
              "rgb(71,28,72)"
             ],
             [
              0.25098039215686274,
              "rgb(97,30,82)"
             ],
             [
              0.3137254901960784,
              "rgb(123,30,89)"
             ],
             [
              0.3764705882352941,
              "rgb(150,27,91)"
             ],
             [
              0.4392156862745098,
              "rgb(177,22,88)"
             ],
             [
              0.5019607843137255,
              "rgb(203,26,79)"
             ],
             [
              0.5647058823529412,
              "rgb(223,47,67)"
             ],
             [
              0.6274509803921569,
              "rgb(236,76,61)"
             ],
             [
              0.6901960784313725,
              "rgb(242,107,73)"
             ],
             [
              0.7529411764705882,
              "rgb(244,135,95)"
             ],
             [
              0.8156862745098039,
              "rgb(245,162,122)"
             ],
             [
              0.8784313725490196,
              "rgb(246,188,153)"
             ],
             [
              0.9411764705882353,
              "rgb(247,212,187)"
             ],
             [
              1,
              "rgb(250,234,220)"
             ]
            ],
            "type": "heatmap"
           }
          ],
          "heatmapgl": [
           {
            "colorbar": {
             "outlinewidth": 0,
             "tickcolor": "rgb(36,36,36)",
             "ticklen": 8,
             "ticks": "outside",
             "tickwidth": 2
            },
            "colorscale": [
             [
              0,
              "rgb(2,4,25)"
             ],
             [
              0.06274509803921569,
              "rgb(24,15,41)"
             ],
             [
              0.12549019607843137,
              "rgb(47,23,57)"
             ],
             [
              0.18823529411764706,
              "rgb(71,28,72)"
             ],
             [
              0.25098039215686274,
              "rgb(97,30,82)"
             ],
             [
              0.3137254901960784,
              "rgb(123,30,89)"
             ],
             [
              0.3764705882352941,
              "rgb(150,27,91)"
             ],
             [
              0.4392156862745098,
              "rgb(177,22,88)"
             ],
             [
              0.5019607843137255,
              "rgb(203,26,79)"
             ],
             [
              0.5647058823529412,
              "rgb(223,47,67)"
             ],
             [
              0.6274509803921569,
              "rgb(236,76,61)"
             ],
             [
              0.6901960784313725,
              "rgb(242,107,73)"
             ],
             [
              0.7529411764705882,
              "rgb(244,135,95)"
             ],
             [
              0.8156862745098039,
              "rgb(245,162,122)"
             ],
             [
              0.8784313725490196,
              "rgb(246,188,153)"
             ],
             [
              0.9411764705882353,
              "rgb(247,212,187)"
             ],
             [
              1,
              "rgb(250,234,220)"
             ]
            ],
            "type": "heatmapgl"
           }
          ],
          "histogram": [
           {
            "marker": {
             "colorbar": {
              "outlinewidth": 0,
              "tickcolor": "rgb(36,36,36)",
              "ticklen": 8,
              "ticks": "outside",
              "tickwidth": 2
             }
            },
            "type": "histogram"
           }
          ],
          "histogram2d": [
           {
            "colorbar": {
             "outlinewidth": 0,
             "tickcolor": "rgb(36,36,36)",
             "ticklen": 8,
             "ticks": "outside",
             "tickwidth": 2
            },
            "colorscale": [
             [
              0,
              "rgb(2,4,25)"
             ],
             [
              0.06274509803921569,
              "rgb(24,15,41)"
             ],
             [
              0.12549019607843137,
              "rgb(47,23,57)"
             ],
             [
              0.18823529411764706,
              "rgb(71,28,72)"
             ],
             [
              0.25098039215686274,
              "rgb(97,30,82)"
             ],
             [
              0.3137254901960784,
              "rgb(123,30,89)"
             ],
             [
              0.3764705882352941,
              "rgb(150,27,91)"
             ],
             [
              0.4392156862745098,
              "rgb(177,22,88)"
             ],
             [
              0.5019607843137255,
              "rgb(203,26,79)"
             ],
             [
              0.5647058823529412,
              "rgb(223,47,67)"
             ],
             [
              0.6274509803921569,
              "rgb(236,76,61)"
             ],
             [
              0.6901960784313725,
              "rgb(242,107,73)"
             ],
             [
              0.7529411764705882,
              "rgb(244,135,95)"
             ],
             [
              0.8156862745098039,
              "rgb(245,162,122)"
             ],
             [
              0.8784313725490196,
              "rgb(246,188,153)"
             ],
             [
              0.9411764705882353,
              "rgb(247,212,187)"
             ],
             [
              1,
              "rgb(250,234,220)"
             ]
            ],
            "type": "histogram2d"
           }
          ],
          "histogram2dcontour": [
           {
            "colorbar": {
             "outlinewidth": 0,
             "tickcolor": "rgb(36,36,36)",
             "ticklen": 8,
             "ticks": "outside",
             "tickwidth": 2
            },
            "colorscale": [
             [
              0,
              "rgb(2,4,25)"
             ],
             [
              0.06274509803921569,
              "rgb(24,15,41)"
             ],
             [
              0.12549019607843137,
              "rgb(47,23,57)"
             ],
             [
              0.18823529411764706,
              "rgb(71,28,72)"
             ],
             [
              0.25098039215686274,
              "rgb(97,30,82)"
             ],
             [
              0.3137254901960784,
              "rgb(123,30,89)"
             ],
             [
              0.3764705882352941,
              "rgb(150,27,91)"
             ],
             [
              0.4392156862745098,
              "rgb(177,22,88)"
             ],
             [
              0.5019607843137255,
              "rgb(203,26,79)"
             ],
             [
              0.5647058823529412,
              "rgb(223,47,67)"
             ],
             [
              0.6274509803921569,
              "rgb(236,76,61)"
             ],
             [
              0.6901960784313725,
              "rgb(242,107,73)"
             ],
             [
              0.7529411764705882,
              "rgb(244,135,95)"
             ],
             [
              0.8156862745098039,
              "rgb(245,162,122)"
             ],
             [
              0.8784313725490196,
              "rgb(246,188,153)"
             ],
             [
              0.9411764705882353,
              "rgb(247,212,187)"
             ],
             [
              1,
              "rgb(250,234,220)"
             ]
            ],
            "type": "histogram2dcontour"
           }
          ],
          "mesh3d": [
           {
            "colorbar": {
             "outlinewidth": 0,
             "tickcolor": "rgb(36,36,36)",
             "ticklen": 8,
             "ticks": "outside",
             "tickwidth": 2
            },
            "type": "mesh3d"
           }
          ],
          "parcoords": [
           {
            "line": {
             "colorbar": {
              "outlinewidth": 0,
              "tickcolor": "rgb(36,36,36)",
              "ticklen": 8,
              "ticks": "outside",
              "tickwidth": 2
             }
            },
            "type": "parcoords"
           }
          ],
          "pie": [
           {
            "automargin": true,
            "type": "pie"
           }
          ],
          "scatter": [
           {
            "marker": {
             "colorbar": {
              "outlinewidth": 0,
              "tickcolor": "rgb(36,36,36)",
              "ticklen": 8,
              "ticks": "outside",
              "tickwidth": 2
             }
            },
            "type": "scatter"
           }
          ],
          "scatter3d": [
           {
            "line": {
             "colorbar": {
              "outlinewidth": 0,
              "tickcolor": "rgb(36,36,36)",
              "ticklen": 8,
              "ticks": "outside",
              "tickwidth": 2
             }
            },
            "marker": {
             "colorbar": {
              "outlinewidth": 0,
              "tickcolor": "rgb(36,36,36)",
              "ticklen": 8,
              "ticks": "outside",
              "tickwidth": 2
             }
            },
            "type": "scatter3d"
           }
          ],
          "scattercarpet": [
           {
            "marker": {
             "colorbar": {
              "outlinewidth": 0,
              "tickcolor": "rgb(36,36,36)",
              "ticklen": 8,
              "ticks": "outside",
              "tickwidth": 2
             }
            },
            "type": "scattercarpet"
           }
          ],
          "scattergeo": [
           {
            "marker": {
             "colorbar": {
              "outlinewidth": 0,
              "tickcolor": "rgb(36,36,36)",
              "ticklen": 8,
              "ticks": "outside",
              "tickwidth": 2
             }
            },
            "type": "scattergeo"
           }
          ],
          "scattergl": [
           {
            "marker": {
             "colorbar": {
              "outlinewidth": 0,
              "tickcolor": "rgb(36,36,36)",
              "ticklen": 8,
              "ticks": "outside",
              "tickwidth": 2
             }
            },
            "type": "scattergl"
           }
          ],
          "scattermapbox": [
           {
            "marker": {
             "colorbar": {
              "outlinewidth": 0,
              "tickcolor": "rgb(36,36,36)",
              "ticklen": 8,
              "ticks": "outside",
              "tickwidth": 2
             }
            },
            "type": "scattermapbox"
           }
          ],
          "scatterpolar": [
           {
            "marker": {
             "colorbar": {
              "outlinewidth": 0,
              "tickcolor": "rgb(36,36,36)",
              "ticklen": 8,
              "ticks": "outside",
              "tickwidth": 2
             }
            },
            "type": "scatterpolar"
           }
          ],
          "scatterpolargl": [
           {
            "marker": {
             "colorbar": {
              "outlinewidth": 0,
              "tickcolor": "rgb(36,36,36)",
              "ticklen": 8,
              "ticks": "outside",
              "tickwidth": 2
             }
            },
            "type": "scatterpolargl"
           }
          ],
          "scatterternary": [
           {
            "marker": {
             "colorbar": {
              "outlinewidth": 0,
              "tickcolor": "rgb(36,36,36)",
              "ticklen": 8,
              "ticks": "outside",
              "tickwidth": 2
             }
            },
            "type": "scatterternary"
           }
          ],
          "surface": [
           {
            "colorbar": {
             "outlinewidth": 0,
             "tickcolor": "rgb(36,36,36)",
             "ticklen": 8,
             "ticks": "outside",
             "tickwidth": 2
            },
            "colorscale": [
             [
              0,
              "rgb(2,4,25)"
             ],
             [
              0.06274509803921569,
              "rgb(24,15,41)"
             ],
             [
              0.12549019607843137,
              "rgb(47,23,57)"
             ],
             [
              0.18823529411764706,
              "rgb(71,28,72)"
             ],
             [
              0.25098039215686274,
              "rgb(97,30,82)"
             ],
             [
              0.3137254901960784,
              "rgb(123,30,89)"
             ],
             [
              0.3764705882352941,
              "rgb(150,27,91)"
             ],
             [
              0.4392156862745098,
              "rgb(177,22,88)"
             ],
             [
              0.5019607843137255,
              "rgb(203,26,79)"
             ],
             [
              0.5647058823529412,
              "rgb(223,47,67)"
             ],
             [
              0.6274509803921569,
              "rgb(236,76,61)"
             ],
             [
              0.6901960784313725,
              "rgb(242,107,73)"
             ],
             [
              0.7529411764705882,
              "rgb(244,135,95)"
             ],
             [
              0.8156862745098039,
              "rgb(245,162,122)"
             ],
             [
              0.8784313725490196,
              "rgb(246,188,153)"
             ],
             [
              0.9411764705882353,
              "rgb(247,212,187)"
             ],
             [
              1,
              "rgb(250,234,220)"
             ]
            ],
            "type": "surface"
           }
          ],
          "table": [
           {
            "cells": {
             "fill": {
              "color": "rgb(231,231,240)"
             },
             "line": {
              "color": "white"
             }
            },
            "header": {
             "fill": {
              "color": "rgb(183,183,191)"
             },
             "line": {
              "color": "white"
             }
            },
            "type": "table"
           }
          ]
         },
         "layout": {
          "annotationdefaults": {
           "arrowcolor": "rgb(67,103,167)"
          },
          "autotypenumbers": "strict",
          "coloraxis": {
           "colorbar": {
            "outlinewidth": 0,
            "tickcolor": "rgb(36,36,36)",
            "ticklen": 8,
            "ticks": "outside",
            "tickwidth": 2
           }
          },
          "colorscale": {
           "sequential": [
            [
             0,
             "rgb(2,4,25)"
            ],
            [
             0.06274509803921569,
             "rgb(24,15,41)"
            ],
            [
             0.12549019607843137,
             "rgb(47,23,57)"
            ],
            [
             0.18823529411764706,
             "rgb(71,28,72)"
            ],
            [
             0.25098039215686274,
             "rgb(97,30,82)"
            ],
            [
             0.3137254901960784,
             "rgb(123,30,89)"
            ],
            [
             0.3764705882352941,
             "rgb(150,27,91)"
            ],
            [
             0.4392156862745098,
             "rgb(177,22,88)"
            ],
            [
             0.5019607843137255,
             "rgb(203,26,79)"
            ],
            [
             0.5647058823529412,
             "rgb(223,47,67)"
            ],
            [
             0.6274509803921569,
             "rgb(236,76,61)"
            ],
            [
             0.6901960784313725,
             "rgb(242,107,73)"
            ],
            [
             0.7529411764705882,
             "rgb(244,135,95)"
            ],
            [
             0.8156862745098039,
             "rgb(245,162,122)"
            ],
            [
             0.8784313725490196,
             "rgb(246,188,153)"
            ],
            [
             0.9411764705882353,
             "rgb(247,212,187)"
            ],
            [
             1,
             "rgb(250,234,220)"
            ]
           ],
           "sequentialminus": [
            [
             0,
             "rgb(2,4,25)"
            ],
            [
             0.06274509803921569,
             "rgb(24,15,41)"
            ],
            [
             0.12549019607843137,
             "rgb(47,23,57)"
            ],
            [
             0.18823529411764706,
             "rgb(71,28,72)"
            ],
            [
             0.25098039215686274,
             "rgb(97,30,82)"
            ],
            [
             0.3137254901960784,
             "rgb(123,30,89)"
            ],
            [
             0.3764705882352941,
             "rgb(150,27,91)"
            ],
            [
             0.4392156862745098,
             "rgb(177,22,88)"
            ],
            [
             0.5019607843137255,
             "rgb(203,26,79)"
            ],
            [
             0.5647058823529412,
             "rgb(223,47,67)"
            ],
            [
             0.6274509803921569,
             "rgb(236,76,61)"
            ],
            [
             0.6901960784313725,
             "rgb(242,107,73)"
            ],
            [
             0.7529411764705882,
             "rgb(244,135,95)"
            ],
            [
             0.8156862745098039,
             "rgb(245,162,122)"
            ],
            [
             0.8784313725490196,
             "rgb(246,188,153)"
            ],
            [
             0.9411764705882353,
             "rgb(247,212,187)"
            ],
            [
             1,
             "rgb(250,234,220)"
            ]
           ]
          },
          "colorway": [
           "rgb(76,114,176)",
           "rgb(221,132,82)",
           "rgb(85,168,104)",
           "rgb(196,78,82)",
           "rgb(129,114,179)",
           "rgb(147,120,96)",
           "rgb(218,139,195)",
           "rgb(140,140,140)",
           "rgb(204,185,116)",
           "rgb(100,181,205)"
          ],
          "font": {
           "color": "rgb(36,36,36)"
          },
          "geo": {
           "bgcolor": "white",
           "lakecolor": "white",
           "landcolor": "rgb(234,234,242)",
           "showlakes": true,
           "showland": true,
           "subunitcolor": "white"
          },
          "hoverlabel": {
           "align": "left"
          },
          "hovermode": "closest",
          "paper_bgcolor": "white",
          "plot_bgcolor": "rgb(234,234,242)",
          "polar": {
           "angularaxis": {
            "gridcolor": "white",
            "linecolor": "white",
            "showgrid": true,
            "ticks": ""
           },
           "bgcolor": "rgb(234,234,242)",
           "radialaxis": {
            "gridcolor": "white",
            "linecolor": "white",
            "showgrid": true,
            "ticks": ""
           }
          },
          "scene": {
           "xaxis": {
            "backgroundcolor": "rgb(234,234,242)",
            "gridcolor": "white",
            "gridwidth": 2,
            "linecolor": "white",
            "showbackground": true,
            "showgrid": true,
            "ticks": "",
            "zerolinecolor": "white"
           },
           "yaxis": {
            "backgroundcolor": "rgb(234,234,242)",
            "gridcolor": "white",
            "gridwidth": 2,
            "linecolor": "white",
            "showbackground": true,
            "showgrid": true,
            "ticks": "",
            "zerolinecolor": "white"
           },
           "zaxis": {
            "backgroundcolor": "rgb(234,234,242)",
            "gridcolor": "white",
            "gridwidth": 2,
            "linecolor": "white",
            "showbackground": true,
            "showgrid": true,
            "ticks": "",
            "zerolinecolor": "white"
           }
          },
          "shapedefaults": {
           "fillcolor": "rgb(67,103,167)",
           "line": {
            "width": 0
           },
           "opacity": 0.5
          },
          "ternary": {
           "aaxis": {
            "gridcolor": "white",
            "linecolor": "white",
            "showgrid": true,
            "ticks": ""
           },
           "baxis": {
            "gridcolor": "white",
            "linecolor": "white",
            "showgrid": true,
            "ticks": ""
           },
           "bgcolor": "rgb(234,234,242)",
           "caxis": {
            "gridcolor": "white",
            "linecolor": "white",
            "showgrid": true,
            "ticks": ""
           }
          },
          "xaxis": {
           "automargin": true,
           "gridcolor": "white",
           "linecolor": "white",
           "showgrid": true,
           "ticks": "",
           "title": {
            "standoff": 15
           },
           "zerolinecolor": "white"
          },
          "yaxis": {
           "automargin": true,
           "gridcolor": "white",
           "linecolor": "white",
           "showgrid": true,
           "ticks": "",
           "title": {
            "standoff": 15
           },
           "zerolinecolor": "white"
          }
         }
        },
        "title": {
         "text": "Algorithm Runtime Comparisons in C / OpenMP (No Hybrid Parallelism)"
        },
        "xaxis": {
         "anchor": "y",
         "domain": [
          0,
          0.46499999999999997
         ],
         "title": {
          "text": "Array Size"
         },
         "type": "log"
        },
        "xaxis2": {
         "anchor": "y2",
         "domain": [
          0.515,
          0.98
         ],
         "matches": "x",
         "title": {
          "text": "Array Size"
         },
         "type": "log"
        },
        "xaxis3": {
         "anchor": "y3",
         "domain": [
          0,
          0.46499999999999997
         ],
         "matches": "x",
         "showticklabels": false,
         "type": "log"
        },
        "xaxis4": {
         "anchor": "y4",
         "domain": [
          0.515,
          0.98
         ],
         "matches": "x",
         "showticklabels": false,
         "type": "log"
        },
        "yaxis": {
         "anchor": "x",
         "domain": [
          0,
          0.485
         ],
         "title": {
          "text": "Duration (s)"
         }
        },
        "yaxis2": {
         "anchor": "x2",
         "domain": [
          0,
          0.485
         ],
         "showticklabels": true
        },
        "yaxis3": {
         "anchor": "x3",
         "domain": [
          0.515,
          1
         ],
         "title": {
          "text": "Duration (s)"
         }
        },
        "yaxis4": {
         "anchor": "x4",
         "domain": [
          0.515,
          1
         ],
         "showticklabels": true
        }
       }
      },
      "text/html": [
       "<div>                            <div id=\"998ea285-6a24-4691-8fd0-88f79309227d\" class=\"plotly-graph-div\" style=\"height:600px; width:100%;\"></div>            <script type=\"text/javascript\">                require([\"plotly\"], function(Plotly) {                    window.PLOTLYENV=window.PLOTLYENV || {};                                    if (document.getElementById(\"998ea285-6a24-4691-8fd0-88f79309227d\")) {                    Plotly.newPlot(                        \"998ea285-6a24-4691-8fd0-88f79309227d\",                        [{\"hovertemplate\": \"Threads=1<br>Construct=sections<br>Algorithm=merge<br>Array Size=%{x}<br>Duration (s)=%{y}<extra></extra>\", \"legendgroup\": \"1\", \"line\": {\"color\": \"rgb(76,114,176)\", \"dash\": \"solid\"}, \"mode\": \"lines\", \"name\": \"1\", \"orientation\": \"v\", \"showlegend\": true, \"type\": \"scatter\", \"x\": [1000, 10000, 100000, 1000000, 10000000], \"xaxis\": \"x3\", \"y\": [0.0001462405314669013, 0.0012649175361730159, 0.016475906937072675, 0.19135471129848156, 2.147955777007155], \"yaxis\": \"y3\"}, {\"hovertemplate\": \"Threads=1<br>Construct=sections<br>Algorithm=quick<br>Array Size=%{x}<br>Duration (s)=%{y}<extra></extra>\", \"legendgroup\": \"1\", \"line\": {\"color\": \"rgb(76,114,176)\", \"dash\": \"solid\"}, \"mode\": \"lines\", \"name\": \"1\", \"orientation\": \"v\", \"showlegend\": false, \"type\": \"scatter\", \"x\": [1000, 10000, 100000, 1000000, 10000000], \"xaxis\": \"x4\", \"y\": [0.00013859486401391526, 0.001344819136041527, 0.018164746866871914, 0.20887709830130916, 2.428922178404173], \"yaxis\": \"y4\"}, {\"hovertemplate\": \"Threads=1<br>Construct=tasks<br>Algorithm=merge<br>Array Size=%{x}<br>Duration (s)=%{y}<extra></extra>\", \"legendgroup\": \"1\", \"line\": {\"color\": \"rgb(76,114,176)\", \"dash\": \"solid\"}, \"mode\": \"lines\", \"name\": \"1\", \"orientation\": \"v\", \"showlegend\": false, \"type\": \"scatter\", \"x\": [1000, 10000, 100000, 1000000, 10000000], \"xaxis\": \"x\", \"y\": [0.0001462405314669013, 0.0012649175361730159, 0.016475906937072675, 0.19135471129848156, 2.147955777007155], \"yaxis\": \"y\"}, {\"hovertemplate\": \"Threads=1<br>Construct=tasks<br>Algorithm=quick<br>Array Size=%{x}<br>Duration (s)=%{y}<extra></extra>\", \"legendgroup\": \"1\", \"line\": {\"color\": \"rgb(76,114,176)\", \"dash\": \"solid\"}, \"mode\": \"lines\", \"name\": \"1\", \"orientation\": \"v\", \"showlegend\": false, \"type\": \"scatter\", \"x\": [1000, 10000, 100000, 1000000, 10000000], \"xaxis\": \"x2\", \"y\": [0.00013859486401391526, 0.001344819136041527, 0.018164746866871914, 0.20887709830130916, 2.428922178404173], \"yaxis\": \"y2\"}, {\"hovertemplate\": \"Threads=2<br>Construct=sections<br>Algorithm=merge<br>Array Size=%{x}<br>Duration (s)=%{y}<extra></extra>\", \"legendgroup\": \"2\", \"line\": {\"color\": \"rgb(221,132,82)\", \"dash\": \"solid\"}, \"mode\": \"lines\", \"name\": \"2\", \"orientation\": \"v\", \"showlegend\": true, \"type\": \"scatter\", \"x\": [1000, 10000, 100000, 1000000, 10000000], \"xaxis\": \"x3\", \"y\": [0.0003368529995592932, 0.0028323903990288574, 0.03499864059655617, 0.29417079049453604, 2.9453364249959124], \"yaxis\": \"y3\"}, {\"hovertemplate\": \"Threads=2<br>Construct=sections<br>Algorithm=quick<br>Array Size=%{x}<br>Duration (s)=%{y}<extra></extra>\", \"legendgroup\": \"2\", \"line\": {\"color\": \"rgb(221,132,82)\", \"dash\": \"solid\"}, \"mode\": \"lines\", \"name\": \"2\", \"orientation\": \"v\", \"showlegend\": false, \"type\": \"scatter\", \"x\": [1000, 10000, 100000, 1000000, 10000000], \"xaxis\": \"x4\", \"y\": [0.0002761800695831577, 0.002833901799749583, 0.030186157597927376, 0.2845078221958829, 2.619619078998221], \"yaxis\": \"y4\"}, {\"hovertemplate\": \"Threads=2<br>Construct=tasks<br>Algorithm=merge<br>Array Size=%{x}<br>Duration (s)=%{y}<extra></extra>\", \"legendgroup\": \"2\", \"line\": {\"color\": \"rgb(221,132,82)\", \"dash\": \"solid\"}, \"mode\": \"lines\", \"name\": \"2\", \"orientation\": \"v\", \"showlegend\": false, \"type\": \"scatter\", \"x\": [1000, 10000, 100000, 1000000, 10000000], \"xaxis\": \"x\", \"y\": [0.0011630331360114117, 0.009463079675333575, 0.07677836006623692, 0.7669537014997332, 7.338096018007491], \"yaxis\": \"y\"}, {\"hovertemplate\": \"Threads=2<br>Construct=tasks<br>Algorithm=quick<br>Array Size=%{x}<br>Duration (s)=%{y}<extra></extra>\", \"legendgroup\": \"2\", \"line\": {\"color\": \"rgb(221,132,82)\", \"dash\": \"solid\"}, \"mode\": \"lines\", \"name\": \"2\", \"orientation\": \"v\", \"showlegend\": false, \"type\": \"scatter\", \"x\": [1000, 10000, 100000, 1000000, 10000000], \"xaxis\": \"x2\", \"y\": [0.0013652878037343423, 0.0027189785963855685, 0.014549559133592993, 0.14155828000511975, 1.407738634000998], \"yaxis\": \"y2\"}, {\"hovertemplate\": \"Threads=4<br>Construct=sections<br>Algorithm=merge<br>Array Size=%{x}<br>Duration (s)=%{y}<extra></extra>\", \"legendgroup\": \"4\", \"line\": {\"color\": \"rgb(85,168,104)\", \"dash\": \"solid\"}, \"mode\": \"lines\", \"name\": \"4\", \"orientation\": \"v\", \"showlegend\": true, \"type\": \"scatter\", \"x\": [1000, 10000, 100000, 1000000, 10000000], \"xaxis\": \"x3\", \"y\": [0.00028179839719086883, 0.0031640631282546868, 0.0335756976021609, 0.2784089278051397, 2.91710635079653], \"yaxis\": \"y3\"}, {\"hovertemplate\": \"Threads=4<br>Construct=sections<br>Algorithm=quick<br>Array Size=%{x}<br>Duration (s)=%{y}<extra></extra>\", \"legendgroup\": \"4\", \"line\": {\"color\": \"rgb(85,168,104)\", \"dash\": \"solid\"}, \"mode\": \"lines\", \"name\": \"4\", \"orientation\": \"v\", \"showlegend\": false, \"type\": \"scatter\", \"x\": [1000, 10000, 100000, 1000000, 10000000], \"xaxis\": \"x4\", \"y\": [0.0002792287307480971, 0.0033848383366906396, 0.029362290339001142, 0.267123815199011, 2.4414325110032222], \"yaxis\": \"y4\"}, {\"hovertemplate\": \"Threads=4<br>Construct=tasks<br>Algorithm=merge<br>Array Size=%{x}<br>Duration (s)=%{y}<extra></extra>\", \"legendgroup\": \"4\", \"line\": {\"color\": \"rgb(85,168,104)\", \"dash\": \"solid\"}, \"mode\": \"lines\", \"name\": \"4\", \"orientation\": \"v\", \"showlegend\": false, \"type\": \"scatter\", \"x\": [1000, 10000, 100000, 1000000, 10000000], \"xaxis\": \"x\", \"y\": [0.0021171180706005543, 0.01948679253497782, 0.19198955546792906, 1.7536999804957305, 17.65285247119609], \"yaxis\": \"y\"}, {\"hovertemplate\": \"Threads=4<br>Construct=tasks<br>Algorithm=quick<br>Array Size=%{x}<br>Duration (s)=%{y}<extra></extra>\", \"legendgroup\": \"4\", \"line\": {\"color\": \"rgb(85,168,104)\", \"dash\": \"solid\"}, \"mode\": \"lines\", \"name\": \"4\", \"orientation\": \"v\", \"showlegend\": false, \"type\": \"scatter\", \"x\": [1000, 10000, 100000, 1000000, 10000000], \"xaxis\": \"x2\", \"y\": [0.0018706721350705872, 0.0051296259295971446, 0.01288489713333547, 0.08128542789490893, 0.8095229675993323], \"yaxis\": \"y2\"}, {\"hovertemplate\": \"Threads=8<br>Construct=sections<br>Algorithm=merge<br>Array Size=%{x}<br>Duration (s)=%{y}<extra></extra>\", \"legendgroup\": \"8\", \"line\": {\"color\": \"rgb(196,78,82)\", \"dash\": \"solid\"}, \"mode\": \"lines\", \"name\": \"8\", \"orientation\": \"v\", \"showlegend\": true, \"type\": \"scatter\", \"x\": [1000, 10000, 100000, 1000000, 10000000], \"xaxis\": \"x3\", \"y\": [0.00029891520001304646, 0.0029698226038211337, 0.03151128292859842, 0.29650819780363236, 2.9961567465972623], \"yaxis\": \"y3\"}, {\"hovertemplate\": \"Threads=8<br>Construct=sections<br>Algorithm=quick<br>Array Size=%{x}<br>Duration (s)=%{y}<extra></extra>\", \"legendgroup\": \"8\", \"line\": {\"color\": \"rgb(196,78,82)\", \"dash\": \"solid\"}, \"mode\": \"lines\", \"name\": \"8\", \"orientation\": \"v\", \"showlegend\": false, \"type\": \"scatter\", \"x\": [1000, 10000, 100000, 1000000, 10000000], \"xaxis\": \"x4\", \"y\": [0.00025024606729857625, 0.0031203738045102606, 0.02692383766019096, 0.2808009555010358, 2.332812703604577], \"yaxis\": \"y4\"}, {\"hovertemplate\": \"Threads=8<br>Construct=tasks<br>Algorithm=merge<br>Array Size=%{x}<br>Duration (s)=%{y}<extra></extra>\", \"legendgroup\": \"8\", \"line\": {\"color\": \"rgb(196,78,82)\", \"dash\": \"solid\"}, \"mode\": \"lines\", \"name\": \"8\", \"orientation\": \"v\", \"showlegend\": false, \"type\": \"scatter\", \"x\": [1000, 10000, 100000, 1000000, 10000000], \"xaxis\": \"x\", \"y\": [0.0025394329975824805, 0.02561531699805831, 0.26087964659673163, 2.4345646803994896, 24.320427292597014], \"yaxis\": \"y\"}, {\"hovertemplate\": \"Threads=8<br>Construct=tasks<br>Algorithm=quick<br>Array Size=%{x}<br>Duration (s)=%{y}<extra></extra>\", \"legendgroup\": \"8\", \"line\": {\"color\": \"rgb(196,78,82)\", \"dash\": \"solid\"}, \"mode\": \"lines\", \"name\": \"8\", \"orientation\": \"v\", \"showlegend\": false, \"type\": \"scatter\", \"x\": [1000, 10000, 100000, 1000000, 10000000], \"xaxis\": \"x2\", \"y\": [0.0019821433951923003, 0.01059100946295075, 0.021798258600756525, 0.08839220739901066, 0.594404127803864], \"yaxis\": \"y2\"}, {\"hovertemplate\": \"Threads=16<br>Construct=sections<br>Algorithm=merge<br>Array Size=%{x}<br>Duration (s)=%{y}<extra></extra>\", \"legendgroup\": \"16\", \"line\": {\"color\": \"rgb(129,114,179)\", \"dash\": \"solid\"}, \"mode\": \"lines\", \"name\": \"16\", \"orientation\": \"v\", \"showlegend\": true, \"type\": \"scatter\", \"x\": [1000, 10000, 100000, 1000000, 10000000], \"xaxis\": \"x3\", \"y\": [0.00038373192655853926, 0.0043908813347419105, 0.032234028404733786, 0.29812288689718114, 2.8974645622016397], \"yaxis\": \"y3\"}, {\"hovertemplate\": \"Threads=16<br>Construct=sections<br>Algorithm=quick<br>Array Size=%{x}<br>Duration (s)=%{y}<extra></extra>\", \"legendgroup\": \"16\", \"line\": {\"color\": \"rgb(129,114,179)\", \"dash\": \"solid\"}, \"mode\": \"lines\", \"name\": \"16\", \"orientation\": \"v\", \"showlegend\": false, \"type\": \"scatter\", \"x\": [1000, 10000, 100000, 1000000, 10000000], \"xaxis\": \"x4\", \"y\": [0.00041095953395900626, 0.004217134062976887, 0.02969560560110646, 0.2673472590046003, 2.3943333806120792], \"yaxis\": \"y4\"}, {\"hovertemplate\": \"Threads=16<br>Construct=tasks<br>Algorithm=merge<br>Array Size=%{x}<br>Duration (s)=%{y}<extra></extra>\", \"legendgroup\": \"16\", \"line\": {\"color\": \"rgb(129,114,179)\", \"dash\": \"solid\"}, \"mode\": \"lines\", \"name\": \"16\", \"orientation\": \"v\", \"showlegend\": false, \"type\": \"scatter\", \"x\": [1000, 10000, 100000, 1000000, 10000000], \"xaxis\": \"x\", \"y\": [0.0033896587983084222, 0.03317649413559896, 0.3406407218678699, 3.221817659304361, 32.56223616580246], \"yaxis\": \"y\"}, {\"hovertemplate\": \"Threads=16<br>Construct=tasks<br>Algorithm=quick<br>Array Size=%{x}<br>Duration (s)=%{y}<extra></extra>\", \"legendgroup\": \"16\", \"line\": {\"color\": \"rgb(129,114,179)\", \"dash\": \"solid\"}, \"mode\": \"lines\", \"name\": \"16\", \"orientation\": \"v\", \"showlegend\": false, \"type\": \"scatter\", \"x\": [1000, 10000, 100000, 1000000, 10000000], \"xaxis\": \"x2\", \"y\": [0.002578350802650675, 0.023109584868264695, 0.043480285730523364, 0.11934058519254905, 0.7526767737988849], \"yaxis\": \"y2\"}],                        {\"annotations\": [{\"font\": {}, \"showarrow\": false, \"text\": \"Algorithm=merge\", \"x\": 0.23249999999999998, \"xanchor\": \"center\", \"xref\": \"paper\", \"y\": 1.0, \"yanchor\": \"bottom\", \"yref\": \"paper\"}, {\"font\": {}, \"showarrow\": false, \"text\": \"Algorithm=quick\", \"x\": 0.7475, \"xanchor\": \"center\", \"xref\": \"paper\", \"y\": 1.0, \"yanchor\": \"bottom\", \"yref\": \"paper\"}, {\"font\": {}, \"showarrow\": false, \"text\": \"Construct=tasks\", \"textangle\": 90, \"x\": 0.98, \"xanchor\": \"left\", \"xref\": \"paper\", \"y\": 0.2425, \"yanchor\": \"middle\", \"yref\": \"paper\"}, {\"font\": {}, \"showarrow\": false, \"text\": \"Construct=sections\", \"textangle\": 90, \"x\": 0.98, \"xanchor\": \"left\", \"xref\": \"paper\", \"y\": 0.7575000000000001, \"yanchor\": \"middle\", \"yref\": \"paper\"}], \"height\": 600, \"legend\": {\"title\": {\"text\": \"Threads\"}, \"tracegroupgap\": 0}, \"template\": {\"data\": {\"bar\": [{\"error_x\": {\"color\": \"rgb(36,36,36)\"}, \"error_y\": {\"color\": \"rgb(36,36,36)\"}, \"marker\": {\"line\": {\"color\": \"rgb(234,234,242)\", \"width\": 0.5}}, \"type\": \"bar\"}], \"barpolar\": [{\"marker\": {\"line\": {\"color\": \"rgb(234,234,242)\", \"width\": 0.5}}, \"type\": \"barpolar\"}], \"carpet\": [{\"aaxis\": {\"endlinecolor\": \"rgb(36,36,36)\", \"gridcolor\": \"white\", \"linecolor\": \"white\", \"minorgridcolor\": \"white\", \"startlinecolor\": \"rgb(36,36,36)\"}, \"baxis\": {\"endlinecolor\": \"rgb(36,36,36)\", \"gridcolor\": \"white\", \"linecolor\": \"white\", \"minorgridcolor\": \"white\", \"startlinecolor\": \"rgb(36,36,36)\"}, \"type\": \"carpet\"}], \"choropleth\": [{\"colorbar\": {\"outlinewidth\": 0, \"tickcolor\": \"rgb(36,36,36)\", \"ticklen\": 8, \"ticks\": \"outside\", \"tickwidth\": 2}, \"type\": \"choropleth\"}], \"contour\": [{\"colorbar\": {\"outlinewidth\": 0, \"tickcolor\": \"rgb(36,36,36)\", \"ticklen\": 8, \"ticks\": \"outside\", \"tickwidth\": 2}, \"colorscale\": [[0.0, \"rgb(2,4,25)\"], [0.06274509803921569, \"rgb(24,15,41)\"], [0.12549019607843137, \"rgb(47,23,57)\"], [0.18823529411764706, \"rgb(71,28,72)\"], [0.25098039215686274, \"rgb(97,30,82)\"], [0.3137254901960784, \"rgb(123,30,89)\"], [0.3764705882352941, \"rgb(150,27,91)\"], [0.4392156862745098, \"rgb(177,22,88)\"], [0.5019607843137255, \"rgb(203,26,79)\"], [0.5647058823529412, \"rgb(223,47,67)\"], [0.6274509803921569, \"rgb(236,76,61)\"], [0.6901960784313725, \"rgb(242,107,73)\"], [0.7529411764705882, \"rgb(244,135,95)\"], [0.8156862745098039, \"rgb(245,162,122)\"], [0.8784313725490196, \"rgb(246,188,153)\"], [0.9411764705882353, \"rgb(247,212,187)\"], [1.0, \"rgb(250,234,220)\"]], \"type\": \"contour\"}], \"contourcarpet\": [{\"colorbar\": {\"outlinewidth\": 0, \"tickcolor\": \"rgb(36,36,36)\", \"ticklen\": 8, \"ticks\": \"outside\", \"tickwidth\": 2}, \"type\": \"contourcarpet\"}], \"heatmap\": [{\"colorbar\": {\"outlinewidth\": 0, \"tickcolor\": \"rgb(36,36,36)\", \"ticklen\": 8, \"ticks\": \"outside\", \"tickwidth\": 2}, \"colorscale\": [[0.0, \"rgb(2,4,25)\"], [0.06274509803921569, \"rgb(24,15,41)\"], [0.12549019607843137, \"rgb(47,23,57)\"], [0.18823529411764706, \"rgb(71,28,72)\"], [0.25098039215686274, \"rgb(97,30,82)\"], [0.3137254901960784, \"rgb(123,30,89)\"], [0.3764705882352941, \"rgb(150,27,91)\"], [0.4392156862745098, \"rgb(177,22,88)\"], [0.5019607843137255, \"rgb(203,26,79)\"], [0.5647058823529412, \"rgb(223,47,67)\"], [0.6274509803921569, \"rgb(236,76,61)\"], [0.6901960784313725, \"rgb(242,107,73)\"], [0.7529411764705882, \"rgb(244,135,95)\"], [0.8156862745098039, \"rgb(245,162,122)\"], [0.8784313725490196, \"rgb(246,188,153)\"], [0.9411764705882353, \"rgb(247,212,187)\"], [1.0, \"rgb(250,234,220)\"]], \"type\": \"heatmap\"}], \"heatmapgl\": [{\"colorbar\": {\"outlinewidth\": 0, \"tickcolor\": \"rgb(36,36,36)\", \"ticklen\": 8, \"ticks\": \"outside\", \"tickwidth\": 2}, \"colorscale\": [[0.0, \"rgb(2,4,25)\"], [0.06274509803921569, \"rgb(24,15,41)\"], [0.12549019607843137, \"rgb(47,23,57)\"], [0.18823529411764706, \"rgb(71,28,72)\"], [0.25098039215686274, \"rgb(97,30,82)\"], [0.3137254901960784, \"rgb(123,30,89)\"], [0.3764705882352941, \"rgb(150,27,91)\"], [0.4392156862745098, \"rgb(177,22,88)\"], [0.5019607843137255, \"rgb(203,26,79)\"], [0.5647058823529412, \"rgb(223,47,67)\"], [0.6274509803921569, \"rgb(236,76,61)\"], [0.6901960784313725, \"rgb(242,107,73)\"], [0.7529411764705882, \"rgb(244,135,95)\"], [0.8156862745098039, \"rgb(245,162,122)\"], [0.8784313725490196, \"rgb(246,188,153)\"], [0.9411764705882353, \"rgb(247,212,187)\"], [1.0, \"rgb(250,234,220)\"]], \"type\": \"heatmapgl\"}], \"histogram\": [{\"marker\": {\"colorbar\": {\"outlinewidth\": 0, \"tickcolor\": \"rgb(36,36,36)\", \"ticklen\": 8, \"ticks\": \"outside\", \"tickwidth\": 2}}, \"type\": \"histogram\"}], \"histogram2d\": [{\"colorbar\": {\"outlinewidth\": 0, \"tickcolor\": \"rgb(36,36,36)\", \"ticklen\": 8, \"ticks\": \"outside\", \"tickwidth\": 2}, \"colorscale\": [[0.0, \"rgb(2,4,25)\"], [0.06274509803921569, \"rgb(24,15,41)\"], [0.12549019607843137, \"rgb(47,23,57)\"], [0.18823529411764706, \"rgb(71,28,72)\"], [0.25098039215686274, \"rgb(97,30,82)\"], [0.3137254901960784, \"rgb(123,30,89)\"], [0.3764705882352941, \"rgb(150,27,91)\"], [0.4392156862745098, \"rgb(177,22,88)\"], [0.5019607843137255, \"rgb(203,26,79)\"], [0.5647058823529412, \"rgb(223,47,67)\"], [0.6274509803921569, \"rgb(236,76,61)\"], [0.6901960784313725, \"rgb(242,107,73)\"], [0.7529411764705882, \"rgb(244,135,95)\"], [0.8156862745098039, \"rgb(245,162,122)\"], [0.8784313725490196, \"rgb(246,188,153)\"], [0.9411764705882353, \"rgb(247,212,187)\"], [1.0, \"rgb(250,234,220)\"]], \"type\": \"histogram2d\"}], \"histogram2dcontour\": [{\"colorbar\": {\"outlinewidth\": 0, \"tickcolor\": \"rgb(36,36,36)\", \"ticklen\": 8, \"ticks\": \"outside\", \"tickwidth\": 2}, \"colorscale\": [[0.0, \"rgb(2,4,25)\"], [0.06274509803921569, \"rgb(24,15,41)\"], [0.12549019607843137, \"rgb(47,23,57)\"], [0.18823529411764706, \"rgb(71,28,72)\"], [0.25098039215686274, \"rgb(97,30,82)\"], [0.3137254901960784, \"rgb(123,30,89)\"], [0.3764705882352941, \"rgb(150,27,91)\"], [0.4392156862745098, \"rgb(177,22,88)\"], [0.5019607843137255, \"rgb(203,26,79)\"], [0.5647058823529412, \"rgb(223,47,67)\"], [0.6274509803921569, \"rgb(236,76,61)\"], [0.6901960784313725, \"rgb(242,107,73)\"], [0.7529411764705882, \"rgb(244,135,95)\"], [0.8156862745098039, \"rgb(245,162,122)\"], [0.8784313725490196, \"rgb(246,188,153)\"], [0.9411764705882353, \"rgb(247,212,187)\"], [1.0, \"rgb(250,234,220)\"]], \"type\": \"histogram2dcontour\"}], \"mesh3d\": [{\"colorbar\": {\"outlinewidth\": 0, \"tickcolor\": \"rgb(36,36,36)\", \"ticklen\": 8, \"ticks\": \"outside\", \"tickwidth\": 2}, \"type\": \"mesh3d\"}], \"parcoords\": [{\"line\": {\"colorbar\": {\"outlinewidth\": 0, \"tickcolor\": \"rgb(36,36,36)\", \"ticklen\": 8, \"ticks\": \"outside\", \"tickwidth\": 2}}, \"type\": \"parcoords\"}], \"pie\": [{\"automargin\": true, \"type\": \"pie\"}], \"scatter\": [{\"marker\": {\"colorbar\": {\"outlinewidth\": 0, \"tickcolor\": \"rgb(36,36,36)\", \"ticklen\": 8, \"ticks\": \"outside\", \"tickwidth\": 2}}, \"type\": \"scatter\"}], \"scatter3d\": [{\"line\": {\"colorbar\": {\"outlinewidth\": 0, \"tickcolor\": \"rgb(36,36,36)\", \"ticklen\": 8, \"ticks\": \"outside\", \"tickwidth\": 2}}, \"marker\": {\"colorbar\": {\"outlinewidth\": 0, \"tickcolor\": \"rgb(36,36,36)\", \"ticklen\": 8, \"ticks\": \"outside\", \"tickwidth\": 2}}, \"type\": \"scatter3d\"}], \"scattercarpet\": [{\"marker\": {\"colorbar\": {\"outlinewidth\": 0, \"tickcolor\": \"rgb(36,36,36)\", \"ticklen\": 8, \"ticks\": \"outside\", \"tickwidth\": 2}}, \"type\": \"scattercarpet\"}], \"scattergeo\": [{\"marker\": {\"colorbar\": {\"outlinewidth\": 0, \"tickcolor\": \"rgb(36,36,36)\", \"ticklen\": 8, \"ticks\": \"outside\", \"tickwidth\": 2}}, \"type\": \"scattergeo\"}], \"scattergl\": [{\"marker\": {\"colorbar\": {\"outlinewidth\": 0, \"tickcolor\": \"rgb(36,36,36)\", \"ticklen\": 8, \"ticks\": \"outside\", \"tickwidth\": 2}}, \"type\": \"scattergl\"}], \"scattermapbox\": [{\"marker\": {\"colorbar\": {\"outlinewidth\": 0, \"tickcolor\": \"rgb(36,36,36)\", \"ticklen\": 8, \"ticks\": \"outside\", \"tickwidth\": 2}}, \"type\": \"scattermapbox\"}], \"scatterpolar\": [{\"marker\": {\"colorbar\": {\"outlinewidth\": 0, \"tickcolor\": \"rgb(36,36,36)\", \"ticklen\": 8, \"ticks\": \"outside\", \"tickwidth\": 2}}, \"type\": \"scatterpolar\"}], \"scatterpolargl\": [{\"marker\": {\"colorbar\": {\"outlinewidth\": 0, \"tickcolor\": \"rgb(36,36,36)\", \"ticklen\": 8, \"ticks\": \"outside\", \"tickwidth\": 2}}, \"type\": \"scatterpolargl\"}], \"scatterternary\": [{\"marker\": {\"colorbar\": {\"outlinewidth\": 0, \"tickcolor\": \"rgb(36,36,36)\", \"ticklen\": 8, \"ticks\": \"outside\", \"tickwidth\": 2}}, \"type\": \"scatterternary\"}], \"surface\": [{\"colorbar\": {\"outlinewidth\": 0, \"tickcolor\": \"rgb(36,36,36)\", \"ticklen\": 8, \"ticks\": \"outside\", \"tickwidth\": 2}, \"colorscale\": [[0.0, \"rgb(2,4,25)\"], [0.06274509803921569, \"rgb(24,15,41)\"], [0.12549019607843137, \"rgb(47,23,57)\"], [0.18823529411764706, \"rgb(71,28,72)\"], [0.25098039215686274, \"rgb(97,30,82)\"], [0.3137254901960784, \"rgb(123,30,89)\"], [0.3764705882352941, \"rgb(150,27,91)\"], [0.4392156862745098, \"rgb(177,22,88)\"], [0.5019607843137255, \"rgb(203,26,79)\"], [0.5647058823529412, \"rgb(223,47,67)\"], [0.6274509803921569, \"rgb(236,76,61)\"], [0.6901960784313725, \"rgb(242,107,73)\"], [0.7529411764705882, \"rgb(244,135,95)\"], [0.8156862745098039, \"rgb(245,162,122)\"], [0.8784313725490196, \"rgb(246,188,153)\"], [0.9411764705882353, \"rgb(247,212,187)\"], [1.0, \"rgb(250,234,220)\"]], \"type\": \"surface\"}], \"table\": [{\"cells\": {\"fill\": {\"color\": \"rgb(231,231,240)\"}, \"line\": {\"color\": \"white\"}}, \"header\": {\"fill\": {\"color\": \"rgb(183,183,191)\"}, \"line\": {\"color\": \"white\"}}, \"type\": \"table\"}]}, \"layout\": {\"annotationdefaults\": {\"arrowcolor\": \"rgb(67,103,167)\"}, \"autotypenumbers\": \"strict\", \"coloraxis\": {\"colorbar\": {\"outlinewidth\": 0, \"tickcolor\": \"rgb(36,36,36)\", \"ticklen\": 8, \"ticks\": \"outside\", \"tickwidth\": 2}}, \"colorscale\": {\"sequential\": [[0.0, \"rgb(2,4,25)\"], [0.06274509803921569, \"rgb(24,15,41)\"], [0.12549019607843137, \"rgb(47,23,57)\"], [0.18823529411764706, \"rgb(71,28,72)\"], [0.25098039215686274, \"rgb(97,30,82)\"], [0.3137254901960784, \"rgb(123,30,89)\"], [0.3764705882352941, \"rgb(150,27,91)\"], [0.4392156862745098, \"rgb(177,22,88)\"], [0.5019607843137255, \"rgb(203,26,79)\"], [0.5647058823529412, \"rgb(223,47,67)\"], [0.6274509803921569, \"rgb(236,76,61)\"], [0.6901960784313725, \"rgb(242,107,73)\"], [0.7529411764705882, \"rgb(244,135,95)\"], [0.8156862745098039, \"rgb(245,162,122)\"], [0.8784313725490196, \"rgb(246,188,153)\"], [0.9411764705882353, \"rgb(247,212,187)\"], [1.0, \"rgb(250,234,220)\"]], \"sequentialminus\": [[0.0, \"rgb(2,4,25)\"], [0.06274509803921569, \"rgb(24,15,41)\"], [0.12549019607843137, \"rgb(47,23,57)\"], [0.18823529411764706, \"rgb(71,28,72)\"], [0.25098039215686274, \"rgb(97,30,82)\"], [0.3137254901960784, \"rgb(123,30,89)\"], [0.3764705882352941, \"rgb(150,27,91)\"], [0.4392156862745098, \"rgb(177,22,88)\"], [0.5019607843137255, \"rgb(203,26,79)\"], [0.5647058823529412, \"rgb(223,47,67)\"], [0.6274509803921569, \"rgb(236,76,61)\"], [0.6901960784313725, \"rgb(242,107,73)\"], [0.7529411764705882, \"rgb(244,135,95)\"], [0.8156862745098039, \"rgb(245,162,122)\"], [0.8784313725490196, \"rgb(246,188,153)\"], [0.9411764705882353, \"rgb(247,212,187)\"], [1.0, \"rgb(250,234,220)\"]]}, \"colorway\": [\"rgb(76,114,176)\", \"rgb(221,132,82)\", \"rgb(85,168,104)\", \"rgb(196,78,82)\", \"rgb(129,114,179)\", \"rgb(147,120,96)\", \"rgb(218,139,195)\", \"rgb(140,140,140)\", \"rgb(204,185,116)\", \"rgb(100,181,205)\"], \"font\": {\"color\": \"rgb(36,36,36)\"}, \"geo\": {\"bgcolor\": \"white\", \"lakecolor\": \"white\", \"landcolor\": \"rgb(234,234,242)\", \"showlakes\": true, \"showland\": true, \"subunitcolor\": \"white\"}, \"hoverlabel\": {\"align\": \"left\"}, \"hovermode\": \"closest\", \"paper_bgcolor\": \"white\", \"plot_bgcolor\": \"rgb(234,234,242)\", \"polar\": {\"angularaxis\": {\"gridcolor\": \"white\", \"linecolor\": \"white\", \"showgrid\": true, \"ticks\": \"\"}, \"bgcolor\": \"rgb(234,234,242)\", \"radialaxis\": {\"gridcolor\": \"white\", \"linecolor\": \"white\", \"showgrid\": true, \"ticks\": \"\"}}, \"scene\": {\"xaxis\": {\"backgroundcolor\": \"rgb(234,234,242)\", \"gridcolor\": \"white\", \"gridwidth\": 2, \"linecolor\": \"white\", \"showbackground\": true, \"showgrid\": true, \"ticks\": \"\", \"zerolinecolor\": \"white\"}, \"yaxis\": {\"backgroundcolor\": \"rgb(234,234,242)\", \"gridcolor\": \"white\", \"gridwidth\": 2, \"linecolor\": \"white\", \"showbackground\": true, \"showgrid\": true, \"ticks\": \"\", \"zerolinecolor\": \"white\"}, \"zaxis\": {\"backgroundcolor\": \"rgb(234,234,242)\", \"gridcolor\": \"white\", \"gridwidth\": 2, \"linecolor\": \"white\", \"showbackground\": true, \"showgrid\": true, \"ticks\": \"\", \"zerolinecolor\": \"white\"}}, \"shapedefaults\": {\"fillcolor\": \"rgb(67,103,167)\", \"line\": {\"width\": 0}, \"opacity\": 0.5}, \"ternary\": {\"aaxis\": {\"gridcolor\": \"white\", \"linecolor\": \"white\", \"showgrid\": true, \"ticks\": \"\"}, \"baxis\": {\"gridcolor\": \"white\", \"linecolor\": \"white\", \"showgrid\": true, \"ticks\": \"\"}, \"bgcolor\": \"rgb(234,234,242)\", \"caxis\": {\"gridcolor\": \"white\", \"linecolor\": \"white\", \"showgrid\": true, \"ticks\": \"\"}}, \"xaxis\": {\"automargin\": true, \"gridcolor\": \"white\", \"linecolor\": \"white\", \"showgrid\": true, \"ticks\": \"\", \"title\": {\"standoff\": 15}, \"zerolinecolor\": \"white\"}, \"yaxis\": {\"automargin\": true, \"gridcolor\": \"white\", \"linecolor\": \"white\", \"showgrid\": true, \"ticks\": \"\", \"title\": {\"standoff\": 15}, \"zerolinecolor\": \"white\"}}}, \"title\": {\"text\": \"Algorithm Runtime Comparisons in C / OpenMP (No Hybrid Parallelism)\"}, \"xaxis\": {\"anchor\": \"y\", \"domain\": [0.0, 0.46499999999999997], \"title\": {\"text\": \"Array Size\"}, \"type\": \"log\"}, \"xaxis2\": {\"anchor\": \"y2\", \"domain\": [0.515, 0.98], \"matches\": \"x\", \"title\": {\"text\": \"Array Size\"}, \"type\": \"log\"}, \"xaxis3\": {\"anchor\": \"y3\", \"domain\": [0.0, 0.46499999999999997], \"matches\": \"x\", \"showticklabels\": false, \"type\": \"log\"}, \"xaxis4\": {\"anchor\": \"y4\", \"domain\": [0.515, 0.98], \"matches\": \"x\", \"showticklabels\": false, \"type\": \"log\"}, \"yaxis\": {\"anchor\": \"x\", \"domain\": [0.0, 0.485], \"title\": {\"text\": \"Duration (s)\"}}, \"yaxis2\": {\"anchor\": \"x2\", \"domain\": [0.0, 0.485], \"showticklabels\": true}, \"yaxis3\": {\"anchor\": \"x3\", \"domain\": [0.515, 1.0], \"title\": {\"text\": \"Duration (s)\"}}, \"yaxis4\": {\"anchor\": \"x4\", \"domain\": [0.515, 1.0], \"showticklabels\": true}},                        {\"responsive\": true}                    ).then(function(){\n",
       "                            \n",
       "var gd = document.getElementById('998ea285-6a24-4691-8fd0-88f79309227d');\n",
       "var x = new MutationObserver(function (mutations, observer) {{\n",
       "        var display = window.getComputedStyle(gd).display;\n",
       "        if (!display || display === 'none') {{\n",
       "            console.log([gd, 'removed!']);\n",
       "            Plotly.purge(gd);\n",
       "            observer.disconnect();\n",
       "        }}\n",
       "}});\n",
       "\n",
       "// Listen for the removal of the full notebook cells\n",
       "var notebookContainer = gd.closest('#notebook-container');\n",
       "if (notebookContainer) {{\n",
       "    x.observe(notebookContainer, {childList: true});\n",
       "}}\n",
       "\n",
       "// Listen for the clearing of the current output cell\n",
       "var outputEl = gd.closest('.output');\n",
       "if (outputEl) {{\n",
       "    x.observe(outputEl, {childList: true});\n",
       "}}\n",
       "\n",
       "                        })                };                });            </script>        </div>"
      ]
     },
     "metadata": {},
     "output_type": "display_data"
    }
   ],
   "source": [
    "fig = px.line(\n",
    "    df,\n",
    "    x='Size', y='Duration', color='Threads',\n",
    "    facet_col='Algorithm', facet_col_wrap=2,\n",
    "    facet_col_spacing=0.05,\n",
    "    facet_row='Construct',\n",
    "    template='seaborn',\n",
    "    log_x=True,\n",
    "#     log_y=True,\n",
    "    title='Algorithm Runtime Comparisons in C / OpenMP (No Hybrid Parallelism)',\n",
    "    height=600,\n",
    "    labels={\n",
    "        \"Duration\": \"Duration (s)\",\n",
    "        \"Size\": \"Array Size\",\n",
    "     },\n",
    ")\n",
    "\n",
    "fig.update_yaxes(matches=None)\n",
    "fig.update_yaxes(showticklabels=True, col=2) # assuming second facet\n",
    "fig.show()"
   ]
  },
  {
   "cell_type": "code",
   "execution_count": null,
   "metadata": {},
   "outputs": [],
   "source": []
  },
  {
   "cell_type": "code",
   "execution_count": null,
   "metadata": {},
   "outputs": [],
   "source": []
  },
  {
   "cell_type": "code",
   "execution_count": 100,
   "metadata": {},
   "outputs": [
    {
     "ename": "AttributeError",
     "evalue": "'DataFrame' object has no attribute 'Construct'",
     "output_type": "error",
     "traceback": [
      "\u001b[0;31m---------------------------------------------------------------------------\u001b[0m",
      "\u001b[0;31mAttributeError\u001b[0m                            Traceback (most recent call last)",
      "\u001b[0;32m<ipython-input-100-bc99d6c7e5e3>\u001b[0m in \u001b[0;36m<module>\u001b[0;34m\u001b[0m\n\u001b[1;32m      5\u001b[0m data_df = (\n\u001b[1;32m      6\u001b[0m     df.loc[\n\u001b[0;32m----> 7\u001b[0;31m         \u001b[0;34m(\u001b[0m\u001b[0mdf\u001b[0m\u001b[0;34m.\u001b[0m\u001b[0mConstruct\u001b[0m\u001b[0;34m.\u001b[0m\u001b[0misin\u001b[0m\u001b[0;34m(\u001b[0m\u001b[0;34m(\u001b[0m\u001b[0;34m'serial'\u001b[0m\u001b[0;34m,\u001b[0m\u001b[0;34m'tasks'\u001b[0m\u001b[0;34m)\u001b[0m\u001b[0;34m)\u001b[0m\u001b[0;34m)\u001b[0m\u001b[0;34m,\u001b[0m\u001b[0;34m\u001b[0m\u001b[0;34m\u001b[0m\u001b[0m\n\u001b[0m\u001b[1;32m      8\u001b[0m         \u001b[0;34m[\u001b[0m\u001b[0;34m'Algorithm'\u001b[0m\u001b[0;34m,\u001b[0m \u001b[0;34m'Threads'\u001b[0m\u001b[0;34m,\u001b[0m \u001b[0;34m'Cutoff'\u001b[0m\u001b[0;34m,\u001b[0m \u001b[0;34m'Size'\u001b[0m\u001b[0;34m,\u001b[0m \u001b[0;34m'Duration'\u001b[0m\u001b[0;34m]\u001b[0m\u001b[0;34m\u001b[0m\u001b[0;34m\u001b[0m\u001b[0m\n\u001b[1;32m      9\u001b[0m     ]\n",
      "\u001b[0;32m~/miniconda3/envs/ledger/lib/python3.8/site-packages/pandas/core/generic.py\u001b[0m in \u001b[0;36m__getattr__\u001b[0;34m(self, name)\u001b[0m\n\u001b[1;32m   5128\u001b[0m             \u001b[0;32mif\u001b[0m \u001b[0mself\u001b[0m\u001b[0;34m.\u001b[0m\u001b[0m_info_axis\u001b[0m\u001b[0;34m.\u001b[0m\u001b[0m_can_hold_identifiers_and_holds_name\u001b[0m\u001b[0;34m(\u001b[0m\u001b[0mname\u001b[0m\u001b[0;34m)\u001b[0m\u001b[0;34m:\u001b[0m\u001b[0;34m\u001b[0m\u001b[0;34m\u001b[0m\u001b[0m\n\u001b[1;32m   5129\u001b[0m                 \u001b[0;32mreturn\u001b[0m \u001b[0mself\u001b[0m\u001b[0;34m[\u001b[0m\u001b[0mname\u001b[0m\u001b[0;34m]\u001b[0m\u001b[0;34m\u001b[0m\u001b[0;34m\u001b[0m\u001b[0m\n\u001b[0;32m-> 5130\u001b[0;31m             \u001b[0;32mreturn\u001b[0m \u001b[0mobject\u001b[0m\u001b[0;34m.\u001b[0m\u001b[0m__getattribute__\u001b[0m\u001b[0;34m(\u001b[0m\u001b[0mself\u001b[0m\u001b[0;34m,\u001b[0m \u001b[0mname\u001b[0m\u001b[0;34m)\u001b[0m\u001b[0;34m\u001b[0m\u001b[0;34m\u001b[0m\u001b[0m\n\u001b[0m\u001b[1;32m   5131\u001b[0m \u001b[0;34m\u001b[0m\u001b[0m\n\u001b[1;32m   5132\u001b[0m     \u001b[0;32mdef\u001b[0m \u001b[0m__setattr__\u001b[0m\u001b[0;34m(\u001b[0m\u001b[0mself\u001b[0m\u001b[0;34m,\u001b[0m \u001b[0mname\u001b[0m\u001b[0;34m:\u001b[0m \u001b[0mstr\u001b[0m\u001b[0;34m,\u001b[0m \u001b[0mvalue\u001b[0m\u001b[0;34m)\u001b[0m \u001b[0;34m->\u001b[0m \u001b[0;32mNone\u001b[0m\u001b[0;34m:\u001b[0m\u001b[0;34m\u001b[0m\u001b[0;34m\u001b[0m\u001b[0m\n",
      "\u001b[0;31mAttributeError\u001b[0m: 'DataFrame' object has no attribute 'Construct'"
     ]
    },
    {
     "data": {
      "image/png": "[encoded data removed]",
      "text/plain": [
       "<Figure size 1152x1080 with 6 Axes>"
      ]
     },
     "metadata": {
      "needs_background": "light"
     },
     "output_type": "display_data"
    }
   ],
   "source": [
    "# fig = plt.figure(figsize=(20, 12))\n",
    "nrows, ncols = 3, 2\n",
    "fig, axes = plt.subplots(nrows, ncols, figsize=(16,5*nrows), sharex=True, sharey=True)\n",
    "\n",
    "data_df = (\n",
    "    df.loc[\n",
    "        (df.Construct.isin(('serial','tasks'))),\n",
    "        ['Algorithm', 'Threads', 'Cutoff', 'Size', 'Duration']\n",
    "    ]\n",
    "    .groupby(['Algorithm','Threads', 'Cutoff', 'Size'])['Duration']\n",
    "    .agg({'mean', 'std'})\n",
    ")\n",
    "\n",
    "for i, algorithm in enumerate(('quick', 'merge')):\n",
    "    for j, cutoff in enumerate(data_df.index.get_level_values('Cutoff').unique()):\n",
    "        ax = axes[j, i]\n",
    "        ax.set_title(f'{algorithm.title()} Sort Runtime vs. Array Size (Cutoff={cutoff})')\n",
    "\n",
    "        # plot data\n",
    "        for k, n_threads in enumerate(data_df.index.get_level_values('Threads').unique()):\n",
    "            data = data_df.loc[\n",
    "                (data_df.index.get_level_values('Algorithm') == algorithm) &\n",
    "                (data_df.index.get_level_values('Threads') == n_threads) &\n",
    "            ].reset_index(['Algorithm','Threads','Cutoff'], drop=True)\n",
    "\n",
    "            array_sizes = data_df.index.get_level_values('Size').unique()\n",
    "\n",
    "            color=list(mcolors.TABLEAU_COLORS)[k]\n",
    "            label = f'{n_threads} Threads' if n_threads != 1 else 'Serial'\n",
    "            ax.plot(data.index, data['mean'], label=label, color=color)\n",
    "            ax.errorbar(data.index, data['mean'], yerr=data['std'] , fmt='o', markersize=4, color=color)\n",
    "\n",
    "        if j == 0:\n",
    "            ax.set_ylabel('Runtime (s)')\n",
    "        ax.legend(loc='upper left')\n",
    "\n",
    "        ax.set_xlabel('Array Size')\n",
    "        ax.set_xscale('log')\n",
    "        ax.set_yscale('log')\n",
    "        ax.grid()\n",
    "\n",
    "fig.suptitle('Sorting Algorithm Runtimes using Tasks in C/OpenMP (Log-Log Scale)', y=0.99, fontsize=14)\n",
    "fig.tight_layout()\n",
    "fig.show()"
   ]
  },
  {
   "cell_type": "code",
   "execution_count": 5,
   "metadata": {},
   "outputs": [
    {
     "data": {
      "image/png": "[encoded data removed]",
      "text/plain": [
       "<Figure size 1152x720 with 2 Axes>"
      ]
     },
     "metadata": {
      "needs_background": "light"
     },
     "output_type": "display_data"
    }
   ],
   "source": [
    "# fig = plt.figure(figsize=(20, 12))\n",
    "nrows, ncols = 2, 1\n",
    "fig, axes = plt.subplots(nrows, ncols, figsize=(16,5*nrows), sharex=True, sharey=True)\n",
    "\n",
    "data_df = (\n",
    "    df.loc[\n",
    "        (df.Construct.isin(('serial','tasks'))),\n",
    "        ['Algorithm', 'Threads', 'Cutoff', 'Size', 'Duration']\n",
    "    ]\n",
    "    .groupby(['Algorithm','Threads', 'Cutoff', 'Size'])['Duration']\n",
    "    .agg({'mean', 'std'})\n",
    ")\n",
    "\n",
    "# array_size = 10000000\n",
    "for i, algorithm in enumerate(('quick', 'merge')):\n",
    "        ax = axes[i]\n",
    "        ax.set_title(f'{algorithm.title()} Sort Runtime vs. Threads')\n",
    "\n",
    "        # plot data\n",
    "        for k, array_size in enumerate(data_df.index.get_level_values('Size').unique()):\n",
    "            data = data_df.loc[\n",
    "                (data_df.index.get_level_values('Algorithm') == algorithm) &\n",
    "#                 (data_df.index.get_level_values('Threads') == n_threads) &\n",
    "                (data_df.index.get_level_values('Size') == array_size) &\n",
    "                (data_df.index.get_level_values('Cutoff') == 100)\n",
    "            ].reset_index(['Algorithm','Size','Cutoff'], drop=True)\n",
    "\n",
    "            color=list(mcolors.TABLEAU_COLORS)[k]\n",
    "            label = f'{array_size}'\n",
    "            ax.bar(data.index, data['mean'], label=label, color=color)\n",
    "#             ax.plot(data.index, data['mean'], label=label, color=color)\n",
    "#             ax.errorbar(data.index, data['mean'], yerr=data['std'] , fmt='o', markersize=4, color=color)\n",
    "\n",
    "        if j == 0:\n",
    "            ax.set_ylabel('Runtime (s)')\n",
    "            \n",
    "        ax.legend(loc='upper left')\n",
    "\n",
    "        ax.set_xlabel('OpenMP Threads')\n",
    "#         ax.set_xscale('log')\n",
    "#         ax.set_yscale('log')\n",
    "        ax.grid()\n",
    "\n",
    "\n",
    "fig.suptitle('Sorting Algorithm Runtimes using Tasks Construct in C/OpenMP (Log-Log Scale)', y=0.99, fontsize=14)\n",
    "fig.tight_layout()\n",
    "fig.show()"
   ]
  },
  {
   "cell_type": "code",
   "execution_count": 7,
   "metadata": {},
   "outputs": [
    {
     "data": {
      "text/html": [
       "<div>\n",
       "<style scoped>\n",
       "    .dataframe tbody tr th:only-of-type {\n",
       "        vertical-align: middle;\n",
       "    }\n",
       "\n",
       "    .dataframe tbody tr th {\n",
       "        vertical-align: top;\n",
       "    }\n",
       "\n",
       "    .dataframe thead th {\n",
       "        text-align: right;\n",
       "    }\n",
       "</style>\n",
       "<table border=\"1\" class=\"dataframe\">\n",
       "  <thead>\n",
       "    <tr style=\"text-align: right;\">\n",
       "      <th></th>\n",
       "      <th>std</th>\n",
       "      <th>mean</th>\n",
       "    </tr>\n",
       "    <tr>\n",
       "      <th>Threads</th>\n",
       "      <th></th>\n",
       "      <th></th>\n",
       "    </tr>\n",
       "  </thead>\n",
       "  <tbody>\n",
       "    <tr>\n",
       "      <th>2</th>\n",
       "      <td>0.004120</td>\n",
       "      <td>0.128029</td>\n",
       "    </tr>\n",
       "    <tr>\n",
       "      <th>4</th>\n",
       "      <td>0.007359</td>\n",
       "      <td>0.102316</td>\n",
       "    </tr>\n",
       "    <tr>\n",
       "      <th>8</th>\n",
       "      <td>0.004571</td>\n",
       "      <td>0.075350</td>\n",
       "    </tr>\n",
       "    <tr>\n",
       "      <th>16</th>\n",
       "      <td>0.016119</td>\n",
       "      <td>0.085521</td>\n",
       "    </tr>\n",
       "  </tbody>\n",
       "</table>\n",
       "</div>"
      ],
      "text/plain": [
       "              std      mean\n",
       "Threads                    \n",
       "2        0.004120  0.128029\n",
       "4        0.007359  0.102316\n",
       "8        0.004571  0.075350\n",
       "16       0.016119  0.085521"
      ]
     },
     "execution_count": 7,
     "metadata": {},
     "output_type": "execute_result"
    }
   ],
   "source": [
    "data"
   ]
  },
  {
   "cell_type": "code",
   "execution_count": 8,
   "metadata": {},
   "outputs": [
    {
     "data": {
      "image/png": "[encoded data removed]",
      "text/plain": [
       "<Figure size 1152x720 with 2 Axes>"
      ]
     },
     "metadata": {
      "needs_background": "light"
     },
     "output_type": "display_data"
    }
   ],
   "source": [
    "# fig = plt.figure(figsize=(20, 12))\n",
    "nrows, ncols = 2, 1\n",
    "fig, axes = plt.subplots(nrows, ncols, figsize=(16,5*nrows), sharex=True, sharey=True)\n",
    "\n",
    "data_df = (\n",
    "    df.loc[\n",
    "        (df.Construct.isin(('serial','sections'))),\n",
    "        ['Algorithm', 'Threads', 'Cutoff', 'Size', 'Duration']\n",
    "    ]\n",
    "    .groupby(['Algorithm','Threads', 'Cutoff', 'Size'])['Duration']\n",
    "    .agg({'mean', 'std'})\n",
    ")\n",
    "\n",
    "# array_size = 10000000\n",
    "for i, algorithm in enumerate(('quick', 'merge')):\n",
    "        ax = axes[i]\n",
    "        ax.set_title(f'{algorithm.title()} Sort Runtime vs. Threads')\n",
    "\n",
    "        # plot data\n",
    "        for k, array_size in enumerate(data_df.index.get_level_values('Size').unique()):\n",
    "            data = data_df.loc[\n",
    "                (data_df.index.get_level_values('Algorithm') == algorithm) &\n",
    "#                 (data_df.index.get_level_values('Threads') == n_threads) &\n",
    "                (data_df.index.get_level_values('Size') == array_size) &\n",
    "                (data_df.index.get_level_values('Cutoff') == 100)\n",
    "            ].reset_index(['Algorithm','Size','Cutoff'], drop=True)\n",
    "\n",
    "            color=list(mcolors.TABLEAU_COLORS)[k]\n",
    "            label = f'{array_size}'\n",
    "            ax.bar(data.index, data['mean'], label=label, color=color)\n",
    "#             ax.plot(data.index, data['mean'], label=label, color=color)\n",
    "#             ax.errorbar(data.index, data['mean'], yerr=data['std'] , fmt='o', markersize=4, color=color)\n",
    "\n",
    "        if j == 0:\n",
    "            ax.set_ylabel('Runtime (s)')\n",
    "            \n",
    "        ax.legend(loc='upper left')\n",
    "\n",
    "        ax.set_xlabel('OpenMP Threads')\n",
    "#         ax.set_xscale('log')\n",
    "#         ax.set_yscale('log')\n",
    "        ax.grid(axis='y')\n",
    "\n",
    "\n",
    "fig.suptitle('Sorting Algorithm Runtimes using Sections Construct in C/OpenMP (Log-Log Scale)', y=0.99, fontsize=14)\n",
    "fig.tight_layout()\n",
    "fig.show()"
   ]
  },
  {
   "cell_type": "code",
   "execution_count": 32,
   "metadata": {},
   "outputs": [
    {
     "data": {
      "image/png": "[encoded data removed]",
      "text/plain": [
       "<Figure size 1152x1080 with 6 Axes>"
      ]
     },
     "metadata": {
      "needs_background": "light"
     },
     "output_type": "display_data"
    }
   ],
   "source": [
    "# fig = plt.figure(figsize=(20, 12))\n",
    "nrows, ncols = 3, 2\n",
    "fig, axes = plt.subplots(nrows, ncols, figsize=(16,5*nrows), sharex=True, sharey=True)\n",
    "\n",
    "data_df = (\n",
    "    df.loc[\n",
    "        (df.Construct.isin(('serial','sections'))),\n",
    "        ['Algorithm', 'Threads', 'Cutoff', 'Size', 'Duration']\n",
    "    ]\n",
    "    .groupby(['Algorithm','Threads', 'Cutoff', 'Size'])['Duration']\n",
    "    .agg({'mean', 'std'})\n",
    ")\n",
    "\n",
    "for i, algorithm in enumerate(('quick', 'merge')):\n",
    "    for j, cutoff in enumerate(data_df.index.get_level_values('Cutoff').unique()):\n",
    "        ax = axes[j, i]\n",
    "        ax.set_title(f'{algorithm.title()} Sort Runtime vs. Array Size (Cutoff={cutoff})')\n",
    "\n",
    "        # plot data\n",
    "        for k, n_threads in enumerate(data_df.index.get_level_values('Threads').unique()):\n",
    "            data = data_df.loc[\n",
    "                (data_df.index.get_level_values('Algorithm') == algorithm) &\n",
    "                (data_df.index.get_level_values('Threads') == n_threads) &\n",
    "                (data_df.index.get_level_values('Cutoff') == cutoff)\n",
    "            ].reset_index(['Algorithm','Threads','Cutoff'], drop=True)\n",
    "\n",
    "            array_sizes = data_df.index.get_level_values('Size').unique()\n",
    "\n",
    "            color=list(mcolors.TABLEAU_COLORS)[k]\n",
    "            label = f'{n_threads} Threads' if n_threads != 1 else 'Serial'\n",
    "            ax.plot(data.index, data['mean'], label=label, color=color)\n",
    "            ax.errorbar(data.index, data['mean'], yerr=data['std'] , fmt='o', markersize=4, color=color)\n",
    "\n",
    "        if j == 0:\n",
    "            ax.set_ylabel('Runtime (s)')\n",
    "        ax.legend(loc='upper left')\n",
    "\n",
    "        ax.set_xlabel('Array Size')\n",
    "        ax.set_xscale('log')\n",
    "#         ax.set_yscale('log')\n",
    "        ax.grid(axis='y')\n",
    "\n",
    "fig.suptitle('Sorting Algorithm Runtimes using Tasks in C/OpenMP (Log-Log Scale)', y=0.99, fontsize=14)\n",
    "fig.tight_layout()\n",
    "fig.show()"
   ]
  },
  {
   "cell_type": "markdown",
   "metadata": {},
   "source": [
    "### Plotly Figures"
   ]
  },
  {
   "cell_type": "code",
   "execution_count": null,
   "metadata": {},
   "outputs": [],
   "source": [
    "fig = go.Figure(\n",
    "    layout={\n",
    "        'title': {\n",
    "            'text': 'Quick Sort Algorithm Runtime'\n",
    "        }\n",
    "    }\n",
    ")\n",
    "\n",
    "fig.add_trace(\n",
    "    go.Scatter(\n",
    "        x=thread2.index.get_level_values('Size').values,\n",
    "        y=thread2['mean'].values,\n",
    "        name='Line',\n",
    "        error_y=dict(\n",
    "            type='data',\n",
    "            symmetric=False,\n",
    "            array=thread2['max'].values - thread2['mean'].values,\n",
    "            arrayminus=thread2['mean'].values - thread2['min'].values\n",
    "        ),\n",
    "        fillcolor='red'\n",
    "    )\n",
    ")\n",
    "fig.update_yaxes(type=\"log\")\n",
    "fig.show()"
   ]
  },
  {
   "cell_type": "code",
   "execution_count": 20,
   "metadata": {},
   "outputs": [
    {
     "data": {
      "application/vnd.plotly.v1+json": {
       "config": {
        "plotlyServerURL": "https://plot.ly"
       },
       "data": [
        {
         "alignmentgroup": "True",
         "boxpoints": "all",
         "hovertemplate": "Size=1000<br>Construct=serial<br>Cutoff=0<br>Sorting Algorithm=%{x}<br>Duration (s)=%{y}<extra></extra>",
         "legendgroup": "1000",
         "marker": {
          "color": "rgb(76,114,176)"
         },
         "name": "1000",
         "notched": false,
         "offsetgroup": "1000",
         "orientation": "v",
         "showlegend": true,
         "type": "box",
         "x": [
          "merge",
          "merge",
          "merge",
          "merge",
          "merge",
          "enumeration",
          "enumeration",
          "enumeration",
          "enumeration",
          "enumeration",
          "quick",
          "quick",
          "quick",
          "quick",
          "quick"
         ],
         "x0": " ",
         "xaxis": "x10",
         "y": [
          0.00020349799888208508,
          0.00016322100418619812,
          0.00017689699598122388,
          0.0001479820057284087,
          0.00015587700181640685,
          0.00383746599254664,
          0.003781311999773607,
          0.0037839970027562226,
          0.003804624997428617,
          0.0020734050049213693,
          0.00020828700507991016,
          0.00017999399278778583,
          0.00018529400404077023,
          0.00017520500114187598,
          0.00017300101171713322
         ],
         "y0": " ",
         "yaxis": "y10"
        },
        {
         "alignmentgroup": "True",
         "boxpoints": "all",
         "hovertemplate": "Size=1000<br>Construct=tasks<br>Cutoff=0<br>Sorting Algorithm=%{x}<br>Duration (s)=%{y}<extra></extra>",
         "legendgroup": "1000",
         "marker": {
          "color": "rgb(76,114,176)"
         },
         "name": "1000",
         "notched": false,
         "offsetgroup": "1000",
         "orientation": "v",
         "showlegend": false,
         "type": "box",
         "x": [
          "merge",
          "merge",
          "merge",
          "merge",
          "merge",
          "merge",
          "merge",
          "merge",
          "merge",
          "merge",
          "merge",
          "merge",
          "merge",
          "merge",
          "merge",
          "merge",
          "merge",
          "merge",
          "merge",
          "merge",
          "quick",
          "quick",
          "quick",
          "quick",
          "quick",
          "quick",
          "quick",
          "quick",
          "quick",
          "quick",
          "quick",
          "quick",
          "quick",
          "quick",
          "quick",
          "quick",
          "quick",
          "quick",
          "quick",
          "quick"
         ],
         "x0": " ",
         "xaxis": "x7",
         "y": [
          0.0006884920003358275,
          0.000545679999049753,
          0.0005430839955806732,
          0.0005457800143631175,
          0.0005528629990294576,
          0.0006918480066815391,
          0.000623558007646352,
          0.0005398389912443237,
          0.000507076008943841,
          0.0004910249990643932,
          0.0008066169975791126,
          0.0005497469974216074,
          0.0005894630012335256,
          0.000539838001714088,
          0.00044630999036598956,
          0.000745821002055891,
          0.0006412220100173728,
          0.0006100719911046326,
          0.000594632001593709,
          0.000727656006347388,
          0.001606117992196232,
          0.0014447699941229075,
          0.0014290499966591597,
          0.0014452710020123052,
          0.001258053001947701,
          0.002365488006034866,
          0.002217946996097453,
          0.002195142995333299,
          0.0021901239961152896,
          0.0022296589886536826,
          0.002231803999166005,
          0.0021217129979049787,
          0.0020424609974725168,
          0.0020782799983862787,
          0.0020237059943610802,
          0.0030494149978039786,
          0.0027433200011728327,
          0.002664248997461982,
          0.0024606910010334104,
          0.0022670900070806965
         ],
         "y0": " ",
         "yaxis": "y7"
        },
        {
         "alignmentgroup": "True",
         "boxpoints": "all",
         "hovertemplate": "Size=1000<br>Construct=tasks<br>Cutoff=100<br>Sorting Algorithm=%{x}<br>Duration (s)=%{y}<extra></extra>",
         "legendgroup": "1000",
         "marker": {
          "color": "rgb(76,114,176)"
         },
         "name": "1000",
         "notched": false,
         "offsetgroup": "1000",
         "orientation": "v",
         "showlegend": false,
         "type": "box",
         "x": [
          "merge",
          "merge",
          "merge",
          "merge",
          "merge",
          "merge",
          "merge",
          "merge",
          "merge",
          "merge",
          "merge",
          "merge",
          "merge",
          "merge",
          "merge",
          "merge",
          "merge",
          "merge",
          "merge",
          "merge",
          "quick",
          "quick",
          "quick",
          "quick",
          "quick",
          "quick",
          "quick",
          "quick",
          "quick",
          "quick",
          "quick",
          "quick",
          "quick",
          "quick",
          "quick",
          "quick",
          "quick",
          "quick",
          "quick",
          "quick"
         ],
         "x0": " ",
         "xaxis": "x8",
         "y": [
          9.795698861125855e-05,
          9.438001143280417e-05,
          9.153399150818586e-05,
          9.196500468533486e-05,
          9.14439879124984e-05,
          6.78289943607524e-05,
          6.1166996601969e-05,
          7.876000017859042e-05,
          9.78460011538118e-05,
          7.486301183234899e-05,
          7.419098983518779e-05,
          8.938999962992966e-05,
          0.00010679398837964982,
          0.00010730400390457362,
          8.220699965022504e-05,
          0.00012137100566178559,
          0.0001170030009234324,
          0.00010724499588832259,
          0.00011713300773408264,
          9.776599472388624e-05,
          0.00012385699665173888,
          0.0001261409925064072,
          0.0001154710043920204,
          0.00012609099212568253,
          0.00011026000720448792,
          0.00010566199489403516,
          0.00010801600001286717,
          0.00014746100350748748,
          0.00010866799857467412,
          0.00012219299969729036,
          0.00014322299102786928,
          0.0001024859957396984,
          0.00010882699280045928,
          0.00010422900959383696,
          0.000112263995106332,
          0.00013056999887339774,
          0.000125660008052364,
          0.00012546000652946534,
          0.00011510899639688432,
          0.0001247689942829311
         ],
         "y0": " ",
         "yaxis": "y8"
        },
        {
         "alignmentgroup": "True",
         "boxpoints": "all",
         "hovertemplate": "Size=1000<br>Construct=tasks<br>Cutoff=1000<br>Sorting Algorithm=%{x}<br>Duration (s)=%{y}<extra></extra>",
         "legendgroup": "1000",
         "marker": {
          "color": "rgb(76,114,176)"
         },
         "name": "1000",
         "notched": false,
         "offsetgroup": "1000",
         "orientation": "v",
         "showlegend": false,
         "type": "box",
         "x": [
          "merge",
          "merge",
          "merge",
          "merge",
          "merge",
          "merge",
          "merge",
          "merge",
          "merge",
          "merge",
          "merge",
          "merge",
          "merge",
          "merge",
          "merge",
          "merge",
          "merge",
          "merge",
          "merge",
          "merge",
          "quick",
          "quick",
          "quick",
          "quick",
          "quick",
          "quick",
          "quick",
          "quick",
          "quick",
          "quick",
          "quick",
          "quick",
          "quick",
          "quick",
          "quick",
          "quick",
          "quick",
          "quick",
          "quick",
          "quick"
         ],
         "x0": " ",
         "xaxis": "x9",
         "y": [
          0.000149425002746284,
          0.00014671999088022858,
          0.0001515990006737411,
          0.00014506699517369268,
          0.0001437640021322295,
          8.79279978107661e-05,
          7.102599192876369e-05,
          7.045500387903303e-05,
          7.062499935273081e-05,
          7.01730023138225e-05,
          7.231799827422945e-05,
          7.025399827398361e-05,
          6.979300815146416e-05,
          6.931200914550573e-05,
          6.96119968779385e-05,
          7.24480050848797e-05,
          7.06550054019317e-05,
          7.017400639597327e-05,
          6.968299567233771e-05,
          6.937301077414304e-05,
          0.00022060099581722167,
          0.00013239299005363137,
          0.00012557000445667654,
          0.00012583100760821253,
          0.00012147199595347048,
          0.00012862600851804018,
          0.00011466900468803942,
          0.00011211499804630877,
          0.00011235399870201944,
          0.00011134200030937794,
          0.00012108200462535025,
          0.00012161298946011811,
          0.0001253689988516271,
          0.00012514900299720466,
          0.00012419698759913445,
          0.00012939699809066954,
          0.000124537997180596,
          0.00013489699631463736,
          0.00012418700498528779,
          0.00012757399235852063
         ],
         "y0": " ",
         "yaxis": "y9"
        },
        {
         "alignmentgroup": "True",
         "boxpoints": "all",
         "hovertemplate": "Size=1000<br>Construct=sections<br>Cutoff=0<br>Sorting Algorithm=%{x}<br>Duration (s)=%{y}<extra></extra>",
         "legendgroup": "1000",
         "marker": {
          "color": "rgb(76,114,176)"
         },
         "name": "1000",
         "notched": false,
         "offsetgroup": "1000",
         "orientation": "v",
         "showlegend": false,
         "type": "box",
         "x": [
          "merge",
          "merge",
          "merge",
          "merge",
          "merge",
          "merge",
          "merge",
          "merge",
          "merge",
          "merge",
          "merge",
          "merge",
          "merge",
          "merge",
          "merge",
          "merge",
          "merge",
          "merge",
          "merge",
          "merge",
          "quick",
          "quick",
          "quick",
          "quick",
          "quick",
          "quick",
          "quick",
          "quick",
          "quick",
          "quick",
          "quick",
          "quick",
          "quick",
          "quick",
          "quick",
          "quick",
          "quick",
          "quick",
          "quick",
          "quick"
         ],
         "x0": " ",
         "xaxis": "x4",
         "y": [
          0.00043834499956574286,
          0.0004276349936844781,
          0.00044704199535772204,
          0.0004234660009387881,
          0.0004185680008959025,
          0.00043678299698512996,
          0.0004342879983596504,
          0.00041135399078484635,
          0.0004215029912302271,
          0.0003277450014138594,
          0.00043009899673052127,
          0.0003651150036603213,
          0.00042199400195386255,
          0.0004006730014225468,
          0.0003642340016085655,
          0.0004887609975412488,
          0.00043412701052147895,
          0.0005186180060263723,
          0.0004155720089329407,
          0.00031136300822254265,
          0.0005464139976538718,
          0.000536135004949756,
          0.0005269760004011914,
          0.0005258749879430981,
          0.0005194330005906521,
          0.00028625699633266777,
          0.0005329580017132685,
          0.0002820690133376047,
          0.00028581600054167206,
          0.0002786020049825311,
          0.0002778909984044731,
          0.00029448200075421477,
          0.0002812870079651475,
          0.0004303619934944436,
          0.00027755000337492675,
          0.00033154401171486825,
          0.00030991200765129173,
          0.00031284701253753155,
          0.00031256700458470727,
          0.0003207529953215271
         ],
         "y0": " ",
         "yaxis": "y4"
        },
        {
         "alignmentgroup": "True",
         "boxpoints": "all",
         "hovertemplate": "Size=1000<br>Construct=sections<br>Cutoff=100<br>Sorting Algorithm=%{x}<br>Duration (s)=%{y}<extra></extra>",
         "legendgroup": "1000",
         "marker": {
          "color": "rgb(76,114,176)"
         },
         "name": "1000",
         "notched": false,
         "offsetgroup": "1000",
         "orientation": "v",
         "showlegend": false,
         "type": "box",
         "x": [
          "merge",
          "merge",
          "merge",
          "merge",
          "merge",
          "merge",
          "merge",
          "merge",
          "merge",
          "merge",
          "merge",
          "merge",
          "merge",
          "merge",
          "merge",
          "merge",
          "merge",
          "merge",
          "merge",
          "merge",
          "quick",
          "quick",
          "quick",
          "quick",
          "quick",
          "quick",
          "quick",
          "quick",
          "quick",
          "quick",
          "quick",
          "quick",
          "quick",
          "quick",
          "quick",
          "quick",
          "quick",
          "quick",
          "quick",
          "quick"
         ],
         "x0": " ",
         "xaxis": "x5",
         "y": [
          0.00010423900675959884,
          0.00010257599933538586,
          9.694400068838148e-05,
          9.497100836597384e-05,
          9.694398613646626e-05,
          5.142799636814743e-05,
          7.416101288981733e-05,
          5.018600495532155e-05,
          6.883101013954729e-05,
          6.407199543900789e-05,
          9.943000623025e-05,
          9.049200161825864e-05,
          7.893099973443894e-05,
          8.327899558935313e-05,
          8.521199924871324e-05,
          9.595199662726372e-05,
          4.514600732363761e-05,
          8.449099550489336e-05,
          8.583399176131934e-05,
          8.143499144352973e-05,
          0.0001127259893110022,
          0.0001935600012075156,
          0.0001882590004242957,
          0.00010162399848923088,
          9.714599582366644e-05,
          0.00010021099296864122,
          0.0001053809974109754,
          9.989101090468465e-05,
          9.933899855241181e-05,
          9.954000415746121e-05,
          9.712598694022746e-05,
          0.00010623299749568105,
          0.00010418900637887418,
          0.00010205499711446464,
          9.811800555326043e-05,
          0.00010187498992308974,
          9.973999112844467e-05,
          0.000101073004771024,
          9.752598998602481e-05,
          0.00012850599887315184
         ],
         "y0": " ",
         "yaxis": "y5"
        },
        {
         "alignmentgroup": "True",
         "boxpoints": "all",
         "hovertemplate": "Size=1000<br>Construct=sections<br>Cutoff=1000<br>Sorting Algorithm=%{x}<br>Duration (s)=%{y}<extra></extra>",
         "legendgroup": "1000",
         "marker": {
          "color": "rgb(76,114,176)"
         },
         "name": "1000",
         "notched": false,
         "offsetgroup": "1000",
         "orientation": "v",
         "showlegend": false,
         "type": "box",
         "x": [
          "merge",
          "merge",
          "merge",
          "merge",
          "merge",
          "merge",
          "merge",
          "merge",
          "merge",
          "merge",
          "merge",
          "merge",
          "merge",
          "merge",
          "merge",
          "merge",
          "merge",
          "merge",
          "merge",
          "merge",
          "quick",
          "quick",
          "quick",
          "quick",
          "quick",
          "quick",
          "quick",
          "quick",
          "quick",
          "quick",
          "quick",
          "quick",
          "quick",
          "quick",
          "quick",
          "quick",
          "quick",
          "quick",
          "quick",
          "quick"
         ],
         "x0": " ",
         "xaxis": "x6",
         "y": [
          0.00013801299792248756,
          0.00013617900549434123,
          0.00013364499318413436,
          0.00013347399362828585,
          0.00013327399210538715,
          7.130599988158791e-05,
          7.093499880284071e-05,
          7.153599290177226e-05,
          7.054499292280525e-05,
          7.041401113383472e-05,
          7.056401227600873e-05,
          7.041399658191949e-05,
          7.004299550317228e-05,
          6.954200216569006e-05,
          6.990299152676016e-05,
          7.110599835868925e-05,
          7.067401020321995e-05,
          7.08250008756295e-05,
          7.014299626462162e-05,
          7.018400356173514e-05,
          8.647599315736441e-05,
          8.623499888926744e-05,
          8.683500345796347e-05,
          8.562399307265876e-05,
          8.58939893078059e-05,
          8.747700485400854e-05,
          8.95510020200163e-05,
          8.654499833937734e-05,
          8.66250047693029e-05,
          9.035199764184652e-05,
          8.532300125807524e-05,
          8.96909914445132e-05,
          8.863898983690886e-05,
          8.547300240024926e-05,
          8.674600394442677e-05,
          0.00010057199688162656,
          8.666599751450121e-05,
          8.712599810678512e-05,
          8.651601092424244e-05,
          8.660599996801466e-05
         ],
         "y0": " ",
         "yaxis": "y6"
        },
        {
         "alignmentgroup": "True",
         "boxpoints": "all",
         "hovertemplate": "Size=1000<br>Construct=parallel<br>Cutoff=0<br>Sorting Algorithm=%{x}<br>Duration (s)=%{y}<extra></extra>",
         "legendgroup": "1000",
         "marker": {
          "color": "rgb(76,114,176)"
         },
         "name": "1000",
         "notched": false,
         "offsetgroup": "1000",
         "orientation": "v",
         "showlegend": false,
         "type": "box",
         "x": [
          "enumeration",
          "enumeration",
          "enumeration",
          "enumeration",
          "enumeration",
          "enumeration",
          "enumeration",
          "enumeration",
          "enumeration",
          "enumeration",
          "enumeration",
          "enumeration",
          "enumeration",
          "enumeration",
          "enumeration",
          "enumeration",
          "enumeration",
          "enumeration",
          "enumeration",
          "enumeration"
         ],
         "x0": " ",
         "xaxis": "x",
         "y": [
          0.004832582009839825,
          0.004708952008513735,
          0.004552622995106504,
          0.003228808011044748,
          0.003556986004696228,
          0.002614678000099957,
          0.002472203996148892,
          0.0026114430074812844,
          0.002482294003129937,
          0.002285367998410948,
          0.0014019800000824034,
          0.0013568760041380301,
          0.0013254079967737198,
          0.0014687640068586914,
          0.0013323810126166793,
          0.0010671889904187992,
          0.0008571099897380918,
          0.0008632809913251549,
          0.0008761250064708291,
          0.0008620990120107308
         ],
         "y0": " ",
         "yaxis": "y"
        },
        {
         "alignmentgroup": "True",
         "boxpoints": "all",
         "hovertemplate": "Size=1000<br>Construct=parallel<br>Cutoff=100<br>Sorting Algorithm=%{x}<br>Duration (s)=%{y}<extra></extra>",
         "legendgroup": "1000",
         "marker": {
          "color": "rgb(76,114,176)"
         },
         "name": "1000",
         "notched": false,
         "offsetgroup": "1000",
         "orientation": "v",
         "showlegend": false,
         "type": "box",
         "x": [
          "enumeration",
          "enumeration",
          "enumeration",
          "enumeration",
          "enumeration",
          "enumeration",
          "enumeration",
          "enumeration",
          "enumeration",
          "enumeration",
          "enumeration",
          "enumeration",
          "enumeration",
          "enumeration",
          "enumeration",
          "enumeration",
          "enumeration",
          "enumeration",
          "enumeration",
          "enumeration"
         ],
         "x0": " ",
         "xaxis": "x2",
         "y": [
          0.0035993439960293467,
          0.0028041209880029787,
          0.002445916004944593,
          0.002407674997812137,
          0.002415739989373833,
          0.002153973997337744,
          0.0016612409963272512,
          0.0013194269995437935,
          0.0012828289909521118,
          0.0013124339893693104,
          0.0013211100012995305,
          0.001335106004262343,
          0.0013485209929058328,
          0.0012941500026499853,
          0.0014422450040001422,
          0.0008522709977114573,
          0.0008524510049028321,
          0.0008523110009264201,
          0.000858471990795806,
          0.0008708039968041702
         ],
         "y0": " ",
         "yaxis": "y2"
        },
        {
         "alignmentgroup": "True",
         "boxpoints": "all",
         "hovertemplate": "Size=1000<br>Construct=parallel<br>Cutoff=1000<br>Sorting Algorithm=%{x}<br>Duration (s)=%{y}<extra></extra>",
         "legendgroup": "1000",
         "marker": {
          "color": "rgb(76,114,176)"
         },
         "name": "1000",
         "notched": false,
         "offsetgroup": "1000",
         "orientation": "v",
         "showlegend": false,
         "type": "box",
         "x": [
          "enumeration",
          "enumeration",
          "enumeration",
          "enumeration",
          "enumeration",
          "enumeration",
          "enumeration",
          "enumeration",
          "enumeration",
          "enumeration",
          "enumeration",
          "enumeration",
          "enumeration",
          "enumeration",
          "enumeration",
          "enumeration",
          "enumeration",
          "enumeration",
          "enumeration",
          "enumeration"
         ],
         "x0": " ",
         "xaxis": "x3",
         "y": [
          0.002407024003332481,
          0.0023994689981918786,
          0.002401103003649041,
          0.002401032994384877,
          0.002427843006444164,
          0.0013158000074326992,
          0.001321550997090526,
          0.0013077250041533262,
          0.0013133559987181798,
          0.0012940190063090995,
          0.0014074799983063713,
          0.0009885129984468222,
          0.0009409249905729666,
          0.00093563599511981,
          0.0009412350045749917,
          0.000879560990142636,
          0.0008815649925963953,
          0.0008824659889796748,
          0.001035099005093798,
          0.0006252290040720255
         ],
         "y0": " ",
         "yaxis": "y3"
        },
        {
         "alignmentgroup": "True",
         "boxpoints": "all",
         "hovertemplate": "Size=10000<br>Construct=serial<br>Cutoff=0<br>Sorting Algorithm=%{x}<br>Duration (s)=%{y}<extra></extra>",
         "legendgroup": "10000",
         "marker": {
          "color": "rgb(221,132,82)"
         },
         "name": "10000",
         "notched": false,
         "offsetgroup": "10000",
         "orientation": "v",
         "showlegend": true,
         "type": "box",
         "x": [
          "merge",
          "merge",
          "merge",
          "merge",
          "merge",
          "enumeration",
          "enumeration",
          "enumeration",
          "enumeration",
          "enumeration",
          "quick",
          "quick",
          "quick",
          "quick",
          "quick"
         ],
         "x0": " ",
         "xaxis": "x10",
         "y": [
          0.0011994849919574335,
          0.0011884739942615852,
          0.0011643879988696426,
          0.0011748089891625568,
          0.0011645689955912528,
          0.2290376849996392,
          0.22882275500160176,
          0.22874784900341186,
          0.2289448859955883,
          0.2676730969978962,
          0.0011462200054666027,
          0.0012576220033224672,
          0.0013036300078965726,
          0.0012955350102856755,
          0.0012895440013380721
         ],
         "y0": " ",
         "yaxis": "y10"
        },
        {
         "alignmentgroup": "True",
         "boxpoints": "all",
         "hovertemplate": "Size=10000<br>Construct=tasks<br>Cutoff=0<br>Sorting Algorithm=%{x}<br>Duration (s)=%{y}<extra></extra>",
         "legendgroup": "10000",
         "marker": {
          "color": "rgb(221,132,82)"
         },
         "name": "10000",
         "notched": false,
         "offsetgroup": "10000",
         "orientation": "v",
         "showlegend": false,
         "type": "box",
         "x": [
          "merge",
          "merge",
          "merge",
          "merge",
          "merge",
          "merge",
          "merge",
          "merge",
          "merge",
          "merge",
          "merge",
          "merge",
          "merge",
          "merge",
          "merge",
          "merge",
          "merge",
          "merge",
          "merge",
          "merge",
          "quick",
          "quick",
          "quick",
          "quick",
          "quick",
          "quick",
          "quick",
          "quick",
          "quick",
          "quick",
          "quick",
          "quick",
          "quick",
          "quick",
          "quick",
          "quick",
          "quick",
          "quick",
          "quick",
          "quick"
         ],
         "x0": " ",
         "xaxis": "x7",
         "y": [
          0.0048946160095511,
          0.004584424998029135,
          0.004212055006064475,
          0.0032329300011042506,
          0.0032462050003232434,
          0.005442148991278373,
          0.005499467995832674,
          0.004470276995562017,
          0.005464702000608668,
          0.005491692994837649,
          0.005774923003627919,
          0.004202345997327939,
          0.005975284002488479,
          0.006007534990203567,
          0.004626694993930869,
          0.006035188998794183,
          0.0057009209995158025,
          0.004538146007689647,
          0.004717639007139951,
          0.006170325999846682,
          0.002295154001330957,
          0.0023253519902937114,
          0.002488322992576286,
          0.0025183499965351075,
          0.0025408639921806753,
          0.0077903210039949045,
          0.0068098990013822904,
          0.005226804001722485,
          0.005473996003274806,
          0.0056966219999594605,
          0.01875432500673924,
          0.010204051999608056,
          0.010756917996332048,
          0.010586161995888688,
          0.009095343993976712,
          0.024820711987558752,
          0.026757532003102824,
          0.023589502001414075,
          0.0231901579973055,
          0.019726340993656773
         ],
         "y0": " ",
         "yaxis": "y7"
        },
        {
         "alignmentgroup": "True",
         "boxpoints": "all",
         "hovertemplate": "Size=10000<br>Construct=tasks<br>Cutoff=100<br>Sorting Algorithm=%{x}<br>Duration (s)=%{y}<extra></extra>",
         "legendgroup": "10000",
         "marker": {
          "color": "rgb(221,132,82)"
         },
         "name": "10000",
         "notched": false,
         "offsetgroup": "10000",
         "orientation": "v",
         "showlegend": false,
         "type": "box",
         "x": [
          "merge",
          "merge",
          "merge",
          "merge",
          "merge",
          "merge",
          "merge",
          "merge",
          "merge",
          "merge",
          "merge",
          "merge",
          "merge",
          "merge",
          "merge",
          "merge",
          "merge",
          "merge",
          "merge",
          "merge",
          "quick",
          "quick",
          "quick",
          "quick",
          "quick",
          "quick",
          "quick",
          "quick",
          "quick",
          "quick",
          "quick",
          "quick",
          "quick",
          "quick",
          "quick",
          "quick",
          "quick",
          "quick",
          "quick",
          "quick"
         ],
         "x0": " ",
         "xaxis": "x8",
         "y": [
          0.0006886720075272025,
          0.0006772710039513186,
          0.0006724410050082952,
          0.0006688440043944865,
          0.0006745150021743028,
          0.0010578360088402403,
          0.0009867100015981123,
          0.001272774999961257,
          0.0013327089982340112,
          0.0011577060067793354,
          0.0013494710001396015,
          0.0011686060024658216,
          0.0010809099912876263,
          0.0007742650050204246,
          0.001093302998924628,
          0.001258257994777523,
          0.0012794770009350034,
          0.0012258950009709224,
          0.0014451129973167556,
          0.0010444200015626848,
          0.0011452879989519715,
          0.0011319720069877805,
          0.001109739998355508,
          0.0010796220012707636,
          0.0010928669944405556,
          0.00081408501137048,
          0.0008074020006461068,
          0.0007264180021593347,
          0.0007288019987754525,
          0.0007725660107098519,
          0.000837679996038787,
          0.0006852889928268269,
          0.0006680859951302409,
          0.0008222309988923369,
          0.0007051780121400952,
          0.0008092960051726551,
          0.000908585003344342,
          0.0006905790069140493,
          0.0008121020073303952,
          0.0008560849964851514
         ],
         "y0": " ",
         "yaxis": "y8"
        },
        {
         "alignmentgroup": "True",
         "boxpoints": "all",
         "hovertemplate": "Size=10000<br>Construct=tasks<br>Cutoff=1000<br>Sorting Algorithm=%{x}<br>Duration (s)=%{y}<extra></extra>",
         "legendgroup": "10000",
         "marker": {
          "color": "rgb(221,132,82)"
         },
         "name": "10000",
         "notched": false,
         "offsetgroup": "10000",
         "orientation": "v",
         "showlegend": false,
         "type": "box",
         "x": [
          "merge",
          "merge",
          "merge",
          "merge",
          "merge",
          "merge",
          "merge",
          "merge",
          "merge",
          "merge",
          "merge",
          "merge",
          "merge",
          "merge",
          "merge",
          "merge",
          "merge",
          "merge",
          "merge",
          "merge",
          "quick",
          "quick",
          "quick",
          "quick",
          "quick",
          "quick",
          "quick",
          "quick",
          "quick",
          "quick",
          "quick",
          "quick",
          "quick",
          "quick",
          "quick",
          "quick",
          "quick",
          "quick",
          "quick",
          "quick"
         ],
         "x0": " ",
         "xaxis": "x9",
         "y": [
          0.0006374649965437129,
          0.0006357009988278152,
          0.0006361319974530488,
          0.0006315529899438843,
          0.0006369829934556037,
          0.0009895550028886646,
          0.0009493690013187006,
          0.0009504909976385533,
          0.0009395200031576678,
          0.0009399609989486633,
          0.0010064579983009023,
          0.0009775020007509738,
          0.0009754490019986406,
          0.0009729939920362084,
          0.0009543690102873369,
          0.0009974709973903375,
          0.0009761200053617359,
          0.0007510709983762354,
          0.0009340300020994617,
          0.0008119769918266685,
          0.0008904710120987146,
          0.0008346149988938122,
          0.0008344439993379637,
          0.0008092060015769674,
          0.0009621380013413728,
          0.0008197360002668574,
          0.0007823140040272848,
          0.0006114179996075109,
          0.000742137010092847,
          0.0007615549984620883,
          0.0005835449992446229,
          0.0005353329906938598,
          0.0005932829953962937,
          0.0005753089935751632,
          0.0005419249937403947,
          0.0005580260040005669,
          0.0004732439992949367,
          0.000520824993145652,
          0.0004586559953168034,
          0.0004938130005029961
         ],
         "y0": " ",
         "yaxis": "y9"
        },
        {
         "alignmentgroup": "True",
         "boxpoints": "all",
         "hovertemplate": "Size=10000<br>Construct=sections<br>Cutoff=0<br>Sorting Algorithm=%{x}<br>Duration (s)=%{y}<extra></extra>",
         "legendgroup": "10000",
         "marker": {
          "color": "rgb(221,132,82)"
         },
         "name": "10000",
         "notched": false,
         "offsetgroup": "10000",
         "orientation": "v",
         "showlegend": false,
         "type": "box",
         "x": [
          "merge",
          "merge",
          "merge",
          "merge",
          "merge",
          "merge",
          "merge",
          "merge",
          "merge",
          "merge",
          "merge",
          "merge",
          "merge",
          "merge",
          "merge",
          "merge",
          "merge",
          "merge",
          "merge",
          "merge",
          "quick",
          "quick",
          "quick",
          "quick",
          "quick",
          "quick",
          "quick",
          "quick",
          "quick",
          "quick",
          "quick",
          "quick",
          "quick",
          "quick",
          "quick",
          "quick",
          "quick",
          "quick",
          "quick",
          "quick"
         ],
         "x0": " ",
         "xaxis": "x4",
         "y": [
          0.0035300560120958835,
          0.004212254993035458,
          0.002650820999406278,
          0.0026577740063657984,
          0.002742894997936673,
          0.00451936099852901,
          0.004241229995386675,
          0.0035288030048832297,
          0.002809903002344072,
          0.003513372997986153,
          0.004199721006443724,
          0.004356871009804309,
          0.0038756540016038335,
          0.0031521060009254143,
          0.0033452439965913072,
          0.004297808991395868,
          0.003956658998504281,
          0.004230631006066688,
          0.0034932949929498136,
          0.003303442994365469,
          0.003467734000878409,
          0.004048433009302244,
          0.002835095001501031,
          0.0028999190108152106,
          0.0028903609927510843,
          0.005549591005546972,
          0.00409339899488259,
          0.00326491599844303,
          0.003475117991911248,
          0.0043857380078407004,
          0.002809937999700196,
          0.002769009006442502,
          0.0028186840063426644,
          0.0027807410078821704,
          0.002800699992803857,
          0.002952880997327157,
          0.002843752008629963,
          0.002964271989185363,
          0.002865222995751537,
          0.0028522880020318553
         ],
         "y0": " ",
         "yaxis": "y4"
        },
        {
         "alignmentgroup": "True",
         "boxpoints": "all",
         "hovertemplate": "Size=10000<br>Construct=sections<br>Cutoff=100<br>Sorting Algorithm=%{x}<br>Duration (s)=%{y}<extra></extra>",
         "legendgroup": "10000",
         "marker": {
          "color": "rgb(221,132,82)"
         },
         "name": "10000",
         "notched": false,
         "offsetgroup": "10000",
         "orientation": "v",
         "showlegend": false,
         "type": "box",
         "x": [
          "merge",
          "merge",
          "merge",
          "merge",
          "merge",
          "merge",
          "merge",
          "merge",
          "merge",
          "merge",
          "merge",
          "merge",
          "merge",
          "merge",
          "merge",
          "merge",
          "merge",
          "merge",
          "merge",
          "merge",
          "quick",
          "quick",
          "quick",
          "quick",
          "quick",
          "quick",
          "quick",
          "quick",
          "quick",
          "quick",
          "quick",
          "quick",
          "quick",
          "quick",
          "quick",
          "quick",
          "quick",
          "quick",
          "quick",
          "quick"
         ],
         "x0": " ",
         "xaxis": "x5",
         "y": [
          0.0006568810058524832,
          0.0006590559933101758,
          0.0006504089978989214,
          0.0006508100050268696,
          0.0006420230056392028,
          0.0010057659965241328,
          0.0009528149967081844,
          0.0009540879982523619,
          0.0009940640011336654,
          0.0009568730019964276,
          0.0009714010084280744,
          0.0010808990045916287,
          0.001131795987021178,
          0.0009815599914873019,
          0.00100423299591057,
          0.0010727039916673675,
          0.0012045949988532814,
          0.001006998005323112,
          0.0010026700037997216,
          0.0011705600045388564,
          0.0012634240119950846,
          0.0012295290071051568,
          0.0012394579971442,
          0.00111521000508219,
          0.0012332659971434625,
          0.0012471219961298632,
          0.0011006319982698187,
          0.0011027769942302257,
          0.0012523219920694828,
          0.0017627570050535726,
          0.0012565709912450984,
          0.0011491049954202026,
          0.0012242689990671352,
          0.0011631219967966901,
          0.0011176559928571805,
          0.0012247999984538185,
          0.0012062140012858436,
          0.0012053730024490505,
          0.0011782410001615062,
          0.0011495859944261613
         ],
         "y0": " ",
         "yaxis": "y5"
        },
        {
         "alignmentgroup": "True",
         "boxpoints": "all",
         "hovertemplate": "Size=10000<br>Construct=sections<br>Cutoff=1000<br>Sorting Algorithm=%{x}<br>Duration (s)=%{y}<extra></extra>",
         "legendgroup": "10000",
         "marker": {
          "color": "rgb(221,132,82)"
         },
         "name": "10000",
         "notched": false,
         "offsetgroup": "10000",
         "orientation": "v",
         "showlegend": false,
         "type": "box",
         "x": [
          "merge",
          "merge",
          "merge",
          "merge",
          "merge",
          "merge",
          "merge",
          "merge",
          "merge",
          "merge",
          "merge",
          "merge",
          "merge",
          "merge",
          "merge",
          "merge",
          "merge",
          "merge",
          "merge",
          "merge",
          "quick",
          "quick",
          "quick",
          "quick",
          "quick",
          "quick",
          "quick",
          "quick",
          "quick",
          "quick",
          "quick",
          "quick",
          "quick",
          "quick",
          "quick",
          "quick",
          "quick",
          "quick",
          "quick",
          "quick"
         ],
         "x0": " ",
         "xaxis": "x6",
         "y": [
          0.0006279869994614272,
          0.0006308419979177416,
          0.0006237579946173355,
          0.0006223160016816108,
          0.0006297999934758991,
          0.000952704998780973,
          0.0009349619940621777,
          0.000952054004301317,
          0.0009274070034734906,
          0.0009261040104320272,
          0.0009759289969224483,
          0.0009454009996261448,
          0.0009686849953141065,
          0.0009398410038556905,
          0.0009414640080649405,
          0.0011314559960737824,
          0.0009189209959004074,
          0.0007916480099083855,
          0.0007869090040912852,
          0.0009561619954183696,
          0.0011810559954028574,
          0.0011814770114142448,
          0.0011774189915740862,
          0.0011764269875129685,
          0.0012043909955536947,
          0.0017066610016627235,
          0.0015151849947869778,
          0.0010195779905188829,
          0.0010732509981608018,
          0.001125820999732241,
          0.0011635929986368865,
          0.0010641019907779992,
          0.0010770880035124721,
          0.0010638819949235767,
          0.0011195480037713423,
          0.0011765880044549706,
          0.0011246280046179893,
          0.0011432640021666884,
          0.001169644994661212,
          0.001163513006758876
         ],
         "y0": " ",
         "yaxis": "y6"
        },
        {
         "alignmentgroup": "True",
         "boxpoints": "all",
         "hovertemplate": "Size=10000<br>Construct=parallel<br>Cutoff=0<br>Sorting Algorithm=%{x}<br>Duration (s)=%{y}<extra></extra>",
         "legendgroup": "10000",
         "marker": {
          "color": "rgb(221,132,82)"
         },
         "name": "10000",
         "notched": false,
         "offsetgroup": "10000",
         "orientation": "v",
         "showlegend": false,
         "type": "box",
         "x": [
          "enumeration",
          "enumeration",
          "enumeration",
          "enumeration",
          "enumeration",
          "enumeration",
          "enumeration",
          "enumeration",
          "enumeration",
          "enumeration",
          "enumeration",
          "enumeration",
          "enumeration",
          "enumeration",
          "enumeration",
          "enumeration",
          "enumeration",
          "enumeration",
          "enumeration",
          "enumeration"
         ],
         "x0": " ",
         "xaxis": "x",
         "y": [
          0.2482817459967919,
          0.2425068379961885,
          0.24318886599212414,
          0.24341447500046345,
          0.2433096200111322,
          0.1285854220041074,
          0.12423285999102518,
          0.1235990439890884,
          0.12299768799857702,
          0.12286508100805806,
          0.07052553399989847,
          0.06798885999887716,
          0.06618144699314144,
          0.06383527499565389,
          0.06567385500238744,
          0.04521434799244162,
          0.04398106200096663,
          0.04510200100776274,
          0.04521340700739529,
          0.04506371899333317
         ],
         "y0": " ",
         "yaxis": "y"
        },
        {
         "alignmentgroup": "True",
         "boxpoints": "all",
         "hovertemplate": "Size=10000<br>Construct=parallel<br>Cutoff=100<br>Sorting Algorithm=%{x}<br>Duration (s)=%{y}<extra></extra>",
         "legendgroup": "10000",
         "marker": {
          "color": "rgb(221,132,82)"
         },
         "name": "10000",
         "notched": false,
         "offsetgroup": "10000",
         "orientation": "v",
         "showlegend": false,
         "type": "box",
         "x": [
          "enumeration",
          "enumeration",
          "enumeration",
          "enumeration",
          "enumeration",
          "enumeration",
          "enumeration",
          "enumeration",
          "enumeration",
          "enumeration",
          "enumeration",
          "enumeration",
          "enumeration",
          "enumeration",
          "enumeration",
          "enumeration",
          "enumeration",
          "enumeration",
          "enumeration",
          "enumeration"
         ],
         "x0": " ",
         "xaxis": "x2",
         "y": [
          0.24362933200609405,
          0.24361525199492465,
          0.2492948150029406,
          0.24332723699626516,
          0.24648717700620185,
          0.12282191800477447,
          0.1229803229944082,
          0.12451665299886372,
          0.12373075498908293,
          0.122911184997065,
          0.06772470899159089,
          0.06504201299685519,
          0.06794131199421827,
          0.068520916000125,
          0.0663879000057932,
          0.08998715798952618,
          0.042385260996525176,
          0.041404611998586915,
          0.04110260200104676,
          0.04198921700299252
         ],
         "y0": " ",
         "yaxis": "y2"
        },
        {
         "alignmentgroup": "True",
         "boxpoints": "all",
         "hovertemplate": "Size=10000<br>Construct=parallel<br>Cutoff=1000<br>Sorting Algorithm=%{x}<br>Duration (s)=%{y}<extra></extra>",
         "legendgroup": "10000",
         "marker": {
          "color": "rgb(221,132,82)"
         },
         "name": "10000",
         "notched": false,
         "offsetgroup": "10000",
         "orientation": "v",
         "showlegend": false,
         "type": "box",
         "x": [
          "enumeration",
          "enumeration",
          "enumeration",
          "enumeration",
          "enumeration",
          "enumeration",
          "enumeration",
          "enumeration",
          "enumeration",
          "enumeration",
          "enumeration",
          "enumeration",
          "enumeration",
          "enumeration",
          "enumeration",
          "enumeration",
          "enumeration",
          "enumeration",
          "enumeration",
          "enumeration"
         ],
         "x0": " ",
         "xaxis": "x3",
         "y": [
          0.24247114500030875,
          0.24560632900102064,
          0.2436280900001293,
          0.24276637900038625,
          0.24432871500903275,
          0.12294781299715395,
          0.1230369879922364,
          0.12327798501064535,
          0.123412521003047,
          0.12304989900439978,
          0.06556931200611871,
          0.06731391799985431,
          0.06690163700841367,
          0.06697991100372747,
          0.06569252398912795,
          0.041628607010352425,
          0.04499134499928914,
          0.044769473010092035,
          0.04532850100076757,
          0.04473029999644496
         ],
         "y0": " ",
         "yaxis": "y3"
        },
        {
         "alignmentgroup": "True",
         "boxpoints": "all",
         "hovertemplate": "Size=100000<br>Construct=serial<br>Cutoff=0<br>Sorting Algorithm=%{x}<br>Duration (s)=%{y}<extra></extra>",
         "legendgroup": "100000",
         "marker": {
          "color": "rgb(85,168,104)"
         },
         "name": "100000",
         "notched": false,
         "offsetgroup": "100000",
         "orientation": "v",
         "showlegend": true,
         "type": "box",
         "x": [
          "merge",
          "merge",
          "merge",
          "merge",
          "merge",
          "enumeration",
          "enumeration",
          "enumeration",
          "enumeration",
          "enumeration",
          "quick",
          "quick",
          "quick",
          "quick",
          "quick"
         ],
         "x0": " ",
         "xaxis": "x10",
         "y": [
          0.016560150994337164,
          0.01401985100528691,
          0.014057713997317478,
          0.014083982998272402,
          0.014058375003514813,
          23.830702096995086,
          23.793007883999962,
          23.73145163200388,
          23.83424479099631,
          23.816961625998374,
          0.0185017330077244,
          0.016697676008334383,
          0.016323492003721185,
          0.016726792004192248,
          0.016698719002306458
         ],
         "y0": " ",
         "yaxis": "y10"
        },
        {
         "alignmentgroup": "True",
         "boxpoints": "all",
         "hovertemplate": "Size=100000<br>Construct=tasks<br>Cutoff=0<br>Sorting Algorithm=%{x}<br>Duration (s)=%{y}<extra></extra>",
         "legendgroup": "100000",
         "marker": {
          "color": "rgb(85,168,104)"
         },
         "name": "100000",
         "notched": false,
         "offsetgroup": "100000",
         "orientation": "v",
         "showlegend": false,
         "type": "box",
         "x": [
          "merge",
          "merge",
          "merge",
          "merge",
          "merge",
          "merge",
          "merge",
          "merge",
          "merge",
          "merge",
          "merge",
          "merge",
          "merge",
          "merge",
          "merge",
          "merge",
          "merge",
          "merge",
          "merge",
          "merge",
          "quick",
          "quick",
          "quick",
          "quick",
          "quick",
          "quick",
          "quick",
          "quick",
          "quick",
          "quick",
          "quick",
          "quick",
          "quick",
          "quick",
          "quick",
          "quick",
          "quick",
          "quick",
          "quick",
          "quick"
         ],
         "x0": " ",
         "xaxis": "x7",
         "y": [
          0.034405740996589884,
          0.03251945700321812,
          0.03224492400477175,
          0.03291852699476294,
          0.032852483011083684,
          0.037608343991450965,
          0.03215712800738402,
          0.03187956698820926,
          0.03691190500103402,
          0.035088171003735624,
          0.0370866279990878,
          0.032316480006556965,
          0.03240685199853033,
          0.03584608499659225,
          0.03483007999602705,
          0.0356231900077546,
          0.03656566599966026,
          0.03734095199615695,
          0.03361351099738385,
          0.04142767899611499,
          0.013361412988160735,
          0.012371662000077777,
          0.012538732000393793,
          0.01369905901083257,
          0.01175956400402356,
          0.01803822600049898,
          0.013353176997043192,
          0.014820630007307043,
          0.013859204002073966,
          0.014992127995355988,
          0.021802747010951862,
          0.02173407599912025,
          0.020875546004390344,
          0.02040982700418681,
          0.02388800100015942,
          0.05622439998842311,
          0.04359857099188957,
          0.047083497993298806,
          0.06786121700133664,
          0.04537029500352218
         ],
         "y0": " ",
         "yaxis": "y7"
        },
        {
         "alignmentgroup": "True",
         "boxpoints": "all",
         "hovertemplate": "Size=100000<br>Construct=tasks<br>Cutoff=100<br>Sorting Algorithm=%{x}<br>Duration (s)=%{y}<extra></extra>",
         "legendgroup": "100000",
         "marker": {
          "color": "rgb(85,168,104)"
         },
         "name": "100000",
         "notched": false,
         "offsetgroup": "100000",
         "orientation": "v",
         "showlegend": false,
         "type": "box",
         "x": [
          "merge",
          "merge",
          "merge",
          "merge",
          "merge",
          "merge",
          "merge",
          "merge",
          "merge",
          "merge",
          "merge",
          "merge",
          "merge",
          "merge",
          "merge",
          "merge",
          "merge",
          "merge",
          "merge",
          "merge",
          "quick",
          "quick",
          "quick",
          "quick",
          "quick",
          "quick",
          "quick",
          "quick",
          "quick",
          "quick",
          "quick",
          "quick",
          "quick",
          "quick",
          "quick",
          "quick",
          "quick",
          "quick",
          "quick",
          "quick"
         ],
         "x0": " ",
         "xaxis": "x8",
         "y": [
          0.007959384995047003,
          0.008085865003522484,
          0.00858328299364075,
          0.008487159997457637,
          0.008192428009351715,
          0.011059199998271652,
          0.007995754000148736,
          0.007940918992972001,
          0.007919919007690622,
          0.007933765999041498,
          0.012051851008436644,
          0.012315273997955956,
          0.011774211990996264,
          0.011553301999811085,
          0.01287438900908455,
          0.012113409000448884,
          0.011620810008025728,
          0.012806649989215657,
          0.013889852998545392,
          0.008227194994105956,
          0.010726829990744592,
          0.01271988800726831,
          0.012466845000744796,
          0.013700601004529744,
          0.013997578993439673,
          0.008848022000165656,
          0.009042060992214829,
          0.010221274002105929,
          0.009210614996845834,
          0.009312328998930752,
          0.009487622999586163,
          0.008716128999367356,
          0.008373686010600068,
          0.008980725004221313,
          0.009854974996414969,
          0.008640514002763666,
          0.010423651008750312,
          0.00943894000374712,
          0.010434411000460386,
          0.009385798999574035
         ],
         "y0": " ",
         "yaxis": "y8"
        },
        {
         "alignmentgroup": "True",
         "boxpoints": "all",
         "hovertemplate": "Size=100000<br>Construct=tasks<br>Cutoff=1000<br>Sorting Algorithm=%{x}<br>Duration (s)=%{y}<extra></extra>",
         "legendgroup": "100000",
         "marker": {
          "color": "rgb(85,168,104)"
         },
         "name": "100000",
         "notched": false,
         "offsetgroup": "100000",
         "orientation": "v",
         "showlegend": false,
         "type": "box",
         "x": [
          "merge",
          "merge",
          "merge",
          "merge",
          "merge",
          "merge",
          "merge",
          "merge",
          "merge",
          "merge",
          "merge",
          "merge",
          "merge",
          "merge",
          "merge",
          "merge",
          "merge",
          "merge",
          "merge",
          "merge",
          "quick",
          "quick",
          "quick",
          "quick",
          "quick",
          "quick",
          "quick",
          "quick",
          "quick",
          "quick",
          "quick",
          "quick",
          "quick",
          "quick",
          "quick",
          "quick",
          "quick",
          "quick",
          "quick",
          "quick"
         ],
         "x0": " ",
         "xaxis": "x9",
         "y": [
          0.008172620000550523,
          0.007692485989537091,
          0.0077107609977247185,
          0.00765268100076355,
          0.007924909004941581,
          0.0077253790077520534,
          0.007695652006077581,
          0.0076494640088640145,
          0.007979974005138502,
          0.0076602949993684905,
          0.011375934001989664,
          0.011482026005978696,
          0.013659695003298113,
          0.012891241000033915,
          0.011824929999420421,
          0.010685186993214302,
          0.012490748005802743,
          0.013272816999233328,
          0.011732483006198892,
          0.013289538997923957,
          0.013857922007446177,
          0.011132054991321638,
          0.012999080994632095,
          0.012701953994110228,
          0.012544653000077231,
          0.006667865993222222,
          0.010074995996546932,
          0.00906602799659595,
          0.007844866006053053,
          0.007492382006603294,
          0.005430643999716267,
          0.007231623996631242,
          0.0076179519965080544,
          0.005984581002849154,
          0.007642779004527256,
          0.005039135008701122,
          0.00549527700059116,
          0.005618802999379113,
          0.005234819007455371,
          0.005490928000654094
         ],
         "y0": " ",
         "yaxis": "y9"
        },
        {
         "alignmentgroup": "True",
         "boxpoints": "all",
         "hovertemplate": "Size=100000<br>Construct=sections<br>Cutoff=0<br>Sorting Algorithm=%{x}<br>Duration (s)=%{y}<extra></extra>",
         "legendgroup": "100000",
         "marker": {
          "color": "rgb(85,168,104)"
         },
         "name": "100000",
         "notched": false,
         "offsetgroup": "100000",
         "orientation": "v",
         "showlegend": false,
         "type": "box",
         "x": [
          "merge",
          "merge",
          "merge",
          "merge",
          "merge",
          "merge",
          "merge",
          "merge",
          "merge",
          "merge",
          "merge",
          "merge",
          "merge",
          "merge",
          "merge",
          "merge",
          "merge",
          "merge",
          "merge",
          "merge",
          "quick",
          "quick",
          "quick",
          "quick",
          "quick",
          "quick",
          "quick",
          "quick",
          "quick",
          "quick",
          "quick",
          "quick",
          "quick",
          "quick",
          "quick",
          "quick",
          "quick",
          "quick",
          "quick",
          "quick"
         ],
         "x0": " ",
         "xaxis": "x4",
         "y": [
          0.02716547700401861,
          0.027160085999639705,
          0.02704827400157228,
          0.028376934991683807,
          0.026904058991931375,
          0.03022046700061765,
          0.026093032996868715,
          0.03076093700656202,
          0.026895652001257986,
          0.029049545992165807,
          0.033425713001633994,
          0.028473958998802118,
          0.03287277999334037,
          0.029878084998927083,
          0.02961715700803325,
          0.036756870002136566,
          0.0327938889968209,
          0.032411170002887964,
          0.03236810899397824,
          0.03186574099527206,
          0.030422324009123255,
          0.030411924002692107,
          0.030316389995277856,
          0.03074847698735539,
          0.0301147660065908,
          0.030553164004231807,
          0.030384159996174283,
          0.029871249993448142,
          0.03055896400474012,
          0.030775155988521874,
          0.031229104002704844,
          0.03134889299690258,
          0.03048433100047987,
          0.031332852013292715,
          0.030860138998832557,
          0.030600771991885267,
          0.03093946899753064,
          0.031147396002779718,
          0.030906807005521838,
          0.03104969099513255
         ],
         "y0": " ",
         "yaxis": "y4"
        },
        {
         "alignmentgroup": "True",
         "boxpoints": "all",
         "hovertemplate": "Size=100000<br>Construct=sections<br>Cutoff=100<br>Sorting Algorithm=%{x}<br>Duration (s)=%{y}<extra></extra>",
         "legendgroup": "100000",
         "marker": {
          "color": "rgb(85,168,104)"
         },
         "name": "100000",
         "notched": false,
         "offsetgroup": "100000",
         "orientation": "v",
         "showlegend": false,
         "type": "box",
         "x": [
          "merge",
          "merge",
          "merge",
          "merge",
          "merge",
          "merge",
          "merge",
          "merge",
          "merge",
          "merge",
          "merge",
          "merge",
          "merge",
          "merge",
          "merge",
          "merge",
          "merge",
          "merge",
          "merge",
          "merge",
          "quick",
          "quick",
          "quick",
          "quick",
          "quick",
          "quick",
          "quick",
          "quick",
          "quick",
          "quick",
          "quick",
          "quick",
          "quick",
          "quick",
          "quick",
          "quick",
          "quick",
          "quick",
          "quick",
          "quick"
         ],
         "x0": " ",
         "xaxis": "x5",
         "y": [
          0.007847390996175818,
          0.007872648988268338,
          0.007900262004113756,
          0.007878841002820991,
          0.007905802005552687,
          0.007793438999215141,
          0.00780780499917455,
          0.00777951099735219,
          0.007804648994351737,
          0.007833023992134258,
          0.01067592899198644,
          0.011799851999967359,
          0.01398120800149627,
          0.008217476002755577,
          0.015057466996950097,
          0.013546629008487798,
          0.012077510007657112,
          0.012360911001451312,
          0.008811207007966003,
          0.013199388005887158,
          0.01683606101141777,
          0.016015432993299328,
          0.016674963000696152,
          0.01668646399048157,
          0.018387855001492426,
          0.015749985992442816,
          0.01664446500944905,
          0.01824903899978381,
          0.018284447010955773,
          0.018476454002666287,
          0.016782989012426697,
          0.018611210995004512,
          0.016643922994262542,
          0.016027787001803517,
          0.015878300997428596,
          0.015454149994184263,
          0.01582469799905084,
          0.015431145991897209,
          0.01604572001087945,
          0.015943093996611424
         ],
         "y0": " ",
         "yaxis": "y5"
        },
        {
         "alignmentgroup": "True",
         "boxpoints": "all",
         "hovertemplate": "Size=100000<br>Construct=sections<br>Cutoff=1000<br>Sorting Algorithm=%{x}<br>Duration (s)=%{y}<extra></extra>",
         "legendgroup": "100000",
         "marker": {
          "color": "rgb(85,168,104)"
         },
         "name": "100000",
         "notched": false,
         "offsetgroup": "100000",
         "orientation": "v",
         "showlegend": false,
         "type": "box",
         "x": [
          "merge",
          "merge",
          "merge",
          "merge",
          "merge",
          "merge",
          "merge",
          "merge",
          "merge",
          "merge",
          "merge",
          "merge",
          "merge",
          "merge",
          "merge",
          "merge",
          "merge",
          "merge",
          "merge",
          "merge",
          "quick",
          "quick",
          "quick",
          "quick",
          "quick",
          "quick",
          "quick",
          "quick",
          "quick",
          "quick",
          "quick",
          "quick",
          "quick",
          "quick",
          "quick",
          "quick",
          "quick",
          "quick",
          "quick",
          "quick"
         ],
         "x0": " ",
         "xaxis": "x6",
         "y": [
          0.007680914000957274,
          0.007663130003493278,
          0.007624215999385342,
          0.00763310299953446,
          0.0077116829925216734,
          0.0076358790101949126,
          0.007662980002351106,
          0.007622442004503681,
          0.0075988580065313735,
          0.007655124994926155,
          0.015167065997957254,
          0.015001341002061963,
          0.01384903500729706,
          0.014941977002308704,
          0.007793288008542731,
          0.01340104200062342,
          0.012396388003253378,
          0.013890513990190813,
          0.01272746900212951,
          0.01259713000035845,
          0.01798706900444813,
          0.015262094995705413,
          0.015205567004159091,
          0.015117619012016803,
          0.01646996199269779,
          0.017831261007813737,
          0.015233318001264706,
          0.016454690994578414,
          0.017821112007368356,
          0.015190778009127825,
          0.016410597003414296,
          0.016372885002056137,
          0.01942530598898884,
          0.015528333009569906,
          0.01549844499095343,
          0.015512821992160752,
          0.015486261996557003,
          0.015196477994322775,
          0.015679521005949937,
          0.01541964399802964
         ],
         "y0": " ",
         "yaxis": "y6"
        },
        {
         "alignmentgroup": "True",
         "boxpoints": "all",
         "hovertemplate": "Size=100000<br>Construct=parallel<br>Cutoff=0<br>Sorting Algorithm=%{x}<br>Duration (s)=%{y}<extra></extra>",
         "legendgroup": "100000",
         "marker": {
          "color": "rgb(85,168,104)"
         },
         "name": "100000",
         "notched": false,
         "offsetgroup": "100000",
         "orientation": "v",
         "showlegend": false,
         "type": "box",
         "x": [
          "enumeration",
          "enumeration",
          "enumeration",
          "enumeration",
          "enumeration",
          "enumeration",
          "enumeration",
          "enumeration",
          "enumeration",
          "enumeration",
          "enumeration",
          "enumeration",
          "enumeration",
          "enumeration",
          "enumeration",
          "enumeration",
          "enumeration",
          "enumeration",
          "enumeration",
          "enumeration"
         ],
         "x0": " ",
         "xaxis": "x",
         "y": [
          24.24142304698762,
          24.223183065987538,
          24.201698051008865,
          24.210961538992706,
          24.216400823992444,
          12.317169838002885,
          12.318260343003207,
          12.32060761800676,
          12.310699747002218,
          12.308516789998976,
          6.325522558996454,
          6.300280109004233,
          6.296989390990348,
          6.298988102003933,
          6.294908919007867,
          3.8773299409949686,
          3.814043184000184,
          3.891815519993543,
          3.830441169004189,
          3.8956643400015305
         ],
         "y0": " ",
         "yaxis": "y"
        },
        {
         "alignmentgroup": "True",
         "boxpoints": "all",
         "hovertemplate": "Size=100000<br>Construct=parallel<br>Cutoff=100<br>Sorting Algorithm=%{x}<br>Duration (s)=%{y}<extra></extra>",
         "legendgroup": "100000",
         "marker": {
          "color": "rgb(85,168,104)"
         },
         "name": "100000",
         "notched": false,
         "offsetgroup": "100000",
         "orientation": "v",
         "showlegend": false,
         "type": "box",
         "x": [
          "enumeration",
          "enumeration",
          "enumeration",
          "enumeration",
          "enumeration",
          "enumeration",
          "enumeration",
          "enumeration",
          "enumeration",
          "enumeration",
          "enumeration",
          "enumeration",
          "enumeration",
          "enumeration",
          "enumeration",
          "enumeration",
          "enumeration",
          "enumeration",
          "enumeration",
          "enumeration"
         ],
         "x0": " ",
         "xaxis": "x2",
         "y": [
          24.211795431008795,
          24.213921313988976,
          24.215566999992014,
          24.2076644290064,
          24.21375562400499,
          12.316608977998841,
          12.319747118002851,
          12.318853097007375,
          12.312822077001329,
          12.313027880009034,
          6.303095961993677,
          6.302331888990011,
          6.297508249001112,
          6.29143570800079,
          6.291536848002579,
          3.843742072000168,
          3.8414445859962143,
          3.8948922160052466,
          3.8660479230020424,
          3.90113843799918
         ],
         "y0": " ",
         "yaxis": "y2"
        },
        {
         "alignmentgroup": "True",
         "boxpoints": "all",
         "hovertemplate": "Size=100000<br>Construct=parallel<br>Cutoff=1000<br>Sorting Algorithm=%{x}<br>Duration (s)=%{y}<extra></extra>",
         "legendgroup": "100000",
         "marker": {
          "color": "rgb(85,168,104)"
         },
         "name": "100000",
         "notched": false,
         "offsetgroup": "100000",
         "orientation": "v",
         "showlegend": false,
         "type": "box",
         "x": [
          "enumeration",
          "enumeration",
          "enumeration",
          "enumeration",
          "enumeration",
          "enumeration",
          "enumeration",
          "enumeration",
          "enumeration",
          "enumeration",
          "enumeration",
          "enumeration",
          "enumeration",
          "enumeration",
          "enumeration",
          "enumeration",
          "enumeration",
          "enumeration",
          "enumeration",
          "enumeration"
         ],
         "x0": " ",
         "xaxis": "x3",
         "y": [
          24.211391172997537,
          24.21791024800041,
          24.216323838001696,
          24.211348764001738,
          24.208462031005183,
          12.315431466005974,
          12.320514584003833,
          12.327206695990752,
          12.320704134996047,
          12.311366866008026,
          6.290317571008927,
          6.290433263013256,
          6.290871723991586,
          6.293002438003896,
          6.294123330997536,
          3.9140377730072946,
          3.87963005999336,
          3.904980751991389,
          3.918886495011975,
          3.8437588469969346
         ],
         "y0": " ",
         "yaxis": "y3"
        },
        {
         "alignmentgroup": "True",
         "boxpoints": "all",
         "hovertemplate": "Size=1000000<br>Construct=serial<br>Cutoff=0<br>Sorting Algorithm=%{x}<br>Duration (s)=%{y}<extra></extra>",
         "legendgroup": "1000000",
         "marker": {
          "color": "rgb(196,78,82)"
         },
         "name": "1000000",
         "notched": false,
         "offsetgroup": "1000000",
         "orientation": "v",
         "showlegend": true,
         "type": "box",
         "x": [
          "merge",
          "merge",
          "merge",
          "merge",
          "merge",
          "quick",
          "quick",
          "quick",
          "quick",
          "quick"
         ],
         "x0": " ",
         "xaxis": "x10",
         "y": [
          0.16982890000508633,
          0.17013241899257991,
          0.16937383099866565,
          0.17074875099933706,
          0.17118930000287946,
          0.19399026500468608,
          0.21129793400177727,
          0.19287587299186273,
          0.19280181000067387,
          0.19219733600039035
         ],
         "y0": " ",
         "yaxis": "y10"
        },
        {
         "alignmentgroup": "True",
         "boxpoints": "all",
         "hovertemplate": "Size=1000000<br>Construct=tasks<br>Cutoff=0<br>Sorting Algorithm=%{x}<br>Duration (s)=%{y}<extra></extra>",
         "legendgroup": "1000000",
         "marker": {
          "color": "rgb(196,78,82)"
         },
         "name": "1000000",
         "notched": false,
         "offsetgroup": "1000000",
         "orientation": "v",
         "showlegend": false,
         "type": "box",
         "x": [
          "merge",
          "merge",
          "merge",
          "merge",
          "merge",
          "merge",
          "merge",
          "merge",
          "merge",
          "merge",
          "merge",
          "merge",
          "merge",
          "merge",
          "merge",
          "merge",
          "merge",
          "merge",
          "merge",
          "merge",
          "quick",
          "quick",
          "quick",
          "quick",
          "quick",
          "quick",
          "quick",
          "quick",
          "quick",
          "quick",
          "quick",
          "quick",
          "quick",
          "quick",
          "quick",
          "quick",
          "quick",
          "quick",
          "quick",
          "quick"
         ],
         "x0": " ",
         "xaxis": "x7",
         "y": [
          0.34135318599874154,
          0.3346900670003379,
          0.3371023700019577,
          0.3370075970015023,
          0.33752365600958,
          0.3436910529999295,
          0.326927172995056,
          0.3300762170110829,
          0.34013819499523373,
          0.3418570869980613,
          0.3493966249952791,
          0.3385683929955121,
          0.34125946898711845,
          0.3388624369981699,
          0.335134373002802,
          0.3475126920093317,
          0.3353770190005889,
          0.33903487300267443,
          0.3397311279986752,
          0.3355172360024881,
          0.1169128010078566,
          0.12000329099828375,
          0.11676792200887574,
          0.11770867799350525,
          0.11672661900229285,
          0.08065279001311863,
          0.07899136601190547,
          0.07947406599123497,
          0.07646947698958685,
          0.0740954729990335,
          0.08068522400571965,
          0.06460711499676108,
          0.07408912399841938,
          0.07784601899038535,
          0.07274786199559458,
          0.14280869098729454,
          0.16111783900123555,
          0.1340677950065583,
          0.11920474900398405,
          0.13635282799077686
         ],
         "y0": " ",
         "yaxis": "y7"
        },
        {
         "alignmentgroup": "True",
         "boxpoints": "all",
         "hovertemplate": "Size=1000000<br>Construct=tasks<br>Cutoff=100<br>Sorting Algorithm=%{x}<br>Duration (s)=%{y}<extra></extra>",
         "legendgroup": "1000000",
         "marker": {
          "color": "rgb(196,78,82)"
         },
         "name": "1000000",
         "notched": false,
         "offsetgroup": "1000000",
         "orientation": "v",
         "showlegend": false,
         "type": "box",
         "x": [
          "merge",
          "merge",
          "merge",
          "merge",
          "merge",
          "merge",
          "merge",
          "merge",
          "merge",
          "merge",
          "merge",
          "merge",
          "merge",
          "merge",
          "merge",
          "merge",
          "merge",
          "merge",
          "merge",
          "merge",
          "quick",
          "quick",
          "quick",
          "quick",
          "quick",
          "quick",
          "quick",
          "quick",
          "quick",
          "quick",
          "quick",
          "quick",
          "quick",
          "quick",
          "quick",
          "quick",
          "quick",
          "quick",
          "quick",
          "quick"
         ],
         "x0": " ",
         "xaxis": "x8",
         "y": [
          0.10443531601049473,
          0.09841691800102126,
          0.09897066300618462,
          0.10128285799873993,
          0.0971095969871385,
          0.1043561749975197,
          0.09702584099431989,
          0.1043994079955155,
          0.0987818959983997,
          0.09678074299881699,
          0.1057139040058246,
          0.09698392399877777,
          0.09664080000948161,
          0.09685754300153347,
          0.09807947000081184,
          0.09799220899003556,
          0.1040069940063404,
          0.09762333400431088,
          0.09551783300412353,
          0.09539196398691274,
          0.12524232499708887,
          0.11476525300531648,
          0.11610626299807335,
          0.11679672099126034,
          0.115810136005166,
          0.07015161799790803,
          0.07199680199846625,
          0.07475618300668428,
          0.07168520800769329,
          0.07131615100661293,
          0.05936235499393661,
          0.055796624990762204,
          0.056186449990491376,
          0.05358368900488131,
          0.054465203007566736,
          0.07580067400704138,
          0.07581662401207721,
          0.07824985099432526,
          0.07035019500472116,
          0.07166152700665407
         ],
         "y0": " ",
         "yaxis": "y8"
        },
        {
         "alignmentgroup": "True",
         "boxpoints": "all",
         "hovertemplate": "Size=1000000<br>Construct=tasks<br>Cutoff=1000<br>Sorting Algorithm=%{x}<br>Duration (s)=%{y}<extra></extra>",
         "legendgroup": "1000000",
         "marker": {
          "color": "rgb(196,78,82)"
         },
         "name": "1000000",
         "notched": false,
         "offsetgroup": "1000000",
         "orientation": "v",
         "showlegend": false,
         "type": "box",
         "x": [
          "merge",
          "merge",
          "merge",
          "merge",
          "merge",
          "merge",
          "merge",
          "merge",
          "merge",
          "merge",
          "merge",
          "merge",
          "merge",
          "merge",
          "merge",
          "merge",
          "merge",
          "merge",
          "merge",
          "merge",
          "quick",
          "quick",
          "quick",
          "quick",
          "quick",
          "quick",
          "quick",
          "quick",
          "quick",
          "quick",
          "quick",
          "quick",
          "quick",
          "quick",
          "quick",
          "quick",
          "quick",
          "quick",
          "quick",
          "quick"
         ],
         "x0": " ",
         "xaxis": "x9",
         "y": [
          0.09437713200168217,
          0.09355897099885625,
          0.09465413900034035,
          0.0933060410025064,
          0.09344662699731998,
          0.09256788701168259,
          0.0997897459892556,
          0.09234816899697762,
          0.0933642640011385,
          0.09373830500408076,
          0.1025904740090482,
          0.09915197300142607,
          0.0930796049942728,
          0.09349989499605726,
          0.09299992100568487,
          0.09302346101321744,
          0.10116765399288853,
          0.09389144400483927,
          0.10187170399876776,
          0.10075654099637177,
          0.11516231700079516,
          0.11608280400105285,
          0.11573224500170907,
          0.11651140300091355,
          0.11661236299551092,
          0.070418546005385,
          0.06841896699916104,
          0.06871453100757208,
          0.06965049800055567,
          0.07043752199388109,
          0.04471208399627358,
          0.04435042200202588,
          0.04413857900362928,
          0.04662104000453837,
          0.044431978996726684,
          0.040718623000429936,
          0.041032323002582416,
          0.04534761299146339,
          0.039765912995790124,
          0.04386967999744229
         ],
         "y0": " ",
         "yaxis": "y9"
        },
        {
         "alignmentgroup": "True",
         "boxpoints": "all",
         "hovertemplate": "Size=1000000<br>Construct=sections<br>Cutoff=0<br>Sorting Algorithm=%{x}<br>Duration (s)=%{y}<extra></extra>",
         "legendgroup": "1000000",
         "marker": {
          "color": "rgb(196,78,82)"
         },
         "name": "1000000",
         "notched": false,
         "offsetgroup": "1000000",
         "orientation": "v",
         "showlegend": false,
         "type": "box",
         "x": [
          "merge",
          "merge",
          "merge",
          "merge",
          "merge",
          "merge",
          "merge",
          "merge",
          "merge",
          "merge",
          "merge",
          "merge",
          "merge",
          "merge",
          "merge",
          "merge",
          "merge",
          "merge",
          "merge",
          "merge",
          "quick",
          "quick",
          "quick",
          "quick",
          "quick",
          "quick",
          "quick",
          "quick",
          "quick",
          "quick",
          "quick",
          "quick",
          "quick",
          "quick",
          "quick",
          "quick",
          "quick",
          "quick",
          "quick",
          "quick"
         ],
         "x0": " ",
         "xaxis": "x4",
         "y": [
          0.2854776199965272,
          0.28650080699299,
          0.2858710739965318,
          0.2878208470065147,
          0.2870086170005379,
          0.2724878009903477,
          0.2836709129915107,
          0.2738795580080477,
          0.2893708160117967,
          0.2875859240011778,
          0.28692207801213954,
          0.28359254098904785,
          0.28608599900326226,
          0.2851228020008421,
          0.2880565169907641,
          0.2867910640052287,
          0.2734492989984573,
          0.2874447560025146,
          0.2866240589937661,
          0.2890474440064281,
          0.27325836299860384,
          0.2746707049955148,
          0.2561943839973537,
          0.25691989400365856,
          0.2558115660067415,
          0.265152598003624,
          0.26693552199867554,
          0.2603294299915433,
          0.2588798819924705,
          0.2578061469976092,
          0.2563497509981971,
          0.2595347310125362,
          0.26225076500850264,
          0.25905278700520284,
          0.2590150020114379,
          0.2599760419980157,
          0.25654180299898144,
          0.24336046299140435,
          0.2538505270058522,
          0.253001350996783
         ],
         "y0": " ",
         "yaxis": "y4"
        },
        {
         "alignmentgroup": "True",
         "boxpoints": "all",
         "hovertemplate": "Size=1000000<br>Construct=sections<br>Cutoff=100<br>Sorting Algorithm=%{x}<br>Duration (s)=%{y}<extra></extra>",
         "legendgroup": "1000000",
         "marker": {
          "color": "rgb(196,78,82)"
         },
         "name": "1000000",
         "notched": false,
         "offsetgroup": "1000000",
         "orientation": "v",
         "showlegend": false,
         "type": "box",
         "x": [
          "merge",
          "merge",
          "merge",
          "merge",
          "merge",
          "merge",
          "merge",
          "merge",
          "merge",
          "merge",
          "merge",
          "merge",
          "merge",
          "merge",
          "merge",
          "merge",
          "merge",
          "merge",
          "merge",
          "merge",
          "quick",
          "quick",
          "quick",
          "quick",
          "quick",
          "quick",
          "quick",
          "quick",
          "quick",
          "quick",
          "quick",
          "quick",
          "quick",
          "quick",
          "quick",
          "quick",
          "quick",
          "quick",
          "quick",
          "quick"
         ],
         "x0": " ",
         "xaxis": "x5",
         "y": [
          0.10159712898894213,
          0.1024794179975288,
          0.10236230499867817,
          0.10138001300219912,
          0.10178395299590193,
          0.10040349699556828,
          0.10230217299249487,
          0.10018702399975156,
          0.10230146200046876,
          0.1016712589917006,
          0.10072862799279393,
          0.10242010999354534,
          0.10352199799672236,
          0.1045570700080134,
          0.10193136800080538,
          0.10532142900046892,
          0.10292055500030983,
          0.10413339600199834,
          0.10072234700783156,
          0.10269779000373093,
          0.15356886301015038,
          0.14229484400129874,
          0.15480211400426924,
          0.15372538699011784,
          0.15544271799444687,
          0.14776408699981405,
          0.15332266299810726,
          0.13789062800060492,
          0.14163733299938033,
          0.15411788799974602,
          0.13794630100892394,
          0.13811517400608864,
          0.14526919700438154,
          0.13788084700354375,
          0.14383345299575012,
          0.1565018359979149,
          0.1371791139972629,
          0.13683726100134666,
          0.1329396539949812,
          0.13757583900587633
         ],
         "y0": " ",
         "yaxis": "y5"
        },
        {
         "alignmentgroup": "True",
         "boxpoints": "all",
         "hovertemplate": "Size=1000000<br>Construct=sections<br>Cutoff=1000<br>Sorting Algorithm=%{x}<br>Duration (s)=%{y}<extra></extra>",
         "legendgroup": "1000000",
         "marker": {
          "color": "rgb(196,78,82)"
         },
         "name": "1000000",
         "notched": false,
         "offsetgroup": "1000000",
         "orientation": "v",
         "showlegend": false,
         "type": "box",
         "x": [
          "merge",
          "merge",
          "merge",
          "merge",
          "merge",
          "merge",
          "merge",
          "merge",
          "merge",
          "merge",
          "merge",
          "merge",
          "merge",
          "merge",
          "merge",
          "merge",
          "merge",
          "merge",
          "merge",
          "merge",
          "quick",
          "quick",
          "quick",
          "quick",
          "quick",
          "quick",
          "quick",
          "quick",
          "quick",
          "quick",
          "quick",
          "quick",
          "quick",
          "quick",
          "quick",
          "quick",
          "quick",
          "quick",
          "quick",
          "quick"
         ],
         "x0": " ",
         "xaxis": "x6",
         "y": [
          0.09910534799564627,
          0.09946834998845587,
          0.1026504629990086,
          0.10142156099027487,
          0.09980624399031512,
          0.0995344179973472,
          0.0987104390078457,
          0.09765968800638801,
          0.10040160099742934,
          0.09841812100785319,
          0.1033094829908805,
          0.10185094400367234,
          0.09969443500449417,
          0.09500809700693937,
          0.09928517500520685,
          0.09949924699321856,
          0.09230818699870724,
          0.09903198599931784,
          0.09799045200634281,
          0.10206675699737387,
          0.1509224289911799,
          0.15256132998911198,
          0.1406710489973193,
          0.15296499799296726,
          0.15325151399883907,
          0.1537563979945844,
          0.13397428501048125,
          0.13366598599532153,
          0.1340137070073979,
          0.1346081219962798,
          0.14079779399617107,
          0.13447581000218636,
          0.14520115399500355,
          0.13848889400833286,
          0.13777595000283327,
          0.13668119900103193,
          0.14298716199118644,
          0.14258553500985727,
          0.13710401399293914,
          0.13488754999707453
         ],
         "y0": " ",
         "yaxis": "y6"
        },
        {
         "alignmentgroup": "True",
         "boxpoints": "all",
         "hovertemplate": "Size=10000000<br>Construct=serial<br>Cutoff=0<br>Sorting Algorithm=%{x}<br>Duration (s)=%{y}<extra></extra>",
         "legendgroup": "10000000",
         "marker": {
          "color": "rgb(129,114,179)"
         },
         "name": "10000000",
         "notched": false,
         "offsetgroup": "10000000",
         "orientation": "v",
         "showlegend": true,
         "type": "box",
         "x": [
          "merge",
          "merge",
          "merge",
          "merge",
          "merge",
          "quick",
          "quick",
          "quick",
          "quick",
          "quick"
         ],
         "x0": " ",
         "xaxis": "x10",
         "y": [
          2.0314097630034667,
          2.016778752004029,
          2.020372257989948,
          2.0118729390087537,
          2.013694309993298,
          2.50818224401155,
          2.378130728000542,
          2.5008621820015837,
          2.4484247399959718,
          2.5677452579984674
         ],
         "y0": " ",
         "yaxis": "y10"
        },
        {
         "alignmentgroup": "True",
         "boxpoints": "all",
         "hovertemplate": "Size=10000000<br>Construct=tasks<br>Cutoff=0<br>Sorting Algorithm=%{x}<br>Duration (s)=%{y}<extra></extra>",
         "legendgroup": "10000000",
         "marker": {
          "color": "rgb(129,114,179)"
         },
         "name": "10000000",
         "notched": false,
         "offsetgroup": "10000000",
         "orientation": "v",
         "showlegend": false,
         "type": "box",
         "x": [
          "merge",
          "merge",
          "merge",
          "merge",
          "merge",
          "merge",
          "merge",
          "merge",
          "merge",
          "merge",
          "merge",
          "merge",
          "merge",
          "merge",
          "merge",
          "merge",
          "merge",
          "merge",
          "merge",
          "merge",
          "quick",
          "quick",
          "quick",
          "quick",
          "quick",
          "quick",
          "quick",
          "quick",
          "quick",
          "quick",
          "quick",
          "quick",
          "quick",
          "quick",
          "quick",
          "quick",
          "quick",
          "quick",
          "quick",
          "quick"
         ],
         "x0": " ",
         "xaxis": "x7",
         "y": [
          3.4710762729955604,
          3.4742943940073014,
          3.4777779580035717,
          3.4639308070036345,
          3.469899503994384,
          3.4744381849886854,
          3.4304866649908945,
          3.4234185649984283,
          3.467836677999003,
          3.4692403259978164,
          3.491002422000747,
          3.245184266997967,
          3.477605363994371,
          3.492745844007004,
          3.488784533998114,
          3.4727675299945986,
          3.467842907004524,
          3.249398889995064,
          3.4810386189928977,
          3.4599814649991454,
          1.3455217919981806,
          1.3096807889960471,
          1.2771516000066183,
          1.3022650670027358,
          1.2991058430052362,
          0.7149066060082987,
          0.7138148599915439,
          0.7070499530091183,
          0.720681186998263,
          0.728930452998611,
          0.5837943880032981,
          0.550729776994558,
          0.4934886769915465,
          0.5519809409888694,
          0.5146627869980875,
          0.6880664569907822,
          0.6926566369947978,
          0.7018272249988513,
          0.669632694000029,
          0.628404777002288
         ],
         "y0": " ",
         "yaxis": "y7"
        },
        {
         "alignmentgroup": "True",
         "boxpoints": "all",
         "hovertemplate": "Size=10000000<br>Construct=tasks<br>Cutoff=100<br>Sorting Algorithm=%{x}<br>Duration (s)=%{y}<extra></extra>",
         "legendgroup": "10000000",
         "marker": {
          "color": "rgb(129,114,179)"
         },
         "name": "10000000",
         "notched": false,
         "offsetgroup": "10000000",
         "orientation": "v",
         "showlegend": false,
         "type": "box",
         "x": [
          "merge",
          "merge",
          "merge",
          "merge",
          "merge",
          "merge",
          "merge",
          "merge",
          "merge",
          "merge",
          "merge",
          "merge",
          "merge",
          "merge",
          "merge",
          "merge",
          "merge",
          "merge",
          "merge",
          "merge",
          "quick",
          "quick",
          "quick",
          "quick",
          "quick",
          "quick",
          "quick",
          "quick",
          "quick",
          "quick",
          "quick",
          "quick",
          "quick",
          "quick",
          "quick",
          "quick",
          "quick",
          "quick",
          "quick",
          "quick"
         ],
         "x0": " ",
         "xaxis": "x8",
         "y": [
          1.104670521002845,
          1.095913762008422,
          1.1019112600042718,
          1.0971509209921353,
          1.0982556119997753,
          1.1015909919951807,
          1.1019769359991187,
          1.1077738309977576,
          1.108951703005005,
          1.1015326710039517,
          1.1049876750039402,
          1.1062665009958437,
          1.0972994610056048,
          1.0988542620034425,
          1.0993107849935768,
          1.1043644739984302,
          1.1147978580120252,
          1.1093107549968408,
          1.1021453379944433,
          1.1008888950018445,
          1.2965347580029627,
          1.3138676910020877,
          1.38066072500078,
          1.3762260549992789,
          1.2970302650064696,
          0.7018798999924911,
          0.7123233099991921,
          0.6962309530063066,
          0.7080862069997238,
          0.726606233001803,
          0.4665944839944132,
          0.4636751670041122,
          0.4556421899906127,
          0.4594735410064458,
          0.4718462369928602,
          0.37072063300001906,
          0.3802505510102492,
          0.3843481020012405,
          0.3702076280023903,
          0.3894032649986912
         ],
         "y0": " ",
         "yaxis": "y8"
        },
        {
         "alignmentgroup": "True",
         "boxpoints": "all",
         "hovertemplate": "Size=10000000<br>Construct=tasks<br>Cutoff=1000<br>Sorting Algorithm=%{x}<br>Duration (s)=%{y}<extra></extra>",
         "legendgroup": "10000000",
         "marker": {
          "color": "rgb(129,114,179)"
         },
         "name": "10000000",
         "notched": false,
         "offsetgroup": "10000000",
         "orientation": "v",
         "showlegend": false,
         "type": "box",
         "x": [
          "merge",
          "merge",
          "merge",
          "merge",
          "merge",
          "merge",
          "merge",
          "merge",
          "merge",
          "merge",
          "merge",
          "merge",
          "merge",
          "merge",
          "merge",
          "merge",
          "merge",
          "merge",
          "merge",
          "merge",
          "quick",
          "quick",
          "quick",
          "quick",
          "quick",
          "quick",
          "quick",
          "quick",
          "quick",
          "quick",
          "quick",
          "quick",
          "quick",
          "quick",
          "quick",
          "quick",
          "quick",
          "quick",
          "quick",
          "quick"
         ],
         "x0": " ",
         "xaxis": "x9",
         "y": [
          1.0709417600010056,
          1.0680641290091444,
          1.0690231740009042,
          1.0619556659949012,
          1.0689604520011926,
          1.0655249319970608,
          1.0718272599915508,
          1.0656418289872818,
          1.0734888860024512,
          1.0758696410048287,
          1.0657269719959004,
          1.0670355860056588,
          1.0623695940012112,
          1.070368739994592,
          1.0661092800000915,
          1.0707584530027816,
          1.0621381619857857,
          1.0615829130110797,
          1.0914177439990451,
          1.0948287500068543,
          1.301517268002499,
          1.27822148600535,
          1.3404595699976198,
          1.26892586798931,
          1.30424015900644,
          0.7046995449927635,
          0.6933213849988533,
          0.7066386160004186,
          0.6937876459996914,
          0.7100902199890698,
          0.44068065899773506,
          0.4422132710024016,
          0.4392603189917281,
          0.4456036810006481,
          0.439115244007553,
          0.3397940160066355,
          0.34672559400496533,
          0.3424953779904172,
          0.3443188600067515,
          0.3429630919999909
         ],
         "y0": " ",
         "yaxis": "y9"
        },
        {
         "alignmentgroup": "True",
         "boxpoints": "all",
         "hovertemplate": "Size=10000000<br>Construct=sections<br>Cutoff=0<br>Sorting Algorithm=%{x}<br>Duration (s)=%{y}<extra></extra>",
         "legendgroup": "10000000",
         "marker": {
          "color": "rgb(129,114,179)"
         },
         "name": "10000000",
         "notched": false,
         "offsetgroup": "10000000",
         "orientation": "v",
         "showlegend": false,
         "type": "box",
         "x": [
          "merge",
          "merge",
          "merge",
          "merge",
          "merge",
          "merge",
          "merge",
          "merge",
          "merge",
          "merge",
          "merge",
          "merge",
          "merge",
          "merge",
          "merge",
          "merge",
          "merge",
          "merge",
          "merge",
          "merge",
          "quick",
          "quick",
          "quick",
          "quick",
          "quick",
          "quick",
          "quick",
          "quick",
          "quick",
          "quick",
          "quick",
          "quick",
          "quick",
          "quick",
          "quick",
          "quick",
          "quick",
          "quick",
          "quick",
          "quick"
         ],
         "x0": " ",
         "xaxis": "x4",
         "y": [
          2.938456130999839,
          2.917127878012252,
          2.9219146680115955,
          2.923028796998551,
          2.9439650839922247,
          2.910358086010092,
          2.827171241005998,
          2.921750039997278,
          2.875795930012828,
          2.9156905859999824,
          2.6420965010038344,
          2.6807050259958487,
          2.910518051998224,
          2.9156024949916173,
          2.9342898269969737,
          2.9201807089993963,
          2.9371354400063865,
          2.6772710590012134,
          2.849667545000557,
          2.943462743991404,
          3.5062702900031586,
          3.4168244060128927,
          3.407866724999621,
          3.561914304998936,
          3.469712379999692,
          3.504996543008019,
          3.4376714500103844,
          3.534705205995124,
          3.4568259940133435,
          3.4120504899910884,
          3.4733797630033223,
          3.498205458992743,
          3.4568706590071088,
          3.551263986009872,
          3.5018172989948653,
          3.4325324469973566,
          3.5134449969918933,
          3.4987144979968434,
          3.453986869004438,
          3.4905974430002966
         ],
         "y0": " ",
         "yaxis": "y4"
        },
        {
         "alignmentgroup": "True",
         "boxpoints": "all",
         "hovertemplate": "Size=10000000<br>Construct=sections<br>Cutoff=100<br>Sorting Algorithm=%{x}<br>Duration (s)=%{y}<extra></extra>",
         "legendgroup": "10000000",
         "marker": {
          "color": "rgb(129,114,179)"
         },
         "name": "10000000",
         "notched": false,
         "offsetgroup": "10000000",
         "orientation": "v",
         "showlegend": false,
         "type": "box",
         "x": [
          "merge",
          "merge",
          "merge",
          "merge",
          "merge",
          "merge",
          "merge",
          "merge",
          "merge",
          "merge",
          "merge",
          "merge",
          "merge",
          "merge",
          "merge",
          "merge",
          "merge",
          "merge",
          "merge",
          "merge",
          "quick",
          "quick",
          "quick",
          "quick",
          "quick",
          "quick",
          "quick",
          "quick",
          "quick",
          "quick",
          "quick",
          "quick",
          "quick",
          "quick",
          "quick",
          "quick",
          "quick",
          "quick",
          "quick",
          "quick"
         ],
         "x0": " ",
         "xaxis": "x5",
         "y": [
          1.0855789780034684,
          1.0899347189988475,
          1.0881582149886526,
          1.0781008990015837,
          1.0835206680058036,
          1.0851711599971168,
          1.082102479005698,
          1.0793496789992787,
          1.083409077997203,
          1.085362026002258,
          1.0771525620075408,
          1.0772459330037236,
          1.0841661650047172,
          1.0870203899976332,
          1.0924051000038162,
          1.1039630769955693,
          1.0831353499961551,
          1.08459961200424,
          1.0790949760121291,
          1.082503937999718,
          2.165049867995549,
          2.1945752870087745,
          2.1964223760005552,
          2.181865149002988,
          2.2034103429905367,
          2.159371246001683,
          2.201594504993409,
          2.1741968550049933,
          2.116900737994001,
          2.198463642998832,
          2.134548358997563,
          2.16247437299171,
          2.1402485620055813,
          2.1216054469987284,
          2.2040396810043603,
          2.204413878993364,
          2.0694569749903167,
          2.134082744989428,
          2.133333286998095,
          2.005520801001694
         ],
         "y0": " ",
         "yaxis": "y5"
        },
        {
         "alignmentgroup": "True",
         "boxpoints": "all",
         "hovertemplate": "Size=10000000<br>Construct=sections<br>Cutoff=1000<br>Sorting Algorithm=%{x}<br>Duration (s)=%{y}<extra></extra>",
         "legendgroup": "10000000",
         "marker": {
          "color": "rgb(129,114,179)"
         },
         "name": "10000000",
         "notched": false,
         "offsetgroup": "10000000",
         "orientation": "v",
         "showlegend": false,
         "type": "box",
         "x": [
          "merge",
          "merge",
          "merge",
          "merge",
          "merge",
          "merge",
          "merge",
          "merge",
          "merge",
          "merge",
          "merge",
          "merge",
          "merge",
          "merge",
          "merge",
          "merge",
          "merge",
          "merge",
          "merge",
          "merge",
          "quick",
          "quick",
          "quick",
          "quick",
          "quick",
          "quick",
          "quick",
          "quick",
          "quick",
          "quick",
          "quick",
          "quick",
          "quick",
          "quick",
          "quick",
          "quick",
          "quick",
          "quick",
          "quick",
          "quick"
         ],
         "x0": " ",
         "xaxis": "x6",
         "y": [
          1.0674178749904968,
          1.0709930790035287,
          1.0634684130054666,
          1.065049901997554,
          1.0658967240015045,
          1.0703890059958212,
          1.0622485740022969,
          1.0653423950134313,
          1.0688552140054526,
          1.077283989987336,
          1.0719251439877553,
          1.0705535799934296,
          1.066164923002361,
          1.0702793280070182,
          1.0686045059992466,
          1.0666405879892409,
          1.0791447429946857,
          1.074813760991674,
          1.0817928229953395,
          1.079096653003944,
          2.131366450994392,
          2.148756332011544,
          2.096034771995619,
          2.15871058999619,
          2.169516351990751,
          2.092001445998904,
          2.167892187004327,
          2.135227014994598,
          2.165584433998447,
          2.1462662129924865,
          2.1673774990049424,
          2.1389545099955285,
          2.1553169370017717,
          2.168503105000127,
          2.145274723006878,
          2.1183640389936045,
          2.130364002994611,
          2.138844907996827,
          2.1689163839910175,
          2.088940278001246
         ],
         "y0": " ",
         "yaxis": "y6"
        }
       ],
       "layout": {
        "annotations": [
         {
          "font": {},
          "showarrow": false,
          "text": "Cutoff=0",
          "x": 0.15666666666666665,
          "xanchor": "center",
          "xref": "paper",
          "y": 1,
          "yanchor": "bottom",
          "yref": "paper"
         },
         {
          "font": {},
          "showarrow": false,
          "text": "Cutoff=100",
          "x": 0.49,
          "xanchor": "center",
          "xref": "paper",
          "y": 1,
          "yanchor": "bottom",
          "yref": "paper"
         },
         {
          "font": {},
          "showarrow": false,
          "text": "Cutoff=1000",
          "x": 0.8233333333333333,
          "xanchor": "center",
          "xref": "paper",
          "y": 1,
          "yanchor": "bottom",
          "yref": "paper"
         },
         {
          "font": {},
          "showarrow": false,
          "text": "Construct=parallel",
          "textangle": 90,
          "x": 0.98,
          "xanchor": "left",
          "xref": "paper",
          "y": 0.11375,
          "yanchor": "middle",
          "yref": "paper"
         },
         {
          "font": {},
          "showarrow": false,
          "text": "Construct=sections",
          "textangle": 90,
          "x": 0.98,
          "xanchor": "left",
          "xref": "paper",
          "y": 0.37124999999999997,
          "yanchor": "middle",
          "yref": "paper"
         },
         {
          "font": {},
          "showarrow": false,
          "text": "Construct=tasks",
          "textangle": 90,
          "x": 0.98,
          "xanchor": "left",
          "xref": "paper",
          "y": 0.62875,
          "yanchor": "middle",
          "yref": "paper"
         },
         {
          "font": {},
          "showarrow": false,
          "text": "Construct=serial",
          "textangle": 90,
          "x": 0.98,
          "xanchor": "left",
          "xref": "paper",
          "y": 0.88625,
          "yanchor": "middle",
          "yref": "paper"
         }
        ],
        "boxmode": "group",
        "height": 800,
        "legend": {
         "title": {
          "text": "Size"
         },
         "tracegroupgap": 0
        },
        "template": {
         "data": {
          "bar": [
           {
            "error_x": {
             "color": "rgb(36,36,36)"
            },
            "error_y": {
             "color": "rgb(36,36,36)"
            },
            "marker": {
             "line": {
              "color": "rgb(234,234,242)",
              "width": 0.5
             }
            },
            "type": "bar"
           }
          ],
          "barpolar": [
           {
            "marker": {
             "line": {
              "color": "rgb(234,234,242)",
              "width": 0.5
             }
            },
            "type": "barpolar"
           }
          ],
          "carpet": [
           {
            "aaxis": {
             "endlinecolor": "rgb(36,36,36)",
             "gridcolor": "white",
             "linecolor": "white",
             "minorgridcolor": "white",
             "startlinecolor": "rgb(36,36,36)"
            },
            "baxis": {
             "endlinecolor": "rgb(36,36,36)",
             "gridcolor": "white",
             "linecolor": "white",
             "minorgridcolor": "white",
             "startlinecolor": "rgb(36,36,36)"
            },
            "type": "carpet"
           }
          ],
          "choropleth": [
           {
            "colorbar": {
             "outlinewidth": 0,
             "tickcolor": "rgb(36,36,36)",
             "ticklen": 8,
             "ticks": "outside",
             "tickwidth": 2
            },
            "type": "choropleth"
           }
          ],
          "contour": [
           {
            "colorbar": {
             "outlinewidth": 0,
             "tickcolor": "rgb(36,36,36)",
             "ticklen": 8,
             "ticks": "outside",
             "tickwidth": 2
            },
            "colorscale": [
             [
              0,
              "rgb(2,4,25)"
             ],
             [
              0.06274509803921569,
              "rgb(24,15,41)"
             ],
             [
              0.12549019607843137,
              "rgb(47,23,57)"
             ],
             [
              0.18823529411764706,
              "rgb(71,28,72)"
             ],
             [
              0.25098039215686274,
              "rgb(97,30,82)"
             ],
             [
              0.3137254901960784,
              "rgb(123,30,89)"
             ],
             [
              0.3764705882352941,
              "rgb(150,27,91)"
             ],
             [
              0.4392156862745098,
              "rgb(177,22,88)"
             ],
             [
              0.5019607843137255,
              "rgb(203,26,79)"
             ],
             [
              0.5647058823529412,
              "rgb(223,47,67)"
             ],
             [
              0.6274509803921569,
              "rgb(236,76,61)"
             ],
             [
              0.6901960784313725,
              "rgb(242,107,73)"
             ],
             [
              0.7529411764705882,
              "rgb(244,135,95)"
             ],
             [
              0.8156862745098039,
              "rgb(245,162,122)"
             ],
             [
              0.8784313725490196,
              "rgb(246,188,153)"
             ],
             [
              0.9411764705882353,
              "rgb(247,212,187)"
             ],
             [
              1,
              "rgb(250,234,220)"
             ]
            ],
            "type": "contour"
           }
          ],
          "contourcarpet": [
           {
            "colorbar": {
             "outlinewidth": 0,
             "tickcolor": "rgb(36,36,36)",
             "ticklen": 8,
             "ticks": "outside",
             "tickwidth": 2
            },
            "type": "contourcarpet"
           }
          ],
          "heatmap": [
           {
            "colorbar": {
             "outlinewidth": 0,
             "tickcolor": "rgb(36,36,36)",
             "ticklen": 8,
             "ticks": "outside",
             "tickwidth": 2
            },
            "colorscale": [
             [
              0,
              "rgb(2,4,25)"
             ],
             [
              0.06274509803921569,
              "rgb(24,15,41)"
             ],
             [
              0.12549019607843137,
              "rgb(47,23,57)"
             ],
             [
              0.18823529411764706,
              "rgb(71,28,72)"
             ],
             [
              0.25098039215686274,
              "rgb(97,30,82)"
             ],
             [
              0.3137254901960784,
              "rgb(123,30,89)"
             ],
             [
              0.3764705882352941,
              "rgb(150,27,91)"
             ],
             [
              0.4392156862745098,
              "rgb(177,22,88)"
             ],
             [
              0.5019607843137255,
              "rgb(203,26,79)"
             ],
             [
              0.5647058823529412,
              "rgb(223,47,67)"
             ],
             [
              0.6274509803921569,
              "rgb(236,76,61)"
             ],
             [
              0.6901960784313725,
              "rgb(242,107,73)"
             ],
             [
              0.7529411764705882,
              "rgb(244,135,95)"
             ],
             [
              0.8156862745098039,
              "rgb(245,162,122)"
             ],
             [
              0.8784313725490196,
              "rgb(246,188,153)"
             ],
             [
              0.9411764705882353,
              "rgb(247,212,187)"
             ],
             [
              1,
              "rgb(250,234,220)"
             ]
            ],
            "type": "heatmap"
           }
          ],
          "heatmapgl": [
           {
            "colorbar": {
             "outlinewidth": 0,
             "tickcolor": "rgb(36,36,36)",
             "ticklen": 8,
             "ticks": "outside",
             "tickwidth": 2
            },
            "colorscale": [
             [
              0,
              "rgb(2,4,25)"
             ],
             [
              0.06274509803921569,
              "rgb(24,15,41)"
             ],
             [
              0.12549019607843137,
              "rgb(47,23,57)"
             ],
             [
              0.18823529411764706,
              "rgb(71,28,72)"
             ],
             [
              0.25098039215686274,
              "rgb(97,30,82)"
             ],
             [
              0.3137254901960784,
              "rgb(123,30,89)"
             ],
             [
              0.3764705882352941,
              "rgb(150,27,91)"
             ],
             [
              0.4392156862745098,
              "rgb(177,22,88)"
             ],
             [
              0.5019607843137255,
              "rgb(203,26,79)"
             ],
             [
              0.5647058823529412,
              "rgb(223,47,67)"
             ],
             [
              0.6274509803921569,
              "rgb(236,76,61)"
             ],
             [
              0.6901960784313725,
              "rgb(242,107,73)"
             ],
             [
              0.7529411764705882,
              "rgb(244,135,95)"
             ],
             [
              0.8156862745098039,
              "rgb(245,162,122)"
             ],
             [
              0.8784313725490196,
              "rgb(246,188,153)"
             ],
             [
              0.9411764705882353,
              "rgb(247,212,187)"
             ],
             [
              1,
              "rgb(250,234,220)"
             ]
            ],
            "type": "heatmapgl"
           }
          ],
          "histogram": [
           {
            "marker": {
             "colorbar": {
              "outlinewidth": 0,
              "tickcolor": "rgb(36,36,36)",
              "ticklen": 8,
              "ticks": "outside",
              "tickwidth": 2
             }
            },
            "type": "histogram"
           }
          ],
          "histogram2d": [
           {
            "colorbar": {
             "outlinewidth": 0,
             "tickcolor": "rgb(36,36,36)",
             "ticklen": 8,
             "ticks": "outside",
             "tickwidth": 2
            },
            "colorscale": [
             [
              0,
              "rgb(2,4,25)"
             ],
             [
              0.06274509803921569,
              "rgb(24,15,41)"
             ],
             [
              0.12549019607843137,
              "rgb(47,23,57)"
             ],
             [
              0.18823529411764706,
              "rgb(71,28,72)"
             ],
             [
              0.25098039215686274,
              "rgb(97,30,82)"
             ],
             [
              0.3137254901960784,
              "rgb(123,30,89)"
             ],
             [
              0.3764705882352941,
              "rgb(150,27,91)"
             ],
             [
              0.4392156862745098,
              "rgb(177,22,88)"
             ],
             [
              0.5019607843137255,
              "rgb(203,26,79)"
             ],
             [
              0.5647058823529412,
              "rgb(223,47,67)"
             ],
             [
              0.6274509803921569,
              "rgb(236,76,61)"
             ],
             [
              0.6901960784313725,
              "rgb(242,107,73)"
             ],
             [
              0.7529411764705882,
              "rgb(244,135,95)"
             ],
             [
              0.8156862745098039,
              "rgb(245,162,122)"
             ],
             [
              0.8784313725490196,
              "rgb(246,188,153)"
             ],
             [
              0.9411764705882353,
              "rgb(247,212,187)"
             ],
             [
              1,
              "rgb(250,234,220)"
             ]
            ],
            "type": "histogram2d"
           }
          ],
          "histogram2dcontour": [
           {
            "colorbar": {
             "outlinewidth": 0,
             "tickcolor": "rgb(36,36,36)",
             "ticklen": 8,
             "ticks": "outside",
             "tickwidth": 2
            },
            "colorscale": [
             [
              0,
              "rgb(2,4,25)"
             ],
             [
              0.06274509803921569,
              "rgb(24,15,41)"
             ],
             [
              0.12549019607843137,
              "rgb(47,23,57)"
             ],
             [
              0.18823529411764706,
              "rgb(71,28,72)"
             ],
             [
              0.25098039215686274,
              "rgb(97,30,82)"
             ],
             [
              0.3137254901960784,
              "rgb(123,30,89)"
             ],
             [
              0.3764705882352941,
              "rgb(150,27,91)"
             ],
             [
              0.4392156862745098,
              "rgb(177,22,88)"
             ],
             [
              0.5019607843137255,
              "rgb(203,26,79)"
             ],
             [
              0.5647058823529412,
              "rgb(223,47,67)"
             ],
             [
              0.6274509803921569,
              "rgb(236,76,61)"
             ],
             [
              0.6901960784313725,
              "rgb(242,107,73)"
             ],
             [
              0.7529411764705882,
              "rgb(244,135,95)"
             ],
             [
              0.8156862745098039,
              "rgb(245,162,122)"
             ],
             [
              0.8784313725490196,
              "rgb(246,188,153)"
             ],
             [
              0.9411764705882353,
              "rgb(247,212,187)"
             ],
             [
              1,
              "rgb(250,234,220)"
             ]
            ],
            "type": "histogram2dcontour"
           }
          ],
          "mesh3d": [
           {
            "colorbar": {
             "outlinewidth": 0,
             "tickcolor": "rgb(36,36,36)",
             "ticklen": 8,
             "ticks": "outside",
             "tickwidth": 2
            },
            "type": "mesh3d"
           }
          ],
          "parcoords": [
           {
            "line": {
             "colorbar": {
              "outlinewidth": 0,
              "tickcolor": "rgb(36,36,36)",
              "ticklen": 8,
              "ticks": "outside",
              "tickwidth": 2
             }
            },
            "type": "parcoords"
           }
          ],
          "pie": [
           {
            "automargin": true,
            "type": "pie"
           }
          ],
          "scatter": [
           {
            "marker": {
             "colorbar": {
              "outlinewidth": 0,
              "tickcolor": "rgb(36,36,36)",
              "ticklen": 8,
              "ticks": "outside",
              "tickwidth": 2
             }
            },
            "type": "scatter"
           }
          ],
          "scatter3d": [
           {
            "line": {
             "colorbar": {
              "outlinewidth": 0,
              "tickcolor": "rgb(36,36,36)",
              "ticklen": 8,
              "ticks": "outside",
              "tickwidth": 2
             }
            },
            "marker": {
             "colorbar": {
              "outlinewidth": 0,
              "tickcolor": "rgb(36,36,36)",
              "ticklen": 8,
              "ticks": "outside",
              "tickwidth": 2
             }
            },
            "type": "scatter3d"
           }
          ],
          "scattercarpet": [
           {
            "marker": {
             "colorbar": {
              "outlinewidth": 0,
              "tickcolor": "rgb(36,36,36)",
              "ticklen": 8,
              "ticks": "outside",
              "tickwidth": 2
             }
            },
            "type": "scattercarpet"
           }
          ],
          "scattergeo": [
           {
            "marker": {
             "colorbar": {
              "outlinewidth": 0,
              "tickcolor": "rgb(36,36,36)",
              "ticklen": 8,
              "ticks": "outside",
              "tickwidth": 2
             }
            },
            "type": "scattergeo"
           }
          ],
          "scattergl": [
           {
            "marker": {
             "colorbar": {
              "outlinewidth": 0,
              "tickcolor": "rgb(36,36,36)",
              "ticklen": 8,
              "ticks": "outside",
              "tickwidth": 2
             }
            },
            "type": "scattergl"
           }
          ],
          "scattermapbox": [
           {
            "marker": {
             "colorbar": {
              "outlinewidth": 0,
              "tickcolor": "rgb(36,36,36)",
              "ticklen": 8,
              "ticks": "outside",
              "tickwidth": 2
             }
            },
            "type": "scattermapbox"
           }
          ],
          "scatterpolar": [
           {
            "marker": {
             "colorbar": {
              "outlinewidth": 0,
              "tickcolor": "rgb(36,36,36)",
              "ticklen": 8,
              "ticks": "outside",
              "tickwidth": 2
             }
            },
            "type": "scatterpolar"
           }
          ],
          "scatterpolargl": [
           {
            "marker": {
             "colorbar": {
              "outlinewidth": 0,
              "tickcolor": "rgb(36,36,36)",
              "ticklen": 8,
              "ticks": "outside",
              "tickwidth": 2
             }
            },
            "type": "scatterpolargl"
           }
          ],
          "scatterternary": [
           {
            "marker": {
             "colorbar": {
              "outlinewidth": 0,
              "tickcolor": "rgb(36,36,36)",
              "ticklen": 8,
              "ticks": "outside",
              "tickwidth": 2
             }
            },
            "type": "scatterternary"
           }
          ],
          "surface": [
           {
            "colorbar": {
             "outlinewidth": 0,
             "tickcolor": "rgb(36,36,36)",
             "ticklen": 8,
             "ticks": "outside",
             "tickwidth": 2
            },
            "colorscale": [
             [
              0,
              "rgb(2,4,25)"
             ],
             [
              0.06274509803921569,
              "rgb(24,15,41)"
             ],
             [
              0.12549019607843137,
              "rgb(47,23,57)"
             ],
             [
              0.18823529411764706,
              "rgb(71,28,72)"
             ],
             [
              0.25098039215686274,
              "rgb(97,30,82)"
             ],
             [
              0.3137254901960784,
              "rgb(123,30,89)"
             ],
             [
              0.3764705882352941,
              "rgb(150,27,91)"
             ],
             [
              0.4392156862745098,
              "rgb(177,22,88)"
             ],
             [
              0.5019607843137255,
              "rgb(203,26,79)"
             ],
             [
              0.5647058823529412,
              "rgb(223,47,67)"
             ],
             [
              0.6274509803921569,
              "rgb(236,76,61)"
             ],
             [
              0.6901960784313725,
              "rgb(242,107,73)"
             ],
             [
              0.7529411764705882,
              "rgb(244,135,95)"
             ],
             [
              0.8156862745098039,
              "rgb(245,162,122)"
             ],
             [
              0.8784313725490196,
              "rgb(246,188,153)"
             ],
             [
              0.9411764705882353,
              "rgb(247,212,187)"
             ],
             [
              1,
              "rgb(250,234,220)"
             ]
            ],
            "type": "surface"
           }
          ],
          "table": [
           {
            "cells": {
             "fill": {
              "color": "rgb(231,231,240)"
             },
             "line": {
              "color": "white"
             }
            },
            "header": {
             "fill": {
              "color": "rgb(183,183,191)"
             },
             "line": {
              "color": "white"
             }
            },
            "type": "table"
           }
          ]
         },
         "layout": {
          "annotationdefaults": {
           "arrowcolor": "rgb(67,103,167)"
          },
          "autotypenumbers": "strict",
          "coloraxis": {
           "colorbar": {
            "outlinewidth": 0,
            "tickcolor": "rgb(36,36,36)",
            "ticklen": 8,
            "ticks": "outside",
            "tickwidth": 2
           }
          },
          "colorscale": {
           "sequential": [
            [
             0,
             "rgb(2,4,25)"
            ],
            [
             0.06274509803921569,
             "rgb(24,15,41)"
            ],
            [
             0.12549019607843137,
             "rgb(47,23,57)"
            ],
            [
             0.18823529411764706,
             "rgb(71,28,72)"
            ],
            [
             0.25098039215686274,
             "rgb(97,30,82)"
            ],
            [
             0.3137254901960784,
             "rgb(123,30,89)"
            ],
            [
             0.3764705882352941,
             "rgb(150,27,91)"
            ],
            [
             0.4392156862745098,
             "rgb(177,22,88)"
            ],
            [
             0.5019607843137255,
             "rgb(203,26,79)"
            ],
            [
             0.5647058823529412,
             "rgb(223,47,67)"
            ],
            [
             0.6274509803921569,
             "rgb(236,76,61)"
            ],
            [
             0.6901960784313725,
             "rgb(242,107,73)"
            ],
            [
             0.7529411764705882,
             "rgb(244,135,95)"
            ],
            [
             0.8156862745098039,
             "rgb(245,162,122)"
            ],
            [
             0.8784313725490196,
             "rgb(246,188,153)"
            ],
            [
             0.9411764705882353,
             "rgb(247,212,187)"
            ],
            [
             1,
             "rgb(250,234,220)"
            ]
           ],
           "sequentialminus": [
            [
             0,
             "rgb(2,4,25)"
            ],
            [
             0.06274509803921569,
             "rgb(24,15,41)"
            ],
            [
             0.12549019607843137,
             "rgb(47,23,57)"
            ],
            [
             0.18823529411764706,
             "rgb(71,28,72)"
            ],
            [
             0.25098039215686274,
             "rgb(97,30,82)"
            ],
            [
             0.3137254901960784,
             "rgb(123,30,89)"
            ],
            [
             0.3764705882352941,
             "rgb(150,27,91)"
            ],
            [
             0.4392156862745098,
             "rgb(177,22,88)"
            ],
            [
             0.5019607843137255,
             "rgb(203,26,79)"
            ],
            [
             0.5647058823529412,
             "rgb(223,47,67)"
            ],
            [
             0.6274509803921569,
             "rgb(236,76,61)"
            ],
            [
             0.6901960784313725,
             "rgb(242,107,73)"
            ],
            [
             0.7529411764705882,
             "rgb(244,135,95)"
            ],
            [
             0.8156862745098039,
             "rgb(245,162,122)"
            ],
            [
             0.8784313725490196,
             "rgb(246,188,153)"
            ],
            [
             0.9411764705882353,
             "rgb(247,212,187)"
            ],
            [
             1,
             "rgb(250,234,220)"
            ]
           ]
          },
          "colorway": [
           "rgb(76,114,176)",
           "rgb(221,132,82)",
           "rgb(85,168,104)",
           "rgb(196,78,82)",
           "rgb(129,114,179)",
           "rgb(147,120,96)",
           "rgb(218,139,195)",
           "rgb(140,140,140)",
           "rgb(204,185,116)",
           "rgb(100,181,205)"
          ],
          "font": {
           "color": "rgb(36,36,36)"
          },
          "geo": {
           "bgcolor": "white",
           "lakecolor": "white",
           "landcolor": "rgb(234,234,242)",
           "showlakes": true,
           "showland": true,
           "subunitcolor": "white"
          },
          "hoverlabel": {
           "align": "left"
          },
          "hovermode": "closest",
          "paper_bgcolor": "white",
          "plot_bgcolor": "rgb(234,234,242)",
          "polar": {
           "angularaxis": {
            "gridcolor": "white",
            "linecolor": "white",
            "showgrid": true,
            "ticks": ""
           },
           "bgcolor": "rgb(234,234,242)",
           "radialaxis": {
            "gridcolor": "white",
            "linecolor": "white",
            "showgrid": true,
            "ticks": ""
           }
          },
          "scene": {
           "xaxis": {
            "backgroundcolor": "rgb(234,234,242)",
            "gridcolor": "white",
            "gridwidth": 2,
            "linecolor": "white",
            "showbackground": true,
            "showgrid": true,
            "ticks": "",
            "zerolinecolor": "white"
           },
           "yaxis": {
            "backgroundcolor": "rgb(234,234,242)",
            "gridcolor": "white",
            "gridwidth": 2,
            "linecolor": "white",
            "showbackground": true,
            "showgrid": true,
            "ticks": "",
            "zerolinecolor": "white"
           },
           "zaxis": {
            "backgroundcolor": "rgb(234,234,242)",
            "gridcolor": "white",
            "gridwidth": 2,
            "linecolor": "white",
            "showbackground": true,
            "showgrid": true,
            "ticks": "",
            "zerolinecolor": "white"
           }
          },
          "shapedefaults": {
           "fillcolor": "rgb(67,103,167)",
           "line": {
            "width": 0
           },
           "opacity": 0.5
          },
          "ternary": {
           "aaxis": {
            "gridcolor": "white",
            "linecolor": "white",
            "showgrid": true,
            "ticks": ""
           },
           "baxis": {
            "gridcolor": "white",
            "linecolor": "white",
            "showgrid": true,
            "ticks": ""
           },
           "bgcolor": "rgb(234,234,242)",
           "caxis": {
            "gridcolor": "white",
            "linecolor": "white",
            "showgrid": true,
            "ticks": ""
           }
          },
          "xaxis": {
           "automargin": true,
           "gridcolor": "white",
           "linecolor": "white",
           "showgrid": true,
           "ticks": "",
           "title": {
            "standoff": 15
           },
           "zerolinecolor": "white"
          },
          "yaxis": {
           "automargin": true,
           "gridcolor": "white",
           "linecolor": "white",
           "showgrid": true,
           "ticks": "",
           "title": {
            "standoff": 15
           },
           "zerolinecolor": "white"
          }
         }
        },
        "title": {
         "text": "C Sorting Algorithm Runtimes"
        },
        "xaxis": {
         "anchor": "y",
         "domain": [
          0,
          0.3133333333333333
         ],
         "gridwidth": 2,
         "showgrid": true,
         "title": {
          "text": "Sorting Algorithm"
         }
        },
        "xaxis10": {
         "anchor": "y10",
         "domain": [
          0,
          0.3133333333333333
         ],
         "gridwidth": 2,
         "matches": "x",
         "showgrid": true,
         "showticklabels": false
        },
        "xaxis11": {
         "anchor": "y11",
         "domain": [
          0.3333333333333333,
          0.6466666666666666
         ],
         "gridwidth": 2,
         "matches": "x",
         "showgrid": true,
         "showticklabels": false
        },
        "xaxis12": {
         "anchor": "y12",
         "domain": [
          0.6666666666666666,
          0.98
         ],
         "gridwidth": 2,
         "matches": "x",
         "showgrid": true,
         "showticklabels": false
        },
        "xaxis2": {
         "anchor": "y2",
         "domain": [
          0.3333333333333333,
          0.6466666666666666
         ],
         "gridwidth": 2,
         "matches": "x",
         "showgrid": true,
         "title": {
          "text": "Sorting Algorithm"
         }
        },
        "xaxis3": {
         "anchor": "y3",
         "domain": [
          0.6666666666666666,
          0.98
         ],
         "gridwidth": 2,
         "matches": "x",
         "showgrid": true,
         "title": {
          "text": "Sorting Algorithm"
         }
        },
        "xaxis4": {
         "anchor": "y4",
         "domain": [
          0,
          0.3133333333333333
         ],
         "gridwidth": 2,
         "matches": "x",
         "showgrid": true,
         "showticklabels": false
        },
        "xaxis5": {
         "anchor": "y5",
         "domain": [
          0.3333333333333333,
          0.6466666666666666
         ],
         "gridwidth": 2,
         "matches": "x",
         "showgrid": true,
         "showticklabels": false
        },
        "xaxis6": {
         "anchor": "y6",
         "domain": [
          0.6666666666666666,
          0.98
         ],
         "gridwidth": 2,
         "matches": "x",
         "showgrid": true,
         "showticklabels": false
        },
        "xaxis7": {
         "anchor": "y7",
         "domain": [
          0,
          0.3133333333333333
         ],
         "gridwidth": 2,
         "matches": "x",
         "showgrid": true,
         "showticklabels": false
        },
        "xaxis8": {
         "anchor": "y8",
         "domain": [
          0.3333333333333333,
          0.6466666666666666
         ],
         "gridwidth": 2,
         "matches": "x",
         "showgrid": true,
         "showticklabels": false
        },
        "xaxis9": {
         "anchor": "y9",
         "domain": [
          0.6666666666666666,
          0.98
         ],
         "gridwidth": 2,
         "matches": "x",
         "showgrid": true,
         "showticklabels": false
        },
        "yaxis": {
         "anchor": "x",
         "domain": [
          0,
          0.2275
         ],
         "gridwidth": 2,
         "showgrid": true,
         "title": {
          "text": "Duration (s)"
         },
         "type": "log"
        },
        "yaxis10": {
         "anchor": "x10",
         "domain": [
          0.7725,
          1
         ],
         "gridwidth": 2,
         "matches": "y",
         "showgrid": true,
         "title": {
          "text": "Duration (s)"
         },
         "type": "log"
        },
        "yaxis11": {
         "anchor": "x11",
         "domain": [
          0.7725,
          1
         ],
         "gridwidth": 2,
         "matches": "y",
         "showgrid": true,
         "showticklabels": false,
         "type": "log"
        },
        "yaxis12": {
         "anchor": "x12",
         "domain": [
          0.7725,
          1
         ],
         "gridwidth": 2,
         "matches": "y",
         "showgrid": true,
         "showticklabels": false,
         "type": "log"
        },
        "yaxis2": {
         "anchor": "x2",
         "domain": [
          0,
          0.2275
         ],
         "gridwidth": 2,
         "matches": "y",
         "showgrid": true,
         "showticklabels": false,
         "type": "log"
        },
        "yaxis3": {
         "anchor": "x3",
         "domain": [
          0,
          0.2275
         ],
         "gridwidth": 2,
         "matches": "y",
         "showgrid": true,
         "showticklabels": false,
         "type": "log"
        },
        "yaxis4": {
         "anchor": "x4",
         "domain": [
          0.2575,
          0.485
         ],
         "gridwidth": 2,
         "matches": "y",
         "showgrid": true,
         "title": {
          "text": "Duration (s)"
         },
         "type": "log"
        },
        "yaxis5": {
         "anchor": "x5",
         "domain": [
          0.2575,
          0.485
         ],
         "gridwidth": 2,
         "matches": "y",
         "showgrid": true,
         "showticklabels": false,
         "type": "log"
        },
        "yaxis6": {
         "anchor": "x6",
         "domain": [
          0.2575,
          0.485
         ],
         "gridwidth": 2,
         "matches": "y",
         "showgrid": true,
         "showticklabels": false,
         "type": "log"
        },
        "yaxis7": {
         "anchor": "x7",
         "domain": [
          0.515,
          0.7425
         ],
         "gridwidth": 2,
         "matches": "y",
         "showgrid": true,
         "title": {
          "text": "Duration (s)"
         },
         "type": "log"
        },
        "yaxis8": {
         "anchor": "x8",
         "domain": [
          0.515,
          0.7425
         ],
         "gridwidth": 2,
         "matches": "y",
         "showgrid": true,
         "showticklabels": false,
         "type": "log"
        },
        "yaxis9": {
         "anchor": "x9",
         "domain": [
          0.515,
          0.7425
         ],
         "gridwidth": 2,
         "matches": "y",
         "showgrid": true,
         "showticklabels": false,
         "type": "log"
        }
       }
      },
      "text/html": [
       "<div>                            <div id=\"6733e7be-d897-4d2b-80cc-552c31ab152e\" class=\"plotly-graph-div\" style=\"height:800px; width:100%;\"></div>            <script type=\"text/javascript\">                require([\"plotly\"], function(Plotly) {                    window.PLOTLYENV=window.PLOTLYENV || {};                                    if (document.getElementById(\"6733e7be-d897-4d2b-80cc-552c31ab152e\")) {                    Plotly.newPlot(                        \"6733e7be-d897-4d2b-80cc-552c31ab152e\",                        [{\"alignmentgroup\": \"True\", \"boxpoints\": \"all\", \"hovertemplate\": \"Size=1000<br>Construct=serial<br>Cutoff=0<br>Sorting Algorithm=%{x}<br>Duration (s)=%{y}<extra></extra>\", \"legendgroup\": \"1000\", \"marker\": {\"color\": \"rgb(76,114,176)\"}, \"name\": \"1000\", \"notched\": false, \"offsetgroup\": \"1000\", \"orientation\": \"v\", \"showlegend\": true, \"type\": \"box\", \"x\": [\"merge\", \"merge\", \"merge\", \"merge\", \"merge\", \"enumeration\", \"enumeration\", \"enumeration\", \"enumeration\", \"enumeration\", \"quick\", \"quick\", \"quick\", \"quick\", \"quick\"], \"x0\": \" \", \"xaxis\": \"x10\", \"y\": [0.00020349799888208508, 0.00016322100418619812, 0.00017689699598122388, 0.0001479820057284087, 0.00015587700181640685, 0.00383746599254664, 0.003781311999773607, 0.0037839970027562226, 0.003804624997428617, 0.0020734050049213693, 0.00020828700507991016, 0.00017999399278778583, 0.00018529400404077023, 0.00017520500114187598, 0.00017300101171713322], \"y0\": \" \", \"yaxis\": \"y10\"}, {\"alignmentgroup\": \"True\", \"boxpoints\": \"all\", \"hovertemplate\": \"Size=1000<br>Construct=tasks<br>Cutoff=0<br>Sorting Algorithm=%{x}<br>Duration (s)=%{y}<extra></extra>\", \"legendgroup\": \"1000\", \"marker\": {\"color\": \"rgb(76,114,176)\"}, \"name\": \"1000\", \"notched\": false, \"offsetgroup\": \"1000\", \"orientation\": \"v\", \"showlegend\": false, \"type\": \"box\", \"x\": [\"merge\", \"merge\", \"merge\", \"merge\", \"merge\", \"merge\", \"merge\", \"merge\", \"merge\", \"merge\", \"merge\", \"merge\", \"merge\", \"merge\", \"merge\", \"merge\", \"merge\", \"merge\", \"merge\", \"merge\", \"quick\", \"quick\", \"quick\", \"quick\", \"quick\", \"quick\", \"quick\", \"quick\", \"quick\", \"quick\", \"quick\", \"quick\", \"quick\", \"quick\", \"quick\", \"quick\", \"quick\", \"quick\", \"quick\", \"quick\"], \"x0\": \" \", \"xaxis\": \"x7\", \"y\": [0.0006884920003358275, 0.000545679999049753, 0.0005430839955806732, 0.0005457800143631175, 0.0005528629990294576, 0.0006918480066815391, 0.000623558007646352, 0.0005398389912443237, 0.000507076008943841, 0.0004910249990643932, 0.0008066169975791126, 0.0005497469974216074, 0.0005894630012335256, 0.000539838001714088, 0.00044630999036598956, 0.000745821002055891, 0.0006412220100173728, 0.0006100719911046326, 0.000594632001593709, 0.000727656006347388, 0.001606117992196232, 0.0014447699941229075, 0.0014290499966591597, 0.0014452710020123052, 0.001258053001947701, 0.002365488006034866, 0.002217946996097453, 0.002195142995333299, 0.0021901239961152896, 0.0022296589886536826, 0.002231803999166005, 0.0021217129979049787, 0.0020424609974725168, 0.0020782799983862787, 0.0020237059943610802, 0.0030494149978039786, 0.0027433200011728327, 0.002664248997461982, 0.0024606910010334104, 0.0022670900070806965], \"y0\": \" \", \"yaxis\": \"y7\"}, {\"alignmentgroup\": \"True\", \"boxpoints\": \"all\", \"hovertemplate\": \"Size=1000<br>Construct=tasks<br>Cutoff=100<br>Sorting Algorithm=%{x}<br>Duration (s)=%{y}<extra></extra>\", \"legendgroup\": \"1000\", \"marker\": {\"color\": \"rgb(76,114,176)\"}, \"name\": \"1000\", \"notched\": false, \"offsetgroup\": \"1000\", \"orientation\": \"v\", \"showlegend\": false, \"type\": \"box\", \"x\": [\"merge\", \"merge\", \"merge\", \"merge\", \"merge\", \"merge\", \"merge\", \"merge\", \"merge\", \"merge\", \"merge\", \"merge\", \"merge\", \"merge\", \"merge\", \"merge\", \"merge\", \"merge\", \"merge\", \"merge\", \"quick\", \"quick\", \"quick\", \"quick\", \"quick\", \"quick\", \"quick\", \"quick\", \"quick\", \"quick\", \"quick\", \"quick\", \"quick\", \"quick\", \"quick\", \"quick\", \"quick\", \"quick\", \"quick\", \"quick\"], \"x0\": \" \", \"xaxis\": \"x8\", \"y\": [9.795698861125855e-05, 9.438001143280417e-05, 9.153399150818586e-05, 9.196500468533486e-05, 9.14439879124984e-05, 6.78289943607524e-05, 6.1166996601969e-05, 7.876000017859042e-05, 9.78460011538118e-05, 7.486301183234899e-05, 7.419098983518779e-05, 8.938999962992966e-05, 0.00010679398837964982, 0.00010730400390457362, 8.220699965022504e-05, 0.00012137100566178559, 0.0001170030009234324, 0.00010724499588832259, 0.00011713300773408264, 9.776599472388624e-05, 0.00012385699665173888, 0.0001261409925064072, 0.0001154710043920204, 0.00012609099212568253, 0.00011026000720448792, 0.00010566199489403516, 0.00010801600001286717, 0.00014746100350748748, 0.00010866799857467412, 0.00012219299969729036, 0.00014322299102786928, 0.0001024859957396984, 0.00010882699280045928, 0.00010422900959383696, 0.000112263995106332, 0.00013056999887339774, 0.000125660008052364, 0.00012546000652946534, 0.00011510899639688432, 0.0001247689942829311], \"y0\": \" \", \"yaxis\": \"y8\"}, {\"alignmentgroup\": \"True\", \"boxpoints\": \"all\", \"hovertemplate\": \"Size=1000<br>Construct=tasks<br>Cutoff=1000<br>Sorting Algorithm=%{x}<br>Duration (s)=%{y}<extra></extra>\", \"legendgroup\": \"1000\", \"marker\": {\"color\": \"rgb(76,114,176)\"}, \"name\": \"1000\", \"notched\": false, \"offsetgroup\": \"1000\", \"orientation\": \"v\", \"showlegend\": false, \"type\": \"box\", \"x\": [\"merge\", \"merge\", \"merge\", \"merge\", \"merge\", \"merge\", \"merge\", \"merge\", \"merge\", \"merge\", \"merge\", \"merge\", \"merge\", \"merge\", \"merge\", \"merge\", \"merge\", \"merge\", \"merge\", \"merge\", \"quick\", \"quick\", \"quick\", \"quick\", \"quick\", \"quick\", \"quick\", \"quick\", \"quick\", \"quick\", \"quick\", \"quick\", \"quick\", \"quick\", \"quick\", \"quick\", \"quick\", \"quick\", \"quick\", \"quick\"], \"x0\": \" \", \"xaxis\": \"x9\", \"y\": [0.000149425002746284, 0.00014671999088022858, 0.0001515990006737411, 0.00014506699517369268, 0.0001437640021322295, 8.79279978107661e-05, 7.102599192876369e-05, 7.045500387903303e-05, 7.062499935273081e-05, 7.01730023138225e-05, 7.231799827422945e-05, 7.025399827398361e-05, 6.979300815146416e-05, 6.931200914550573e-05, 6.96119968779385e-05, 7.24480050848797e-05, 7.06550054019317e-05, 7.017400639597327e-05, 6.968299567233771e-05, 6.937301077414304e-05, 0.00022060099581722167, 0.00013239299005363137, 0.00012557000445667654, 0.00012583100760821253, 0.00012147199595347048, 0.00012862600851804018, 0.00011466900468803942, 0.00011211499804630877, 0.00011235399870201944, 0.00011134200030937794, 0.00012108200462535025, 0.00012161298946011811, 0.0001253689988516271, 0.00012514900299720466, 0.00012419698759913445, 0.00012939699809066954, 0.000124537997180596, 0.00013489699631463736, 0.00012418700498528779, 0.00012757399235852063], \"y0\": \" \", \"yaxis\": \"y9\"}, {\"alignmentgroup\": \"True\", \"boxpoints\": \"all\", \"hovertemplate\": \"Size=1000<br>Construct=sections<br>Cutoff=0<br>Sorting Algorithm=%{x}<br>Duration (s)=%{y}<extra></extra>\", \"legendgroup\": \"1000\", \"marker\": {\"color\": \"rgb(76,114,176)\"}, \"name\": \"1000\", \"notched\": false, \"offsetgroup\": \"1000\", \"orientation\": \"v\", \"showlegend\": false, \"type\": \"box\", \"x\": [\"merge\", \"merge\", \"merge\", \"merge\", \"merge\", \"merge\", \"merge\", \"merge\", \"merge\", \"merge\", \"merge\", \"merge\", \"merge\", \"merge\", \"merge\", \"merge\", \"merge\", \"merge\", \"merge\", \"merge\", \"quick\", \"quick\", \"quick\", \"quick\", \"quick\", \"quick\", \"quick\", \"quick\", \"quick\", \"quick\", \"quick\", \"quick\", \"quick\", \"quick\", \"quick\", \"quick\", \"quick\", \"quick\", \"quick\", \"quick\"], \"x0\": \" \", \"xaxis\": \"x4\", \"y\": [0.00043834499956574286, 0.0004276349936844781, 0.00044704199535772204, 0.0004234660009387881, 0.0004185680008959025, 0.00043678299698512996, 0.0004342879983596504, 0.00041135399078484635, 0.0004215029912302271, 0.0003277450014138594, 0.00043009899673052127, 0.0003651150036603213, 0.00042199400195386255, 0.0004006730014225468, 0.0003642340016085655, 0.0004887609975412488, 0.00043412701052147895, 0.0005186180060263723, 0.0004155720089329407, 0.00031136300822254265, 0.0005464139976538718, 0.000536135004949756, 0.0005269760004011914, 0.0005258749879430981, 0.0005194330005906521, 0.00028625699633266777, 0.0005329580017132685, 0.0002820690133376047, 0.00028581600054167206, 0.0002786020049825311, 0.0002778909984044731, 0.00029448200075421477, 0.0002812870079651475, 0.0004303619934944436, 0.00027755000337492675, 0.00033154401171486825, 0.00030991200765129173, 0.00031284701253753155, 0.00031256700458470727, 0.0003207529953215271], \"y0\": \" \", \"yaxis\": \"y4\"}, {\"alignmentgroup\": \"True\", \"boxpoints\": \"all\", \"hovertemplate\": \"Size=1000<br>Construct=sections<br>Cutoff=100<br>Sorting Algorithm=%{x}<br>Duration (s)=%{y}<extra></extra>\", \"legendgroup\": \"1000\", \"marker\": {\"color\": \"rgb(76,114,176)\"}, \"name\": \"1000\", \"notched\": false, \"offsetgroup\": \"1000\", \"orientation\": \"v\", \"showlegend\": false, \"type\": \"box\", \"x\": [\"merge\", \"merge\", \"merge\", \"merge\", \"merge\", \"merge\", \"merge\", \"merge\", \"merge\", \"merge\", \"merge\", \"merge\", \"merge\", \"merge\", \"merge\", \"merge\", \"merge\", \"merge\", \"merge\", \"merge\", \"quick\", \"quick\", \"quick\", \"quick\", \"quick\", \"quick\", \"quick\", \"quick\", \"quick\", \"quick\", \"quick\", \"quick\", \"quick\", \"quick\", \"quick\", \"quick\", \"quick\", \"quick\", \"quick\", \"quick\"], \"x0\": \" \", \"xaxis\": \"x5\", \"y\": [0.00010423900675959884, 0.00010257599933538586, 9.694400068838148e-05, 9.497100836597384e-05, 9.694398613646626e-05, 5.142799636814743e-05, 7.416101288981733e-05, 5.018600495532155e-05, 6.883101013954729e-05, 6.407199543900789e-05, 9.943000623025e-05, 9.049200161825864e-05, 7.893099973443894e-05, 8.327899558935313e-05, 8.521199924871324e-05, 9.595199662726372e-05, 4.514600732363761e-05, 8.449099550489336e-05, 8.583399176131934e-05, 8.143499144352973e-05, 0.0001127259893110022, 0.0001935600012075156, 0.0001882590004242957, 0.00010162399848923088, 9.714599582366644e-05, 0.00010021099296864122, 0.0001053809974109754, 9.989101090468465e-05, 9.933899855241181e-05, 9.954000415746121e-05, 9.712598694022746e-05, 0.00010623299749568105, 0.00010418900637887418, 0.00010205499711446464, 9.811800555326043e-05, 0.00010187498992308974, 9.973999112844467e-05, 0.000101073004771024, 9.752598998602481e-05, 0.00012850599887315184], \"y0\": \" \", \"yaxis\": \"y5\"}, {\"alignmentgroup\": \"True\", \"boxpoints\": \"all\", \"hovertemplate\": \"Size=1000<br>Construct=sections<br>Cutoff=1000<br>Sorting Algorithm=%{x}<br>Duration (s)=%{y}<extra></extra>\", \"legendgroup\": \"1000\", \"marker\": {\"color\": \"rgb(76,114,176)\"}, \"name\": \"1000\", \"notched\": false, \"offsetgroup\": \"1000\", \"orientation\": \"v\", \"showlegend\": false, \"type\": \"box\", \"x\": [\"merge\", \"merge\", \"merge\", \"merge\", \"merge\", \"merge\", \"merge\", \"merge\", \"merge\", \"merge\", \"merge\", \"merge\", \"merge\", \"merge\", \"merge\", \"merge\", \"merge\", \"merge\", \"merge\", \"merge\", \"quick\", \"quick\", \"quick\", \"quick\", \"quick\", \"quick\", \"quick\", \"quick\", \"quick\", \"quick\", \"quick\", \"quick\", \"quick\", \"quick\", \"quick\", \"quick\", \"quick\", \"quick\", \"quick\", \"quick\"], \"x0\": \" \", \"xaxis\": \"x6\", \"y\": [0.00013801299792248756, 0.00013617900549434123, 0.00013364499318413436, 0.00013347399362828585, 0.00013327399210538715, 7.130599988158791e-05, 7.093499880284071e-05, 7.153599290177226e-05, 7.054499292280525e-05, 7.041401113383472e-05, 7.056401227600873e-05, 7.041399658191949e-05, 7.004299550317228e-05, 6.954200216569006e-05, 6.990299152676016e-05, 7.110599835868925e-05, 7.067401020321995e-05, 7.08250008756295e-05, 7.014299626462162e-05, 7.018400356173514e-05, 8.647599315736441e-05, 8.623499888926744e-05, 8.683500345796347e-05, 8.562399307265876e-05, 8.58939893078059e-05, 8.747700485400854e-05, 8.95510020200163e-05, 8.654499833937734e-05, 8.66250047693029e-05, 9.035199764184652e-05, 8.532300125807524e-05, 8.96909914445132e-05, 8.863898983690886e-05, 8.547300240024926e-05, 8.674600394442677e-05, 0.00010057199688162656, 8.666599751450121e-05, 8.712599810678512e-05, 8.651601092424244e-05, 8.660599996801466e-05], \"y0\": \" \", \"yaxis\": \"y6\"}, {\"alignmentgroup\": \"True\", \"boxpoints\": \"all\", \"hovertemplate\": \"Size=1000<br>Construct=parallel<br>Cutoff=0<br>Sorting Algorithm=%{x}<br>Duration (s)=%{y}<extra></extra>\", \"legendgroup\": \"1000\", \"marker\": {\"color\": \"rgb(76,114,176)\"}, \"name\": \"1000\", \"notched\": false, \"offsetgroup\": \"1000\", \"orientation\": \"v\", \"showlegend\": false, \"type\": \"box\", \"x\": [\"enumeration\", \"enumeration\", \"enumeration\", \"enumeration\", \"enumeration\", \"enumeration\", \"enumeration\", \"enumeration\", \"enumeration\", \"enumeration\", \"enumeration\", \"enumeration\", \"enumeration\", \"enumeration\", \"enumeration\", \"enumeration\", \"enumeration\", \"enumeration\", \"enumeration\", \"enumeration\"], \"x0\": \" \", \"xaxis\": \"x\", \"y\": [0.004832582009839825, 0.004708952008513735, 0.004552622995106504, 0.003228808011044748, 0.003556986004696228, 0.002614678000099957, 0.002472203996148892, 0.0026114430074812844, 0.002482294003129937, 0.002285367998410948, 0.0014019800000824034, 0.0013568760041380301, 0.0013254079967737198, 0.0014687640068586914, 0.0013323810126166793, 0.0010671889904187992, 0.0008571099897380918, 0.0008632809913251549, 0.0008761250064708291, 0.0008620990120107308], \"y0\": \" \", \"yaxis\": \"y\"}, {\"alignmentgroup\": \"True\", \"boxpoints\": \"all\", \"hovertemplate\": \"Size=1000<br>Construct=parallel<br>Cutoff=100<br>Sorting Algorithm=%{x}<br>Duration (s)=%{y}<extra></extra>\", \"legendgroup\": \"1000\", \"marker\": {\"color\": \"rgb(76,114,176)\"}, \"name\": \"1000\", \"notched\": false, \"offsetgroup\": \"1000\", \"orientation\": \"v\", \"showlegend\": false, \"type\": \"box\", \"x\": [\"enumeration\", \"enumeration\", \"enumeration\", \"enumeration\", \"enumeration\", \"enumeration\", \"enumeration\", \"enumeration\", \"enumeration\", \"enumeration\", \"enumeration\", \"enumeration\", \"enumeration\", \"enumeration\", \"enumeration\", \"enumeration\", \"enumeration\", \"enumeration\", \"enumeration\", \"enumeration\"], \"x0\": \" \", \"xaxis\": \"x2\", \"y\": [0.0035993439960293467, 0.0028041209880029787, 0.002445916004944593, 0.002407674997812137, 0.002415739989373833, 0.002153973997337744, 0.0016612409963272512, 0.0013194269995437935, 0.0012828289909521118, 0.0013124339893693104, 0.0013211100012995305, 0.001335106004262343, 0.0013485209929058328, 0.0012941500026499853, 0.0014422450040001422, 0.0008522709977114573, 0.0008524510049028321, 0.0008523110009264201, 0.000858471990795806, 0.0008708039968041702], \"y0\": \" \", \"yaxis\": \"y2\"}, {\"alignmentgroup\": \"True\", \"boxpoints\": \"all\", \"hovertemplate\": \"Size=1000<br>Construct=parallel<br>Cutoff=1000<br>Sorting Algorithm=%{x}<br>Duration (s)=%{y}<extra></extra>\", \"legendgroup\": \"1000\", \"marker\": {\"color\": \"rgb(76,114,176)\"}, \"name\": \"1000\", \"notched\": false, \"offsetgroup\": \"1000\", \"orientation\": \"v\", \"showlegend\": false, \"type\": \"box\", \"x\": [\"enumeration\", \"enumeration\", \"enumeration\", \"enumeration\", \"enumeration\", \"enumeration\", \"enumeration\", \"enumeration\", \"enumeration\", \"enumeration\", \"enumeration\", \"enumeration\", \"enumeration\", \"enumeration\", \"enumeration\", \"enumeration\", \"enumeration\", \"enumeration\", \"enumeration\", \"enumeration\"], \"x0\": \" \", \"xaxis\": \"x3\", \"y\": [0.002407024003332481, 0.0023994689981918786, 0.002401103003649041, 0.002401032994384877, 0.002427843006444164, 0.0013158000074326992, 0.001321550997090526, 0.0013077250041533262, 0.0013133559987181798, 0.0012940190063090995, 0.0014074799983063713, 0.0009885129984468222, 0.0009409249905729666, 0.00093563599511981, 0.0009412350045749917, 0.000879560990142636, 0.0008815649925963953, 0.0008824659889796748, 0.001035099005093798, 0.0006252290040720255], \"y0\": \" \", \"yaxis\": \"y3\"}, {\"alignmentgroup\": \"True\", \"boxpoints\": \"all\", \"hovertemplate\": \"Size=10000<br>Construct=serial<br>Cutoff=0<br>Sorting Algorithm=%{x}<br>Duration (s)=%{y}<extra></extra>\", \"legendgroup\": \"10000\", \"marker\": {\"color\": \"rgb(221,132,82)\"}, \"name\": \"10000\", \"notched\": false, \"offsetgroup\": \"10000\", \"orientation\": \"v\", \"showlegend\": true, \"type\": \"box\", \"x\": [\"merge\", \"merge\", \"merge\", \"merge\", \"merge\", \"enumeration\", \"enumeration\", \"enumeration\", \"enumeration\", \"enumeration\", \"quick\", \"quick\", \"quick\", \"quick\", \"quick\"], \"x0\": \" \", \"xaxis\": \"x10\", \"y\": [0.0011994849919574335, 0.0011884739942615852, 0.0011643879988696426, 0.0011748089891625568, 0.0011645689955912528, 0.2290376849996392, 0.22882275500160176, 0.22874784900341186, 0.2289448859955883, 0.2676730969978962, 0.0011462200054666027, 0.0012576220033224672, 0.0013036300078965726, 0.0012955350102856755, 0.0012895440013380721], \"y0\": \" \", \"yaxis\": \"y10\"}, {\"alignmentgroup\": \"True\", \"boxpoints\": \"all\", \"hovertemplate\": \"Size=10000<br>Construct=tasks<br>Cutoff=0<br>Sorting Algorithm=%{x}<br>Duration (s)=%{y}<extra></extra>\", \"legendgroup\": \"10000\", \"marker\": {\"color\": \"rgb(221,132,82)\"}, \"name\": \"10000\", \"notched\": false, \"offsetgroup\": \"10000\", \"orientation\": \"v\", \"showlegend\": false, \"type\": \"box\", \"x\": [\"merge\", \"merge\", \"merge\", \"merge\", \"merge\", \"merge\", \"merge\", \"merge\", \"merge\", \"merge\", \"merge\", \"merge\", \"merge\", \"merge\", \"merge\", \"merge\", \"merge\", \"merge\", \"merge\", \"merge\", \"quick\", \"quick\", \"quick\", \"quick\", \"quick\", \"quick\", \"quick\", \"quick\", \"quick\", \"quick\", \"quick\", \"quick\", \"quick\", \"quick\", \"quick\", \"quick\", \"quick\", \"quick\", \"quick\", \"quick\"], \"x0\": \" \", \"xaxis\": \"x7\", \"y\": [0.0048946160095511, 0.004584424998029135, 0.004212055006064475, 0.0032329300011042506, 0.0032462050003232434, 0.005442148991278373, 0.005499467995832674, 0.004470276995562017, 0.005464702000608668, 0.005491692994837649, 0.005774923003627919, 0.004202345997327939, 0.005975284002488479, 0.006007534990203567, 0.004626694993930869, 0.006035188998794183, 0.0057009209995158025, 0.004538146007689647, 0.004717639007139951, 0.006170325999846682, 0.002295154001330957, 0.0023253519902937114, 0.002488322992576286, 0.0025183499965351075, 0.0025408639921806753, 0.0077903210039949045, 0.0068098990013822904, 0.005226804001722485, 0.005473996003274806, 0.0056966219999594605, 0.01875432500673924, 0.010204051999608056, 0.010756917996332048, 0.010586161995888688, 0.009095343993976712, 0.024820711987558752, 0.026757532003102824, 0.023589502001414075, 0.0231901579973055, 0.019726340993656773], \"y0\": \" \", \"yaxis\": \"y7\"}, {\"alignmentgroup\": \"True\", \"boxpoints\": \"all\", \"hovertemplate\": \"Size=10000<br>Construct=tasks<br>Cutoff=100<br>Sorting Algorithm=%{x}<br>Duration (s)=%{y}<extra></extra>\", \"legendgroup\": \"10000\", \"marker\": {\"color\": \"rgb(221,132,82)\"}, \"name\": \"10000\", \"notched\": false, \"offsetgroup\": \"10000\", \"orientation\": \"v\", \"showlegend\": false, \"type\": \"box\", \"x\": [\"merge\", \"merge\", \"merge\", \"merge\", \"merge\", \"merge\", \"merge\", \"merge\", \"merge\", \"merge\", \"merge\", \"merge\", \"merge\", \"merge\", \"merge\", \"merge\", \"merge\", \"merge\", \"merge\", \"merge\", \"quick\", \"quick\", \"quick\", \"quick\", \"quick\", \"quick\", \"quick\", \"quick\", \"quick\", \"quick\", \"quick\", \"quick\", \"quick\", \"quick\", \"quick\", \"quick\", \"quick\", \"quick\", \"quick\", \"quick\"], \"x0\": \" \", \"xaxis\": \"x8\", \"y\": [0.0006886720075272025, 0.0006772710039513186, 0.0006724410050082952, 0.0006688440043944865, 0.0006745150021743028, 0.0010578360088402403, 0.0009867100015981123, 0.001272774999961257, 0.0013327089982340112, 0.0011577060067793354, 0.0013494710001396015, 0.0011686060024658216, 0.0010809099912876263, 0.0007742650050204246, 0.001093302998924628, 0.001258257994777523, 0.0012794770009350034, 0.0012258950009709224, 0.0014451129973167556, 0.0010444200015626848, 0.0011452879989519715, 0.0011319720069877805, 0.001109739998355508, 0.0010796220012707636, 0.0010928669944405556, 0.00081408501137048, 0.0008074020006461068, 0.0007264180021593347, 0.0007288019987754525, 0.0007725660107098519, 0.000837679996038787, 0.0006852889928268269, 0.0006680859951302409, 0.0008222309988923369, 0.0007051780121400952, 0.0008092960051726551, 0.000908585003344342, 0.0006905790069140493, 0.0008121020073303952, 0.0008560849964851514], \"y0\": \" \", \"yaxis\": \"y8\"}, {\"alignmentgroup\": \"True\", \"boxpoints\": \"all\", \"hovertemplate\": \"Size=10000<br>Construct=tasks<br>Cutoff=1000<br>Sorting Algorithm=%{x}<br>Duration (s)=%{y}<extra></extra>\", \"legendgroup\": \"10000\", \"marker\": {\"color\": \"rgb(221,132,82)\"}, \"name\": \"10000\", \"notched\": false, \"offsetgroup\": \"10000\", \"orientation\": \"v\", \"showlegend\": false, \"type\": \"box\", \"x\": [\"merge\", \"merge\", \"merge\", \"merge\", \"merge\", \"merge\", \"merge\", \"merge\", \"merge\", \"merge\", \"merge\", \"merge\", \"merge\", \"merge\", \"merge\", \"merge\", \"merge\", \"merge\", \"merge\", \"merge\", \"quick\", \"quick\", \"quick\", \"quick\", \"quick\", \"quick\", \"quick\", \"quick\", \"quick\", \"quick\", \"quick\", \"quick\", \"quick\", \"quick\", \"quick\", \"quick\", \"quick\", \"quick\", \"quick\", \"quick\"], \"x0\": \" \", \"xaxis\": \"x9\", \"y\": [0.0006374649965437129, 0.0006357009988278152, 0.0006361319974530488, 0.0006315529899438843, 0.0006369829934556037, 0.0009895550028886646, 0.0009493690013187006, 0.0009504909976385533, 0.0009395200031576678, 0.0009399609989486633, 0.0010064579983009023, 0.0009775020007509738, 0.0009754490019986406, 0.0009729939920362084, 0.0009543690102873369, 0.0009974709973903375, 0.0009761200053617359, 0.0007510709983762354, 0.0009340300020994617, 0.0008119769918266685, 0.0008904710120987146, 0.0008346149988938122, 0.0008344439993379637, 0.0008092060015769674, 0.0009621380013413728, 0.0008197360002668574, 0.0007823140040272848, 0.0006114179996075109, 0.000742137010092847, 0.0007615549984620883, 0.0005835449992446229, 0.0005353329906938598, 0.0005932829953962937, 0.0005753089935751632, 0.0005419249937403947, 0.0005580260040005669, 0.0004732439992949367, 0.000520824993145652, 0.0004586559953168034, 0.0004938130005029961], \"y0\": \" \", \"yaxis\": \"y9\"}, {\"alignmentgroup\": \"True\", \"boxpoints\": \"all\", \"hovertemplate\": \"Size=10000<br>Construct=sections<br>Cutoff=0<br>Sorting Algorithm=%{x}<br>Duration (s)=%{y}<extra></extra>\", \"legendgroup\": \"10000\", \"marker\": {\"color\": \"rgb(221,132,82)\"}, \"name\": \"10000\", \"notched\": false, \"offsetgroup\": \"10000\", \"orientation\": \"v\", \"showlegend\": false, \"type\": \"box\", \"x\": [\"merge\", \"merge\", \"merge\", \"merge\", \"merge\", \"merge\", \"merge\", \"merge\", \"merge\", \"merge\", \"merge\", \"merge\", \"merge\", \"merge\", \"merge\", \"merge\", \"merge\", \"merge\", \"merge\", \"merge\", \"quick\", \"quick\", \"quick\", \"quick\", \"quick\", \"quick\", \"quick\", \"quick\", \"quick\", \"quick\", \"quick\", \"quick\", \"quick\", \"quick\", \"quick\", \"quick\", \"quick\", \"quick\", \"quick\", \"quick\"], \"x0\": \" \", \"xaxis\": \"x4\", \"y\": [0.0035300560120958835, 0.004212254993035458, 0.002650820999406278, 0.0026577740063657984, 0.002742894997936673, 0.00451936099852901, 0.004241229995386675, 0.0035288030048832297, 0.002809903002344072, 0.003513372997986153, 0.004199721006443724, 0.004356871009804309, 0.0038756540016038335, 0.0031521060009254143, 0.0033452439965913072, 0.004297808991395868, 0.003956658998504281, 0.004230631006066688, 0.0034932949929498136, 0.003303442994365469, 0.003467734000878409, 0.004048433009302244, 0.002835095001501031, 0.0028999190108152106, 0.0028903609927510843, 0.005549591005546972, 0.00409339899488259, 0.00326491599844303, 0.003475117991911248, 0.0043857380078407004, 0.002809937999700196, 0.002769009006442502, 0.0028186840063426644, 0.0027807410078821704, 0.002800699992803857, 0.002952880997327157, 0.002843752008629963, 0.002964271989185363, 0.002865222995751537, 0.0028522880020318553], \"y0\": \" \", \"yaxis\": \"y4\"}, {\"alignmentgroup\": \"True\", \"boxpoints\": \"all\", \"hovertemplate\": \"Size=10000<br>Construct=sections<br>Cutoff=100<br>Sorting Algorithm=%{x}<br>Duration (s)=%{y}<extra></extra>\", \"legendgroup\": \"10000\", \"marker\": {\"color\": \"rgb(221,132,82)\"}, \"name\": \"10000\", \"notched\": false, \"offsetgroup\": \"10000\", \"orientation\": \"v\", \"showlegend\": false, \"type\": \"box\", \"x\": [\"merge\", \"merge\", \"merge\", \"merge\", \"merge\", \"merge\", \"merge\", \"merge\", \"merge\", \"merge\", \"merge\", \"merge\", \"merge\", \"merge\", \"merge\", \"merge\", \"merge\", \"merge\", \"merge\", \"merge\", \"quick\", \"quick\", \"quick\", \"quick\", \"quick\", \"quick\", \"quick\", \"quick\", \"quick\", \"quick\", \"quick\", \"quick\", \"quick\", \"quick\", \"quick\", \"quick\", \"quick\", \"quick\", \"quick\", \"quick\"], \"x0\": \" \", \"xaxis\": \"x5\", \"y\": [0.0006568810058524832, 0.0006590559933101758, 0.0006504089978989214, 0.0006508100050268696, 0.0006420230056392028, 0.0010057659965241328, 0.0009528149967081844, 0.0009540879982523619, 0.0009940640011336654, 0.0009568730019964276, 0.0009714010084280744, 0.0010808990045916287, 0.001131795987021178, 0.0009815599914873019, 0.00100423299591057, 0.0010727039916673675, 0.0012045949988532814, 0.001006998005323112, 0.0010026700037997216, 0.0011705600045388564, 0.0012634240119950846, 0.0012295290071051568, 0.0012394579971442, 0.00111521000508219, 0.0012332659971434625, 0.0012471219961298632, 0.0011006319982698187, 0.0011027769942302257, 0.0012523219920694828, 0.0017627570050535726, 0.0012565709912450984, 0.0011491049954202026, 0.0012242689990671352, 0.0011631219967966901, 0.0011176559928571805, 0.0012247999984538185, 0.0012062140012858436, 0.0012053730024490505, 0.0011782410001615062, 0.0011495859944261613], \"y0\": \" \", \"yaxis\": \"y5\"}, {\"alignmentgroup\": \"True\", \"boxpoints\": \"all\", \"hovertemplate\": \"Size=10000<br>Construct=sections<br>Cutoff=1000<br>Sorting Algorithm=%{x}<br>Duration (s)=%{y}<extra></extra>\", \"legendgroup\": \"10000\", \"marker\": {\"color\": \"rgb(221,132,82)\"}, \"name\": \"10000\", \"notched\": false, \"offsetgroup\": \"10000\", \"orientation\": \"v\", \"showlegend\": false, \"type\": \"box\", \"x\": [\"merge\", \"merge\", \"merge\", \"merge\", \"merge\", \"merge\", \"merge\", \"merge\", \"merge\", \"merge\", \"merge\", \"merge\", \"merge\", \"merge\", \"merge\", \"merge\", \"merge\", \"merge\", \"merge\", \"merge\", \"quick\", \"quick\", \"quick\", \"quick\", \"quick\", \"quick\", \"quick\", \"quick\", \"quick\", \"quick\", \"quick\", \"quick\", \"quick\", \"quick\", \"quick\", \"quick\", \"quick\", \"quick\", \"quick\", \"quick\"], \"x0\": \" \", \"xaxis\": \"x6\", \"y\": [0.0006279869994614272, 0.0006308419979177416, 0.0006237579946173355, 0.0006223160016816108, 0.0006297999934758991, 0.000952704998780973, 0.0009349619940621777, 0.000952054004301317, 0.0009274070034734906, 0.0009261040104320272, 0.0009759289969224483, 0.0009454009996261448, 0.0009686849953141065, 0.0009398410038556905, 0.0009414640080649405, 0.0011314559960737824, 0.0009189209959004074, 0.0007916480099083855, 0.0007869090040912852, 0.0009561619954183696, 0.0011810559954028574, 0.0011814770114142448, 0.0011774189915740862, 0.0011764269875129685, 0.0012043909955536947, 0.0017066610016627235, 0.0015151849947869778, 0.0010195779905188829, 0.0010732509981608018, 0.001125820999732241, 0.0011635929986368865, 0.0010641019907779992, 0.0010770880035124721, 0.0010638819949235767, 0.0011195480037713423, 0.0011765880044549706, 0.0011246280046179893, 0.0011432640021666884, 0.001169644994661212, 0.001163513006758876], \"y0\": \" \", \"yaxis\": \"y6\"}, {\"alignmentgroup\": \"True\", \"boxpoints\": \"all\", \"hovertemplate\": \"Size=10000<br>Construct=parallel<br>Cutoff=0<br>Sorting Algorithm=%{x}<br>Duration (s)=%{y}<extra></extra>\", \"legendgroup\": \"10000\", \"marker\": {\"color\": \"rgb(221,132,82)\"}, \"name\": \"10000\", \"notched\": false, \"offsetgroup\": \"10000\", \"orientation\": \"v\", \"showlegend\": false, \"type\": \"box\", \"x\": [\"enumeration\", \"enumeration\", \"enumeration\", \"enumeration\", \"enumeration\", \"enumeration\", \"enumeration\", \"enumeration\", \"enumeration\", \"enumeration\", \"enumeration\", \"enumeration\", \"enumeration\", \"enumeration\", \"enumeration\", \"enumeration\", \"enumeration\", \"enumeration\", \"enumeration\", \"enumeration\"], \"x0\": \" \", \"xaxis\": \"x\", \"y\": [0.2482817459967919, 0.2425068379961885, 0.24318886599212414, 0.24341447500046345, 0.2433096200111322, 0.1285854220041074, 0.12423285999102518, 0.1235990439890884, 0.12299768799857702, 0.12286508100805806, 0.07052553399989847, 0.06798885999887716, 0.06618144699314144, 0.06383527499565389, 0.06567385500238744, 0.04521434799244162, 0.04398106200096663, 0.04510200100776274, 0.04521340700739529, 0.04506371899333317], \"y0\": \" \", \"yaxis\": \"y\"}, {\"alignmentgroup\": \"True\", \"boxpoints\": \"all\", \"hovertemplate\": \"Size=10000<br>Construct=parallel<br>Cutoff=100<br>Sorting Algorithm=%{x}<br>Duration (s)=%{y}<extra></extra>\", \"legendgroup\": \"10000\", \"marker\": {\"color\": \"rgb(221,132,82)\"}, \"name\": \"10000\", \"notched\": false, \"offsetgroup\": \"10000\", \"orientation\": \"v\", \"showlegend\": false, \"type\": \"box\", \"x\": [\"enumeration\", \"enumeration\", \"enumeration\", \"enumeration\", \"enumeration\", \"enumeration\", \"enumeration\", \"enumeration\", \"enumeration\", \"enumeration\", \"enumeration\", \"enumeration\", \"enumeration\", \"enumeration\", \"enumeration\", \"enumeration\", \"enumeration\", \"enumeration\", \"enumeration\", \"enumeration\"], \"x0\": \" \", \"xaxis\": \"x2\", \"y\": [0.24362933200609405, 0.24361525199492465, 0.2492948150029406, 0.24332723699626516, 0.24648717700620185, 0.12282191800477447, 0.1229803229944082, 0.12451665299886372, 0.12373075498908293, 0.122911184997065, 0.06772470899159089, 0.06504201299685519, 0.06794131199421827, 0.068520916000125, 0.0663879000057932, 0.08998715798952618, 0.042385260996525176, 0.041404611998586915, 0.04110260200104676, 0.04198921700299252], \"y0\": \" \", \"yaxis\": \"y2\"}, {\"alignmentgroup\": \"True\", \"boxpoints\": \"all\", \"hovertemplate\": \"Size=10000<br>Construct=parallel<br>Cutoff=1000<br>Sorting Algorithm=%{x}<br>Duration (s)=%{y}<extra></extra>\", \"legendgroup\": \"10000\", \"marker\": {\"color\": \"rgb(221,132,82)\"}, \"name\": \"10000\", \"notched\": false, \"offsetgroup\": \"10000\", \"orientation\": \"v\", \"showlegend\": false, \"type\": \"box\", \"x\": [\"enumeration\", \"enumeration\", \"enumeration\", \"enumeration\", \"enumeration\", \"enumeration\", \"enumeration\", \"enumeration\", \"enumeration\", \"enumeration\", \"enumeration\", \"enumeration\", \"enumeration\", \"enumeration\", \"enumeration\", \"enumeration\", \"enumeration\", \"enumeration\", \"enumeration\", \"enumeration\"], \"x0\": \" \", \"xaxis\": \"x3\", \"y\": [0.24247114500030875, 0.24560632900102064, 0.2436280900001293, 0.24276637900038625, 0.24432871500903275, 0.12294781299715395, 0.1230369879922364, 0.12327798501064535, 0.123412521003047, 0.12304989900439978, 0.06556931200611871, 0.06731391799985431, 0.06690163700841367, 0.06697991100372747, 0.06569252398912795, 0.041628607010352425, 0.04499134499928914, 0.044769473010092035, 0.04532850100076757, 0.04473029999644496], \"y0\": \" \", \"yaxis\": \"y3\"}, {\"alignmentgroup\": \"True\", \"boxpoints\": \"all\", \"hovertemplate\": \"Size=100000<br>Construct=serial<br>Cutoff=0<br>Sorting Algorithm=%{x}<br>Duration (s)=%{y}<extra></extra>\", \"legendgroup\": \"100000\", \"marker\": {\"color\": \"rgb(85,168,104)\"}, \"name\": \"100000\", \"notched\": false, \"offsetgroup\": \"100000\", \"orientation\": \"v\", \"showlegend\": true, \"type\": \"box\", \"x\": [\"merge\", \"merge\", \"merge\", \"merge\", \"merge\", \"enumeration\", \"enumeration\", \"enumeration\", \"enumeration\", \"enumeration\", \"quick\", \"quick\", \"quick\", \"quick\", \"quick\"], \"x0\": \" \", \"xaxis\": \"x10\", \"y\": [0.016560150994337164, 0.01401985100528691, 0.014057713997317478, 0.014083982998272402, 0.014058375003514813, 23.830702096995086, 23.793007883999962, 23.73145163200388, 23.83424479099631, 23.816961625998374, 0.0185017330077244, 0.016697676008334383, 0.016323492003721185, 0.016726792004192248, 0.016698719002306458], \"y0\": \" \", \"yaxis\": \"y10\"}, {\"alignmentgroup\": \"True\", \"boxpoints\": \"all\", \"hovertemplate\": \"Size=100000<br>Construct=tasks<br>Cutoff=0<br>Sorting Algorithm=%{x}<br>Duration (s)=%{y}<extra></extra>\", \"legendgroup\": \"100000\", \"marker\": {\"color\": \"rgb(85,168,104)\"}, \"name\": \"100000\", \"notched\": false, \"offsetgroup\": \"100000\", \"orientation\": \"v\", \"showlegend\": false, \"type\": \"box\", \"x\": [\"merge\", \"merge\", \"merge\", \"merge\", \"merge\", \"merge\", \"merge\", \"merge\", \"merge\", \"merge\", \"merge\", \"merge\", \"merge\", \"merge\", \"merge\", \"merge\", \"merge\", \"merge\", \"merge\", \"merge\", \"quick\", \"quick\", \"quick\", \"quick\", \"quick\", \"quick\", \"quick\", \"quick\", \"quick\", \"quick\", \"quick\", \"quick\", \"quick\", \"quick\", \"quick\", \"quick\", \"quick\", \"quick\", \"quick\", \"quick\"], \"x0\": \" \", \"xaxis\": \"x7\", \"y\": [0.034405740996589884, 0.03251945700321812, 0.03224492400477175, 0.03291852699476294, 0.032852483011083684, 0.037608343991450965, 0.03215712800738402, 0.03187956698820926, 0.03691190500103402, 0.035088171003735624, 0.0370866279990878, 0.032316480006556965, 0.03240685199853033, 0.03584608499659225, 0.03483007999602705, 0.0356231900077546, 0.03656566599966026, 0.03734095199615695, 0.03361351099738385, 0.04142767899611499, 0.013361412988160735, 0.012371662000077777, 0.012538732000393793, 0.01369905901083257, 0.01175956400402356, 0.01803822600049898, 0.013353176997043192, 0.014820630007307043, 0.013859204002073966, 0.014992127995355988, 0.021802747010951862, 0.02173407599912025, 0.020875546004390344, 0.02040982700418681, 0.02388800100015942, 0.05622439998842311, 0.04359857099188957, 0.047083497993298806, 0.06786121700133664, 0.04537029500352218], \"y0\": \" \", \"yaxis\": \"y7\"}, {\"alignmentgroup\": \"True\", \"boxpoints\": \"all\", \"hovertemplate\": \"Size=100000<br>Construct=tasks<br>Cutoff=100<br>Sorting Algorithm=%{x}<br>Duration (s)=%{y}<extra></extra>\", \"legendgroup\": \"100000\", \"marker\": {\"color\": \"rgb(85,168,104)\"}, \"name\": \"100000\", \"notched\": false, \"offsetgroup\": \"100000\", \"orientation\": \"v\", \"showlegend\": false, \"type\": \"box\", \"x\": [\"merge\", \"merge\", \"merge\", \"merge\", \"merge\", \"merge\", \"merge\", \"merge\", \"merge\", \"merge\", \"merge\", \"merge\", \"merge\", \"merge\", \"merge\", \"merge\", \"merge\", \"merge\", \"merge\", \"merge\", \"quick\", \"quick\", \"quick\", \"quick\", \"quick\", \"quick\", \"quick\", \"quick\", \"quick\", \"quick\", \"quick\", \"quick\", \"quick\", \"quick\", \"quick\", \"quick\", \"quick\", \"quick\", \"quick\", \"quick\"], \"x0\": \" \", \"xaxis\": \"x8\", \"y\": [0.007959384995047003, 0.008085865003522484, 0.00858328299364075, 0.008487159997457637, 0.008192428009351715, 0.011059199998271652, 0.007995754000148736, 0.007940918992972001, 0.007919919007690622, 0.007933765999041498, 0.012051851008436644, 0.012315273997955956, 0.011774211990996264, 0.011553301999811085, 0.01287438900908455, 0.012113409000448884, 0.011620810008025728, 0.012806649989215657, 0.013889852998545392, 0.008227194994105956, 0.010726829990744592, 0.01271988800726831, 0.012466845000744796, 0.013700601004529744, 0.013997578993439673, 0.008848022000165656, 0.009042060992214829, 0.010221274002105929, 0.009210614996845834, 0.009312328998930752, 0.009487622999586163, 0.008716128999367356, 0.008373686010600068, 0.008980725004221313, 0.009854974996414969, 0.008640514002763666, 0.010423651008750312, 0.00943894000374712, 0.010434411000460386, 0.009385798999574035], \"y0\": \" \", \"yaxis\": \"y8\"}, {\"alignmentgroup\": \"True\", \"boxpoints\": \"all\", \"hovertemplate\": \"Size=100000<br>Construct=tasks<br>Cutoff=1000<br>Sorting Algorithm=%{x}<br>Duration (s)=%{y}<extra></extra>\", \"legendgroup\": \"100000\", \"marker\": {\"color\": \"rgb(85,168,104)\"}, \"name\": \"100000\", \"notched\": false, \"offsetgroup\": \"100000\", \"orientation\": \"v\", \"showlegend\": false, \"type\": \"box\", \"x\": [\"merge\", \"merge\", \"merge\", \"merge\", \"merge\", \"merge\", \"merge\", \"merge\", \"merge\", \"merge\", \"merge\", \"merge\", \"merge\", \"merge\", \"merge\", \"merge\", \"merge\", \"merge\", \"merge\", \"merge\", \"quick\", \"quick\", \"quick\", \"quick\", \"quick\", \"quick\", \"quick\", \"quick\", \"quick\", \"quick\", \"quick\", \"quick\", \"quick\", \"quick\", \"quick\", \"quick\", \"quick\", \"quick\", \"quick\", \"quick\"], \"x0\": \" \", \"xaxis\": \"x9\", \"y\": [0.008172620000550523, 0.007692485989537091, 0.0077107609977247185, 0.00765268100076355, 0.007924909004941581, 0.0077253790077520534, 0.007695652006077581, 0.0076494640088640145, 0.007979974005138502, 0.0076602949993684905, 0.011375934001989664, 0.011482026005978696, 0.013659695003298113, 0.012891241000033915, 0.011824929999420421, 0.010685186993214302, 0.012490748005802743, 0.013272816999233328, 0.011732483006198892, 0.013289538997923957, 0.013857922007446177, 0.011132054991321638, 0.012999080994632095, 0.012701953994110228, 0.012544653000077231, 0.006667865993222222, 0.010074995996546932, 0.00906602799659595, 0.007844866006053053, 0.007492382006603294, 0.005430643999716267, 0.007231623996631242, 0.0076179519965080544, 0.005984581002849154, 0.007642779004527256, 0.005039135008701122, 0.00549527700059116, 0.005618802999379113, 0.005234819007455371, 0.005490928000654094], \"y0\": \" \", \"yaxis\": \"y9\"}, {\"alignmentgroup\": \"True\", \"boxpoints\": \"all\", \"hovertemplate\": \"Size=100000<br>Construct=sections<br>Cutoff=0<br>Sorting Algorithm=%{x}<br>Duration (s)=%{y}<extra></extra>\", \"legendgroup\": \"100000\", \"marker\": {\"color\": \"rgb(85,168,104)\"}, \"name\": \"100000\", \"notched\": false, \"offsetgroup\": \"100000\", \"orientation\": \"v\", \"showlegend\": false, \"type\": \"box\", \"x\": [\"merge\", \"merge\", \"merge\", \"merge\", \"merge\", \"merge\", \"merge\", \"merge\", \"merge\", \"merge\", \"merge\", \"merge\", \"merge\", \"merge\", \"merge\", \"merge\", \"merge\", \"merge\", \"merge\", \"merge\", \"quick\", \"quick\", \"quick\", \"quick\", \"quick\", \"quick\", \"quick\", \"quick\", \"quick\", \"quick\", \"quick\", \"quick\", \"quick\", \"quick\", \"quick\", \"quick\", \"quick\", \"quick\", \"quick\", \"quick\"], \"x0\": \" \", \"xaxis\": \"x4\", \"y\": [0.02716547700401861, 0.027160085999639705, 0.02704827400157228, 0.028376934991683807, 0.026904058991931375, 0.03022046700061765, 0.026093032996868715, 0.03076093700656202, 0.026895652001257986, 0.029049545992165807, 0.033425713001633994, 0.028473958998802118, 0.03287277999334037, 0.029878084998927083, 0.02961715700803325, 0.036756870002136566, 0.0327938889968209, 0.032411170002887964, 0.03236810899397824, 0.03186574099527206, 0.030422324009123255, 0.030411924002692107, 0.030316389995277856, 0.03074847698735539, 0.0301147660065908, 0.030553164004231807, 0.030384159996174283, 0.029871249993448142, 0.03055896400474012, 0.030775155988521874, 0.031229104002704844, 0.03134889299690258, 0.03048433100047987, 0.031332852013292715, 0.030860138998832557, 0.030600771991885267, 0.03093946899753064, 0.031147396002779718, 0.030906807005521838, 0.03104969099513255], \"y0\": \" \", \"yaxis\": \"y4\"}, {\"alignmentgroup\": \"True\", \"boxpoints\": \"all\", \"hovertemplate\": \"Size=100000<br>Construct=sections<br>Cutoff=100<br>Sorting Algorithm=%{x}<br>Duration (s)=%{y}<extra></extra>\", \"legendgroup\": \"100000\", \"marker\": {\"color\": \"rgb(85,168,104)\"}, \"name\": \"100000\", \"notched\": false, \"offsetgroup\": \"100000\", \"orientation\": \"v\", \"showlegend\": false, \"type\": \"box\", \"x\": [\"merge\", \"merge\", \"merge\", \"merge\", \"merge\", \"merge\", \"merge\", \"merge\", \"merge\", \"merge\", \"merge\", \"merge\", \"merge\", \"merge\", \"merge\", \"merge\", \"merge\", \"merge\", \"merge\", \"merge\", \"quick\", \"quick\", \"quick\", \"quick\", \"quick\", \"quick\", \"quick\", \"quick\", \"quick\", \"quick\", \"quick\", \"quick\", \"quick\", \"quick\", \"quick\", \"quick\", \"quick\", \"quick\", \"quick\", \"quick\"], \"x0\": \" \", \"xaxis\": \"x5\", \"y\": [0.007847390996175818, 0.007872648988268338, 0.007900262004113756, 0.007878841002820991, 0.007905802005552687, 0.007793438999215141, 0.00780780499917455, 0.00777951099735219, 0.007804648994351737, 0.007833023992134258, 0.01067592899198644, 0.011799851999967359, 0.01398120800149627, 0.008217476002755577, 0.015057466996950097, 0.013546629008487798, 0.012077510007657112, 0.012360911001451312, 0.008811207007966003, 0.013199388005887158, 0.01683606101141777, 0.016015432993299328, 0.016674963000696152, 0.01668646399048157, 0.018387855001492426, 0.015749985992442816, 0.01664446500944905, 0.01824903899978381, 0.018284447010955773, 0.018476454002666287, 0.016782989012426697, 0.018611210995004512, 0.016643922994262542, 0.016027787001803517, 0.015878300997428596, 0.015454149994184263, 0.01582469799905084, 0.015431145991897209, 0.01604572001087945, 0.015943093996611424], \"y0\": \" \", \"yaxis\": \"y5\"}, {\"alignmentgroup\": \"True\", \"boxpoints\": \"all\", \"hovertemplate\": \"Size=100000<br>Construct=sections<br>Cutoff=1000<br>Sorting Algorithm=%{x}<br>Duration (s)=%{y}<extra></extra>\", \"legendgroup\": \"100000\", \"marker\": {\"color\": \"rgb(85,168,104)\"}, \"name\": \"100000\", \"notched\": false, \"offsetgroup\": \"100000\", \"orientation\": \"v\", \"showlegend\": false, \"type\": \"box\", \"x\": [\"merge\", \"merge\", \"merge\", \"merge\", \"merge\", \"merge\", \"merge\", \"merge\", \"merge\", \"merge\", \"merge\", \"merge\", \"merge\", \"merge\", \"merge\", \"merge\", \"merge\", \"merge\", \"merge\", \"merge\", \"quick\", \"quick\", \"quick\", \"quick\", \"quick\", \"quick\", \"quick\", \"quick\", \"quick\", \"quick\", \"quick\", \"quick\", \"quick\", \"quick\", \"quick\", \"quick\", \"quick\", \"quick\", \"quick\", \"quick\"], \"x0\": \" \", \"xaxis\": \"x6\", \"y\": [0.007680914000957274, 0.007663130003493278, 0.007624215999385342, 0.00763310299953446, 0.0077116829925216734, 0.0076358790101949126, 0.007662980002351106, 0.007622442004503681, 0.0075988580065313735, 0.007655124994926155, 0.015167065997957254, 0.015001341002061963, 0.01384903500729706, 0.014941977002308704, 0.007793288008542731, 0.01340104200062342, 0.012396388003253378, 0.013890513990190813, 0.01272746900212951, 0.01259713000035845, 0.01798706900444813, 0.015262094995705413, 0.015205567004159091, 0.015117619012016803, 0.01646996199269779, 0.017831261007813737, 0.015233318001264706, 0.016454690994578414, 0.017821112007368356, 0.015190778009127825, 0.016410597003414296, 0.016372885002056137, 0.01942530598898884, 0.015528333009569906, 0.01549844499095343, 0.015512821992160752, 0.015486261996557003, 0.015196477994322775, 0.015679521005949937, 0.01541964399802964], \"y0\": \" \", \"yaxis\": \"y6\"}, {\"alignmentgroup\": \"True\", \"boxpoints\": \"all\", \"hovertemplate\": \"Size=100000<br>Construct=parallel<br>Cutoff=0<br>Sorting Algorithm=%{x}<br>Duration (s)=%{y}<extra></extra>\", \"legendgroup\": \"100000\", \"marker\": {\"color\": \"rgb(85,168,104)\"}, \"name\": \"100000\", \"notched\": false, \"offsetgroup\": \"100000\", \"orientation\": \"v\", \"showlegend\": false, \"type\": \"box\", \"x\": [\"enumeration\", \"enumeration\", \"enumeration\", \"enumeration\", \"enumeration\", \"enumeration\", \"enumeration\", \"enumeration\", \"enumeration\", \"enumeration\", \"enumeration\", \"enumeration\", \"enumeration\", \"enumeration\", \"enumeration\", \"enumeration\", \"enumeration\", \"enumeration\", \"enumeration\", \"enumeration\"], \"x0\": \" \", \"xaxis\": \"x\", \"y\": [24.24142304698762, 24.223183065987538, 24.201698051008865, 24.210961538992706, 24.216400823992444, 12.317169838002885, 12.318260343003207, 12.32060761800676, 12.310699747002218, 12.308516789998976, 6.325522558996454, 6.300280109004233, 6.296989390990348, 6.298988102003933, 6.294908919007867, 3.8773299409949686, 3.814043184000184, 3.891815519993543, 3.830441169004189, 3.8956643400015305], \"y0\": \" \", \"yaxis\": \"y\"}, {\"alignmentgroup\": \"True\", \"boxpoints\": \"all\", \"hovertemplate\": \"Size=100000<br>Construct=parallel<br>Cutoff=100<br>Sorting Algorithm=%{x}<br>Duration (s)=%{y}<extra></extra>\", \"legendgroup\": \"100000\", \"marker\": {\"color\": \"rgb(85,168,104)\"}, \"name\": \"100000\", \"notched\": false, \"offsetgroup\": \"100000\", \"orientation\": \"v\", \"showlegend\": false, \"type\": \"box\", \"x\": [\"enumeration\", \"enumeration\", \"enumeration\", \"enumeration\", \"enumeration\", \"enumeration\", \"enumeration\", \"enumeration\", \"enumeration\", \"enumeration\", \"enumeration\", \"enumeration\", \"enumeration\", \"enumeration\", \"enumeration\", \"enumeration\", \"enumeration\", \"enumeration\", \"enumeration\", \"enumeration\"], \"x0\": \" \", \"xaxis\": \"x2\", \"y\": [24.211795431008795, 24.213921313988976, 24.215566999992014, 24.2076644290064, 24.21375562400499, 12.316608977998841, 12.319747118002851, 12.318853097007375, 12.312822077001329, 12.313027880009034, 6.303095961993677, 6.302331888990011, 6.297508249001112, 6.29143570800079, 6.291536848002579, 3.843742072000168, 3.8414445859962143, 3.8948922160052466, 3.8660479230020424, 3.90113843799918], \"y0\": \" \", \"yaxis\": \"y2\"}, {\"alignmentgroup\": \"True\", \"boxpoints\": \"all\", \"hovertemplate\": \"Size=100000<br>Construct=parallel<br>Cutoff=1000<br>Sorting Algorithm=%{x}<br>Duration (s)=%{y}<extra></extra>\", \"legendgroup\": \"100000\", \"marker\": {\"color\": \"rgb(85,168,104)\"}, \"name\": \"100000\", \"notched\": false, \"offsetgroup\": \"100000\", \"orientation\": \"v\", \"showlegend\": false, \"type\": \"box\", \"x\": [\"enumeration\", \"enumeration\", \"enumeration\", \"enumeration\", \"enumeration\", \"enumeration\", \"enumeration\", \"enumeration\", \"enumeration\", \"enumeration\", \"enumeration\", \"enumeration\", \"enumeration\", \"enumeration\", \"enumeration\", \"enumeration\", \"enumeration\", \"enumeration\", \"enumeration\", \"enumeration\"], \"x0\": \" \", \"xaxis\": \"x3\", \"y\": [24.211391172997537, 24.21791024800041, 24.216323838001696, 24.211348764001738, 24.208462031005183, 12.315431466005974, 12.320514584003833, 12.327206695990752, 12.320704134996047, 12.311366866008026, 6.290317571008927, 6.290433263013256, 6.290871723991586, 6.293002438003896, 6.294123330997536, 3.9140377730072946, 3.87963005999336, 3.904980751991389, 3.918886495011975, 3.8437588469969346], \"y0\": \" \", \"yaxis\": \"y3\"}, {\"alignmentgroup\": \"True\", \"boxpoints\": \"all\", \"hovertemplate\": \"Size=1000000<br>Construct=serial<br>Cutoff=0<br>Sorting Algorithm=%{x}<br>Duration (s)=%{y}<extra></extra>\", \"legendgroup\": \"1000000\", \"marker\": {\"color\": \"rgb(196,78,82)\"}, \"name\": \"1000000\", \"notched\": false, \"offsetgroup\": \"1000000\", \"orientation\": \"v\", \"showlegend\": true, \"type\": \"box\", \"x\": [\"merge\", \"merge\", \"merge\", \"merge\", \"merge\", \"quick\", \"quick\", \"quick\", \"quick\", \"quick\"], \"x0\": \" \", \"xaxis\": \"x10\", \"y\": [0.16982890000508633, 0.17013241899257991, 0.16937383099866565, 0.17074875099933706, 0.17118930000287946, 0.19399026500468608, 0.21129793400177727, 0.19287587299186273, 0.19280181000067387, 0.19219733600039035], \"y0\": \" \", \"yaxis\": \"y10\"}, {\"alignmentgroup\": \"True\", \"boxpoints\": \"all\", \"hovertemplate\": \"Size=1000000<br>Construct=tasks<br>Cutoff=0<br>Sorting Algorithm=%{x}<br>Duration (s)=%{y}<extra></extra>\", \"legendgroup\": \"1000000\", \"marker\": {\"color\": \"rgb(196,78,82)\"}, \"name\": \"1000000\", \"notched\": false, \"offsetgroup\": \"1000000\", \"orientation\": \"v\", \"showlegend\": false, \"type\": \"box\", \"x\": [\"merge\", \"merge\", \"merge\", \"merge\", \"merge\", \"merge\", \"merge\", \"merge\", \"merge\", \"merge\", \"merge\", \"merge\", \"merge\", \"merge\", \"merge\", \"merge\", \"merge\", \"merge\", \"merge\", \"merge\", \"quick\", \"quick\", \"quick\", \"quick\", \"quick\", \"quick\", \"quick\", \"quick\", \"quick\", \"quick\", \"quick\", \"quick\", \"quick\", \"quick\", \"quick\", \"quick\", \"quick\", \"quick\", \"quick\", \"quick\"], \"x0\": \" \", \"xaxis\": \"x7\", \"y\": [0.34135318599874154, 0.3346900670003379, 0.3371023700019577, 0.3370075970015023, 0.33752365600958, 0.3436910529999295, 0.326927172995056, 0.3300762170110829, 0.34013819499523373, 0.3418570869980613, 0.3493966249952791, 0.3385683929955121, 0.34125946898711845, 0.3388624369981699, 0.335134373002802, 0.3475126920093317, 0.3353770190005889, 0.33903487300267443, 0.3397311279986752, 0.3355172360024881, 0.1169128010078566, 0.12000329099828375, 0.11676792200887574, 0.11770867799350525, 0.11672661900229285, 0.08065279001311863, 0.07899136601190547, 0.07947406599123497, 0.07646947698958685, 0.0740954729990335, 0.08068522400571965, 0.06460711499676108, 0.07408912399841938, 0.07784601899038535, 0.07274786199559458, 0.14280869098729454, 0.16111783900123555, 0.1340677950065583, 0.11920474900398405, 0.13635282799077686], \"y0\": \" \", \"yaxis\": \"y7\"}, {\"alignmentgroup\": \"True\", \"boxpoints\": \"all\", \"hovertemplate\": \"Size=1000000<br>Construct=tasks<br>Cutoff=100<br>Sorting Algorithm=%{x}<br>Duration (s)=%{y}<extra></extra>\", \"legendgroup\": \"1000000\", \"marker\": {\"color\": \"rgb(196,78,82)\"}, \"name\": \"1000000\", \"notched\": false, \"offsetgroup\": \"1000000\", \"orientation\": \"v\", \"showlegend\": false, \"type\": \"box\", \"x\": [\"merge\", \"merge\", \"merge\", \"merge\", \"merge\", \"merge\", \"merge\", \"merge\", \"merge\", \"merge\", \"merge\", \"merge\", \"merge\", \"merge\", \"merge\", \"merge\", \"merge\", \"merge\", \"merge\", \"merge\", \"quick\", \"quick\", \"quick\", \"quick\", \"quick\", \"quick\", \"quick\", \"quick\", \"quick\", \"quick\", \"quick\", \"quick\", \"quick\", \"quick\", \"quick\", \"quick\", \"quick\", \"quick\", \"quick\", \"quick\"], \"x0\": \" \", \"xaxis\": \"x8\", \"y\": [0.10443531601049473, 0.09841691800102126, 0.09897066300618462, 0.10128285799873993, 0.0971095969871385, 0.1043561749975197, 0.09702584099431989, 0.1043994079955155, 0.0987818959983997, 0.09678074299881699, 0.1057139040058246, 0.09698392399877777, 0.09664080000948161, 0.09685754300153347, 0.09807947000081184, 0.09799220899003556, 0.1040069940063404, 0.09762333400431088, 0.09551783300412353, 0.09539196398691274, 0.12524232499708887, 0.11476525300531648, 0.11610626299807335, 0.11679672099126034, 0.115810136005166, 0.07015161799790803, 0.07199680199846625, 0.07475618300668428, 0.07168520800769329, 0.07131615100661293, 0.05936235499393661, 0.055796624990762204, 0.056186449990491376, 0.05358368900488131, 0.054465203007566736, 0.07580067400704138, 0.07581662401207721, 0.07824985099432526, 0.07035019500472116, 0.07166152700665407], \"y0\": \" \", \"yaxis\": \"y8\"}, {\"alignmentgroup\": \"True\", \"boxpoints\": \"all\", \"hovertemplate\": \"Size=1000000<br>Construct=tasks<br>Cutoff=1000<br>Sorting Algorithm=%{x}<br>Duration (s)=%{y}<extra></extra>\", \"legendgroup\": \"1000000\", \"marker\": {\"color\": \"rgb(196,78,82)\"}, \"name\": \"1000000\", \"notched\": false, \"offsetgroup\": \"1000000\", \"orientation\": \"v\", \"showlegend\": false, \"type\": \"box\", \"x\": [\"merge\", \"merge\", \"merge\", \"merge\", \"merge\", \"merge\", \"merge\", \"merge\", \"merge\", \"merge\", \"merge\", \"merge\", \"merge\", \"merge\", \"merge\", \"merge\", \"merge\", \"merge\", \"merge\", \"merge\", \"quick\", \"quick\", \"quick\", \"quick\", \"quick\", \"quick\", \"quick\", \"quick\", \"quick\", \"quick\", \"quick\", \"quick\", \"quick\", \"quick\", \"quick\", \"quick\", \"quick\", \"quick\", \"quick\", \"quick\"], \"x0\": \" \", \"xaxis\": \"x9\", \"y\": [0.09437713200168217, 0.09355897099885625, 0.09465413900034035, 0.0933060410025064, 0.09344662699731998, 0.09256788701168259, 0.0997897459892556, 0.09234816899697762, 0.0933642640011385, 0.09373830500408076, 0.1025904740090482, 0.09915197300142607, 0.0930796049942728, 0.09349989499605726, 0.09299992100568487, 0.09302346101321744, 0.10116765399288853, 0.09389144400483927, 0.10187170399876776, 0.10075654099637177, 0.11516231700079516, 0.11608280400105285, 0.11573224500170907, 0.11651140300091355, 0.11661236299551092, 0.070418546005385, 0.06841896699916104, 0.06871453100757208, 0.06965049800055567, 0.07043752199388109, 0.04471208399627358, 0.04435042200202588, 0.04413857900362928, 0.04662104000453837, 0.044431978996726684, 0.040718623000429936, 0.041032323002582416, 0.04534761299146339, 0.039765912995790124, 0.04386967999744229], \"y0\": \" \", \"yaxis\": \"y9\"}, {\"alignmentgroup\": \"True\", \"boxpoints\": \"all\", \"hovertemplate\": \"Size=1000000<br>Construct=sections<br>Cutoff=0<br>Sorting Algorithm=%{x}<br>Duration (s)=%{y}<extra></extra>\", \"legendgroup\": \"1000000\", \"marker\": {\"color\": \"rgb(196,78,82)\"}, \"name\": \"1000000\", \"notched\": false, \"offsetgroup\": \"1000000\", \"orientation\": \"v\", \"showlegend\": false, \"type\": \"box\", \"x\": [\"merge\", \"merge\", \"merge\", \"merge\", \"merge\", \"merge\", \"merge\", \"merge\", \"merge\", \"merge\", \"merge\", \"merge\", \"merge\", \"merge\", \"merge\", \"merge\", \"merge\", \"merge\", \"merge\", \"merge\", \"quick\", \"quick\", \"quick\", \"quick\", \"quick\", \"quick\", \"quick\", \"quick\", \"quick\", \"quick\", \"quick\", \"quick\", \"quick\", \"quick\", \"quick\", \"quick\", \"quick\", \"quick\", \"quick\", \"quick\"], \"x0\": \" \", \"xaxis\": \"x4\", \"y\": [0.2854776199965272, 0.28650080699299, 0.2858710739965318, 0.2878208470065147, 0.2870086170005379, 0.2724878009903477, 0.2836709129915107, 0.2738795580080477, 0.2893708160117967, 0.2875859240011778, 0.28692207801213954, 0.28359254098904785, 0.28608599900326226, 0.2851228020008421, 0.2880565169907641, 0.2867910640052287, 0.2734492989984573, 0.2874447560025146, 0.2866240589937661, 0.2890474440064281, 0.27325836299860384, 0.2746707049955148, 0.2561943839973537, 0.25691989400365856, 0.2558115660067415, 0.265152598003624, 0.26693552199867554, 0.2603294299915433, 0.2588798819924705, 0.2578061469976092, 0.2563497509981971, 0.2595347310125362, 0.26225076500850264, 0.25905278700520284, 0.2590150020114379, 0.2599760419980157, 0.25654180299898144, 0.24336046299140435, 0.2538505270058522, 0.253001350996783], \"y0\": \" \", \"yaxis\": \"y4\"}, {\"alignmentgroup\": \"True\", \"boxpoints\": \"all\", \"hovertemplate\": \"Size=1000000<br>Construct=sections<br>Cutoff=100<br>Sorting Algorithm=%{x}<br>Duration (s)=%{y}<extra></extra>\", \"legendgroup\": \"1000000\", \"marker\": {\"color\": \"rgb(196,78,82)\"}, \"name\": \"1000000\", \"notched\": false, \"offsetgroup\": \"1000000\", \"orientation\": \"v\", \"showlegend\": false, \"type\": \"box\", \"x\": [\"merge\", \"merge\", \"merge\", \"merge\", \"merge\", \"merge\", \"merge\", \"merge\", \"merge\", \"merge\", \"merge\", \"merge\", \"merge\", \"merge\", \"merge\", \"merge\", \"merge\", \"merge\", \"merge\", \"merge\", \"quick\", \"quick\", \"quick\", \"quick\", \"quick\", \"quick\", \"quick\", \"quick\", \"quick\", \"quick\", \"quick\", \"quick\", \"quick\", \"quick\", \"quick\", \"quick\", \"quick\", \"quick\", \"quick\", \"quick\"], \"x0\": \" \", \"xaxis\": \"x5\", \"y\": [0.10159712898894213, 0.1024794179975288, 0.10236230499867817, 0.10138001300219912, 0.10178395299590193, 0.10040349699556828, 0.10230217299249487, 0.10018702399975156, 0.10230146200046876, 0.1016712589917006, 0.10072862799279393, 0.10242010999354534, 0.10352199799672236, 0.1045570700080134, 0.10193136800080538, 0.10532142900046892, 0.10292055500030983, 0.10413339600199834, 0.10072234700783156, 0.10269779000373093, 0.15356886301015038, 0.14229484400129874, 0.15480211400426924, 0.15372538699011784, 0.15544271799444687, 0.14776408699981405, 0.15332266299810726, 0.13789062800060492, 0.14163733299938033, 0.15411788799974602, 0.13794630100892394, 0.13811517400608864, 0.14526919700438154, 0.13788084700354375, 0.14383345299575012, 0.1565018359979149, 0.1371791139972629, 0.13683726100134666, 0.1329396539949812, 0.13757583900587633], \"y0\": \" \", \"yaxis\": \"y5\"}, {\"alignmentgroup\": \"True\", \"boxpoints\": \"all\", \"hovertemplate\": \"Size=1000000<br>Construct=sections<br>Cutoff=1000<br>Sorting Algorithm=%{x}<br>Duration (s)=%{y}<extra></extra>\", \"legendgroup\": \"1000000\", \"marker\": {\"color\": \"rgb(196,78,82)\"}, \"name\": \"1000000\", \"notched\": false, \"offsetgroup\": \"1000000\", \"orientation\": \"v\", \"showlegend\": false, \"type\": \"box\", \"x\": [\"merge\", \"merge\", \"merge\", \"merge\", \"merge\", \"merge\", \"merge\", \"merge\", \"merge\", \"merge\", \"merge\", \"merge\", \"merge\", \"merge\", \"merge\", \"merge\", \"merge\", \"merge\", \"merge\", \"merge\", \"quick\", \"quick\", \"quick\", \"quick\", \"quick\", \"quick\", \"quick\", \"quick\", \"quick\", \"quick\", \"quick\", \"quick\", \"quick\", \"quick\", \"quick\", \"quick\", \"quick\", \"quick\", \"quick\", \"quick\"], \"x0\": \" \", \"xaxis\": \"x6\", \"y\": [0.09910534799564627, 0.09946834998845587, 0.1026504629990086, 0.10142156099027487, 0.09980624399031512, 0.0995344179973472, 0.0987104390078457, 0.09765968800638801, 0.10040160099742934, 0.09841812100785319, 0.1033094829908805, 0.10185094400367234, 0.09969443500449417, 0.09500809700693937, 0.09928517500520685, 0.09949924699321856, 0.09230818699870724, 0.09903198599931784, 0.09799045200634281, 0.10206675699737387, 0.1509224289911799, 0.15256132998911198, 0.1406710489973193, 0.15296499799296726, 0.15325151399883907, 0.1537563979945844, 0.13397428501048125, 0.13366598599532153, 0.1340137070073979, 0.1346081219962798, 0.14079779399617107, 0.13447581000218636, 0.14520115399500355, 0.13848889400833286, 0.13777595000283327, 0.13668119900103193, 0.14298716199118644, 0.14258553500985727, 0.13710401399293914, 0.13488754999707453], \"y0\": \" \", \"yaxis\": \"y6\"}, {\"alignmentgroup\": \"True\", \"boxpoints\": \"all\", \"hovertemplate\": \"Size=10000000<br>Construct=serial<br>Cutoff=0<br>Sorting Algorithm=%{x}<br>Duration (s)=%{y}<extra></extra>\", \"legendgroup\": \"10000000\", \"marker\": {\"color\": \"rgb(129,114,179)\"}, \"name\": \"10000000\", \"notched\": false, \"offsetgroup\": \"10000000\", \"orientation\": \"v\", \"showlegend\": true, \"type\": \"box\", \"x\": [\"merge\", \"merge\", \"merge\", \"merge\", \"merge\", \"quick\", \"quick\", \"quick\", \"quick\", \"quick\"], \"x0\": \" \", \"xaxis\": \"x10\", \"y\": [2.0314097630034667, 2.016778752004029, 2.020372257989948, 2.0118729390087537, 2.013694309993298, 2.50818224401155, 2.378130728000542, 2.5008621820015837, 2.4484247399959718, 2.5677452579984674], \"y0\": \" \", \"yaxis\": \"y10\"}, {\"alignmentgroup\": \"True\", \"boxpoints\": \"all\", \"hovertemplate\": \"Size=10000000<br>Construct=tasks<br>Cutoff=0<br>Sorting Algorithm=%{x}<br>Duration (s)=%{y}<extra></extra>\", \"legendgroup\": \"10000000\", \"marker\": {\"color\": \"rgb(129,114,179)\"}, \"name\": \"10000000\", \"notched\": false, \"offsetgroup\": \"10000000\", \"orientation\": \"v\", \"showlegend\": false, \"type\": \"box\", \"x\": [\"merge\", \"merge\", \"merge\", \"merge\", \"merge\", \"merge\", \"merge\", \"merge\", \"merge\", \"merge\", \"merge\", \"merge\", \"merge\", \"merge\", \"merge\", \"merge\", \"merge\", \"merge\", \"merge\", \"merge\", \"quick\", \"quick\", \"quick\", \"quick\", \"quick\", \"quick\", \"quick\", \"quick\", \"quick\", \"quick\", \"quick\", \"quick\", \"quick\", \"quick\", \"quick\", \"quick\", \"quick\", \"quick\", \"quick\", \"quick\"], \"x0\": \" \", \"xaxis\": \"x7\", \"y\": [3.4710762729955604, 3.4742943940073014, 3.4777779580035717, 3.4639308070036345, 3.469899503994384, 3.4744381849886854, 3.4304866649908945, 3.4234185649984283, 3.467836677999003, 3.4692403259978164, 3.491002422000747, 3.245184266997967, 3.477605363994371, 3.492745844007004, 3.488784533998114, 3.4727675299945986, 3.467842907004524, 3.249398889995064, 3.4810386189928977, 3.4599814649991454, 1.3455217919981806, 1.3096807889960471, 1.2771516000066183, 1.3022650670027358, 1.2991058430052362, 0.7149066060082987, 0.7138148599915439, 0.7070499530091183, 0.720681186998263, 0.728930452998611, 0.5837943880032981, 0.550729776994558, 0.4934886769915465, 0.5519809409888694, 0.5146627869980875, 0.6880664569907822, 0.6926566369947978, 0.7018272249988513, 0.669632694000029, 0.628404777002288], \"y0\": \" \", \"yaxis\": \"y7\"}, {\"alignmentgroup\": \"True\", \"boxpoints\": \"all\", \"hovertemplate\": \"Size=10000000<br>Construct=tasks<br>Cutoff=100<br>Sorting Algorithm=%{x}<br>Duration (s)=%{y}<extra></extra>\", \"legendgroup\": \"10000000\", \"marker\": {\"color\": \"rgb(129,114,179)\"}, \"name\": \"10000000\", \"notched\": false, \"offsetgroup\": \"10000000\", \"orientation\": \"v\", \"showlegend\": false, \"type\": \"box\", \"x\": [\"merge\", \"merge\", \"merge\", \"merge\", \"merge\", \"merge\", \"merge\", \"merge\", \"merge\", \"merge\", \"merge\", \"merge\", \"merge\", \"merge\", \"merge\", \"merge\", \"merge\", \"merge\", \"merge\", \"merge\", \"quick\", \"quick\", \"quick\", \"quick\", \"quick\", \"quick\", \"quick\", \"quick\", \"quick\", \"quick\", \"quick\", \"quick\", \"quick\", \"quick\", \"quick\", \"quick\", \"quick\", \"quick\", \"quick\", \"quick\"], \"x0\": \" \", \"xaxis\": \"x8\", \"y\": [1.104670521002845, 1.095913762008422, 1.1019112600042718, 1.0971509209921353, 1.0982556119997753, 1.1015909919951807, 1.1019769359991187, 1.1077738309977576, 1.108951703005005, 1.1015326710039517, 1.1049876750039402, 1.1062665009958437, 1.0972994610056048, 1.0988542620034425, 1.0993107849935768, 1.1043644739984302, 1.1147978580120252, 1.1093107549968408, 1.1021453379944433, 1.1008888950018445, 1.2965347580029627, 1.3138676910020877, 1.38066072500078, 1.3762260549992789, 1.2970302650064696, 0.7018798999924911, 0.7123233099991921, 0.6962309530063066, 0.7080862069997238, 0.726606233001803, 0.4665944839944132, 0.4636751670041122, 0.4556421899906127, 0.4594735410064458, 0.4718462369928602, 0.37072063300001906, 0.3802505510102492, 0.3843481020012405, 0.3702076280023903, 0.3894032649986912], \"y0\": \" \", \"yaxis\": \"y8\"}, {\"alignmentgroup\": \"True\", \"boxpoints\": \"all\", \"hovertemplate\": \"Size=10000000<br>Construct=tasks<br>Cutoff=1000<br>Sorting Algorithm=%{x}<br>Duration (s)=%{y}<extra></extra>\", \"legendgroup\": \"10000000\", \"marker\": {\"color\": \"rgb(129,114,179)\"}, \"name\": \"10000000\", \"notched\": false, \"offsetgroup\": \"10000000\", \"orientation\": \"v\", \"showlegend\": false, \"type\": \"box\", \"x\": [\"merge\", \"merge\", \"merge\", \"merge\", \"merge\", \"merge\", \"merge\", \"merge\", \"merge\", \"merge\", \"merge\", \"merge\", \"merge\", \"merge\", \"merge\", \"merge\", \"merge\", \"merge\", \"merge\", \"merge\", \"quick\", \"quick\", \"quick\", \"quick\", \"quick\", \"quick\", \"quick\", \"quick\", \"quick\", \"quick\", \"quick\", \"quick\", \"quick\", \"quick\", \"quick\", \"quick\", \"quick\", \"quick\", \"quick\", \"quick\"], \"x0\": \" \", \"xaxis\": \"x9\", \"y\": [1.0709417600010056, 1.0680641290091444, 1.0690231740009042, 1.0619556659949012, 1.0689604520011926, 1.0655249319970608, 1.0718272599915508, 1.0656418289872818, 1.0734888860024512, 1.0758696410048287, 1.0657269719959004, 1.0670355860056588, 1.0623695940012112, 1.070368739994592, 1.0661092800000915, 1.0707584530027816, 1.0621381619857857, 1.0615829130110797, 1.0914177439990451, 1.0948287500068543, 1.301517268002499, 1.27822148600535, 1.3404595699976198, 1.26892586798931, 1.30424015900644, 0.7046995449927635, 0.6933213849988533, 0.7066386160004186, 0.6937876459996914, 0.7100902199890698, 0.44068065899773506, 0.4422132710024016, 0.4392603189917281, 0.4456036810006481, 0.439115244007553, 0.3397940160066355, 0.34672559400496533, 0.3424953779904172, 0.3443188600067515, 0.3429630919999909], \"y0\": \" \", \"yaxis\": \"y9\"}, {\"alignmentgroup\": \"True\", \"boxpoints\": \"all\", \"hovertemplate\": \"Size=10000000<br>Construct=sections<br>Cutoff=0<br>Sorting Algorithm=%{x}<br>Duration (s)=%{y}<extra></extra>\", \"legendgroup\": \"10000000\", \"marker\": {\"color\": \"rgb(129,114,179)\"}, \"name\": \"10000000\", \"notched\": false, \"offsetgroup\": \"10000000\", \"orientation\": \"v\", \"showlegend\": false, \"type\": \"box\", \"x\": [\"merge\", \"merge\", \"merge\", \"merge\", \"merge\", \"merge\", \"merge\", \"merge\", \"merge\", \"merge\", \"merge\", \"merge\", \"merge\", \"merge\", \"merge\", \"merge\", \"merge\", \"merge\", \"merge\", \"merge\", \"quick\", \"quick\", \"quick\", \"quick\", \"quick\", \"quick\", \"quick\", \"quick\", \"quick\", \"quick\", \"quick\", \"quick\", \"quick\", \"quick\", \"quick\", \"quick\", \"quick\", \"quick\", \"quick\", \"quick\"], \"x0\": \" \", \"xaxis\": \"x4\", \"y\": [2.938456130999839, 2.917127878012252, 2.9219146680115955, 2.923028796998551, 2.9439650839922247, 2.910358086010092, 2.827171241005998, 2.921750039997278, 2.875795930012828, 2.9156905859999824, 2.6420965010038344, 2.6807050259958487, 2.910518051998224, 2.9156024949916173, 2.9342898269969737, 2.9201807089993963, 2.9371354400063865, 2.6772710590012134, 2.849667545000557, 2.943462743991404, 3.5062702900031586, 3.4168244060128927, 3.407866724999621, 3.561914304998936, 3.469712379999692, 3.504996543008019, 3.4376714500103844, 3.534705205995124, 3.4568259940133435, 3.4120504899910884, 3.4733797630033223, 3.498205458992743, 3.4568706590071088, 3.551263986009872, 3.5018172989948653, 3.4325324469973566, 3.5134449969918933, 3.4987144979968434, 3.453986869004438, 3.4905974430002966], \"y0\": \" \", \"yaxis\": \"y4\"}, {\"alignmentgroup\": \"True\", \"boxpoints\": \"all\", \"hovertemplate\": \"Size=10000000<br>Construct=sections<br>Cutoff=100<br>Sorting Algorithm=%{x}<br>Duration (s)=%{y}<extra></extra>\", \"legendgroup\": \"10000000\", \"marker\": {\"color\": \"rgb(129,114,179)\"}, \"name\": \"10000000\", \"notched\": false, \"offsetgroup\": \"10000000\", \"orientation\": \"v\", \"showlegend\": false, \"type\": \"box\", \"x\": [\"merge\", \"merge\", \"merge\", \"merge\", \"merge\", \"merge\", \"merge\", \"merge\", \"merge\", \"merge\", \"merge\", \"merge\", \"merge\", \"merge\", \"merge\", \"merge\", \"merge\", \"merge\", \"merge\", \"merge\", \"quick\", \"quick\", \"quick\", \"quick\", \"quick\", \"quick\", \"quick\", \"quick\", \"quick\", \"quick\", \"quick\", \"quick\", \"quick\", \"quick\", \"quick\", \"quick\", \"quick\", \"quick\", \"quick\", \"quick\"], \"x0\": \" \", \"xaxis\": \"x5\", \"y\": [1.0855789780034684, 1.0899347189988475, 1.0881582149886526, 1.0781008990015837, 1.0835206680058036, 1.0851711599971168, 1.082102479005698, 1.0793496789992787, 1.083409077997203, 1.085362026002258, 1.0771525620075408, 1.0772459330037236, 1.0841661650047172, 1.0870203899976332, 1.0924051000038162, 1.1039630769955693, 1.0831353499961551, 1.08459961200424, 1.0790949760121291, 1.082503937999718, 2.165049867995549, 2.1945752870087745, 2.1964223760005552, 2.181865149002988, 2.2034103429905367, 2.159371246001683, 2.201594504993409, 2.1741968550049933, 2.116900737994001, 2.198463642998832, 2.134548358997563, 2.16247437299171, 2.1402485620055813, 2.1216054469987284, 2.2040396810043603, 2.204413878993364, 2.0694569749903167, 2.134082744989428, 2.133333286998095, 2.005520801001694], \"y0\": \" \", \"yaxis\": \"y5\"}, {\"alignmentgroup\": \"True\", \"boxpoints\": \"all\", \"hovertemplate\": \"Size=10000000<br>Construct=sections<br>Cutoff=1000<br>Sorting Algorithm=%{x}<br>Duration (s)=%{y}<extra></extra>\", \"legendgroup\": \"10000000\", \"marker\": {\"color\": \"rgb(129,114,179)\"}, \"name\": \"10000000\", \"notched\": false, \"offsetgroup\": \"10000000\", \"orientation\": \"v\", \"showlegend\": false, \"type\": \"box\", \"x\": [\"merge\", \"merge\", \"merge\", \"merge\", \"merge\", \"merge\", \"merge\", \"merge\", \"merge\", \"merge\", \"merge\", \"merge\", \"merge\", \"merge\", \"merge\", \"merge\", \"merge\", \"merge\", \"merge\", \"merge\", \"quick\", \"quick\", \"quick\", \"quick\", \"quick\", \"quick\", \"quick\", \"quick\", \"quick\", \"quick\", \"quick\", \"quick\", \"quick\", \"quick\", \"quick\", \"quick\", \"quick\", \"quick\", \"quick\", \"quick\"], \"x0\": \" \", \"xaxis\": \"x6\", \"y\": [1.0674178749904968, 1.0709930790035287, 1.0634684130054666, 1.065049901997554, 1.0658967240015045, 1.0703890059958212, 1.0622485740022969, 1.0653423950134313, 1.0688552140054526, 1.077283989987336, 1.0719251439877553, 1.0705535799934296, 1.066164923002361, 1.0702793280070182, 1.0686045059992466, 1.0666405879892409, 1.0791447429946857, 1.074813760991674, 1.0817928229953395, 1.079096653003944, 2.131366450994392, 2.148756332011544, 2.096034771995619, 2.15871058999619, 2.169516351990751, 2.092001445998904, 2.167892187004327, 2.135227014994598, 2.165584433998447, 2.1462662129924865, 2.1673774990049424, 2.1389545099955285, 2.1553169370017717, 2.168503105000127, 2.145274723006878, 2.1183640389936045, 2.130364002994611, 2.138844907996827, 2.1689163839910175, 2.088940278001246], \"y0\": \" \", \"yaxis\": \"y6\"}],                        {\"annotations\": [{\"font\": {}, \"showarrow\": false, \"text\": \"Cutoff=0\", \"x\": 0.15666666666666665, \"xanchor\": \"center\", \"xref\": \"paper\", \"y\": 1.0, \"yanchor\": \"bottom\", \"yref\": \"paper\"}, {\"font\": {}, \"showarrow\": false, \"text\": \"Cutoff=100\", \"x\": 0.49, \"xanchor\": \"center\", \"xref\": \"paper\", \"y\": 1.0, \"yanchor\": \"bottom\", \"yref\": \"paper\"}, {\"font\": {}, \"showarrow\": false, \"text\": \"Cutoff=1000\", \"x\": 0.8233333333333333, \"xanchor\": \"center\", \"xref\": \"paper\", \"y\": 1.0, \"yanchor\": \"bottom\", \"yref\": \"paper\"}, {\"font\": {}, \"showarrow\": false, \"text\": \"Construct=parallel\", \"textangle\": 90, \"x\": 0.98, \"xanchor\": \"left\", \"xref\": \"paper\", \"y\": 0.11375, \"yanchor\": \"middle\", \"yref\": \"paper\"}, {\"font\": {}, \"showarrow\": false, \"text\": \"Construct=sections\", \"textangle\": 90, \"x\": 0.98, \"xanchor\": \"left\", \"xref\": \"paper\", \"y\": 0.37124999999999997, \"yanchor\": \"middle\", \"yref\": \"paper\"}, {\"font\": {}, \"showarrow\": false, \"text\": \"Construct=tasks\", \"textangle\": 90, \"x\": 0.98, \"xanchor\": \"left\", \"xref\": \"paper\", \"y\": 0.62875, \"yanchor\": \"middle\", \"yref\": \"paper\"}, {\"font\": {}, \"showarrow\": false, \"text\": \"Construct=serial\", \"textangle\": 90, \"x\": 0.98, \"xanchor\": \"left\", \"xref\": \"paper\", \"y\": 0.88625, \"yanchor\": \"middle\", \"yref\": \"paper\"}], \"boxmode\": \"group\", \"height\": 800, \"legend\": {\"title\": {\"text\": \"Size\"}, \"tracegroupgap\": 0}, \"template\": {\"data\": {\"bar\": [{\"error_x\": {\"color\": \"rgb(36,36,36)\"}, \"error_y\": {\"color\": \"rgb(36,36,36)\"}, \"marker\": {\"line\": {\"color\": \"rgb(234,234,242)\", \"width\": 0.5}}, \"type\": \"bar\"}], \"barpolar\": [{\"marker\": {\"line\": {\"color\": \"rgb(234,234,242)\", \"width\": 0.5}}, \"type\": \"barpolar\"}], \"carpet\": [{\"aaxis\": {\"endlinecolor\": \"rgb(36,36,36)\", \"gridcolor\": \"white\", \"linecolor\": \"white\", \"minorgridcolor\": \"white\", \"startlinecolor\": \"rgb(36,36,36)\"}, \"baxis\": {\"endlinecolor\": \"rgb(36,36,36)\", \"gridcolor\": \"white\", \"linecolor\": \"white\", \"minorgridcolor\": \"white\", \"startlinecolor\": \"rgb(36,36,36)\"}, \"type\": \"carpet\"}], \"choropleth\": [{\"colorbar\": {\"outlinewidth\": 0, \"tickcolor\": \"rgb(36,36,36)\", \"ticklen\": 8, \"ticks\": \"outside\", \"tickwidth\": 2}, \"type\": \"choropleth\"}], \"contour\": [{\"colorbar\": {\"outlinewidth\": 0, \"tickcolor\": \"rgb(36,36,36)\", \"ticklen\": 8, \"ticks\": \"outside\", \"tickwidth\": 2}, \"colorscale\": [[0.0, \"rgb(2,4,25)\"], [0.06274509803921569, \"rgb(24,15,41)\"], [0.12549019607843137, \"rgb(47,23,57)\"], [0.18823529411764706, \"rgb(71,28,72)\"], [0.25098039215686274, \"rgb(97,30,82)\"], [0.3137254901960784, \"rgb(123,30,89)\"], [0.3764705882352941, \"rgb(150,27,91)\"], [0.4392156862745098, \"rgb(177,22,88)\"], [0.5019607843137255, \"rgb(203,26,79)\"], [0.5647058823529412, \"rgb(223,47,67)\"], [0.6274509803921569, \"rgb(236,76,61)\"], [0.6901960784313725, \"rgb(242,107,73)\"], [0.7529411764705882, \"rgb(244,135,95)\"], [0.8156862745098039, \"rgb(245,162,122)\"], [0.8784313725490196, \"rgb(246,188,153)\"], [0.9411764705882353, \"rgb(247,212,187)\"], [1.0, \"rgb(250,234,220)\"]], \"type\": \"contour\"}], \"contourcarpet\": [{\"colorbar\": {\"outlinewidth\": 0, \"tickcolor\": \"rgb(36,36,36)\", \"ticklen\": 8, \"ticks\": \"outside\", \"tickwidth\": 2}, \"type\": \"contourcarpet\"}], \"heatmap\": [{\"colorbar\": {\"outlinewidth\": 0, \"tickcolor\": \"rgb(36,36,36)\", \"ticklen\": 8, \"ticks\": \"outside\", \"tickwidth\": 2}, \"colorscale\": [[0.0, \"rgb(2,4,25)\"], [0.06274509803921569, \"rgb(24,15,41)\"], [0.12549019607843137, \"rgb(47,23,57)\"], [0.18823529411764706, \"rgb(71,28,72)\"], [0.25098039215686274, \"rgb(97,30,82)\"], [0.3137254901960784, \"rgb(123,30,89)\"], [0.3764705882352941, \"rgb(150,27,91)\"], [0.4392156862745098, \"rgb(177,22,88)\"], [0.5019607843137255, \"rgb(203,26,79)\"], [0.5647058823529412, \"rgb(223,47,67)\"], [0.6274509803921569, \"rgb(236,76,61)\"], [0.6901960784313725, \"rgb(242,107,73)\"], [0.7529411764705882, \"rgb(244,135,95)\"], [0.8156862745098039, \"rgb(245,162,122)\"], [0.8784313725490196, \"rgb(246,188,153)\"], [0.9411764705882353, \"rgb(247,212,187)\"], [1.0, \"rgb(250,234,220)\"]], \"type\": \"heatmap\"}], \"heatmapgl\": [{\"colorbar\": {\"outlinewidth\": 0, \"tickcolor\": \"rgb(36,36,36)\", \"ticklen\": 8, \"ticks\": \"outside\", \"tickwidth\": 2}, \"colorscale\": [[0.0, \"rgb(2,4,25)\"], [0.06274509803921569, \"rgb(24,15,41)\"], [0.12549019607843137, \"rgb(47,23,57)\"], [0.18823529411764706, \"rgb(71,28,72)\"], [0.25098039215686274, \"rgb(97,30,82)\"], [0.3137254901960784, \"rgb(123,30,89)\"], [0.3764705882352941, \"rgb(150,27,91)\"], [0.4392156862745098, \"rgb(177,22,88)\"], [0.5019607843137255, \"rgb(203,26,79)\"], [0.5647058823529412, \"rgb(223,47,67)\"], [0.6274509803921569, \"rgb(236,76,61)\"], [0.6901960784313725, \"rgb(242,107,73)\"], [0.7529411764705882, \"rgb(244,135,95)\"], [0.8156862745098039, \"rgb(245,162,122)\"], [0.8784313725490196, \"rgb(246,188,153)\"], [0.9411764705882353, \"rgb(247,212,187)\"], [1.0, \"rgb(250,234,220)\"]], \"type\": \"heatmapgl\"}], \"histogram\": [{\"marker\": {\"colorbar\": {\"outlinewidth\": 0, \"tickcolor\": \"rgb(36,36,36)\", \"ticklen\": 8, \"ticks\": \"outside\", \"tickwidth\": 2}}, \"type\": \"histogram\"}], \"histogram2d\": [{\"colorbar\": {\"outlinewidth\": 0, \"tickcolor\": \"rgb(36,36,36)\", \"ticklen\": 8, \"ticks\": \"outside\", \"tickwidth\": 2}, \"colorscale\": [[0.0, \"rgb(2,4,25)\"], [0.06274509803921569, \"rgb(24,15,41)\"], [0.12549019607843137, \"rgb(47,23,57)\"], [0.18823529411764706, \"rgb(71,28,72)\"], [0.25098039215686274, \"rgb(97,30,82)\"], [0.3137254901960784, \"rgb(123,30,89)\"], [0.3764705882352941, \"rgb(150,27,91)\"], [0.4392156862745098, \"rgb(177,22,88)\"], [0.5019607843137255, \"rgb(203,26,79)\"], [0.5647058823529412, \"rgb(223,47,67)\"], [0.6274509803921569, \"rgb(236,76,61)\"], [0.6901960784313725, \"rgb(242,107,73)\"], [0.7529411764705882, \"rgb(244,135,95)\"], [0.8156862745098039, \"rgb(245,162,122)\"], [0.8784313725490196, \"rgb(246,188,153)\"], [0.9411764705882353, \"rgb(247,212,187)\"], [1.0, \"rgb(250,234,220)\"]], \"type\": \"histogram2d\"}], \"histogram2dcontour\": [{\"colorbar\": {\"outlinewidth\": 0, \"tickcolor\": \"rgb(36,36,36)\", \"ticklen\": 8, \"ticks\": \"outside\", \"tickwidth\": 2}, \"colorscale\": [[0.0, \"rgb(2,4,25)\"], [0.06274509803921569, \"rgb(24,15,41)\"], [0.12549019607843137, \"rgb(47,23,57)\"], [0.18823529411764706, \"rgb(71,28,72)\"], [0.25098039215686274, \"rgb(97,30,82)\"], [0.3137254901960784, \"rgb(123,30,89)\"], [0.3764705882352941, \"rgb(150,27,91)\"], [0.4392156862745098, \"rgb(177,22,88)\"], [0.5019607843137255, \"rgb(203,26,79)\"], [0.5647058823529412, \"rgb(223,47,67)\"], [0.6274509803921569, \"rgb(236,76,61)\"], [0.6901960784313725, \"rgb(242,107,73)\"], [0.7529411764705882, \"rgb(244,135,95)\"], [0.8156862745098039, \"rgb(245,162,122)\"], [0.8784313725490196, \"rgb(246,188,153)\"], [0.9411764705882353, \"rgb(247,212,187)\"], [1.0, \"rgb(250,234,220)\"]], \"type\": \"histogram2dcontour\"}], \"mesh3d\": [{\"colorbar\": {\"outlinewidth\": 0, \"tickcolor\": \"rgb(36,36,36)\", \"ticklen\": 8, \"ticks\": \"outside\", \"tickwidth\": 2}, \"type\": \"mesh3d\"}], \"parcoords\": [{\"line\": {\"colorbar\": {\"outlinewidth\": 0, \"tickcolor\": \"rgb(36,36,36)\", \"ticklen\": 8, \"ticks\": \"outside\", \"tickwidth\": 2}}, \"type\": \"parcoords\"}], \"pie\": [{\"automargin\": true, \"type\": \"pie\"}], \"scatter\": [{\"marker\": {\"colorbar\": {\"outlinewidth\": 0, \"tickcolor\": \"rgb(36,36,36)\", \"ticklen\": 8, \"ticks\": \"outside\", \"tickwidth\": 2}}, \"type\": \"scatter\"}], \"scatter3d\": [{\"line\": {\"colorbar\": {\"outlinewidth\": 0, \"tickcolor\": \"rgb(36,36,36)\", \"ticklen\": 8, \"ticks\": \"outside\", \"tickwidth\": 2}}, \"marker\": {\"colorbar\": {\"outlinewidth\": 0, \"tickcolor\": \"rgb(36,36,36)\", \"ticklen\": 8, \"ticks\": \"outside\", \"tickwidth\": 2}}, \"type\": \"scatter3d\"}], \"scattercarpet\": [{\"marker\": {\"colorbar\": {\"outlinewidth\": 0, \"tickcolor\": \"rgb(36,36,36)\", \"ticklen\": 8, \"ticks\": \"outside\", \"tickwidth\": 2}}, \"type\": \"scattercarpet\"}], \"scattergeo\": [{\"marker\": {\"colorbar\": {\"outlinewidth\": 0, \"tickcolor\": \"rgb(36,36,36)\", \"ticklen\": 8, \"ticks\": \"outside\", \"tickwidth\": 2}}, \"type\": \"scattergeo\"}], \"scattergl\": [{\"marker\": {\"colorbar\": {\"outlinewidth\": 0, \"tickcolor\": \"rgb(36,36,36)\", \"ticklen\": 8, \"ticks\": \"outside\", \"tickwidth\": 2}}, \"type\": \"scattergl\"}], \"scattermapbox\": [{\"marker\": {\"colorbar\": {\"outlinewidth\": 0, \"tickcolor\": \"rgb(36,36,36)\", \"ticklen\": 8, \"ticks\": \"outside\", \"tickwidth\": 2}}, \"type\": \"scattermapbox\"}], \"scatterpolar\": [{\"marker\": {\"colorbar\": {\"outlinewidth\": 0, \"tickcolor\": \"rgb(36,36,36)\", \"ticklen\": 8, \"ticks\": \"outside\", \"tickwidth\": 2}}, \"type\": \"scatterpolar\"}], \"scatterpolargl\": [{\"marker\": {\"colorbar\": {\"outlinewidth\": 0, \"tickcolor\": \"rgb(36,36,36)\", \"ticklen\": 8, \"ticks\": \"outside\", \"tickwidth\": 2}}, \"type\": \"scatterpolargl\"}], \"scatterternary\": [{\"marker\": {\"colorbar\": {\"outlinewidth\": 0, \"tickcolor\": \"rgb(36,36,36)\", \"ticklen\": 8, \"ticks\": \"outside\", \"tickwidth\": 2}}, \"type\": \"scatterternary\"}], \"surface\": [{\"colorbar\": {\"outlinewidth\": 0, \"tickcolor\": \"rgb(36,36,36)\", \"ticklen\": 8, \"ticks\": \"outside\", \"tickwidth\": 2}, \"colorscale\": [[0.0, \"rgb(2,4,25)\"], [0.06274509803921569, \"rgb(24,15,41)\"], [0.12549019607843137, \"rgb(47,23,57)\"], [0.18823529411764706, \"rgb(71,28,72)\"], [0.25098039215686274, \"rgb(97,30,82)\"], [0.3137254901960784, \"rgb(123,30,89)\"], [0.3764705882352941, \"rgb(150,27,91)\"], [0.4392156862745098, \"rgb(177,22,88)\"], [0.5019607843137255, \"rgb(203,26,79)\"], [0.5647058823529412, \"rgb(223,47,67)\"], [0.6274509803921569, \"rgb(236,76,61)\"], [0.6901960784313725, \"rgb(242,107,73)\"], [0.7529411764705882, \"rgb(244,135,95)\"], [0.8156862745098039, \"rgb(245,162,122)\"], [0.8784313725490196, \"rgb(246,188,153)\"], [0.9411764705882353, \"rgb(247,212,187)\"], [1.0, \"rgb(250,234,220)\"]], \"type\": \"surface\"}], \"table\": [{\"cells\": {\"fill\": {\"color\": \"rgb(231,231,240)\"}, \"line\": {\"color\": \"white\"}}, \"header\": {\"fill\": {\"color\": \"rgb(183,183,191)\"}, \"line\": {\"color\": \"white\"}}, \"type\": \"table\"}]}, \"layout\": {\"annotationdefaults\": {\"arrowcolor\": \"rgb(67,103,167)\"}, \"autotypenumbers\": \"strict\", \"coloraxis\": {\"colorbar\": {\"outlinewidth\": 0, \"tickcolor\": \"rgb(36,36,36)\", \"ticklen\": 8, \"ticks\": \"outside\", \"tickwidth\": 2}}, \"colorscale\": {\"sequential\": [[0.0, \"rgb(2,4,25)\"], [0.06274509803921569, \"rgb(24,15,41)\"], [0.12549019607843137, \"rgb(47,23,57)\"], [0.18823529411764706, \"rgb(71,28,72)\"], [0.25098039215686274, \"rgb(97,30,82)\"], [0.3137254901960784, \"rgb(123,30,89)\"], [0.3764705882352941, \"rgb(150,27,91)\"], [0.4392156862745098, \"rgb(177,22,88)\"], [0.5019607843137255, \"rgb(203,26,79)\"], [0.5647058823529412, \"rgb(223,47,67)\"], [0.6274509803921569, \"rgb(236,76,61)\"], [0.6901960784313725, \"rgb(242,107,73)\"], [0.7529411764705882, \"rgb(244,135,95)\"], [0.8156862745098039, \"rgb(245,162,122)\"], [0.8784313725490196, \"rgb(246,188,153)\"], [0.9411764705882353, \"rgb(247,212,187)\"], [1.0, \"rgb(250,234,220)\"]], \"sequentialminus\": [[0.0, \"rgb(2,4,25)\"], [0.06274509803921569, \"rgb(24,15,41)\"], [0.12549019607843137, \"rgb(47,23,57)\"], [0.18823529411764706, \"rgb(71,28,72)\"], [0.25098039215686274, \"rgb(97,30,82)\"], [0.3137254901960784, \"rgb(123,30,89)\"], [0.3764705882352941, \"rgb(150,27,91)\"], [0.4392156862745098, \"rgb(177,22,88)\"], [0.5019607843137255, \"rgb(203,26,79)\"], [0.5647058823529412, \"rgb(223,47,67)\"], [0.6274509803921569, \"rgb(236,76,61)\"], [0.6901960784313725, \"rgb(242,107,73)\"], [0.7529411764705882, \"rgb(244,135,95)\"], [0.8156862745098039, \"rgb(245,162,122)\"], [0.8784313725490196, \"rgb(246,188,153)\"], [0.9411764705882353, \"rgb(247,212,187)\"], [1.0, \"rgb(250,234,220)\"]]}, \"colorway\": [\"rgb(76,114,176)\", \"rgb(221,132,82)\", \"rgb(85,168,104)\", \"rgb(196,78,82)\", \"rgb(129,114,179)\", \"rgb(147,120,96)\", \"rgb(218,139,195)\", \"rgb(140,140,140)\", \"rgb(204,185,116)\", \"rgb(100,181,205)\"], \"font\": {\"color\": \"rgb(36,36,36)\"}, \"geo\": {\"bgcolor\": \"white\", \"lakecolor\": \"white\", \"landcolor\": \"rgb(234,234,242)\", \"showlakes\": true, \"showland\": true, \"subunitcolor\": \"white\"}, \"hoverlabel\": {\"align\": \"left\"}, \"hovermode\": \"closest\", \"paper_bgcolor\": \"white\", \"plot_bgcolor\": \"rgb(234,234,242)\", \"polar\": {\"angularaxis\": {\"gridcolor\": \"white\", \"linecolor\": \"white\", \"showgrid\": true, \"ticks\": \"\"}, \"bgcolor\": \"rgb(234,234,242)\", \"radialaxis\": {\"gridcolor\": \"white\", \"linecolor\": \"white\", \"showgrid\": true, \"ticks\": \"\"}}, \"scene\": {\"xaxis\": {\"backgroundcolor\": \"rgb(234,234,242)\", \"gridcolor\": \"white\", \"gridwidth\": 2, \"linecolor\": \"white\", \"showbackground\": true, \"showgrid\": true, \"ticks\": \"\", \"zerolinecolor\": \"white\"}, \"yaxis\": {\"backgroundcolor\": \"rgb(234,234,242)\", \"gridcolor\": \"white\", \"gridwidth\": 2, \"linecolor\": \"white\", \"showbackground\": true, \"showgrid\": true, \"ticks\": \"\", \"zerolinecolor\": \"white\"}, \"zaxis\": {\"backgroundcolor\": \"rgb(234,234,242)\", \"gridcolor\": \"white\", \"gridwidth\": 2, \"linecolor\": \"white\", \"showbackground\": true, \"showgrid\": true, \"ticks\": \"\", \"zerolinecolor\": \"white\"}}, \"shapedefaults\": {\"fillcolor\": \"rgb(67,103,167)\", \"line\": {\"width\": 0}, \"opacity\": 0.5}, \"ternary\": {\"aaxis\": {\"gridcolor\": \"white\", \"linecolor\": \"white\", \"showgrid\": true, \"ticks\": \"\"}, \"baxis\": {\"gridcolor\": \"white\", \"linecolor\": \"white\", \"showgrid\": true, \"ticks\": \"\"}, \"bgcolor\": \"rgb(234,234,242)\", \"caxis\": {\"gridcolor\": \"white\", \"linecolor\": \"white\", \"showgrid\": true, \"ticks\": \"\"}}, \"xaxis\": {\"automargin\": true, \"gridcolor\": \"white\", \"linecolor\": \"white\", \"showgrid\": true, \"ticks\": \"\", \"title\": {\"standoff\": 15}, \"zerolinecolor\": \"white\"}, \"yaxis\": {\"automargin\": true, \"gridcolor\": \"white\", \"linecolor\": \"white\", \"showgrid\": true, \"ticks\": \"\", \"title\": {\"standoff\": 15}, \"zerolinecolor\": \"white\"}}}, \"title\": {\"text\": \"C Sorting Algorithm Runtimes\"}, \"xaxis\": {\"anchor\": \"y\", \"domain\": [0.0, 0.3133333333333333], \"gridwidth\": 2, \"showgrid\": true, \"title\": {\"text\": \"Sorting Algorithm\"}}, \"xaxis10\": {\"anchor\": \"y10\", \"domain\": [0.0, 0.3133333333333333], \"gridwidth\": 2, \"matches\": \"x\", \"showgrid\": true, \"showticklabels\": false}, \"xaxis11\": {\"anchor\": \"y11\", \"domain\": [0.3333333333333333, 0.6466666666666666], \"gridwidth\": 2, \"matches\": \"x\", \"showgrid\": true, \"showticklabels\": false}, \"xaxis12\": {\"anchor\": \"y12\", \"domain\": [0.6666666666666666, 0.98], \"gridwidth\": 2, \"matches\": \"x\", \"showgrid\": true, \"showticklabels\": false}, \"xaxis2\": {\"anchor\": \"y2\", \"domain\": [0.3333333333333333, 0.6466666666666666], \"gridwidth\": 2, \"matches\": \"x\", \"showgrid\": true, \"title\": {\"text\": \"Sorting Algorithm\"}}, \"xaxis3\": {\"anchor\": \"y3\", \"domain\": [0.6666666666666666, 0.98], \"gridwidth\": 2, \"matches\": \"x\", \"showgrid\": true, \"title\": {\"text\": \"Sorting Algorithm\"}}, \"xaxis4\": {\"anchor\": \"y4\", \"domain\": [0.0, 0.3133333333333333], \"gridwidth\": 2, \"matches\": \"x\", \"showgrid\": true, \"showticklabels\": false}, \"xaxis5\": {\"anchor\": \"y5\", \"domain\": [0.3333333333333333, 0.6466666666666666], \"gridwidth\": 2, \"matches\": \"x\", \"showgrid\": true, \"showticklabels\": false}, \"xaxis6\": {\"anchor\": \"y6\", \"domain\": [0.6666666666666666, 0.98], \"gridwidth\": 2, \"matches\": \"x\", \"showgrid\": true, \"showticklabels\": false}, \"xaxis7\": {\"anchor\": \"y7\", \"domain\": [0.0, 0.3133333333333333], \"gridwidth\": 2, \"matches\": \"x\", \"showgrid\": true, \"showticklabels\": false}, \"xaxis8\": {\"anchor\": \"y8\", \"domain\": [0.3333333333333333, 0.6466666666666666], \"gridwidth\": 2, \"matches\": \"x\", \"showgrid\": true, \"showticklabels\": false}, \"xaxis9\": {\"anchor\": \"y9\", \"domain\": [0.6666666666666666, 0.98], \"gridwidth\": 2, \"matches\": \"x\", \"showgrid\": true, \"showticklabels\": false}, \"yaxis\": {\"anchor\": \"x\", \"domain\": [0.0, 0.2275], \"gridwidth\": 2, \"showgrid\": true, \"title\": {\"text\": \"Duration (s)\"}, \"type\": \"log\"}, \"yaxis10\": {\"anchor\": \"x10\", \"domain\": [0.7725, 1.0], \"gridwidth\": 2, \"matches\": \"y\", \"showgrid\": true, \"title\": {\"text\": \"Duration (s)\"}, \"type\": \"log\"}, \"yaxis11\": {\"anchor\": \"x11\", \"domain\": [0.7725, 1.0], \"gridwidth\": 2, \"matches\": \"y\", \"showgrid\": true, \"showticklabels\": false, \"type\": \"log\"}, \"yaxis12\": {\"anchor\": \"x12\", \"domain\": [0.7725, 1.0], \"gridwidth\": 2, \"matches\": \"y\", \"showgrid\": true, \"showticklabels\": false, \"type\": \"log\"}, \"yaxis2\": {\"anchor\": \"x2\", \"domain\": [0.0, 0.2275], \"gridwidth\": 2, \"matches\": \"y\", \"showgrid\": true, \"showticklabels\": false, \"type\": \"log\"}, \"yaxis3\": {\"anchor\": \"x3\", \"domain\": [0.0, 0.2275], \"gridwidth\": 2, \"matches\": \"y\", \"showgrid\": true, \"showticklabels\": false, \"type\": \"log\"}, \"yaxis4\": {\"anchor\": \"x4\", \"domain\": [0.2575, 0.485], \"gridwidth\": 2, \"matches\": \"y\", \"showgrid\": true, \"title\": {\"text\": \"Duration (s)\"}, \"type\": \"log\"}, \"yaxis5\": {\"anchor\": \"x5\", \"domain\": [0.2575, 0.485], \"gridwidth\": 2, \"matches\": \"y\", \"showgrid\": true, \"showticklabels\": false, \"type\": \"log\"}, \"yaxis6\": {\"anchor\": \"x6\", \"domain\": [0.2575, 0.485], \"gridwidth\": 2, \"matches\": \"y\", \"showgrid\": true, \"showticklabels\": false, \"type\": \"log\"}, \"yaxis7\": {\"anchor\": \"x7\", \"domain\": [0.515, 0.7425], \"gridwidth\": 2, \"matches\": \"y\", \"showgrid\": true, \"title\": {\"text\": \"Duration (s)\"}, \"type\": \"log\"}, \"yaxis8\": {\"anchor\": \"x8\", \"domain\": [0.515, 0.7425], \"gridwidth\": 2, \"matches\": \"y\", \"showgrid\": true, \"showticklabels\": false, \"type\": \"log\"}, \"yaxis9\": {\"anchor\": \"x9\", \"domain\": [0.515, 0.7425], \"gridwidth\": 2, \"matches\": \"y\", \"showgrid\": true, \"showticklabels\": false, \"type\": \"log\"}},                        {\"responsive\": true}                    ).then(function(){\n",
       "                            \n",
       "var gd = document.getElementById('6733e7be-d897-4d2b-80cc-552c31ab152e');\n",
       "var x = new MutationObserver(function (mutations, observer) {{\n",
       "        var display = window.getComputedStyle(gd).display;\n",
       "        if (!display || display === 'none') {{\n",
       "            console.log([gd, 'removed!']);\n",
       "            Plotly.purge(gd);\n",
       "            observer.disconnect();\n",
       "        }}\n",
       "}});\n",
       "\n",
       "// Listen for the removal of the full notebook cells\n",
       "var notebookContainer = gd.closest('#notebook-container');\n",
       "if (notebookContainer) {{\n",
       "    x.observe(notebookContainer, {childList: true});\n",
       "}}\n",
       "\n",
       "// Listen for the clearing of the current output cell\n",
       "var outputEl = gd.closest('.output');\n",
       "if (outputEl) {{\n",
       "    x.observe(outputEl, {childList: true});\n",
       "}}\n",
       "\n",
       "                        })                };                });            </script>        </div>"
      ]
     },
     "metadata": {},
     "output_type": "display_data"
    }
   ],
   "source": [
    "fig = px.box(\n",
    "    df,\n",
    "    y='Duration', x='Algorithm', color='Size',\n",
    "    facet_col='Cutoff', facet_col_wrap=3,\n",
    "    facet_row='Construct',\n",
    "    template='seaborn',\n",
    "    log_y=True, \n",
    "    height=800,\n",
    "#     boxmode=\"overlay\",\n",
    "    points='all',\n",
    "    title='C Sorting Algorithm Runtimes',\n",
    "    labels={\n",
    "        \"Duration\": \"Duration (s)\",\n",
    "        \"Algorithm\": \"Sorting Algorithm\",\n",
    "     },\n",
    ")\n",
    "\n",
    "fig.update_xaxes(showgrid=True, gridwidth=2)#, gridcolor='LightPink')\n",
    "fig.update_yaxes(showgrid=True, gridwidth=2)#, gridcolor='LightPink')\n",
    "\n",
    "# for (algorithm, size) in means.index:\n",
    "# for algorithm in means.index.get_level_values('Algorithm').unique():\n",
    "#     trace = go.Scatter(means.loc[algorithm], y=)\n",
    "#     fig.add_line(x=)\n",
    "    # fig.add_line(x='Algorithm', y=, name=\"Last year\")\n",
    "\n",
    "fig.show()"
   ]
  },
  {
   "cell_type": "code",
   "execution_count": 23,
   "metadata": {},
   "outputs": [
    {
     "data": {
      "application/vnd.plotly.v1+json": {
       "config": {
        "plotlyServerURL": "https://plot.ly"
       },
       "data": [
        {
         "hovertemplate": "Sorting Algorithm=merge<br>Construct=serial<br>Cutoff=0<br>Size=%{x}<br>Duration (s)=%{y}<extra></extra>",
         "legendgroup": "merge",
         "line": {
          "color": "rgb(76,114,176)",
          "dash": "solid"
         },
         "mode": "lines",
         "name": "merge",
         "showlegend": true,
         "type": "scattergl",
         "x": [
          1000,
          1000,
          1000,
          1000,
          1000,
          10000,
          10000,
          10000,
          10000,
          10000,
          100000,
          100000,
          100000,
          100000,
          100000,
          1000000,
          1000000,
          1000000,
          1000000,
          1000000,
          10000000,
          10000000,
          10000000,
          10000000,
          10000000
         ],
         "xaxis": "x10",
         "y": [
          0.00020349799888208508,
          0.00016322100418619812,
          0.00017689699598122388,
          0.0001479820057284087,
          0.00015587700181640685,
          0.0011994849919574335,
          0.0011884739942615852,
          0.0011643879988696426,
          0.0011748089891625568,
          0.0011645689955912528,
          0.016560150994337164,
          0.01401985100528691,
          0.014057713997317478,
          0.014083982998272402,
          0.014058375003514813,
          0.16982890000508633,
          0.17013241899257991,
          0.16937383099866565,
          0.17074875099933706,
          0.17118930000287946,
          2.0314097630034667,
          2.016778752004029,
          2.020372257989948,
          2.0118729390087537,
          2.013694309993298
         ],
         "yaxis": "y10"
        },
        {
         "hovertemplate": "Sorting Algorithm=merge<br>Construct=tasks<br>Cutoff=0<br>Size=%{x}<br>Duration (s)=%{y}<extra></extra>",
         "legendgroup": "merge",
         "line": {
          "color": "rgb(76,114,176)",
          "dash": "solid"
         },
         "mode": "lines",
         "name": "merge",
         "showlegend": false,
         "type": "scattergl",
         "x": [
          1000,
          1000,
          1000,
          1000,
          1000,
          1000,
          1000,
          1000,
          1000,
          1000,
          1000,
          1000,
          1000,
          1000,
          1000,
          1000,
          1000,
          1000,
          1000,
          1000,
          10000,
          10000,
          10000,
          10000,
          10000,
          10000,
          10000,
          10000,
          10000,
          10000,
          10000,
          10000,
          10000,
          10000,
          10000,
          10000,
          10000,
          10000,
          10000,
          10000,
          100000,
          100000,
          100000,
          100000,
          100000,
          100000,
          100000,
          100000,
          100000,
          100000,
          100000,
          100000,
          100000,
          100000,
          100000,
          100000,
          100000,
          100000,
          100000,
          100000,
          1000000,
          1000000,
          1000000,
          1000000,
          1000000,
          1000000,
          1000000,
          1000000,
          1000000,
          1000000,
          1000000,
          1000000,
          1000000,
          1000000,
          1000000,
          1000000,
          1000000,
          1000000,
          1000000,
          1000000,
          10000000,
          10000000,
          10000000,
          10000000,
          10000000,
          10000000,
          10000000,
          10000000,
          10000000,
          10000000,
          10000000,
          10000000,
          10000000,
          10000000,
          10000000,
          10000000,
          10000000,
          10000000,
          10000000,
          10000000
         ],
         "xaxis": "x7",
         "y": [
          0.0006884920003358275,
          0.000545679999049753,
          0.0005430839955806732,
          0.0005457800143631175,
          0.0005528629990294576,
          0.0006918480066815391,
          0.000623558007646352,
          0.0005398389912443237,
          0.000507076008943841,
          0.0004910249990643932,
          0.0008066169975791126,
          0.0005497469974216074,
          0.0005894630012335256,
          0.000539838001714088,
          0.00044630999036598956,
          0.000745821002055891,
          0.0006412220100173728,
          0.0006100719911046326,
          0.000594632001593709,
          0.000727656006347388,
          0.0048946160095511,
          0.004584424998029135,
          0.004212055006064475,
          0.0032329300011042506,
          0.0032462050003232434,
          0.005442148991278373,
          0.005499467995832674,
          0.004470276995562017,
          0.005464702000608668,
          0.005491692994837649,
          0.005774923003627919,
          0.004202345997327939,
          0.005975284002488479,
          0.006007534990203567,
          0.004626694993930869,
          0.006035188998794183,
          0.0057009209995158025,
          0.004538146007689647,
          0.004717639007139951,
          0.006170325999846682,
          0.034405740996589884,
          0.03251945700321812,
          0.03224492400477175,
          0.03291852699476294,
          0.032852483011083684,
          0.037608343991450965,
          0.03215712800738402,
          0.03187956698820926,
          0.03691190500103402,
          0.035088171003735624,
          0.0370866279990878,
          0.032316480006556965,
          0.03240685199853033,
          0.03584608499659225,
          0.03483007999602705,
          0.0356231900077546,
          0.03656566599966026,
          0.03734095199615695,
          0.03361351099738385,
          0.04142767899611499,
          0.34135318599874154,
          0.3346900670003379,
          0.3371023700019577,
          0.3370075970015023,
          0.33752365600958,
          0.3436910529999295,
          0.326927172995056,
          0.3300762170110829,
          0.34013819499523373,
          0.3418570869980613,
          0.3493966249952791,
          0.3385683929955121,
          0.34125946898711845,
          0.3388624369981699,
          0.335134373002802,
          0.3475126920093317,
          0.3353770190005889,
          0.33903487300267443,
          0.3397311279986752,
          0.3355172360024881,
          3.4710762729955604,
          3.4742943940073014,
          3.4777779580035717,
          3.4639308070036345,
          3.469899503994384,
          3.4744381849886854,
          3.4304866649908945,
          3.4234185649984283,
          3.467836677999003,
          3.4692403259978164,
          3.491002422000747,
          3.245184266997967,
          3.477605363994371,
          3.492745844007004,
          3.488784533998114,
          3.4727675299945986,
          3.467842907004524,
          3.249398889995064,
          3.4810386189928977,
          3.4599814649991454
         ],
         "yaxis": "y7"
        },
        {
         "hovertemplate": "Sorting Algorithm=merge<br>Construct=tasks<br>Cutoff=100<br>Size=%{x}<br>Duration (s)=%{y}<extra></extra>",
         "legendgroup": "merge",
         "line": {
          "color": "rgb(76,114,176)",
          "dash": "solid"
         },
         "mode": "lines",
         "name": "merge",
         "showlegend": false,
         "type": "scattergl",
         "x": [
          1000,
          1000,
          1000,
          1000,
          1000,
          1000,
          1000,
          1000,
          1000,
          1000,
          1000,
          1000,
          1000,
          1000,
          1000,
          1000,
          1000,
          1000,
          1000,
          1000,
          10000,
          10000,
          10000,
          10000,
          10000,
          10000,
          10000,
          10000,
          10000,
          10000,
          10000,
          10000,
          10000,
          10000,
          10000,
          10000,
          10000,
          10000,
          10000,
          10000,
          100000,
          100000,
          100000,
          100000,
          100000,
          100000,
          100000,
          100000,
          100000,
          100000,
          100000,
          100000,
          100000,
          100000,
          100000,
          100000,
          100000,
          100000,
          100000,
          100000,
          1000000,
          1000000,
          1000000,
          1000000,
          1000000,
          1000000,
          1000000,
          1000000,
          1000000,
          1000000,
          1000000,
          1000000,
          1000000,
          1000000,
          1000000,
          1000000,
          1000000,
          1000000,
          1000000,
          1000000,
          10000000,
          10000000,
          10000000,
          10000000,
          10000000,
          10000000,
          10000000,
          10000000,
          10000000,
          10000000,
          10000000,
          10000000,
          10000000,
          10000000,
          10000000,
          10000000,
          10000000,
          10000000,
          10000000,
          10000000
         ],
         "xaxis": "x8",
         "y": [
          9.795698861125855e-05,
          9.438001143280417e-05,
          9.153399150818586e-05,
          9.196500468533486e-05,
          9.14439879124984e-05,
          6.78289943607524e-05,
          6.1166996601969e-05,
          7.876000017859042e-05,
          9.78460011538118e-05,
          7.486301183234899e-05,
          7.419098983518779e-05,
          8.938999962992966e-05,
          0.00010679398837964982,
          0.00010730400390457362,
          8.220699965022504e-05,
          0.00012137100566178559,
          0.0001170030009234324,
          0.00010724499588832259,
          0.00011713300773408264,
          9.776599472388624e-05,
          0.0006886720075272025,
          0.0006772710039513186,
          0.0006724410050082952,
          0.0006688440043944865,
          0.0006745150021743028,
          0.0010578360088402403,
          0.0009867100015981123,
          0.001272774999961257,
          0.0013327089982340112,
          0.0011577060067793354,
          0.0013494710001396015,
          0.0011686060024658216,
          0.0010809099912876263,
          0.0007742650050204246,
          0.001093302998924628,
          0.001258257994777523,
          0.0012794770009350034,
          0.0012258950009709224,
          0.0014451129973167556,
          0.0010444200015626848,
          0.007959384995047003,
          0.008085865003522484,
          0.00858328299364075,
          0.008487159997457637,
          0.008192428009351715,
          0.011059199998271652,
          0.007995754000148736,
          0.007940918992972001,
          0.007919919007690622,
          0.007933765999041498,
          0.012051851008436644,
          0.012315273997955956,
          0.011774211990996264,
          0.011553301999811085,
          0.01287438900908455,
          0.012113409000448884,
          0.011620810008025728,
          0.012806649989215657,
          0.013889852998545392,
          0.008227194994105956,
          0.10443531601049473,
          0.09841691800102126,
          0.09897066300618462,
          0.10128285799873993,
          0.0971095969871385,
          0.1043561749975197,
          0.09702584099431989,
          0.1043994079955155,
          0.0987818959983997,
          0.09678074299881699,
          0.1057139040058246,
          0.09698392399877777,
          0.09664080000948161,
          0.09685754300153347,
          0.09807947000081184,
          0.09799220899003556,
          0.1040069940063404,
          0.09762333400431088,
          0.09551783300412353,
          0.09539196398691274,
          1.104670521002845,
          1.095913762008422,
          1.1019112600042718,
          1.0971509209921353,
          1.0982556119997753,
          1.1015909919951807,
          1.1019769359991187,
          1.1077738309977576,
          1.108951703005005,
          1.1015326710039517,
          1.1049876750039402,
          1.1062665009958437,
          1.0972994610056048,
          1.0988542620034425,
          1.0993107849935768,
          1.1043644739984302,
          1.1147978580120252,
          1.1093107549968408,
          1.1021453379944433,
          1.1008888950018445
         ],
         "yaxis": "y8"
        },
        {
         "hovertemplate": "Sorting Algorithm=merge<br>Construct=tasks<br>Cutoff=1000<br>Size=%{x}<br>Duration (s)=%{y}<extra></extra>",
         "legendgroup": "merge",
         "line": {
          "color": "rgb(76,114,176)",
          "dash": "solid"
         },
         "mode": "lines",
         "name": "merge",
         "showlegend": false,
         "type": "scattergl",
         "x": [
          1000,
          1000,
          1000,
          1000,
          1000,
          1000,
          1000,
          1000,
          1000,
          1000,
          1000,
          1000,
          1000,
          1000,
          1000,
          1000,
          1000,
          1000,
          1000,
          1000,
          10000,
          10000,
          10000,
          10000,
          10000,
          10000,
          10000,
          10000,
          10000,
          10000,
          10000,
          10000,
          10000,
          10000,
          10000,
          10000,
          10000,
          10000,
          10000,
          10000,
          100000,
          100000,
          100000,
          100000,
          100000,
          100000,
          100000,
          100000,
          100000,
          100000,
          100000,
          100000,
          100000,
          100000,
          100000,
          100000,
          100000,
          100000,
          100000,
          100000,
          1000000,
          1000000,
          1000000,
          1000000,
          1000000,
          1000000,
          1000000,
          1000000,
          1000000,
          1000000,
          1000000,
          1000000,
          1000000,
          1000000,
          1000000,
          1000000,
          1000000,
          1000000,
          1000000,
          1000000,
          10000000,
          10000000,
          10000000,
          10000000,
          10000000,
          10000000,
          10000000,
          10000000,
          10000000,
          10000000,
          10000000,
          10000000,
          10000000,
          10000000,
          10000000,
          10000000,
          10000000,
          10000000,
          10000000,
          10000000
         ],
         "xaxis": "x9",
         "y": [
          0.000149425002746284,
          0.00014671999088022858,
          0.0001515990006737411,
          0.00014506699517369268,
          0.0001437640021322295,
          8.79279978107661e-05,
          7.102599192876369e-05,
          7.045500387903303e-05,
          7.062499935273081e-05,
          7.01730023138225e-05,
          7.231799827422945e-05,
          7.025399827398361e-05,
          6.979300815146416e-05,
          6.931200914550573e-05,
          6.96119968779385e-05,
          7.24480050848797e-05,
          7.06550054019317e-05,
          7.017400639597327e-05,
          6.968299567233771e-05,
          6.937301077414304e-05,
          0.0006374649965437129,
          0.0006357009988278152,
          0.0006361319974530488,
          0.0006315529899438843,
          0.0006369829934556037,
          0.0009895550028886646,
          0.0009493690013187006,
          0.0009504909976385533,
          0.0009395200031576678,
          0.0009399609989486633,
          0.0010064579983009023,
          0.0009775020007509738,
          0.0009754490019986406,
          0.0009729939920362084,
          0.0009543690102873369,
          0.0009974709973903375,
          0.0009761200053617359,
          0.0007510709983762354,
          0.0009340300020994617,
          0.0008119769918266685,
          0.008172620000550523,
          0.007692485989537091,
          0.0077107609977247185,
          0.00765268100076355,
          0.007924909004941581,
          0.0077253790077520534,
          0.007695652006077581,
          0.0076494640088640145,
          0.007979974005138502,
          0.0076602949993684905,
          0.011375934001989664,
          0.011482026005978696,
          0.013659695003298113,
          0.012891241000033915,
          0.011824929999420421,
          0.010685186993214302,
          0.012490748005802743,
          0.013272816999233328,
          0.011732483006198892,
          0.013289538997923957,
          0.09437713200168217,
          0.09355897099885625,
          0.09465413900034035,
          0.0933060410025064,
          0.09344662699731998,
          0.09256788701168259,
          0.0997897459892556,
          0.09234816899697762,
          0.0933642640011385,
          0.09373830500408076,
          0.1025904740090482,
          0.09915197300142607,
          0.0930796049942728,
          0.09349989499605726,
          0.09299992100568487,
          0.09302346101321744,
          0.10116765399288853,
          0.09389144400483927,
          0.10187170399876776,
          0.10075654099637177,
          1.0709417600010056,
          1.0680641290091444,
          1.0690231740009042,
          1.0619556659949012,
          1.0689604520011926,
          1.0655249319970608,
          1.0718272599915508,
          1.0656418289872818,
          1.0734888860024512,
          1.0758696410048287,
          1.0657269719959004,
          1.0670355860056588,
          1.0623695940012112,
          1.070368739994592,
          1.0661092800000915,
          1.0707584530027816,
          1.0621381619857857,
          1.0615829130110797,
          1.0914177439990451,
          1.0948287500068543
         ],
         "yaxis": "y9"
        },
        {
         "hovertemplate": "Sorting Algorithm=merge<br>Construct=sections<br>Cutoff=0<br>Size=%{x}<br>Duration (s)=%{y}<extra></extra>",
         "legendgroup": "merge",
         "line": {
          "color": "rgb(76,114,176)",
          "dash": "solid"
         },
         "mode": "lines",
         "name": "merge",
         "showlegend": false,
         "type": "scattergl",
         "x": [
          1000,
          1000,
          1000,
          1000,
          1000,
          1000,
          1000,
          1000,
          1000,
          1000,
          1000,
          1000,
          1000,
          1000,
          1000,
          1000,
          1000,
          1000,
          1000,
          1000,
          10000,
          10000,
          10000,
          10000,
          10000,
          10000,
          10000,
          10000,
          10000,
          10000,
          10000,
          10000,
          10000,
          10000,
          10000,
          10000,
          10000,
          10000,
          10000,
          10000,
          100000,
          100000,
          100000,
          100000,
          100000,
          100000,
          100000,
          100000,
          100000,
          100000,
          100000,
          100000,
          100000,
          100000,
          100000,
          100000,
          100000,
          100000,
          100000,
          100000,
          1000000,
          1000000,
          1000000,
          1000000,
          1000000,
          1000000,
          1000000,
          1000000,
          1000000,
          1000000,
          1000000,
          1000000,
          1000000,
          1000000,
          1000000,
          1000000,
          1000000,
          1000000,
          1000000,
          1000000,
          10000000,
          10000000,
          10000000,
          10000000,
          10000000,
          10000000,
          10000000,
          10000000,
          10000000,
          10000000,
          10000000,
          10000000,
          10000000,
          10000000,
          10000000,
          10000000,
          10000000,
          10000000,
          10000000,
          10000000
         ],
         "xaxis": "x4",
         "y": [
          0.00043834499956574286,
          0.0004276349936844781,
          0.00044704199535772204,
          0.0004234660009387881,
          0.0004185680008959025,
          0.00043678299698512996,
          0.0004342879983596504,
          0.00041135399078484635,
          0.0004215029912302271,
          0.0003277450014138594,
          0.00043009899673052127,
          0.0003651150036603213,
          0.00042199400195386255,
          0.0004006730014225468,
          0.0003642340016085655,
          0.0004887609975412488,
          0.00043412701052147895,
          0.0005186180060263723,
          0.0004155720089329407,
          0.00031136300822254265,
          0.0035300560120958835,
          0.004212254993035458,
          0.002650820999406278,
          0.0026577740063657984,
          0.002742894997936673,
          0.00451936099852901,
          0.004241229995386675,
          0.0035288030048832297,
          0.002809903002344072,
          0.003513372997986153,
          0.004199721006443724,
          0.004356871009804309,
          0.0038756540016038335,
          0.0031521060009254143,
          0.0033452439965913072,
          0.004297808991395868,
          0.003956658998504281,
          0.004230631006066688,
          0.0034932949929498136,
          0.003303442994365469,
          0.02716547700401861,
          0.027160085999639705,
          0.02704827400157228,
          0.028376934991683807,
          0.026904058991931375,
          0.03022046700061765,
          0.026093032996868715,
          0.03076093700656202,
          0.026895652001257986,
          0.029049545992165807,
          0.033425713001633994,
          0.028473958998802118,
          0.03287277999334037,
          0.029878084998927083,
          0.02961715700803325,
          0.036756870002136566,
          0.0327938889968209,
          0.032411170002887964,
          0.03236810899397824,
          0.03186574099527206,
          0.2854776199965272,
          0.28650080699299,
          0.2858710739965318,
          0.2878208470065147,
          0.2870086170005379,
          0.2724878009903477,
          0.2836709129915107,
          0.2738795580080477,
          0.2893708160117967,
          0.2875859240011778,
          0.28692207801213954,
          0.28359254098904785,
          0.28608599900326226,
          0.2851228020008421,
          0.2880565169907641,
          0.2867910640052287,
          0.2734492989984573,
          0.2874447560025146,
          0.2866240589937661,
          0.2890474440064281,
          2.938456130999839,
          2.917127878012252,
          2.9219146680115955,
          2.923028796998551,
          2.9439650839922247,
          2.910358086010092,
          2.827171241005998,
          2.921750039997278,
          2.875795930012828,
          2.9156905859999824,
          2.6420965010038344,
          2.6807050259958487,
          2.910518051998224,
          2.9156024949916173,
          2.9342898269969737,
          2.9201807089993963,
          2.9371354400063865,
          2.6772710590012134,
          2.849667545000557,
          2.943462743991404
         ],
         "yaxis": "y4"
        },
        {
         "hovertemplate": "Sorting Algorithm=merge<br>Construct=sections<br>Cutoff=100<br>Size=%{x}<br>Duration (s)=%{y}<extra></extra>",
         "legendgroup": "merge",
         "line": {
          "color": "rgb(76,114,176)",
          "dash": "solid"
         },
         "mode": "lines",
         "name": "merge",
         "showlegend": false,
         "type": "scattergl",
         "x": [
          1000,
          1000,
          1000,
          1000,
          1000,
          1000,
          1000,
          1000,
          1000,
          1000,
          1000,
          1000,
          1000,
          1000,
          1000,
          1000,
          1000,
          1000,
          1000,
          1000,
          10000,
          10000,
          10000,
          10000,
          10000,
          10000,
          10000,
          10000,
          10000,
          10000,
          10000,
          10000,
          10000,
          10000,
          10000,
          10000,
          10000,
          10000,
          10000,
          10000,
          100000,
          100000,
          100000,
          100000,
          100000,
          100000,
          100000,
          100000,
          100000,
          100000,
          100000,
          100000,
          100000,
          100000,
          100000,
          100000,
          100000,
          100000,
          100000,
          100000,
          1000000,
          1000000,
          1000000,
          1000000,
          1000000,
          1000000,
          1000000,
          1000000,
          1000000,
          1000000,
          1000000,
          1000000,
          1000000,
          1000000,
          1000000,
          1000000,
          1000000,
          1000000,
          1000000,
          1000000,
          10000000,
          10000000,
          10000000,
          10000000,
          10000000,
          10000000,
          10000000,
          10000000,
          10000000,
          10000000,
          10000000,
          10000000,
          10000000,
          10000000,
          10000000,
          10000000,
          10000000,
          10000000,
          10000000,
          10000000
         ],
         "xaxis": "x5",
         "y": [
          0.00010423900675959884,
          0.00010257599933538586,
          9.694400068838148e-05,
          9.497100836597384e-05,
          9.694398613646626e-05,
          5.142799636814743e-05,
          7.416101288981733e-05,
          5.018600495532155e-05,
          6.883101013954729e-05,
          6.407199543900789e-05,
          9.943000623025e-05,
          9.049200161825864e-05,
          7.893099973443894e-05,
          8.327899558935313e-05,
          8.521199924871324e-05,
          9.595199662726372e-05,
          4.514600732363761e-05,
          8.449099550489336e-05,
          8.583399176131934e-05,
          8.143499144352973e-05,
          0.0006568810058524832,
          0.0006590559933101758,
          0.0006504089978989214,
          0.0006508100050268696,
          0.0006420230056392028,
          0.0010057659965241328,
          0.0009528149967081844,
          0.0009540879982523619,
          0.0009940640011336654,
          0.0009568730019964276,
          0.0009714010084280744,
          0.0010808990045916287,
          0.001131795987021178,
          0.0009815599914873019,
          0.00100423299591057,
          0.0010727039916673675,
          0.0012045949988532814,
          0.001006998005323112,
          0.0010026700037997216,
          0.0011705600045388564,
          0.007847390996175818,
          0.007872648988268338,
          0.007900262004113756,
          0.007878841002820991,
          0.007905802005552687,
          0.007793438999215141,
          0.00780780499917455,
          0.00777951099735219,
          0.007804648994351737,
          0.007833023992134258,
          0.01067592899198644,
          0.011799851999967359,
          0.01398120800149627,
          0.008217476002755577,
          0.015057466996950097,
          0.013546629008487798,
          0.012077510007657112,
          0.012360911001451312,
          0.008811207007966003,
          0.013199388005887158,
          0.10159712898894213,
          0.1024794179975288,
          0.10236230499867817,
          0.10138001300219912,
          0.10178395299590193,
          0.10040349699556828,
          0.10230217299249487,
          0.10018702399975156,
          0.10230146200046876,
          0.1016712589917006,
          0.10072862799279393,
          0.10242010999354534,
          0.10352199799672236,
          0.1045570700080134,
          0.10193136800080538,
          0.10532142900046892,
          0.10292055500030983,
          0.10413339600199834,
          0.10072234700783156,
          0.10269779000373093,
          1.0855789780034684,
          1.0899347189988475,
          1.0881582149886526,
          1.0781008990015837,
          1.0835206680058036,
          1.0851711599971168,
          1.082102479005698,
          1.0793496789992787,
          1.083409077997203,
          1.085362026002258,
          1.0771525620075408,
          1.0772459330037236,
          1.0841661650047172,
          1.0870203899976332,
          1.0924051000038162,
          1.1039630769955693,
          1.0831353499961551,
          1.08459961200424,
          1.0790949760121291,
          1.082503937999718
         ],
         "yaxis": "y5"
        },
        {
         "hovertemplate": "Sorting Algorithm=merge<br>Construct=sections<br>Cutoff=1000<br>Size=%{x}<br>Duration (s)=%{y}<extra></extra>",
         "legendgroup": "merge",
         "line": {
          "color": "rgb(76,114,176)",
          "dash": "solid"
         },
         "mode": "lines",
         "name": "merge",
         "showlegend": false,
         "type": "scattergl",
         "x": [
          1000,
          1000,
          1000,
          1000,
          1000,
          1000,
          1000,
          1000,
          1000,
          1000,
          1000,
          1000,
          1000,
          1000,
          1000,
          1000,
          1000,
          1000,
          1000,
          1000,
          10000,
          10000,
          10000,
          10000,
          10000,
          10000,
          10000,
          10000,
          10000,
          10000,
          10000,
          10000,
          10000,
          10000,
          10000,
          10000,
          10000,
          10000,
          10000,
          10000,
          100000,
          100000,
          100000,
          100000,
          100000,
          100000,
          100000,
          100000,
          100000,
          100000,
          100000,
          100000,
          100000,
          100000,
          100000,
          100000,
          100000,
          100000,
          100000,
          100000,
          1000000,
          1000000,
          1000000,
          1000000,
          1000000,
          1000000,
          1000000,
          1000000,
          1000000,
          1000000,
          1000000,
          1000000,
          1000000,
          1000000,
          1000000,
          1000000,
          1000000,
          1000000,
          1000000,
          1000000,
          10000000,
          10000000,
          10000000,
          10000000,
          10000000,
          10000000,
          10000000,
          10000000,
          10000000,
          10000000,
          10000000,
          10000000,
          10000000,
          10000000,
          10000000,
          10000000,
          10000000,
          10000000,
          10000000,
          10000000
         ],
         "xaxis": "x6",
         "y": [
          0.00013801299792248756,
          0.00013617900549434123,
          0.00013364499318413436,
          0.00013347399362828585,
          0.00013327399210538715,
          7.130599988158791e-05,
          7.093499880284071e-05,
          7.153599290177226e-05,
          7.054499292280525e-05,
          7.041401113383472e-05,
          7.056401227600873e-05,
          7.041399658191949e-05,
          7.004299550317228e-05,
          6.954200216569006e-05,
          6.990299152676016e-05,
          7.110599835868925e-05,
          7.067401020321995e-05,
          7.08250008756295e-05,
          7.014299626462162e-05,
          7.018400356173514e-05,
          0.0006279869994614272,
          0.0006308419979177416,
          0.0006237579946173355,
          0.0006223160016816108,
          0.0006297999934758991,
          0.000952704998780973,
          0.0009349619940621777,
          0.000952054004301317,
          0.0009274070034734906,
          0.0009261040104320272,
          0.0009759289969224483,
          0.0009454009996261448,
          0.0009686849953141065,
          0.0009398410038556905,
          0.0009414640080649405,
          0.0011314559960737824,
          0.0009189209959004074,
          0.0007916480099083855,
          0.0007869090040912852,
          0.0009561619954183696,
          0.007680914000957274,
          0.007663130003493278,
          0.007624215999385342,
          0.00763310299953446,
          0.0077116829925216734,
          0.0076358790101949126,
          0.007662980002351106,
          0.007622442004503681,
          0.0075988580065313735,
          0.007655124994926155,
          0.015167065997957254,
          0.015001341002061963,
          0.01384903500729706,
          0.014941977002308704,
          0.007793288008542731,
          0.01340104200062342,
          0.012396388003253378,
          0.013890513990190813,
          0.01272746900212951,
          0.01259713000035845,
          0.09910534799564627,
          0.09946834998845587,
          0.1026504629990086,
          0.10142156099027487,
          0.09980624399031512,
          0.0995344179973472,
          0.0987104390078457,
          0.09765968800638801,
          0.10040160099742934,
          0.09841812100785319,
          0.1033094829908805,
          0.10185094400367234,
          0.09969443500449417,
          0.09500809700693937,
          0.09928517500520685,
          0.09949924699321856,
          0.09230818699870724,
          0.09903198599931784,
          0.09799045200634281,
          0.10206675699737387,
          1.0674178749904968,
          1.0709930790035287,
          1.0634684130054666,
          1.065049901997554,
          1.0658967240015045,
          1.0703890059958212,
          1.0622485740022969,
          1.0653423950134313,
          1.0688552140054526,
          1.077283989987336,
          1.0719251439877553,
          1.0705535799934296,
          1.066164923002361,
          1.0702793280070182,
          1.0686045059992466,
          1.0666405879892409,
          1.0791447429946857,
          1.074813760991674,
          1.0817928229953395,
          1.079096653003944
         ],
         "yaxis": "y6"
        },
        {
         "hovertemplate": "Sorting Algorithm=enumeration<br>Construct=serial<br>Cutoff=0<br>Size=%{x}<br>Duration (s)=%{y}<extra></extra>",
         "legendgroup": "enumeration",
         "line": {
          "color": "rgb(221,132,82)",
          "dash": "solid"
         },
         "mode": "lines",
         "name": "enumeration",
         "showlegend": true,
         "type": "scattergl",
         "x": [
          1000,
          1000,
          1000,
          1000,
          1000,
          10000,
          10000,
          10000,
          10000,
          10000,
          100000,
          100000,
          100000,
          100000,
          100000
         ],
         "xaxis": "x10",
         "y": [
          0.00383746599254664,
          0.003781311999773607,
          0.0037839970027562226,
          0.003804624997428617,
          0.0020734050049213693,
          0.2290376849996392,
          0.22882275500160176,
          0.22874784900341186,
          0.2289448859955883,
          0.2676730969978962,
          23.830702096995086,
          23.793007883999962,
          23.73145163200388,
          23.83424479099631,
          23.816961625998374
         ],
         "yaxis": "y10"
        },
        {
         "hovertemplate": "Sorting Algorithm=enumeration<br>Construct=parallel<br>Cutoff=0<br>Size=%{x}<br>Duration (s)=%{y}<extra></extra>",
         "legendgroup": "enumeration",
         "line": {
          "color": "rgb(221,132,82)",
          "dash": "solid"
         },
         "mode": "lines",
         "name": "enumeration",
         "showlegend": false,
         "type": "scattergl",
         "x": [
          1000,
          1000,
          1000,
          1000,
          1000,
          1000,
          1000,
          1000,
          1000,
          1000,
          1000,
          1000,
          1000,
          1000,
          1000,
          1000,
          1000,
          1000,
          1000,
          1000,
          10000,
          10000,
          10000,
          10000,
          10000,
          10000,
          10000,
          10000,
          10000,
          10000,
          10000,
          10000,
          10000,
          10000,
          10000,
          10000,
          10000,
          10000,
          10000,
          10000,
          100000,
          100000,
          100000,
          100000,
          100000,
          100000,
          100000,
          100000,
          100000,
          100000,
          100000,
          100000,
          100000,
          100000,
          100000,
          100000,
          100000,
          100000,
          100000,
          100000
         ],
         "xaxis": "x",
         "y": [
          0.004832582009839825,
          0.004708952008513735,
          0.004552622995106504,
          0.003228808011044748,
          0.003556986004696228,
          0.002614678000099957,
          0.002472203996148892,
          0.0026114430074812844,
          0.002482294003129937,
          0.002285367998410948,
          0.0014019800000824034,
          0.0013568760041380301,
          0.0013254079967737198,
          0.0014687640068586914,
          0.0013323810126166793,
          0.0010671889904187992,
          0.0008571099897380918,
          0.0008632809913251549,
          0.0008761250064708291,
          0.0008620990120107308,
          0.2482817459967919,
          0.2425068379961885,
          0.24318886599212414,
          0.24341447500046345,
          0.2433096200111322,
          0.1285854220041074,
          0.12423285999102518,
          0.1235990439890884,
          0.12299768799857702,
          0.12286508100805806,
          0.07052553399989847,
          0.06798885999887716,
          0.06618144699314144,
          0.06383527499565389,
          0.06567385500238744,
          0.04521434799244162,
          0.04398106200096663,
          0.04510200100776274,
          0.04521340700739529,
          0.04506371899333317,
          24.24142304698762,
          24.223183065987538,
          24.201698051008865,
          24.210961538992706,
          24.216400823992444,
          12.317169838002885,
          12.318260343003207,
          12.32060761800676,
          12.310699747002218,
          12.308516789998976,
          6.325522558996454,
          6.300280109004233,
          6.296989390990348,
          6.298988102003933,
          6.294908919007867,
          3.8773299409949686,
          3.814043184000184,
          3.891815519993543,
          3.830441169004189,
          3.8956643400015305
         ],
         "yaxis": "y"
        },
        {
         "hovertemplate": "Sorting Algorithm=enumeration<br>Construct=parallel<br>Cutoff=100<br>Size=%{x}<br>Duration (s)=%{y}<extra></extra>",
         "legendgroup": "enumeration",
         "line": {
          "color": "rgb(221,132,82)",
          "dash": "solid"
         },
         "mode": "lines",
         "name": "enumeration",
         "showlegend": false,
         "type": "scattergl",
         "x": [
          1000,
          1000,
          1000,
          1000,
          1000,
          1000,
          1000,
          1000,
          1000,
          1000,
          1000,
          1000,
          1000,
          1000,
          1000,
          1000,
          1000,
          1000,
          1000,
          1000,
          10000,
          10000,
          10000,
          10000,
          10000,
          10000,
          10000,
          10000,
          10000,
          10000,
          10000,
          10000,
          10000,
          10000,
          10000,
          10000,
          10000,
          10000,
          10000,
          10000,
          100000,
          100000,
          100000,
          100000,
          100000,
          100000,
          100000,
          100000,
          100000,
          100000,
          100000,
          100000,
          100000,
          100000,
          100000,
          100000,
          100000,
          100000,
          100000,
          100000
         ],
         "xaxis": "x2",
         "y": [
          0.0035993439960293467,
          0.0028041209880029787,
          0.002445916004944593,
          0.002407674997812137,
          0.002415739989373833,
          0.002153973997337744,
          0.0016612409963272512,
          0.0013194269995437935,
          0.0012828289909521118,
          0.0013124339893693104,
          0.0013211100012995305,
          0.001335106004262343,
          0.0013485209929058328,
          0.0012941500026499853,
          0.0014422450040001422,
          0.0008522709977114573,
          0.0008524510049028321,
          0.0008523110009264201,
          0.000858471990795806,
          0.0008708039968041702,
          0.24362933200609405,
          0.24361525199492465,
          0.2492948150029406,
          0.24332723699626516,
          0.24648717700620185,
          0.12282191800477447,
          0.1229803229944082,
          0.12451665299886372,
          0.12373075498908293,
          0.122911184997065,
          0.06772470899159089,
          0.06504201299685519,
          0.06794131199421827,
          0.068520916000125,
          0.0663879000057932,
          0.08998715798952618,
          0.042385260996525176,
          0.041404611998586915,
          0.04110260200104676,
          0.04198921700299252,
          24.211795431008795,
          24.213921313988976,
          24.215566999992014,
          24.2076644290064,
          24.21375562400499,
          12.316608977998841,
          12.319747118002851,
          12.318853097007375,
          12.312822077001329,
          12.313027880009034,
          6.303095961993677,
          6.302331888990011,
          6.297508249001112,
          6.29143570800079,
          6.291536848002579,
          3.843742072000168,
          3.8414445859962143,
          3.8948922160052466,
          3.8660479230020424,
          3.90113843799918
         ],
         "yaxis": "y2"
        },
        {
         "hovertemplate": "Sorting Algorithm=enumeration<br>Construct=parallel<br>Cutoff=1000<br>Size=%{x}<br>Duration (s)=%{y}<extra></extra>",
         "legendgroup": "enumeration",
         "line": {
          "color": "rgb(221,132,82)",
          "dash": "solid"
         },
         "mode": "lines",
         "name": "enumeration",
         "showlegend": false,
         "type": "scattergl",
         "x": [
          1000,
          1000,
          1000,
          1000,
          1000,
          1000,
          1000,
          1000,
          1000,
          1000,
          1000,
          1000,
          1000,
          1000,
          1000,
          1000,
          1000,
          1000,
          1000,
          1000,
          10000,
          10000,
          10000,
          10000,
          10000,
          10000,
          10000,
          10000,
          10000,
          10000,
          10000,
          10000,
          10000,
          10000,
          10000,
          10000,
          10000,
          10000,
          10000,
          10000,
          100000,
          100000,
          100000,
          100000,
          100000,
          100000,
          100000,
          100000,
          100000,
          100000,
          100000,
          100000,
          100000,
          100000,
          100000,
          100000,
          100000,
          100000,
          100000,
          100000
         ],
         "xaxis": "x3",
         "y": [
          0.002407024003332481,
          0.0023994689981918786,
          0.002401103003649041,
          0.002401032994384877,
          0.002427843006444164,
          0.0013158000074326992,
          0.001321550997090526,
          0.0013077250041533262,
          0.0013133559987181798,
          0.0012940190063090995,
          0.0014074799983063713,
          0.0009885129984468222,
          0.0009409249905729666,
          0.00093563599511981,
          0.0009412350045749917,
          0.000879560990142636,
          0.0008815649925963953,
          0.0008824659889796748,
          0.001035099005093798,
          0.0006252290040720255,
          0.24247114500030875,
          0.24560632900102064,
          0.2436280900001293,
          0.24276637900038625,
          0.24432871500903275,
          0.12294781299715395,
          0.1230369879922364,
          0.12327798501064535,
          0.123412521003047,
          0.12304989900439978,
          0.06556931200611871,
          0.06731391799985431,
          0.06690163700841367,
          0.06697991100372747,
          0.06569252398912795,
          0.041628607010352425,
          0.04499134499928914,
          0.044769473010092035,
          0.04532850100076757,
          0.04473029999644496,
          24.211391172997537,
          24.21791024800041,
          24.216323838001696,
          24.211348764001738,
          24.208462031005183,
          12.315431466005974,
          12.320514584003833,
          12.327206695990752,
          12.320704134996047,
          12.311366866008026,
          6.290317571008927,
          6.290433263013256,
          6.290871723991586,
          6.293002438003896,
          6.294123330997536,
          3.9140377730072946,
          3.87963005999336,
          3.904980751991389,
          3.918886495011975,
          3.8437588469969346
         ],
         "yaxis": "y3"
        },
        {
         "hovertemplate": "Sorting Algorithm=quick<br>Construct=serial<br>Cutoff=0<br>Size=%{x}<br>Duration (s)=%{y}<extra></extra>",
         "legendgroup": "quick",
         "line": {
          "color": "rgb(85,168,104)",
          "dash": "solid"
         },
         "mode": "lines",
         "name": "quick",
         "showlegend": true,
         "type": "scattergl",
         "x": [
          1000,
          1000,
          1000,
          1000,
          1000,
          10000,
          10000,
          10000,
          10000,
          10000,
          100000,
          100000,
          100000,
          100000,
          100000,
          1000000,
          1000000,
          1000000,
          1000000,
          1000000,
          10000000,
          10000000,
          10000000,
          10000000,
          10000000
         ],
         "xaxis": "x10",
         "y": [
          0.00020828700507991016,
          0.00017999399278778583,
          0.00018529400404077023,
          0.00017520500114187598,
          0.00017300101171713322,
          0.0011462200054666027,
          0.0012576220033224672,
          0.0013036300078965726,
          0.0012955350102856755,
          0.0012895440013380721,
          0.0185017330077244,
          0.016697676008334383,
          0.016323492003721185,
          0.016726792004192248,
          0.016698719002306458,
          0.19399026500468608,
          0.21129793400177727,
          0.19287587299186273,
          0.19280181000067387,
          0.19219733600039035,
          2.50818224401155,
          2.378130728000542,
          2.5008621820015837,
          2.4484247399959718,
          2.5677452579984674
         ],
         "yaxis": "y10"
        },
        {
         "hovertemplate": "Sorting Algorithm=quick<br>Construct=tasks<br>Cutoff=0<br>Size=%{x}<br>Duration (s)=%{y}<extra></extra>",
         "legendgroup": "quick",
         "line": {
          "color": "rgb(85,168,104)",
          "dash": "solid"
         },
         "mode": "lines",
         "name": "quick",
         "showlegend": false,
         "type": "scattergl",
         "x": [
          1000,
          1000,
          1000,
          1000,
          1000,
          1000,
          1000,
          1000,
          1000,
          1000,
          1000,
          1000,
          1000,
          1000,
          1000,
          1000,
          1000,
          1000,
          1000,
          1000,
          10000,
          10000,
          10000,
          10000,
          10000,
          10000,
          10000,
          10000,
          10000,
          10000,
          10000,
          10000,
          10000,
          10000,
          10000,
          10000,
          10000,
          10000,
          10000,
          10000,
          100000,
          100000,
          100000,
          100000,
          100000,
          100000,
          100000,
          100000,
          100000,
          100000,
          100000,
          100000,
          100000,
          100000,
          100000,
          100000,
          100000,
          100000,
          100000,
          100000,
          1000000,
          1000000,
          1000000,
          1000000,
          1000000,
          1000000,
          1000000,
          1000000,
          1000000,
          1000000,
          1000000,
          1000000,
          1000000,
          1000000,
          1000000,
          1000000,
          1000000,
          1000000,
          1000000,
          1000000,
          10000000,
          10000000,
          10000000,
          10000000,
          10000000,
          10000000,
          10000000,
          10000000,
          10000000,
          10000000,
          10000000,
          10000000,
          10000000,
          10000000,
          10000000,
          10000000,
          10000000,
          10000000,
          10000000,
          10000000
         ],
         "xaxis": "x7",
         "y": [
          0.001606117992196232,
          0.0014447699941229075,
          0.0014290499966591597,
          0.0014452710020123052,
          0.001258053001947701,
          0.002365488006034866,
          0.002217946996097453,
          0.002195142995333299,
          0.0021901239961152896,
          0.0022296589886536826,
          0.002231803999166005,
          0.0021217129979049787,
          0.0020424609974725168,
          0.0020782799983862787,
          0.0020237059943610802,
          0.0030494149978039786,
          0.0027433200011728327,
          0.002664248997461982,
          0.0024606910010334104,
          0.0022670900070806965,
          0.002295154001330957,
          0.0023253519902937114,
          0.002488322992576286,
          0.0025183499965351075,
          0.0025408639921806753,
          0.0077903210039949045,
          0.0068098990013822904,
          0.005226804001722485,
          0.005473996003274806,
          0.0056966219999594605,
          0.01875432500673924,
          0.010204051999608056,
          0.010756917996332048,
          0.010586161995888688,
          0.009095343993976712,
          0.024820711987558752,
          0.026757532003102824,
          0.023589502001414075,
          0.0231901579973055,
          0.019726340993656773,
          0.013361412988160735,
          0.012371662000077777,
          0.012538732000393793,
          0.01369905901083257,
          0.01175956400402356,
          0.01803822600049898,
          0.013353176997043192,
          0.014820630007307043,
          0.013859204002073966,
          0.014992127995355988,
          0.021802747010951862,
          0.02173407599912025,
          0.020875546004390344,
          0.02040982700418681,
          0.02388800100015942,
          0.05622439998842311,
          0.04359857099188957,
          0.047083497993298806,
          0.06786121700133664,
          0.04537029500352218,
          0.1169128010078566,
          0.12000329099828375,
          0.11676792200887574,
          0.11770867799350525,
          0.11672661900229285,
          0.08065279001311863,
          0.07899136601190547,
          0.07947406599123497,
          0.07646947698958685,
          0.0740954729990335,
          0.08068522400571965,
          0.06460711499676108,
          0.07408912399841938,
          0.07784601899038535,
          0.07274786199559458,
          0.14280869098729454,
          0.16111783900123555,
          0.1340677950065583,
          0.11920474900398405,
          0.13635282799077686,
          1.3455217919981806,
          1.3096807889960471,
          1.2771516000066183,
          1.3022650670027358,
          1.2991058430052362,
          0.7149066060082987,
          0.7138148599915439,
          0.7070499530091183,
          0.720681186998263,
          0.728930452998611,
          0.5837943880032981,
          0.550729776994558,
          0.4934886769915465,
          0.5519809409888694,
          0.5146627869980875,
          0.6880664569907822,
          0.6926566369947978,
          0.7018272249988513,
          0.669632694000029,
          0.628404777002288
         ],
         "yaxis": "y7"
        },
        {
         "hovertemplate": "Sorting Algorithm=quick<br>Construct=tasks<br>Cutoff=100<br>Size=%{x}<br>Duration (s)=%{y}<extra></extra>",
         "legendgroup": "quick",
         "line": {
          "color": "rgb(85,168,104)",
          "dash": "solid"
         },
         "mode": "lines",
         "name": "quick",
         "showlegend": false,
         "type": "scattergl",
         "x": [
          1000,
          1000,
          1000,
          1000,
          1000,
          1000,
          1000,
          1000,
          1000,
          1000,
          1000,
          1000,
          1000,
          1000,
          1000,
          1000,
          1000,
          1000,
          1000,
          1000,
          10000,
          10000,
          10000,
          10000,
          10000,
          10000,
          10000,
          10000,
          10000,
          10000,
          10000,
          10000,
          10000,
          10000,
          10000,
          10000,
          10000,
          10000,
          10000,
          10000,
          100000,
          100000,
          100000,
          100000,
          100000,
          100000,
          100000,
          100000,
          100000,
          100000,
          100000,
          100000,
          100000,
          100000,
          100000,
          100000,
          100000,
          100000,
          100000,
          100000,
          1000000,
          1000000,
          1000000,
          1000000,
          1000000,
          1000000,
          1000000,
          1000000,
          1000000,
          1000000,
          1000000,
          1000000,
          1000000,
          1000000,
          1000000,
          1000000,
          1000000,
          1000000,
          1000000,
          1000000,
          10000000,
          10000000,
          10000000,
          10000000,
          10000000,
          10000000,
          10000000,
          10000000,
          10000000,
          10000000,
          10000000,
          10000000,
          10000000,
          10000000,
          10000000,
          10000000,
          10000000,
          10000000,
          10000000,
          10000000
         ],
         "xaxis": "x8",
         "y": [
          0.00012385699665173888,
          0.0001261409925064072,
          0.0001154710043920204,
          0.00012609099212568253,
          0.00011026000720448792,
          0.00010566199489403516,
          0.00010801600001286717,
          0.00014746100350748748,
          0.00010866799857467412,
          0.00012219299969729036,
          0.00014322299102786928,
          0.0001024859957396984,
          0.00010882699280045928,
          0.00010422900959383696,
          0.000112263995106332,
          0.00013056999887339774,
          0.000125660008052364,
          0.00012546000652946534,
          0.00011510899639688432,
          0.0001247689942829311,
          0.0011452879989519715,
          0.0011319720069877805,
          0.001109739998355508,
          0.0010796220012707636,
          0.0010928669944405556,
          0.00081408501137048,
          0.0008074020006461068,
          0.0007264180021593347,
          0.0007288019987754525,
          0.0007725660107098519,
          0.000837679996038787,
          0.0006852889928268269,
          0.0006680859951302409,
          0.0008222309988923369,
          0.0007051780121400952,
          0.0008092960051726551,
          0.000908585003344342,
          0.0006905790069140493,
          0.0008121020073303952,
          0.0008560849964851514,
          0.010726829990744592,
          0.01271988800726831,
          0.012466845000744796,
          0.013700601004529744,
          0.013997578993439673,
          0.008848022000165656,
          0.009042060992214829,
          0.010221274002105929,
          0.009210614996845834,
          0.009312328998930752,
          0.009487622999586163,
          0.008716128999367356,
          0.008373686010600068,
          0.008980725004221313,
          0.009854974996414969,
          0.008640514002763666,
          0.010423651008750312,
          0.00943894000374712,
          0.010434411000460386,
          0.009385798999574035,
          0.12524232499708887,
          0.11476525300531648,
          0.11610626299807335,
          0.11679672099126034,
          0.115810136005166,
          0.07015161799790803,
          0.07199680199846625,
          0.07475618300668428,
          0.07168520800769329,
          0.07131615100661293,
          0.05936235499393661,
          0.055796624990762204,
          0.056186449990491376,
          0.05358368900488131,
          0.054465203007566736,
          0.07580067400704138,
          0.07581662401207721,
          0.07824985099432526,
          0.07035019500472116,
          0.07166152700665407,
          1.2965347580029627,
          1.3138676910020877,
          1.38066072500078,
          1.3762260549992789,
          1.2970302650064696,
          0.7018798999924911,
          0.7123233099991921,
          0.6962309530063066,
          0.7080862069997238,
          0.726606233001803,
          0.4665944839944132,
          0.4636751670041122,
          0.4556421899906127,
          0.4594735410064458,
          0.4718462369928602,
          0.37072063300001906,
          0.3802505510102492,
          0.3843481020012405,
          0.3702076280023903,
          0.3894032649986912
         ],
         "yaxis": "y8"
        },
        {
         "hovertemplate": "Sorting Algorithm=quick<br>Construct=tasks<br>Cutoff=1000<br>Size=%{x}<br>Duration (s)=%{y}<extra></extra>",
         "legendgroup": "quick",
         "line": {
          "color": "rgb(85,168,104)",
          "dash": "solid"
         },
         "mode": "lines",
         "name": "quick",
         "showlegend": false,
         "type": "scattergl",
         "x": [
          1000,
          1000,
          1000,
          1000,
          1000,
          1000,
          1000,
          1000,
          1000,
          1000,
          1000,
          1000,
          1000,
          1000,
          1000,
          1000,
          1000,
          1000,
          1000,
          1000,
          10000,
          10000,
          10000,
          10000,
          10000,
          10000,
          10000,
          10000,
          10000,
          10000,
          10000,
          10000,
          10000,
          10000,
          10000,
          10000,
          10000,
          10000,
          10000,
          10000,
          100000,
          100000,
          100000,
          100000,
          100000,
          100000,
          100000,
          100000,
          100000,
          100000,
          100000,
          100000,
          100000,
          100000,
          100000,
          100000,
          100000,
          100000,
          100000,
          100000,
          1000000,
          1000000,
          1000000,
          1000000,
          1000000,
          1000000,
          1000000,
          1000000,
          1000000,
          1000000,
          1000000,
          1000000,
          1000000,
          1000000,
          1000000,
          1000000,
          1000000,
          1000000,
          1000000,
          1000000,
          10000000,
          10000000,
          10000000,
          10000000,
          10000000,
          10000000,
          10000000,
          10000000,
          10000000,
          10000000,
          10000000,
          10000000,
          10000000,
          10000000,
          10000000,
          10000000,
          10000000,
          10000000,
          10000000,
          10000000
         ],
         "xaxis": "x9",
         "y": [
          0.00022060099581722167,
          0.00013239299005363137,
          0.00012557000445667654,
          0.00012583100760821253,
          0.00012147199595347048,
          0.00012862600851804018,
          0.00011466900468803942,
          0.00011211499804630877,
          0.00011235399870201944,
          0.00011134200030937794,
          0.00012108200462535025,
          0.00012161298946011811,
          0.0001253689988516271,
          0.00012514900299720466,
          0.00012419698759913445,
          0.00012939699809066954,
          0.000124537997180596,
          0.00013489699631463736,
          0.00012418700498528779,
          0.00012757399235852063,
          0.0008904710120987146,
          0.0008346149988938122,
          0.0008344439993379637,
          0.0008092060015769674,
          0.0009621380013413728,
          0.0008197360002668574,
          0.0007823140040272848,
          0.0006114179996075109,
          0.000742137010092847,
          0.0007615549984620883,
          0.0005835449992446229,
          0.0005353329906938598,
          0.0005932829953962937,
          0.0005753089935751632,
          0.0005419249937403947,
          0.0005580260040005669,
          0.0004732439992949367,
          0.000520824993145652,
          0.0004586559953168034,
          0.0004938130005029961,
          0.013857922007446177,
          0.011132054991321638,
          0.012999080994632095,
          0.012701953994110228,
          0.012544653000077231,
          0.006667865993222222,
          0.010074995996546932,
          0.00906602799659595,
          0.007844866006053053,
          0.007492382006603294,
          0.005430643999716267,
          0.007231623996631242,
          0.0076179519965080544,
          0.005984581002849154,
          0.007642779004527256,
          0.005039135008701122,
          0.00549527700059116,
          0.005618802999379113,
          0.005234819007455371,
          0.005490928000654094,
          0.11516231700079516,
          0.11608280400105285,
          0.11573224500170907,
          0.11651140300091355,
          0.11661236299551092,
          0.070418546005385,
          0.06841896699916104,
          0.06871453100757208,
          0.06965049800055567,
          0.07043752199388109,
          0.04471208399627358,
          0.04435042200202588,
          0.04413857900362928,
          0.04662104000453837,
          0.044431978996726684,
          0.040718623000429936,
          0.041032323002582416,
          0.04534761299146339,
          0.039765912995790124,
          0.04386967999744229,
          1.301517268002499,
          1.27822148600535,
          1.3404595699976198,
          1.26892586798931,
          1.30424015900644,
          0.7046995449927635,
          0.6933213849988533,
          0.7066386160004186,
          0.6937876459996914,
          0.7100902199890698,
          0.44068065899773506,
          0.4422132710024016,
          0.4392603189917281,
          0.4456036810006481,
          0.439115244007553,
          0.3397940160066355,
          0.34672559400496533,
          0.3424953779904172,
          0.3443188600067515,
          0.3429630919999909
         ],
         "yaxis": "y9"
        },
        {
         "hovertemplate": "Sorting Algorithm=quick<br>Construct=sections<br>Cutoff=0<br>Size=%{x}<br>Duration (s)=%{y}<extra></extra>",
         "legendgroup": "quick",
         "line": {
          "color": "rgb(85,168,104)",
          "dash": "solid"
         },
         "mode": "lines",
         "name": "quick",
         "showlegend": false,
         "type": "scattergl",
         "x": [
          1000,
          1000,
          1000,
          1000,
          1000,
          1000,
          1000,
          1000,
          1000,
          1000,
          1000,
          1000,
          1000,
          1000,
          1000,
          1000,
          1000,
          1000,
          1000,
          1000,
          10000,
          10000,
          10000,
          10000,
          10000,
          10000,
          10000,
          10000,
          10000,
          10000,
          10000,
          10000,
          10000,
          10000,
          10000,
          10000,
          10000,
          10000,
          10000,
          10000,
          100000,
          100000,
          100000,
          100000,
          100000,
          100000,
          100000,
          100000,
          100000,
          100000,
          100000,
          100000,
          100000,
          100000,
          100000,
          100000,
          100000,
          100000,
          100000,
          100000,
          1000000,
          1000000,
          1000000,
          1000000,
          1000000,
          1000000,
          1000000,
          1000000,
          1000000,
          1000000,
          1000000,
          1000000,
          1000000,
          1000000,
          1000000,
          1000000,
          1000000,
          1000000,
          1000000,
          1000000,
          10000000,
          10000000,
          10000000,
          10000000,
          10000000,
          10000000,
          10000000,
          10000000,
          10000000,
          10000000,
          10000000,
          10000000,
          10000000,
          10000000,
          10000000,
          10000000,
          10000000,
          10000000,
          10000000,
          10000000
         ],
         "xaxis": "x4",
         "y": [
          0.0005464139976538718,
          0.000536135004949756,
          0.0005269760004011914,
          0.0005258749879430981,
          0.0005194330005906521,
          0.00028625699633266777,
          0.0005329580017132685,
          0.0002820690133376047,
          0.00028581600054167206,
          0.0002786020049825311,
          0.0002778909984044731,
          0.00029448200075421477,
          0.0002812870079651475,
          0.0004303619934944436,
          0.00027755000337492675,
          0.00033154401171486825,
          0.00030991200765129173,
          0.00031284701253753155,
          0.00031256700458470727,
          0.0003207529953215271,
          0.003467734000878409,
          0.004048433009302244,
          0.002835095001501031,
          0.0028999190108152106,
          0.0028903609927510843,
          0.005549591005546972,
          0.00409339899488259,
          0.00326491599844303,
          0.003475117991911248,
          0.0043857380078407004,
          0.002809937999700196,
          0.002769009006442502,
          0.0028186840063426644,
          0.0027807410078821704,
          0.002800699992803857,
          0.002952880997327157,
          0.002843752008629963,
          0.002964271989185363,
          0.002865222995751537,
          0.0028522880020318553,
          0.030422324009123255,
          0.030411924002692107,
          0.030316389995277856,
          0.03074847698735539,
          0.0301147660065908,
          0.030553164004231807,
          0.030384159996174283,
          0.029871249993448142,
          0.03055896400474012,
          0.030775155988521874,
          0.031229104002704844,
          0.03134889299690258,
          0.03048433100047987,
          0.031332852013292715,
          0.030860138998832557,
          0.030600771991885267,
          0.03093946899753064,
          0.031147396002779718,
          0.030906807005521838,
          0.03104969099513255,
          0.27325836299860384,
          0.2746707049955148,
          0.2561943839973537,
          0.25691989400365856,
          0.2558115660067415,
          0.265152598003624,
          0.26693552199867554,
          0.2603294299915433,
          0.2588798819924705,
          0.2578061469976092,
          0.2563497509981971,
          0.2595347310125362,
          0.26225076500850264,
          0.25905278700520284,
          0.2590150020114379,
          0.2599760419980157,
          0.25654180299898144,
          0.24336046299140435,
          0.2538505270058522,
          0.253001350996783,
          3.5062702900031586,
          3.4168244060128927,
          3.407866724999621,
          3.561914304998936,
          3.469712379999692,
          3.504996543008019,
          3.4376714500103844,
          3.534705205995124,
          3.4568259940133435,
          3.4120504899910884,
          3.4733797630033223,
          3.498205458992743,
          3.4568706590071088,
          3.551263986009872,
          3.5018172989948653,
          3.4325324469973566,
          3.5134449969918933,
          3.4987144979968434,
          3.453986869004438,
          3.4905974430002966
         ],
         "yaxis": "y4"
        },
        {
         "hovertemplate": "Sorting Algorithm=quick<br>Construct=sections<br>Cutoff=100<br>Size=%{x}<br>Duration (s)=%{y}<extra></extra>",
         "legendgroup": "quick",
         "line": {
          "color": "rgb(85,168,104)",
          "dash": "solid"
         },
         "mode": "lines",
         "name": "quick",
         "showlegend": false,
         "type": "scattergl",
         "x": [
          1000,
          1000,
          1000,
          1000,
          1000,
          1000,
          1000,
          1000,
          1000,
          1000,
          1000,
          1000,
          1000,
          1000,
          1000,
          1000,
          1000,
          1000,
          1000,
          1000,
          10000,
          10000,
          10000,
          10000,
          10000,
          10000,
          10000,
          10000,
          10000,
          10000,
          10000,
          10000,
          10000,
          10000,
          10000,
          10000,
          10000,
          10000,
          10000,
          10000,
          100000,
          100000,
          100000,
          100000,
          100000,
          100000,
          100000,
          100000,
          100000,
          100000,
          100000,
          100000,
          100000,
          100000,
          100000,
          100000,
          100000,
          100000,
          100000,
          100000,
          1000000,
          1000000,
          1000000,
          1000000,
          1000000,
          1000000,
          1000000,
          1000000,
          1000000,
          1000000,
          1000000,
          1000000,
          1000000,
          1000000,
          1000000,
          1000000,
          1000000,
          1000000,
          1000000,
          1000000,
          10000000,
          10000000,
          10000000,
          10000000,
          10000000,
          10000000,
          10000000,
          10000000,
          10000000,
          10000000,
          10000000,
          10000000,
          10000000,
          10000000,
          10000000,
          10000000,
          10000000,
          10000000,
          10000000,
          10000000
         ],
         "xaxis": "x5",
         "y": [
          0.0001127259893110022,
          0.0001935600012075156,
          0.0001882590004242957,
          0.00010162399848923088,
          9.714599582366644e-05,
          0.00010021099296864122,
          0.0001053809974109754,
          9.989101090468465e-05,
          9.933899855241181e-05,
          9.954000415746121e-05,
          9.712598694022746e-05,
          0.00010623299749568105,
          0.00010418900637887418,
          0.00010205499711446464,
          9.811800555326043e-05,
          0.00010187498992308974,
          9.973999112844467e-05,
          0.000101073004771024,
          9.752598998602481e-05,
          0.00012850599887315184,
          0.0012634240119950846,
          0.0012295290071051568,
          0.0012394579971442,
          0.00111521000508219,
          0.0012332659971434625,
          0.0012471219961298632,
          0.0011006319982698187,
          0.0011027769942302257,
          0.0012523219920694828,
          0.0017627570050535726,
          0.0012565709912450984,
          0.0011491049954202026,
          0.0012242689990671352,
          0.0011631219967966901,
          0.0011176559928571805,
          0.0012247999984538185,
          0.0012062140012858436,
          0.0012053730024490505,
          0.0011782410001615062,
          0.0011495859944261613,
          0.01683606101141777,
          0.016015432993299328,
          0.016674963000696152,
          0.01668646399048157,
          0.018387855001492426,
          0.015749985992442816,
          0.01664446500944905,
          0.01824903899978381,
          0.018284447010955773,
          0.018476454002666287,
          0.016782989012426697,
          0.018611210995004512,
          0.016643922994262542,
          0.016027787001803517,
          0.015878300997428596,
          0.015454149994184263,
          0.01582469799905084,
          0.015431145991897209,
          0.01604572001087945,
          0.015943093996611424,
          0.15356886301015038,
          0.14229484400129874,
          0.15480211400426924,
          0.15372538699011784,
          0.15544271799444687,
          0.14776408699981405,
          0.15332266299810726,
          0.13789062800060492,
          0.14163733299938033,
          0.15411788799974602,
          0.13794630100892394,
          0.13811517400608864,
          0.14526919700438154,
          0.13788084700354375,
          0.14383345299575012,
          0.1565018359979149,
          0.1371791139972629,
          0.13683726100134666,
          0.1329396539949812,
          0.13757583900587633,
          2.165049867995549,
          2.1945752870087745,
          2.1964223760005552,
          2.181865149002988,
          2.2034103429905367,
          2.159371246001683,
          2.201594504993409,
          2.1741968550049933,
          2.116900737994001,
          2.198463642998832,
          2.134548358997563,
          2.16247437299171,
          2.1402485620055813,
          2.1216054469987284,
          2.2040396810043603,
          2.204413878993364,
          2.0694569749903167,
          2.134082744989428,
          2.133333286998095,
          2.005520801001694
         ],
         "yaxis": "y5"
        },
        {
         "hovertemplate": "Sorting Algorithm=quick<br>Construct=sections<br>Cutoff=1000<br>Size=%{x}<br>Duration (s)=%{y}<extra></extra>",
         "legendgroup": "quick",
         "line": {
          "color": "rgb(85,168,104)",
          "dash": "solid"
         },
         "mode": "lines",
         "name": "quick",
         "showlegend": false,
         "type": "scattergl",
         "x": [
          1000,
          1000,
          1000,
          1000,
          1000,
          1000,
          1000,
          1000,
          1000,
          1000,
          1000,
          1000,
          1000,
          1000,
          1000,
          1000,
          1000,
          1000,
          1000,
          1000,
          10000,
          10000,
          10000,
          10000,
          10000,
          10000,
          10000,
          10000,
          10000,
          10000,
          10000,
          10000,
          10000,
          10000,
          10000,
          10000,
          10000,
          10000,
          10000,
          10000,
          100000,
          100000,
          100000,
          100000,
          100000,
          100000,
          100000,
          100000,
          100000,
          100000,
          100000,
          100000,
          100000,
          100000,
          100000,
          100000,
          100000,
          100000,
          100000,
          100000,
          1000000,
          1000000,
          1000000,
          1000000,
          1000000,
          1000000,
          1000000,
          1000000,
          1000000,
          1000000,
          1000000,
          1000000,
          1000000,
          1000000,
          1000000,
          1000000,
          1000000,
          1000000,
          1000000,
          1000000,
          10000000,
          10000000,
          10000000,
          10000000,
          10000000,
          10000000,
          10000000,
          10000000,
          10000000,
          10000000,
          10000000,
          10000000,
          10000000,
          10000000,
          10000000,
          10000000,
          10000000,
          10000000,
          10000000,
          10000000
         ],
         "xaxis": "x6",
         "y": [
          8.647599315736441e-05,
          8.623499888926744e-05,
          8.683500345796347e-05,
          8.562399307265876e-05,
          8.58939893078059e-05,
          8.747700485400854e-05,
          8.95510020200163e-05,
          8.654499833937734e-05,
          8.66250047693029e-05,
          9.035199764184652e-05,
          8.532300125807524e-05,
          8.96909914445132e-05,
          8.863898983690886e-05,
          8.547300240024926e-05,
          8.674600394442677e-05,
          0.00010057199688162656,
          8.666599751450121e-05,
          8.712599810678512e-05,
          8.651601092424244e-05,
          8.660599996801466e-05,
          0.0011810559954028574,
          0.0011814770114142448,
          0.0011774189915740862,
          0.0011764269875129685,
          0.0012043909955536947,
          0.0017066610016627235,
          0.0015151849947869778,
          0.0010195779905188829,
          0.0010732509981608018,
          0.001125820999732241,
          0.0011635929986368865,
          0.0010641019907779992,
          0.0010770880035124721,
          0.0010638819949235767,
          0.0011195480037713423,
          0.0011765880044549706,
          0.0011246280046179893,
          0.0011432640021666884,
          0.001169644994661212,
          0.001163513006758876,
          0.01798706900444813,
          0.015262094995705413,
          0.015205567004159091,
          0.015117619012016803,
          0.01646996199269779,
          0.017831261007813737,
          0.015233318001264706,
          0.016454690994578414,
          0.017821112007368356,
          0.015190778009127825,
          0.016410597003414296,
          0.016372885002056137,
          0.01942530598898884,
          0.015528333009569906,
          0.01549844499095343,
          0.015512821992160752,
          0.015486261996557003,
          0.015196477994322775,
          0.015679521005949937,
          0.01541964399802964,
          0.1509224289911799,
          0.15256132998911198,
          0.1406710489973193,
          0.15296499799296726,
          0.15325151399883907,
          0.1537563979945844,
          0.13397428501048125,
          0.13366598599532153,
          0.1340137070073979,
          0.1346081219962798,
          0.14079779399617107,
          0.13447581000218636,
          0.14520115399500355,
          0.13848889400833286,
          0.13777595000283327,
          0.13668119900103193,
          0.14298716199118644,
          0.14258553500985727,
          0.13710401399293914,
          0.13488754999707453,
          2.131366450994392,
          2.148756332011544,
          2.096034771995619,
          2.15871058999619,
          2.169516351990751,
          2.092001445998904,
          2.167892187004327,
          2.135227014994598,
          2.165584433998447,
          2.1462662129924865,
          2.1673774990049424,
          2.1389545099955285,
          2.1553169370017717,
          2.168503105000127,
          2.145274723006878,
          2.1183640389936045,
          2.130364002994611,
          2.138844907996827,
          2.1689163839910175,
          2.088940278001246
         ],
         "yaxis": "y6"
        }
       ],
       "layout": {
        "annotations": [
         {
          "font": {},
          "showarrow": false,
          "text": "Cutoff=0",
          "x": 0.15666666666666665,
          "xanchor": "center",
          "xref": "paper",
          "y": 1,
          "yanchor": "bottom",
          "yref": "paper"
         },
         {
          "font": {},
          "showarrow": false,
          "text": "Cutoff=100",
          "x": 0.49,
          "xanchor": "center",
          "xref": "paper",
          "y": 1,
          "yanchor": "bottom",
          "yref": "paper"
         },
         {
          "font": {},
          "showarrow": false,
          "text": "Cutoff=1000",
          "x": 0.8233333333333333,
          "xanchor": "center",
          "xref": "paper",
          "y": 1,
          "yanchor": "bottom",
          "yref": "paper"
         },
         {
          "font": {},
          "showarrow": false,
          "text": "Construct=parallel",
          "textangle": 90,
          "x": 0.98,
          "xanchor": "left",
          "xref": "paper",
          "y": 0.11375,
          "yanchor": "middle",
          "yref": "paper"
         },
         {
          "font": {},
          "showarrow": false,
          "text": "Construct=sections",
          "textangle": 90,
          "x": 0.98,
          "xanchor": "left",
          "xref": "paper",
          "y": 0.37124999999999997,
          "yanchor": "middle",
          "yref": "paper"
         },
         {
          "font": {},
          "showarrow": false,
          "text": "Construct=tasks",
          "textangle": 90,
          "x": 0.98,
          "xanchor": "left",
          "xref": "paper",
          "y": 0.62875,
          "yanchor": "middle",
          "yref": "paper"
         },
         {
          "font": {},
          "showarrow": false,
          "text": "Construct=serial",
          "textangle": 90,
          "x": 0.98,
          "xanchor": "left",
          "xref": "paper",
          "y": 0.88625,
          "yanchor": "middle",
          "yref": "paper"
         }
        ],
        "height": 800,
        "legend": {
         "title": {
          "text": "Sorting Algorithm"
         },
         "tracegroupgap": 0
        },
        "template": {
         "data": {
          "bar": [
           {
            "error_x": {
             "color": "rgb(36,36,36)"
            },
            "error_y": {
             "color": "rgb(36,36,36)"
            },
            "marker": {
             "line": {
              "color": "rgb(234,234,242)",
              "width": 0.5
             }
            },
            "type": "bar"
           }
          ],
          "barpolar": [
           {
            "marker": {
             "line": {
              "color": "rgb(234,234,242)",
              "width": 0.5
             }
            },
            "type": "barpolar"
           }
          ],
          "carpet": [
           {
            "aaxis": {
             "endlinecolor": "rgb(36,36,36)",
             "gridcolor": "white",
             "linecolor": "white",
             "minorgridcolor": "white",
             "startlinecolor": "rgb(36,36,36)"
            },
            "baxis": {
             "endlinecolor": "rgb(36,36,36)",
             "gridcolor": "white",
             "linecolor": "white",
             "minorgridcolor": "white",
             "startlinecolor": "rgb(36,36,36)"
            },
            "type": "carpet"
           }
          ],
          "choropleth": [
           {
            "colorbar": {
             "outlinewidth": 0,
             "tickcolor": "rgb(36,36,36)",
             "ticklen": 8,
             "ticks": "outside",
             "tickwidth": 2
            },
            "type": "choropleth"
           }
          ],
          "contour": [
           {
            "colorbar": {
             "outlinewidth": 0,
             "tickcolor": "rgb(36,36,36)",
             "ticklen": 8,
             "ticks": "outside",
             "tickwidth": 2
            },
            "colorscale": [
             [
              0,
              "rgb(2,4,25)"
             ],
             [
              0.06274509803921569,
              "rgb(24,15,41)"
             ],
             [
              0.12549019607843137,
              "rgb(47,23,57)"
             ],
             [
              0.18823529411764706,
              "rgb(71,28,72)"
             ],
             [
              0.25098039215686274,
              "rgb(97,30,82)"
             ],
             [
              0.3137254901960784,
              "rgb(123,30,89)"
             ],
             [
              0.3764705882352941,
              "rgb(150,27,91)"
             ],
             [
              0.4392156862745098,
              "rgb(177,22,88)"
             ],
             [
              0.5019607843137255,
              "rgb(203,26,79)"
             ],
             [
              0.5647058823529412,
              "rgb(223,47,67)"
             ],
             [
              0.6274509803921569,
              "rgb(236,76,61)"
             ],
             [
              0.6901960784313725,
              "rgb(242,107,73)"
             ],
             [
              0.7529411764705882,
              "rgb(244,135,95)"
             ],
             [
              0.8156862745098039,
              "rgb(245,162,122)"
             ],
             [
              0.8784313725490196,
              "rgb(246,188,153)"
             ],
             [
              0.9411764705882353,
              "rgb(247,212,187)"
             ],
             [
              1,
              "rgb(250,234,220)"
             ]
            ],
            "type": "contour"
           }
          ],
          "contourcarpet": [
           {
            "colorbar": {
             "outlinewidth": 0,
             "tickcolor": "rgb(36,36,36)",
             "ticklen": 8,
             "ticks": "outside",
             "tickwidth": 2
            },
            "type": "contourcarpet"
           }
          ],
          "heatmap": [
           {
            "colorbar": {
             "outlinewidth": 0,
             "tickcolor": "rgb(36,36,36)",
             "ticklen": 8,
             "ticks": "outside",
             "tickwidth": 2
            },
            "colorscale": [
             [
              0,
              "rgb(2,4,25)"
             ],
             [
              0.06274509803921569,
              "rgb(24,15,41)"
             ],
             [
              0.12549019607843137,
              "rgb(47,23,57)"
             ],
             [
              0.18823529411764706,
              "rgb(71,28,72)"
             ],
             [
              0.25098039215686274,
              "rgb(97,30,82)"
             ],
             [
              0.3137254901960784,
              "rgb(123,30,89)"
             ],
             [
              0.3764705882352941,
              "rgb(150,27,91)"
             ],
             [
              0.4392156862745098,
              "rgb(177,22,88)"
             ],
             [
              0.5019607843137255,
              "rgb(203,26,79)"
             ],
             [
              0.5647058823529412,
              "rgb(223,47,67)"
             ],
             [
              0.6274509803921569,
              "rgb(236,76,61)"
             ],
             [
              0.6901960784313725,
              "rgb(242,107,73)"
             ],
             [
              0.7529411764705882,
              "rgb(244,135,95)"
             ],
             [
              0.8156862745098039,
              "rgb(245,162,122)"
             ],
             [
              0.8784313725490196,
              "rgb(246,188,153)"
             ],
             [
              0.9411764705882353,
              "rgb(247,212,187)"
             ],
             [
              1,
              "rgb(250,234,220)"
             ]
            ],
            "type": "heatmap"
           }
          ],
          "heatmapgl": [
           {
            "colorbar": {
             "outlinewidth": 0,
             "tickcolor": "rgb(36,36,36)",
             "ticklen": 8,
             "ticks": "outside",
             "tickwidth": 2
            },
            "colorscale": [
             [
              0,
              "rgb(2,4,25)"
             ],
             [
              0.06274509803921569,
              "rgb(24,15,41)"
             ],
             [
              0.12549019607843137,
              "rgb(47,23,57)"
             ],
             [
              0.18823529411764706,
              "rgb(71,28,72)"
             ],
             [
              0.25098039215686274,
              "rgb(97,30,82)"
             ],
             [
              0.3137254901960784,
              "rgb(123,30,89)"
             ],
             [
              0.3764705882352941,
              "rgb(150,27,91)"
             ],
             [
              0.4392156862745098,
              "rgb(177,22,88)"
             ],
             [
              0.5019607843137255,
              "rgb(203,26,79)"
             ],
             [
              0.5647058823529412,
              "rgb(223,47,67)"
             ],
             [
              0.6274509803921569,
              "rgb(236,76,61)"
             ],
             [
              0.6901960784313725,
              "rgb(242,107,73)"
             ],
             [
              0.7529411764705882,
              "rgb(244,135,95)"
             ],
             [
              0.8156862745098039,
              "rgb(245,162,122)"
             ],
             [
              0.8784313725490196,
              "rgb(246,188,153)"
             ],
             [
              0.9411764705882353,
              "rgb(247,212,187)"
             ],
             [
              1,
              "rgb(250,234,220)"
             ]
            ],
            "type": "heatmapgl"
           }
          ],
          "histogram": [
           {
            "marker": {
             "colorbar": {
              "outlinewidth": 0,
              "tickcolor": "rgb(36,36,36)",
              "ticklen": 8,
              "ticks": "outside",
              "tickwidth": 2
             }
            },
            "type": "histogram"
           }
          ],
          "histogram2d": [
           {
            "colorbar": {
             "outlinewidth": 0,
             "tickcolor": "rgb(36,36,36)",
             "ticklen": 8,
             "ticks": "outside",
             "tickwidth": 2
            },
            "colorscale": [
             [
              0,
              "rgb(2,4,25)"
             ],
             [
              0.06274509803921569,
              "rgb(24,15,41)"
             ],
             [
              0.12549019607843137,
              "rgb(47,23,57)"
             ],
             [
              0.18823529411764706,
              "rgb(71,28,72)"
             ],
             [
              0.25098039215686274,
              "rgb(97,30,82)"
             ],
             [
              0.3137254901960784,
              "rgb(123,30,89)"
             ],
             [
              0.3764705882352941,
              "rgb(150,27,91)"
             ],
             [
              0.4392156862745098,
              "rgb(177,22,88)"
             ],
             [
              0.5019607843137255,
              "rgb(203,26,79)"
             ],
             [
              0.5647058823529412,
              "rgb(223,47,67)"
             ],
             [
              0.6274509803921569,
              "rgb(236,76,61)"
             ],
             [
              0.6901960784313725,
              "rgb(242,107,73)"
             ],
             [
              0.7529411764705882,
              "rgb(244,135,95)"
             ],
             [
              0.8156862745098039,
              "rgb(245,162,122)"
             ],
             [
              0.8784313725490196,
              "rgb(246,188,153)"
             ],
             [
              0.9411764705882353,
              "rgb(247,212,187)"
             ],
             [
              1,
              "rgb(250,234,220)"
             ]
            ],
            "type": "histogram2d"
           }
          ],
          "histogram2dcontour": [
           {
            "colorbar": {
             "outlinewidth": 0,
             "tickcolor": "rgb(36,36,36)",
             "ticklen": 8,
             "ticks": "outside",
             "tickwidth": 2
            },
            "colorscale": [
             [
              0,
              "rgb(2,4,25)"
             ],
             [
              0.06274509803921569,
              "rgb(24,15,41)"
             ],
             [
              0.12549019607843137,
              "rgb(47,23,57)"
             ],
             [
              0.18823529411764706,
              "rgb(71,28,72)"
             ],
             [
              0.25098039215686274,
              "rgb(97,30,82)"
             ],
             [
              0.3137254901960784,
              "rgb(123,30,89)"
             ],
             [
              0.3764705882352941,
              "rgb(150,27,91)"
             ],
             [
              0.4392156862745098,
              "rgb(177,22,88)"
             ],
             [
              0.5019607843137255,
              "rgb(203,26,79)"
             ],
             [
              0.5647058823529412,
              "rgb(223,47,67)"
             ],
             [
              0.6274509803921569,
              "rgb(236,76,61)"
             ],
             [
              0.6901960784313725,
              "rgb(242,107,73)"
             ],
             [
              0.7529411764705882,
              "rgb(244,135,95)"
             ],
             [
              0.8156862745098039,
              "rgb(245,162,122)"
             ],
             [
              0.8784313725490196,
              "rgb(246,188,153)"
             ],
             [
              0.9411764705882353,
              "rgb(247,212,187)"
             ],
             [
              1,
              "rgb(250,234,220)"
             ]
            ],
            "type": "histogram2dcontour"
           }
          ],
          "mesh3d": [
           {
            "colorbar": {
             "outlinewidth": 0,
             "tickcolor": "rgb(36,36,36)",
             "ticklen": 8,
             "ticks": "outside",
             "tickwidth": 2
            },
            "type": "mesh3d"
           }
          ],
          "parcoords": [
           {
            "line": {
             "colorbar": {
              "outlinewidth": 0,
              "tickcolor": "rgb(36,36,36)",
              "ticklen": 8,
              "ticks": "outside",
              "tickwidth": 2
             }
            },
            "type": "parcoords"
           }
          ],
          "pie": [
           {
            "automargin": true,
            "type": "pie"
           }
          ],
          "scatter": [
           {
            "marker": {
             "colorbar": {
              "outlinewidth": 0,
              "tickcolor": "rgb(36,36,36)",
              "ticklen": 8,
              "ticks": "outside",
              "tickwidth": 2
             }
            },
            "type": "scatter"
           }
          ],
          "scatter3d": [
           {
            "line": {
             "colorbar": {
              "outlinewidth": 0,
              "tickcolor": "rgb(36,36,36)",
              "ticklen": 8,
              "ticks": "outside",
              "tickwidth": 2
             }
            },
            "marker": {
             "colorbar": {
              "outlinewidth": 0,
              "tickcolor": "rgb(36,36,36)",
              "ticklen": 8,
              "ticks": "outside",
              "tickwidth": 2
             }
            },
            "type": "scatter3d"
           }
          ],
          "scattercarpet": [
           {
            "marker": {
             "colorbar": {
              "outlinewidth": 0,
              "tickcolor": "rgb(36,36,36)",
              "ticklen": 8,
              "ticks": "outside",
              "tickwidth": 2
             }
            },
            "type": "scattercarpet"
           }
          ],
          "scattergeo": [
           {
            "marker": {
             "colorbar": {
              "outlinewidth": 0,
              "tickcolor": "rgb(36,36,36)",
              "ticklen": 8,
              "ticks": "outside",
              "tickwidth": 2
             }
            },
            "type": "scattergeo"
           }
          ],
          "scattergl": [
           {
            "marker": {
             "colorbar": {
              "outlinewidth": 0,
              "tickcolor": "rgb(36,36,36)",
              "ticklen": 8,
              "ticks": "outside",
              "tickwidth": 2
             }
            },
            "type": "scattergl"
           }
          ],
          "scattermapbox": [
           {
            "marker": {
             "colorbar": {
              "outlinewidth": 0,
              "tickcolor": "rgb(36,36,36)",
              "ticklen": 8,
              "ticks": "outside",
              "tickwidth": 2
             }
            },
            "type": "scattermapbox"
           }
          ],
          "scatterpolar": [
           {
            "marker": {
             "colorbar": {
              "outlinewidth": 0,
              "tickcolor": "rgb(36,36,36)",
              "ticklen": 8,
              "ticks": "outside",
              "tickwidth": 2
             }
            },
            "type": "scatterpolar"
           }
          ],
          "scatterpolargl": [
           {
            "marker": {
             "colorbar": {
              "outlinewidth": 0,
              "tickcolor": "rgb(36,36,36)",
              "ticklen": 8,
              "ticks": "outside",
              "tickwidth": 2
             }
            },
            "type": "scatterpolargl"
           }
          ],
          "scatterternary": [
           {
            "marker": {
             "colorbar": {
              "outlinewidth": 0,
              "tickcolor": "rgb(36,36,36)",
              "ticklen": 8,
              "ticks": "outside",
              "tickwidth": 2
             }
            },
            "type": "scatterternary"
           }
          ],
          "surface": [
           {
            "colorbar": {
             "outlinewidth": 0,
             "tickcolor": "rgb(36,36,36)",
             "ticklen": 8,
             "ticks": "outside",
             "tickwidth": 2
            },
            "colorscale": [
             [
              0,
              "rgb(2,4,25)"
             ],
             [
              0.06274509803921569,
              "rgb(24,15,41)"
             ],
             [
              0.12549019607843137,
              "rgb(47,23,57)"
             ],
             [
              0.18823529411764706,
              "rgb(71,28,72)"
             ],
             [
              0.25098039215686274,
              "rgb(97,30,82)"
             ],
             [
              0.3137254901960784,
              "rgb(123,30,89)"
             ],
             [
              0.3764705882352941,
              "rgb(150,27,91)"
             ],
             [
              0.4392156862745098,
              "rgb(177,22,88)"
             ],
             [
              0.5019607843137255,
              "rgb(203,26,79)"
             ],
             [
              0.5647058823529412,
              "rgb(223,47,67)"
             ],
             [
              0.6274509803921569,
              "rgb(236,76,61)"
             ],
             [
              0.6901960784313725,
              "rgb(242,107,73)"
             ],
             [
              0.7529411764705882,
              "rgb(244,135,95)"
             ],
             [
              0.8156862745098039,
              "rgb(245,162,122)"
             ],
             [
              0.8784313725490196,
              "rgb(246,188,153)"
             ],
             [
              0.9411764705882353,
              "rgb(247,212,187)"
             ],
             [
              1,
              "rgb(250,234,220)"
             ]
            ],
            "type": "surface"
           }
          ],
          "table": [
           {
            "cells": {
             "fill": {
              "color": "rgb(231,231,240)"
             },
             "line": {
              "color": "white"
             }
            },
            "header": {
             "fill": {
              "color": "rgb(183,183,191)"
             },
             "line": {
              "color": "white"
             }
            },
            "type": "table"
           }
          ]
         },
         "layout": {
          "annotationdefaults": {
           "arrowcolor": "rgb(67,103,167)"
          },
          "autotypenumbers": "strict",
          "coloraxis": {
           "colorbar": {
            "outlinewidth": 0,
            "tickcolor": "rgb(36,36,36)",
            "ticklen": 8,
            "ticks": "outside",
            "tickwidth": 2
           }
          },
          "colorscale": {
           "sequential": [
            [
             0,
             "rgb(2,4,25)"
            ],
            [
             0.06274509803921569,
             "rgb(24,15,41)"
            ],
            [
             0.12549019607843137,
             "rgb(47,23,57)"
            ],
            [
             0.18823529411764706,
             "rgb(71,28,72)"
            ],
            [
             0.25098039215686274,
             "rgb(97,30,82)"
            ],
            [
             0.3137254901960784,
             "rgb(123,30,89)"
            ],
            [
             0.3764705882352941,
             "rgb(150,27,91)"
            ],
            [
             0.4392156862745098,
             "rgb(177,22,88)"
            ],
            [
             0.5019607843137255,
             "rgb(203,26,79)"
            ],
            [
             0.5647058823529412,
             "rgb(223,47,67)"
            ],
            [
             0.6274509803921569,
             "rgb(236,76,61)"
            ],
            [
             0.6901960784313725,
             "rgb(242,107,73)"
            ],
            [
             0.7529411764705882,
             "rgb(244,135,95)"
            ],
            [
             0.8156862745098039,
             "rgb(245,162,122)"
            ],
            [
             0.8784313725490196,
             "rgb(246,188,153)"
            ],
            [
             0.9411764705882353,
             "rgb(247,212,187)"
            ],
            [
             1,
             "rgb(250,234,220)"
            ]
           ],
           "sequentialminus": [
            [
             0,
             "rgb(2,4,25)"
            ],
            [
             0.06274509803921569,
             "rgb(24,15,41)"
            ],
            [
             0.12549019607843137,
             "rgb(47,23,57)"
            ],
            [
             0.18823529411764706,
             "rgb(71,28,72)"
            ],
            [
             0.25098039215686274,
             "rgb(97,30,82)"
            ],
            [
             0.3137254901960784,
             "rgb(123,30,89)"
            ],
            [
             0.3764705882352941,
             "rgb(150,27,91)"
            ],
            [
             0.4392156862745098,
             "rgb(177,22,88)"
            ],
            [
             0.5019607843137255,
             "rgb(203,26,79)"
            ],
            [
             0.5647058823529412,
             "rgb(223,47,67)"
            ],
            [
             0.6274509803921569,
             "rgb(236,76,61)"
            ],
            [
             0.6901960784313725,
             "rgb(242,107,73)"
            ],
            [
             0.7529411764705882,
             "rgb(244,135,95)"
            ],
            [
             0.8156862745098039,
             "rgb(245,162,122)"
            ],
            [
             0.8784313725490196,
             "rgb(246,188,153)"
            ],
            [
             0.9411764705882353,
             "rgb(247,212,187)"
            ],
            [
             1,
             "rgb(250,234,220)"
            ]
           ]
          },
          "colorway": [
           "rgb(76,114,176)",
           "rgb(221,132,82)",
           "rgb(85,168,104)",
           "rgb(196,78,82)",
           "rgb(129,114,179)",
           "rgb(147,120,96)",
           "rgb(218,139,195)",
           "rgb(140,140,140)",
           "rgb(204,185,116)",
           "rgb(100,181,205)"
          ],
          "font": {
           "color": "rgb(36,36,36)"
          },
          "geo": {
           "bgcolor": "white",
           "lakecolor": "white",
           "landcolor": "rgb(234,234,242)",
           "showlakes": true,
           "showland": true,
           "subunitcolor": "white"
          },
          "hoverlabel": {
           "align": "left"
          },
          "hovermode": "closest",
          "paper_bgcolor": "white",
          "plot_bgcolor": "rgb(234,234,242)",
          "polar": {
           "angularaxis": {
            "gridcolor": "white",
            "linecolor": "white",
            "showgrid": true,
            "ticks": ""
           },
           "bgcolor": "rgb(234,234,242)",
           "radialaxis": {
            "gridcolor": "white",
            "linecolor": "white",
            "showgrid": true,
            "ticks": ""
           }
          },
          "scene": {
           "xaxis": {
            "backgroundcolor": "rgb(234,234,242)",
            "gridcolor": "white",
            "gridwidth": 2,
            "linecolor": "white",
            "showbackground": true,
            "showgrid": true,
            "ticks": "",
            "zerolinecolor": "white"
           },
           "yaxis": {
            "backgroundcolor": "rgb(234,234,242)",
            "gridcolor": "white",
            "gridwidth": 2,
            "linecolor": "white",
            "showbackground": true,
            "showgrid": true,
            "ticks": "",
            "zerolinecolor": "white"
           },
           "zaxis": {
            "backgroundcolor": "rgb(234,234,242)",
            "gridcolor": "white",
            "gridwidth": 2,
            "linecolor": "white",
            "showbackground": true,
            "showgrid": true,
            "ticks": "",
            "zerolinecolor": "white"
           }
          },
          "shapedefaults": {
           "fillcolor": "rgb(67,103,167)",
           "line": {
            "width": 0
           },
           "opacity": 0.5
          },
          "ternary": {
           "aaxis": {
            "gridcolor": "white",
            "linecolor": "white",
            "showgrid": true,
            "ticks": ""
           },
           "baxis": {
            "gridcolor": "white",
            "linecolor": "white",
            "showgrid": true,
            "ticks": ""
           },
           "bgcolor": "rgb(234,234,242)",
           "caxis": {
            "gridcolor": "white",
            "linecolor": "white",
            "showgrid": true,
            "ticks": ""
           }
          },
          "xaxis": {
           "automargin": true,
           "gridcolor": "white",
           "linecolor": "white",
           "showgrid": true,
           "ticks": "",
           "title": {
            "standoff": 15
           },
           "zerolinecolor": "white"
          },
          "yaxis": {
           "automargin": true,
           "gridcolor": "white",
           "linecolor": "white",
           "showgrid": true,
           "ticks": "",
           "title": {
            "standoff": 15
           },
           "zerolinecolor": "white"
          }
         }
        },
        "title": {
         "text": "C Sorting Algorithm Runtimes"
        },
        "xaxis": {
         "anchor": "y",
         "domain": [
          0,
          0.3133333333333333
         ],
         "gridwidth": 2,
         "showgrid": true,
         "title": {
          "text": "Size"
         }
        },
        "xaxis10": {
         "anchor": "y10",
         "domain": [
          0,
          0.3133333333333333
         ],
         "gridwidth": 2,
         "matches": "x",
         "showgrid": true,
         "showticklabels": false
        },
        "xaxis11": {
         "anchor": "y11",
         "domain": [
          0.3333333333333333,
          0.6466666666666666
         ],
         "gridwidth": 2,
         "matches": "x",
         "showgrid": true,
         "showticklabels": false
        },
        "xaxis12": {
         "anchor": "y12",
         "domain": [
          0.6666666666666666,
          0.98
         ],
         "gridwidth": 2,
         "matches": "x",
         "showgrid": true,
         "showticklabels": false
        },
        "xaxis2": {
         "anchor": "y2",
         "domain": [
          0.3333333333333333,
          0.6466666666666666
         ],
         "gridwidth": 2,
         "matches": "x",
         "showgrid": true,
         "title": {
          "text": "Size"
         }
        },
        "xaxis3": {
         "anchor": "y3",
         "domain": [
          0.6666666666666666,
          0.98
         ],
         "gridwidth": 2,
         "matches": "x",
         "showgrid": true,
         "title": {
          "text": "Size"
         }
        },
        "xaxis4": {
         "anchor": "y4",
         "domain": [
          0,
          0.3133333333333333
         ],
         "gridwidth": 2,
         "matches": "x",
         "showgrid": true,
         "showticklabels": false
        },
        "xaxis5": {
         "anchor": "y5",
         "domain": [
          0.3333333333333333,
          0.6466666666666666
         ],
         "gridwidth": 2,
         "matches": "x",
         "showgrid": true,
         "showticklabels": false
        },
        "xaxis6": {
         "anchor": "y6",
         "domain": [
          0.6666666666666666,
          0.98
         ],
         "gridwidth": 2,
         "matches": "x",
         "showgrid": true,
         "showticklabels": false
        },
        "xaxis7": {
         "anchor": "y7",
         "domain": [
          0,
          0.3133333333333333
         ],
         "gridwidth": 2,
         "matches": "x",
         "showgrid": true,
         "showticklabels": false
        },
        "xaxis8": {
         "anchor": "y8",
         "domain": [
          0.3333333333333333,
          0.6466666666666666
         ],
         "gridwidth": 2,
         "matches": "x",
         "showgrid": true,
         "showticklabels": false
        },
        "xaxis9": {
         "anchor": "y9",
         "domain": [
          0.6666666666666666,
          0.98
         ],
         "gridwidth": 2,
         "matches": "x",
         "showgrid": true,
         "showticklabels": false
        },
        "yaxis": {
         "anchor": "x",
         "domain": [
          0,
          0.2275
         ],
         "gridwidth": 2,
         "showgrid": true,
         "title": {
          "text": "Duration (s)"
         },
         "type": "log"
        },
        "yaxis10": {
         "anchor": "x10",
         "domain": [
          0.7725,
          1
         ],
         "gridwidth": 2,
         "matches": "y",
         "showgrid": true,
         "title": {
          "text": "Duration (s)"
         },
         "type": "log"
        },
        "yaxis11": {
         "anchor": "x11",
         "domain": [
          0.7725,
          1
         ],
         "gridwidth": 2,
         "matches": "y",
         "showgrid": true,
         "showticklabels": false,
         "type": "log"
        },
        "yaxis12": {
         "anchor": "x12",
         "domain": [
          0.7725,
          1
         ],
         "gridwidth": 2,
         "matches": "y",
         "showgrid": true,
         "showticklabels": false,
         "type": "log"
        },
        "yaxis2": {
         "anchor": "x2",
         "domain": [
          0,
          0.2275
         ],
         "gridwidth": 2,
         "matches": "y",
         "showgrid": true,
         "showticklabels": false,
         "type": "log"
        },
        "yaxis3": {
         "anchor": "x3",
         "domain": [
          0,
          0.2275
         ],
         "gridwidth": 2,
         "matches": "y",
         "showgrid": true,
         "showticklabels": false,
         "type": "log"
        },
        "yaxis4": {
         "anchor": "x4",
         "domain": [
          0.2575,
          0.485
         ],
         "gridwidth": 2,
         "matches": "y",
         "showgrid": true,
         "title": {
          "text": "Duration (s)"
         },
         "type": "log"
        },
        "yaxis5": {
         "anchor": "x5",
         "domain": [
          0.2575,
          0.485
         ],
         "gridwidth": 2,
         "matches": "y",
         "showgrid": true,
         "showticklabels": false,
         "type": "log"
        },
        "yaxis6": {
         "anchor": "x6",
         "domain": [
          0.2575,
          0.485
         ],
         "gridwidth": 2,
         "matches": "y",
         "showgrid": true,
         "showticklabels": false,
         "type": "log"
        },
        "yaxis7": {
         "anchor": "x7",
         "domain": [
          0.515,
          0.7425
         ],
         "gridwidth": 2,
         "matches": "y",
         "showgrid": true,
         "title": {
          "text": "Duration (s)"
         },
         "type": "log"
        },
        "yaxis8": {
         "anchor": "x8",
         "domain": [
          0.515,
          0.7425
         ],
         "gridwidth": 2,
         "matches": "y",
         "showgrid": true,
         "showticklabels": false,
         "type": "log"
        },
        "yaxis9": {
         "anchor": "x9",
         "domain": [
          0.515,
          0.7425
         ],
         "gridwidth": 2,
         "matches": "y",
         "showgrid": true,
         "showticklabels": false,
         "type": "log"
        }
       }
      },
      "text/html": [
       "<div>                            <div id=\"f96473b9-578a-4a20-863d-c5f05359634f\" class=\"plotly-graph-div\" style=\"height:800px; width:100%;\"></div>            <script type=\"text/javascript\">                require([\"plotly\"], function(Plotly) {                    window.PLOTLYENV=window.PLOTLYENV || {};                                    if (document.getElementById(\"f96473b9-578a-4a20-863d-c5f05359634f\")) {                    Plotly.newPlot(                        \"f96473b9-578a-4a20-863d-c5f05359634f\",                        [{\"hovertemplate\": \"Sorting Algorithm=merge<br>Construct=serial<br>Cutoff=0<br>Size=%{x}<br>Duration (s)=%{y}<extra></extra>\", \"legendgroup\": \"merge\", \"line\": {\"color\": \"rgb(76,114,176)\", \"dash\": \"solid\"}, \"mode\": \"lines\", \"name\": \"merge\", \"showlegend\": true, \"type\": \"scattergl\", \"x\": [1000, 1000, 1000, 1000, 1000, 10000, 10000, 10000, 10000, 10000, 100000, 100000, 100000, 100000, 100000, 1000000, 1000000, 1000000, 1000000, 1000000, 10000000, 10000000, 10000000, 10000000, 10000000], \"xaxis\": \"x10\", \"y\": [0.00020349799888208508, 0.00016322100418619812, 0.00017689699598122388, 0.0001479820057284087, 0.00015587700181640685, 0.0011994849919574335, 0.0011884739942615852, 0.0011643879988696426, 0.0011748089891625568, 0.0011645689955912528, 0.016560150994337164, 0.01401985100528691, 0.014057713997317478, 0.014083982998272402, 0.014058375003514813, 0.16982890000508633, 0.17013241899257991, 0.16937383099866565, 0.17074875099933706, 0.17118930000287946, 2.0314097630034667, 2.016778752004029, 2.020372257989948, 2.0118729390087537, 2.013694309993298], \"yaxis\": \"y10\"}, {\"hovertemplate\": \"Sorting Algorithm=merge<br>Construct=tasks<br>Cutoff=0<br>Size=%{x}<br>Duration (s)=%{y}<extra></extra>\", \"legendgroup\": \"merge\", \"line\": {\"color\": \"rgb(76,114,176)\", \"dash\": \"solid\"}, \"mode\": \"lines\", \"name\": \"merge\", \"showlegend\": false, \"type\": \"scattergl\", \"x\": [1000, 1000, 1000, 1000, 1000, 1000, 1000, 1000, 1000, 1000, 1000, 1000, 1000, 1000, 1000, 1000, 1000, 1000, 1000, 1000, 10000, 10000, 10000, 10000, 10000, 10000, 10000, 10000, 10000, 10000, 10000, 10000, 10000, 10000, 10000, 10000, 10000, 10000, 10000, 10000, 100000, 100000, 100000, 100000, 100000, 100000, 100000, 100000, 100000, 100000, 100000, 100000, 100000, 100000, 100000, 100000, 100000, 100000, 100000, 100000, 1000000, 1000000, 1000000, 1000000, 1000000, 1000000, 1000000, 1000000, 1000000, 1000000, 1000000, 1000000, 1000000, 1000000, 1000000, 1000000, 1000000, 1000000, 1000000, 1000000, 10000000, 10000000, 10000000, 10000000, 10000000, 10000000, 10000000, 10000000, 10000000, 10000000, 10000000, 10000000, 10000000, 10000000, 10000000, 10000000, 10000000, 10000000, 10000000, 10000000], \"xaxis\": \"x7\", \"y\": [0.0006884920003358275, 0.000545679999049753, 0.0005430839955806732, 0.0005457800143631175, 0.0005528629990294576, 0.0006918480066815391, 0.000623558007646352, 0.0005398389912443237, 0.000507076008943841, 0.0004910249990643932, 0.0008066169975791126, 0.0005497469974216074, 0.0005894630012335256, 0.000539838001714088, 0.00044630999036598956, 0.000745821002055891, 0.0006412220100173728, 0.0006100719911046326, 0.000594632001593709, 0.000727656006347388, 0.0048946160095511, 0.004584424998029135, 0.004212055006064475, 0.0032329300011042506, 0.0032462050003232434, 0.005442148991278373, 0.005499467995832674, 0.004470276995562017, 0.005464702000608668, 0.005491692994837649, 0.005774923003627919, 0.004202345997327939, 0.005975284002488479, 0.006007534990203567, 0.004626694993930869, 0.006035188998794183, 0.0057009209995158025, 0.004538146007689647, 0.004717639007139951, 0.006170325999846682, 0.034405740996589884, 0.03251945700321812, 0.03224492400477175, 0.03291852699476294, 0.032852483011083684, 0.037608343991450965, 0.03215712800738402, 0.03187956698820926, 0.03691190500103402, 0.035088171003735624, 0.0370866279990878, 0.032316480006556965, 0.03240685199853033, 0.03584608499659225, 0.03483007999602705, 0.0356231900077546, 0.03656566599966026, 0.03734095199615695, 0.03361351099738385, 0.04142767899611499, 0.34135318599874154, 0.3346900670003379, 0.3371023700019577, 0.3370075970015023, 0.33752365600958, 0.3436910529999295, 0.326927172995056, 0.3300762170110829, 0.34013819499523373, 0.3418570869980613, 0.3493966249952791, 0.3385683929955121, 0.34125946898711845, 0.3388624369981699, 0.335134373002802, 0.3475126920093317, 0.3353770190005889, 0.33903487300267443, 0.3397311279986752, 0.3355172360024881, 3.4710762729955604, 3.4742943940073014, 3.4777779580035717, 3.4639308070036345, 3.469899503994384, 3.4744381849886854, 3.4304866649908945, 3.4234185649984283, 3.467836677999003, 3.4692403259978164, 3.491002422000747, 3.245184266997967, 3.477605363994371, 3.492745844007004, 3.488784533998114, 3.4727675299945986, 3.467842907004524, 3.249398889995064, 3.4810386189928977, 3.4599814649991454], \"yaxis\": \"y7\"}, {\"hovertemplate\": \"Sorting Algorithm=merge<br>Construct=tasks<br>Cutoff=100<br>Size=%{x}<br>Duration (s)=%{y}<extra></extra>\", \"legendgroup\": \"merge\", \"line\": {\"color\": \"rgb(76,114,176)\", \"dash\": \"solid\"}, \"mode\": \"lines\", \"name\": \"merge\", \"showlegend\": false, \"type\": \"scattergl\", \"x\": [1000, 1000, 1000, 1000, 1000, 1000, 1000, 1000, 1000, 1000, 1000, 1000, 1000, 1000, 1000, 1000, 1000, 1000, 1000, 1000, 10000, 10000, 10000, 10000, 10000, 10000, 10000, 10000, 10000, 10000, 10000, 10000, 10000, 10000, 10000, 10000, 10000, 10000, 10000, 10000, 100000, 100000, 100000, 100000, 100000, 100000, 100000, 100000, 100000, 100000, 100000, 100000, 100000, 100000, 100000, 100000, 100000, 100000, 100000, 100000, 1000000, 1000000, 1000000, 1000000, 1000000, 1000000, 1000000, 1000000, 1000000, 1000000, 1000000, 1000000, 1000000, 1000000, 1000000, 1000000, 1000000, 1000000, 1000000, 1000000, 10000000, 10000000, 10000000, 10000000, 10000000, 10000000, 10000000, 10000000, 10000000, 10000000, 10000000, 10000000, 10000000, 10000000, 10000000, 10000000, 10000000, 10000000, 10000000, 10000000], \"xaxis\": \"x8\", \"y\": [9.795698861125855e-05, 9.438001143280417e-05, 9.153399150818586e-05, 9.196500468533486e-05, 9.14439879124984e-05, 6.78289943607524e-05, 6.1166996601969e-05, 7.876000017859042e-05, 9.78460011538118e-05, 7.486301183234899e-05, 7.419098983518779e-05, 8.938999962992966e-05, 0.00010679398837964982, 0.00010730400390457362, 8.220699965022504e-05, 0.00012137100566178559, 0.0001170030009234324, 0.00010724499588832259, 0.00011713300773408264, 9.776599472388624e-05, 0.0006886720075272025, 0.0006772710039513186, 0.0006724410050082952, 0.0006688440043944865, 0.0006745150021743028, 0.0010578360088402403, 0.0009867100015981123, 0.001272774999961257, 0.0013327089982340112, 0.0011577060067793354, 0.0013494710001396015, 0.0011686060024658216, 0.0010809099912876263, 0.0007742650050204246, 0.001093302998924628, 0.001258257994777523, 0.0012794770009350034, 0.0012258950009709224, 0.0014451129973167556, 0.0010444200015626848, 0.007959384995047003, 0.008085865003522484, 0.00858328299364075, 0.008487159997457637, 0.008192428009351715, 0.011059199998271652, 0.007995754000148736, 0.007940918992972001, 0.007919919007690622, 0.007933765999041498, 0.012051851008436644, 0.012315273997955956, 0.011774211990996264, 0.011553301999811085, 0.01287438900908455, 0.012113409000448884, 0.011620810008025728, 0.012806649989215657, 0.013889852998545392, 0.008227194994105956, 0.10443531601049473, 0.09841691800102126, 0.09897066300618462, 0.10128285799873993, 0.0971095969871385, 0.1043561749975197, 0.09702584099431989, 0.1043994079955155, 0.0987818959983997, 0.09678074299881699, 0.1057139040058246, 0.09698392399877777, 0.09664080000948161, 0.09685754300153347, 0.09807947000081184, 0.09799220899003556, 0.1040069940063404, 0.09762333400431088, 0.09551783300412353, 0.09539196398691274, 1.104670521002845, 1.095913762008422, 1.1019112600042718, 1.0971509209921353, 1.0982556119997753, 1.1015909919951807, 1.1019769359991187, 1.1077738309977576, 1.108951703005005, 1.1015326710039517, 1.1049876750039402, 1.1062665009958437, 1.0972994610056048, 1.0988542620034425, 1.0993107849935768, 1.1043644739984302, 1.1147978580120252, 1.1093107549968408, 1.1021453379944433, 1.1008888950018445], \"yaxis\": \"y8\"}, {\"hovertemplate\": \"Sorting Algorithm=merge<br>Construct=tasks<br>Cutoff=1000<br>Size=%{x}<br>Duration (s)=%{y}<extra></extra>\", \"legendgroup\": \"merge\", \"line\": {\"color\": \"rgb(76,114,176)\", \"dash\": \"solid\"}, \"mode\": \"lines\", \"name\": \"merge\", \"showlegend\": false, \"type\": \"scattergl\", \"x\": [1000, 1000, 1000, 1000, 1000, 1000, 1000, 1000, 1000, 1000, 1000, 1000, 1000, 1000, 1000, 1000, 1000, 1000, 1000, 1000, 10000, 10000, 10000, 10000, 10000, 10000, 10000, 10000, 10000, 10000, 10000, 10000, 10000, 10000, 10000, 10000, 10000, 10000, 10000, 10000, 100000, 100000, 100000, 100000, 100000, 100000, 100000, 100000, 100000, 100000, 100000, 100000, 100000, 100000, 100000, 100000, 100000, 100000, 100000, 100000, 1000000, 1000000, 1000000, 1000000, 1000000, 1000000, 1000000, 1000000, 1000000, 1000000, 1000000, 1000000, 1000000, 1000000, 1000000, 1000000, 1000000, 1000000, 1000000, 1000000, 10000000, 10000000, 10000000, 10000000, 10000000, 10000000, 10000000, 10000000, 10000000, 10000000, 10000000, 10000000, 10000000, 10000000, 10000000, 10000000, 10000000, 10000000, 10000000, 10000000], \"xaxis\": \"x9\", \"y\": [0.000149425002746284, 0.00014671999088022858, 0.0001515990006737411, 0.00014506699517369268, 0.0001437640021322295, 8.79279978107661e-05, 7.102599192876369e-05, 7.045500387903303e-05, 7.062499935273081e-05, 7.01730023138225e-05, 7.231799827422945e-05, 7.025399827398361e-05, 6.979300815146416e-05, 6.931200914550573e-05, 6.96119968779385e-05, 7.24480050848797e-05, 7.06550054019317e-05, 7.017400639597327e-05, 6.968299567233771e-05, 6.937301077414304e-05, 0.0006374649965437129, 0.0006357009988278152, 0.0006361319974530488, 0.0006315529899438843, 0.0006369829934556037, 0.0009895550028886646, 0.0009493690013187006, 0.0009504909976385533, 0.0009395200031576678, 0.0009399609989486633, 0.0010064579983009023, 0.0009775020007509738, 0.0009754490019986406, 0.0009729939920362084, 0.0009543690102873369, 0.0009974709973903375, 0.0009761200053617359, 0.0007510709983762354, 0.0009340300020994617, 0.0008119769918266685, 0.008172620000550523, 0.007692485989537091, 0.0077107609977247185, 0.00765268100076355, 0.007924909004941581, 0.0077253790077520534, 0.007695652006077581, 0.0076494640088640145, 0.007979974005138502, 0.0076602949993684905, 0.011375934001989664, 0.011482026005978696, 0.013659695003298113, 0.012891241000033915, 0.011824929999420421, 0.010685186993214302, 0.012490748005802743, 0.013272816999233328, 0.011732483006198892, 0.013289538997923957, 0.09437713200168217, 0.09355897099885625, 0.09465413900034035, 0.0933060410025064, 0.09344662699731998, 0.09256788701168259, 0.0997897459892556, 0.09234816899697762, 0.0933642640011385, 0.09373830500408076, 0.1025904740090482, 0.09915197300142607, 0.0930796049942728, 0.09349989499605726, 0.09299992100568487, 0.09302346101321744, 0.10116765399288853, 0.09389144400483927, 0.10187170399876776, 0.10075654099637177, 1.0709417600010056, 1.0680641290091444, 1.0690231740009042, 1.0619556659949012, 1.0689604520011926, 1.0655249319970608, 1.0718272599915508, 1.0656418289872818, 1.0734888860024512, 1.0758696410048287, 1.0657269719959004, 1.0670355860056588, 1.0623695940012112, 1.070368739994592, 1.0661092800000915, 1.0707584530027816, 1.0621381619857857, 1.0615829130110797, 1.0914177439990451, 1.0948287500068543], \"yaxis\": \"y9\"}, {\"hovertemplate\": \"Sorting Algorithm=merge<br>Construct=sections<br>Cutoff=0<br>Size=%{x}<br>Duration (s)=%{y}<extra></extra>\", \"legendgroup\": \"merge\", \"line\": {\"color\": \"rgb(76,114,176)\", \"dash\": \"solid\"}, \"mode\": \"lines\", \"name\": \"merge\", \"showlegend\": false, \"type\": \"scattergl\", \"x\": [1000, 1000, 1000, 1000, 1000, 1000, 1000, 1000, 1000, 1000, 1000, 1000, 1000, 1000, 1000, 1000, 1000, 1000, 1000, 1000, 10000, 10000, 10000, 10000, 10000, 10000, 10000, 10000, 10000, 10000, 10000, 10000, 10000, 10000, 10000, 10000, 10000, 10000, 10000, 10000, 100000, 100000, 100000, 100000, 100000, 100000, 100000, 100000, 100000, 100000, 100000, 100000, 100000, 100000, 100000, 100000, 100000, 100000, 100000, 100000, 1000000, 1000000, 1000000, 1000000, 1000000, 1000000, 1000000, 1000000, 1000000, 1000000, 1000000, 1000000, 1000000, 1000000, 1000000, 1000000, 1000000, 1000000, 1000000, 1000000, 10000000, 10000000, 10000000, 10000000, 10000000, 10000000, 10000000, 10000000, 10000000, 10000000, 10000000, 10000000, 10000000, 10000000, 10000000, 10000000, 10000000, 10000000, 10000000, 10000000], \"xaxis\": \"x4\", \"y\": [0.00043834499956574286, 0.0004276349936844781, 0.00044704199535772204, 0.0004234660009387881, 0.0004185680008959025, 0.00043678299698512996, 0.0004342879983596504, 0.00041135399078484635, 0.0004215029912302271, 0.0003277450014138594, 0.00043009899673052127, 0.0003651150036603213, 0.00042199400195386255, 0.0004006730014225468, 0.0003642340016085655, 0.0004887609975412488, 0.00043412701052147895, 0.0005186180060263723, 0.0004155720089329407, 0.00031136300822254265, 0.0035300560120958835, 0.004212254993035458, 0.002650820999406278, 0.0026577740063657984, 0.002742894997936673, 0.00451936099852901, 0.004241229995386675, 0.0035288030048832297, 0.002809903002344072, 0.003513372997986153, 0.004199721006443724, 0.004356871009804309, 0.0038756540016038335, 0.0031521060009254143, 0.0033452439965913072, 0.004297808991395868, 0.003956658998504281, 0.004230631006066688, 0.0034932949929498136, 0.003303442994365469, 0.02716547700401861, 0.027160085999639705, 0.02704827400157228, 0.028376934991683807, 0.026904058991931375, 0.03022046700061765, 0.026093032996868715, 0.03076093700656202, 0.026895652001257986, 0.029049545992165807, 0.033425713001633994, 0.028473958998802118, 0.03287277999334037, 0.029878084998927083, 0.02961715700803325, 0.036756870002136566, 0.0327938889968209, 0.032411170002887964, 0.03236810899397824, 0.03186574099527206, 0.2854776199965272, 0.28650080699299, 0.2858710739965318, 0.2878208470065147, 0.2870086170005379, 0.2724878009903477, 0.2836709129915107, 0.2738795580080477, 0.2893708160117967, 0.2875859240011778, 0.28692207801213954, 0.28359254098904785, 0.28608599900326226, 0.2851228020008421, 0.2880565169907641, 0.2867910640052287, 0.2734492989984573, 0.2874447560025146, 0.2866240589937661, 0.2890474440064281, 2.938456130999839, 2.917127878012252, 2.9219146680115955, 2.923028796998551, 2.9439650839922247, 2.910358086010092, 2.827171241005998, 2.921750039997278, 2.875795930012828, 2.9156905859999824, 2.6420965010038344, 2.6807050259958487, 2.910518051998224, 2.9156024949916173, 2.9342898269969737, 2.9201807089993963, 2.9371354400063865, 2.6772710590012134, 2.849667545000557, 2.943462743991404], \"yaxis\": \"y4\"}, {\"hovertemplate\": \"Sorting Algorithm=merge<br>Construct=sections<br>Cutoff=100<br>Size=%{x}<br>Duration (s)=%{y}<extra></extra>\", \"legendgroup\": \"merge\", \"line\": {\"color\": \"rgb(76,114,176)\", \"dash\": \"solid\"}, \"mode\": \"lines\", \"name\": \"merge\", \"showlegend\": false, \"type\": \"scattergl\", \"x\": [1000, 1000, 1000, 1000, 1000, 1000, 1000, 1000, 1000, 1000, 1000, 1000, 1000, 1000, 1000, 1000, 1000, 1000, 1000, 1000, 10000, 10000, 10000, 10000, 10000, 10000, 10000, 10000, 10000, 10000, 10000, 10000, 10000, 10000, 10000, 10000, 10000, 10000, 10000, 10000, 100000, 100000, 100000, 100000, 100000, 100000, 100000, 100000, 100000, 100000, 100000, 100000, 100000, 100000, 100000, 100000, 100000, 100000, 100000, 100000, 1000000, 1000000, 1000000, 1000000, 1000000, 1000000, 1000000, 1000000, 1000000, 1000000, 1000000, 1000000, 1000000, 1000000, 1000000, 1000000, 1000000, 1000000, 1000000, 1000000, 10000000, 10000000, 10000000, 10000000, 10000000, 10000000, 10000000, 10000000, 10000000, 10000000, 10000000, 10000000, 10000000, 10000000, 10000000, 10000000, 10000000, 10000000, 10000000, 10000000], \"xaxis\": \"x5\", \"y\": [0.00010423900675959884, 0.00010257599933538586, 9.694400068838148e-05, 9.497100836597384e-05, 9.694398613646626e-05, 5.142799636814743e-05, 7.416101288981733e-05, 5.018600495532155e-05, 6.883101013954729e-05, 6.407199543900789e-05, 9.943000623025e-05, 9.049200161825864e-05, 7.893099973443894e-05, 8.327899558935313e-05, 8.521199924871324e-05, 9.595199662726372e-05, 4.514600732363761e-05, 8.449099550489336e-05, 8.583399176131934e-05, 8.143499144352973e-05, 0.0006568810058524832, 0.0006590559933101758, 0.0006504089978989214, 0.0006508100050268696, 0.0006420230056392028, 0.0010057659965241328, 0.0009528149967081844, 0.0009540879982523619, 0.0009940640011336654, 0.0009568730019964276, 0.0009714010084280744, 0.0010808990045916287, 0.001131795987021178, 0.0009815599914873019, 0.00100423299591057, 0.0010727039916673675, 0.0012045949988532814, 0.001006998005323112, 0.0010026700037997216, 0.0011705600045388564, 0.007847390996175818, 0.007872648988268338, 0.007900262004113756, 0.007878841002820991, 0.007905802005552687, 0.007793438999215141, 0.00780780499917455, 0.00777951099735219, 0.007804648994351737, 0.007833023992134258, 0.01067592899198644, 0.011799851999967359, 0.01398120800149627, 0.008217476002755577, 0.015057466996950097, 0.013546629008487798, 0.012077510007657112, 0.012360911001451312, 0.008811207007966003, 0.013199388005887158, 0.10159712898894213, 0.1024794179975288, 0.10236230499867817, 0.10138001300219912, 0.10178395299590193, 0.10040349699556828, 0.10230217299249487, 0.10018702399975156, 0.10230146200046876, 0.1016712589917006, 0.10072862799279393, 0.10242010999354534, 0.10352199799672236, 0.1045570700080134, 0.10193136800080538, 0.10532142900046892, 0.10292055500030983, 0.10413339600199834, 0.10072234700783156, 0.10269779000373093, 1.0855789780034684, 1.0899347189988475, 1.0881582149886526, 1.0781008990015837, 1.0835206680058036, 1.0851711599971168, 1.082102479005698, 1.0793496789992787, 1.083409077997203, 1.085362026002258, 1.0771525620075408, 1.0772459330037236, 1.0841661650047172, 1.0870203899976332, 1.0924051000038162, 1.1039630769955693, 1.0831353499961551, 1.08459961200424, 1.0790949760121291, 1.082503937999718], \"yaxis\": \"y5\"}, {\"hovertemplate\": \"Sorting Algorithm=merge<br>Construct=sections<br>Cutoff=1000<br>Size=%{x}<br>Duration (s)=%{y}<extra></extra>\", \"legendgroup\": \"merge\", \"line\": {\"color\": \"rgb(76,114,176)\", \"dash\": \"solid\"}, \"mode\": \"lines\", \"name\": \"merge\", \"showlegend\": false, \"type\": \"scattergl\", \"x\": [1000, 1000, 1000, 1000, 1000, 1000, 1000, 1000, 1000, 1000, 1000, 1000, 1000, 1000, 1000, 1000, 1000, 1000, 1000, 1000, 10000, 10000, 10000, 10000, 10000, 10000, 10000, 10000, 10000, 10000, 10000, 10000, 10000, 10000, 10000, 10000, 10000, 10000, 10000, 10000, 100000, 100000, 100000, 100000, 100000, 100000, 100000, 100000, 100000, 100000, 100000, 100000, 100000, 100000, 100000, 100000, 100000, 100000, 100000, 100000, 1000000, 1000000, 1000000, 1000000, 1000000, 1000000, 1000000, 1000000, 1000000, 1000000, 1000000, 1000000, 1000000, 1000000, 1000000, 1000000, 1000000, 1000000, 1000000, 1000000, 10000000, 10000000, 10000000, 10000000, 10000000, 10000000, 10000000, 10000000, 10000000, 10000000, 10000000, 10000000, 10000000, 10000000, 10000000, 10000000, 10000000, 10000000, 10000000, 10000000], \"xaxis\": \"x6\", \"y\": [0.00013801299792248756, 0.00013617900549434123, 0.00013364499318413436, 0.00013347399362828585, 0.00013327399210538715, 7.130599988158791e-05, 7.093499880284071e-05, 7.153599290177226e-05, 7.054499292280525e-05, 7.041401113383472e-05, 7.056401227600873e-05, 7.041399658191949e-05, 7.004299550317228e-05, 6.954200216569006e-05, 6.990299152676016e-05, 7.110599835868925e-05, 7.067401020321995e-05, 7.08250008756295e-05, 7.014299626462162e-05, 7.018400356173514e-05, 0.0006279869994614272, 0.0006308419979177416, 0.0006237579946173355, 0.0006223160016816108, 0.0006297999934758991, 0.000952704998780973, 0.0009349619940621777, 0.000952054004301317, 0.0009274070034734906, 0.0009261040104320272, 0.0009759289969224483, 0.0009454009996261448, 0.0009686849953141065, 0.0009398410038556905, 0.0009414640080649405, 0.0011314559960737824, 0.0009189209959004074, 0.0007916480099083855, 0.0007869090040912852, 0.0009561619954183696, 0.007680914000957274, 0.007663130003493278, 0.007624215999385342, 0.00763310299953446, 0.0077116829925216734, 0.0076358790101949126, 0.007662980002351106, 0.007622442004503681, 0.0075988580065313735, 0.007655124994926155, 0.015167065997957254, 0.015001341002061963, 0.01384903500729706, 0.014941977002308704, 0.007793288008542731, 0.01340104200062342, 0.012396388003253378, 0.013890513990190813, 0.01272746900212951, 0.01259713000035845, 0.09910534799564627, 0.09946834998845587, 0.1026504629990086, 0.10142156099027487, 0.09980624399031512, 0.0995344179973472, 0.0987104390078457, 0.09765968800638801, 0.10040160099742934, 0.09841812100785319, 0.1033094829908805, 0.10185094400367234, 0.09969443500449417, 0.09500809700693937, 0.09928517500520685, 0.09949924699321856, 0.09230818699870724, 0.09903198599931784, 0.09799045200634281, 0.10206675699737387, 1.0674178749904968, 1.0709930790035287, 1.0634684130054666, 1.065049901997554, 1.0658967240015045, 1.0703890059958212, 1.0622485740022969, 1.0653423950134313, 1.0688552140054526, 1.077283989987336, 1.0719251439877553, 1.0705535799934296, 1.066164923002361, 1.0702793280070182, 1.0686045059992466, 1.0666405879892409, 1.0791447429946857, 1.074813760991674, 1.0817928229953395, 1.079096653003944], \"yaxis\": \"y6\"}, {\"hovertemplate\": \"Sorting Algorithm=enumeration<br>Construct=serial<br>Cutoff=0<br>Size=%{x}<br>Duration (s)=%{y}<extra></extra>\", \"legendgroup\": \"enumeration\", \"line\": {\"color\": \"rgb(221,132,82)\", \"dash\": \"solid\"}, \"mode\": \"lines\", \"name\": \"enumeration\", \"showlegend\": true, \"type\": \"scattergl\", \"x\": [1000, 1000, 1000, 1000, 1000, 10000, 10000, 10000, 10000, 10000, 100000, 100000, 100000, 100000, 100000], \"xaxis\": \"x10\", \"y\": [0.00383746599254664, 0.003781311999773607, 0.0037839970027562226, 0.003804624997428617, 0.0020734050049213693, 0.2290376849996392, 0.22882275500160176, 0.22874784900341186, 0.2289448859955883, 0.2676730969978962, 23.830702096995086, 23.793007883999962, 23.73145163200388, 23.83424479099631, 23.816961625998374], \"yaxis\": \"y10\"}, {\"hovertemplate\": \"Sorting Algorithm=enumeration<br>Construct=parallel<br>Cutoff=0<br>Size=%{x}<br>Duration (s)=%{y}<extra></extra>\", \"legendgroup\": \"enumeration\", \"line\": {\"color\": \"rgb(221,132,82)\", \"dash\": \"solid\"}, \"mode\": \"lines\", \"name\": \"enumeration\", \"showlegend\": false, \"type\": \"scattergl\", \"x\": [1000, 1000, 1000, 1000, 1000, 1000, 1000, 1000, 1000, 1000, 1000, 1000, 1000, 1000, 1000, 1000, 1000, 1000, 1000, 1000, 10000, 10000, 10000, 10000, 10000, 10000, 10000, 10000, 10000, 10000, 10000, 10000, 10000, 10000, 10000, 10000, 10000, 10000, 10000, 10000, 100000, 100000, 100000, 100000, 100000, 100000, 100000, 100000, 100000, 100000, 100000, 100000, 100000, 100000, 100000, 100000, 100000, 100000, 100000, 100000], \"xaxis\": \"x\", \"y\": [0.004832582009839825, 0.004708952008513735, 0.004552622995106504, 0.003228808011044748, 0.003556986004696228, 0.002614678000099957, 0.002472203996148892, 0.0026114430074812844, 0.002482294003129937, 0.002285367998410948, 0.0014019800000824034, 0.0013568760041380301, 0.0013254079967737198, 0.0014687640068586914, 0.0013323810126166793, 0.0010671889904187992, 0.0008571099897380918, 0.0008632809913251549, 0.0008761250064708291, 0.0008620990120107308, 0.2482817459967919, 0.2425068379961885, 0.24318886599212414, 0.24341447500046345, 0.2433096200111322, 0.1285854220041074, 0.12423285999102518, 0.1235990439890884, 0.12299768799857702, 0.12286508100805806, 0.07052553399989847, 0.06798885999887716, 0.06618144699314144, 0.06383527499565389, 0.06567385500238744, 0.04521434799244162, 0.04398106200096663, 0.04510200100776274, 0.04521340700739529, 0.04506371899333317, 24.24142304698762, 24.223183065987538, 24.201698051008865, 24.210961538992706, 24.216400823992444, 12.317169838002885, 12.318260343003207, 12.32060761800676, 12.310699747002218, 12.308516789998976, 6.325522558996454, 6.300280109004233, 6.296989390990348, 6.298988102003933, 6.294908919007867, 3.8773299409949686, 3.814043184000184, 3.891815519993543, 3.830441169004189, 3.8956643400015305], \"yaxis\": \"y\"}, {\"hovertemplate\": \"Sorting Algorithm=enumeration<br>Construct=parallel<br>Cutoff=100<br>Size=%{x}<br>Duration (s)=%{y}<extra></extra>\", \"legendgroup\": \"enumeration\", \"line\": {\"color\": \"rgb(221,132,82)\", \"dash\": \"solid\"}, \"mode\": \"lines\", \"name\": \"enumeration\", \"showlegend\": false, \"type\": \"scattergl\", \"x\": [1000, 1000, 1000, 1000, 1000, 1000, 1000, 1000, 1000, 1000, 1000, 1000, 1000, 1000, 1000, 1000, 1000, 1000, 1000, 1000, 10000, 10000, 10000, 10000, 10000, 10000, 10000, 10000, 10000, 10000, 10000, 10000, 10000, 10000, 10000, 10000, 10000, 10000, 10000, 10000, 100000, 100000, 100000, 100000, 100000, 100000, 100000, 100000, 100000, 100000, 100000, 100000, 100000, 100000, 100000, 100000, 100000, 100000, 100000, 100000], \"xaxis\": \"x2\", \"y\": [0.0035993439960293467, 0.0028041209880029787, 0.002445916004944593, 0.002407674997812137, 0.002415739989373833, 0.002153973997337744, 0.0016612409963272512, 0.0013194269995437935, 0.0012828289909521118, 0.0013124339893693104, 0.0013211100012995305, 0.001335106004262343, 0.0013485209929058328, 0.0012941500026499853, 0.0014422450040001422, 0.0008522709977114573, 0.0008524510049028321, 0.0008523110009264201, 0.000858471990795806, 0.0008708039968041702, 0.24362933200609405, 0.24361525199492465, 0.2492948150029406, 0.24332723699626516, 0.24648717700620185, 0.12282191800477447, 0.1229803229944082, 0.12451665299886372, 0.12373075498908293, 0.122911184997065, 0.06772470899159089, 0.06504201299685519, 0.06794131199421827, 0.068520916000125, 0.0663879000057932, 0.08998715798952618, 0.042385260996525176, 0.041404611998586915, 0.04110260200104676, 0.04198921700299252, 24.211795431008795, 24.213921313988976, 24.215566999992014, 24.2076644290064, 24.21375562400499, 12.316608977998841, 12.319747118002851, 12.318853097007375, 12.312822077001329, 12.313027880009034, 6.303095961993677, 6.302331888990011, 6.297508249001112, 6.29143570800079, 6.291536848002579, 3.843742072000168, 3.8414445859962143, 3.8948922160052466, 3.8660479230020424, 3.90113843799918], \"yaxis\": \"y2\"}, {\"hovertemplate\": \"Sorting Algorithm=enumeration<br>Construct=parallel<br>Cutoff=1000<br>Size=%{x}<br>Duration (s)=%{y}<extra></extra>\", \"legendgroup\": \"enumeration\", \"line\": {\"color\": \"rgb(221,132,82)\", \"dash\": \"solid\"}, \"mode\": \"lines\", \"name\": \"enumeration\", \"showlegend\": false, \"type\": \"scattergl\", \"x\": [1000, 1000, 1000, 1000, 1000, 1000, 1000, 1000, 1000, 1000, 1000, 1000, 1000, 1000, 1000, 1000, 1000, 1000, 1000, 1000, 10000, 10000, 10000, 10000, 10000, 10000, 10000, 10000, 10000, 10000, 10000, 10000, 10000, 10000, 10000, 10000, 10000, 10000, 10000, 10000, 100000, 100000, 100000, 100000, 100000, 100000, 100000, 100000, 100000, 100000, 100000, 100000, 100000, 100000, 100000, 100000, 100000, 100000, 100000, 100000], \"xaxis\": \"x3\", \"y\": [0.002407024003332481, 0.0023994689981918786, 0.002401103003649041, 0.002401032994384877, 0.002427843006444164, 0.0013158000074326992, 0.001321550997090526, 0.0013077250041533262, 0.0013133559987181798, 0.0012940190063090995, 0.0014074799983063713, 0.0009885129984468222, 0.0009409249905729666, 0.00093563599511981, 0.0009412350045749917, 0.000879560990142636, 0.0008815649925963953, 0.0008824659889796748, 0.001035099005093798, 0.0006252290040720255, 0.24247114500030875, 0.24560632900102064, 0.2436280900001293, 0.24276637900038625, 0.24432871500903275, 0.12294781299715395, 0.1230369879922364, 0.12327798501064535, 0.123412521003047, 0.12304989900439978, 0.06556931200611871, 0.06731391799985431, 0.06690163700841367, 0.06697991100372747, 0.06569252398912795, 0.041628607010352425, 0.04499134499928914, 0.044769473010092035, 0.04532850100076757, 0.04473029999644496, 24.211391172997537, 24.21791024800041, 24.216323838001696, 24.211348764001738, 24.208462031005183, 12.315431466005974, 12.320514584003833, 12.327206695990752, 12.320704134996047, 12.311366866008026, 6.290317571008927, 6.290433263013256, 6.290871723991586, 6.293002438003896, 6.294123330997536, 3.9140377730072946, 3.87963005999336, 3.904980751991389, 3.918886495011975, 3.8437588469969346], \"yaxis\": \"y3\"}, {\"hovertemplate\": \"Sorting Algorithm=quick<br>Construct=serial<br>Cutoff=0<br>Size=%{x}<br>Duration (s)=%{y}<extra></extra>\", \"legendgroup\": \"quick\", \"line\": {\"color\": \"rgb(85,168,104)\", \"dash\": \"solid\"}, \"mode\": \"lines\", \"name\": \"quick\", \"showlegend\": true, \"type\": \"scattergl\", \"x\": [1000, 1000, 1000, 1000, 1000, 10000, 10000, 10000, 10000, 10000, 100000, 100000, 100000, 100000, 100000, 1000000, 1000000, 1000000, 1000000, 1000000, 10000000, 10000000, 10000000, 10000000, 10000000], \"xaxis\": \"x10\", \"y\": [0.00020828700507991016, 0.00017999399278778583, 0.00018529400404077023, 0.00017520500114187598, 0.00017300101171713322, 0.0011462200054666027, 0.0012576220033224672, 0.0013036300078965726, 0.0012955350102856755, 0.0012895440013380721, 0.0185017330077244, 0.016697676008334383, 0.016323492003721185, 0.016726792004192248, 0.016698719002306458, 0.19399026500468608, 0.21129793400177727, 0.19287587299186273, 0.19280181000067387, 0.19219733600039035, 2.50818224401155, 2.378130728000542, 2.5008621820015837, 2.4484247399959718, 2.5677452579984674], \"yaxis\": \"y10\"}, {\"hovertemplate\": \"Sorting Algorithm=quick<br>Construct=tasks<br>Cutoff=0<br>Size=%{x}<br>Duration (s)=%{y}<extra></extra>\", \"legendgroup\": \"quick\", \"line\": {\"color\": \"rgb(85,168,104)\", \"dash\": \"solid\"}, \"mode\": \"lines\", \"name\": \"quick\", \"showlegend\": false, \"type\": \"scattergl\", \"x\": [1000, 1000, 1000, 1000, 1000, 1000, 1000, 1000, 1000, 1000, 1000, 1000, 1000, 1000, 1000, 1000, 1000, 1000, 1000, 1000, 10000, 10000, 10000, 10000, 10000, 10000, 10000, 10000, 10000, 10000, 10000, 10000, 10000, 10000, 10000, 10000, 10000, 10000, 10000, 10000, 100000, 100000, 100000, 100000, 100000, 100000, 100000, 100000, 100000, 100000, 100000, 100000, 100000, 100000, 100000, 100000, 100000, 100000, 100000, 100000, 1000000, 1000000, 1000000, 1000000, 1000000, 1000000, 1000000, 1000000, 1000000, 1000000, 1000000, 1000000, 1000000, 1000000, 1000000, 1000000, 1000000, 1000000, 1000000, 1000000, 10000000, 10000000, 10000000, 10000000, 10000000, 10000000, 10000000, 10000000, 10000000, 10000000, 10000000, 10000000, 10000000, 10000000, 10000000, 10000000, 10000000, 10000000, 10000000, 10000000], \"xaxis\": \"x7\", \"y\": [0.001606117992196232, 0.0014447699941229075, 0.0014290499966591597, 0.0014452710020123052, 0.001258053001947701, 0.002365488006034866, 0.002217946996097453, 0.002195142995333299, 0.0021901239961152896, 0.0022296589886536826, 0.002231803999166005, 0.0021217129979049787, 0.0020424609974725168, 0.0020782799983862787, 0.0020237059943610802, 0.0030494149978039786, 0.0027433200011728327, 0.002664248997461982, 0.0024606910010334104, 0.0022670900070806965, 0.002295154001330957, 0.0023253519902937114, 0.002488322992576286, 0.0025183499965351075, 0.0025408639921806753, 0.0077903210039949045, 0.0068098990013822904, 0.005226804001722485, 0.005473996003274806, 0.0056966219999594605, 0.01875432500673924, 0.010204051999608056, 0.010756917996332048, 0.010586161995888688, 0.009095343993976712, 0.024820711987558752, 0.026757532003102824, 0.023589502001414075, 0.0231901579973055, 0.019726340993656773, 0.013361412988160735, 0.012371662000077777, 0.012538732000393793, 0.01369905901083257, 0.01175956400402356, 0.01803822600049898, 0.013353176997043192, 0.014820630007307043, 0.013859204002073966, 0.014992127995355988, 0.021802747010951862, 0.02173407599912025, 0.020875546004390344, 0.02040982700418681, 0.02388800100015942, 0.05622439998842311, 0.04359857099188957, 0.047083497993298806, 0.06786121700133664, 0.04537029500352218, 0.1169128010078566, 0.12000329099828375, 0.11676792200887574, 0.11770867799350525, 0.11672661900229285, 0.08065279001311863, 0.07899136601190547, 0.07947406599123497, 0.07646947698958685, 0.0740954729990335, 0.08068522400571965, 0.06460711499676108, 0.07408912399841938, 0.07784601899038535, 0.07274786199559458, 0.14280869098729454, 0.16111783900123555, 0.1340677950065583, 0.11920474900398405, 0.13635282799077686, 1.3455217919981806, 1.3096807889960471, 1.2771516000066183, 1.3022650670027358, 1.2991058430052362, 0.7149066060082987, 0.7138148599915439, 0.7070499530091183, 0.720681186998263, 0.728930452998611, 0.5837943880032981, 0.550729776994558, 0.4934886769915465, 0.5519809409888694, 0.5146627869980875, 0.6880664569907822, 0.6926566369947978, 0.7018272249988513, 0.669632694000029, 0.628404777002288], \"yaxis\": \"y7\"}, {\"hovertemplate\": \"Sorting Algorithm=quick<br>Construct=tasks<br>Cutoff=100<br>Size=%{x}<br>Duration (s)=%{y}<extra></extra>\", \"legendgroup\": \"quick\", \"line\": {\"color\": \"rgb(85,168,104)\", \"dash\": \"solid\"}, \"mode\": \"lines\", \"name\": \"quick\", \"showlegend\": false, \"type\": \"scattergl\", \"x\": [1000, 1000, 1000, 1000, 1000, 1000, 1000, 1000, 1000, 1000, 1000, 1000, 1000, 1000, 1000, 1000, 1000, 1000, 1000, 1000, 10000, 10000, 10000, 10000, 10000, 10000, 10000, 10000, 10000, 10000, 10000, 10000, 10000, 10000, 10000, 10000, 10000, 10000, 10000, 10000, 100000, 100000, 100000, 100000, 100000, 100000, 100000, 100000, 100000, 100000, 100000, 100000, 100000, 100000, 100000, 100000, 100000, 100000, 100000, 100000, 1000000, 1000000, 1000000, 1000000, 1000000, 1000000, 1000000, 1000000, 1000000, 1000000, 1000000, 1000000, 1000000, 1000000, 1000000, 1000000, 1000000, 1000000, 1000000, 1000000, 10000000, 10000000, 10000000, 10000000, 10000000, 10000000, 10000000, 10000000, 10000000, 10000000, 10000000, 10000000, 10000000, 10000000, 10000000, 10000000, 10000000, 10000000, 10000000, 10000000], \"xaxis\": \"x8\", \"y\": [0.00012385699665173888, 0.0001261409925064072, 0.0001154710043920204, 0.00012609099212568253, 0.00011026000720448792, 0.00010566199489403516, 0.00010801600001286717, 0.00014746100350748748, 0.00010866799857467412, 0.00012219299969729036, 0.00014322299102786928, 0.0001024859957396984, 0.00010882699280045928, 0.00010422900959383696, 0.000112263995106332, 0.00013056999887339774, 0.000125660008052364, 0.00012546000652946534, 0.00011510899639688432, 0.0001247689942829311, 0.0011452879989519715, 0.0011319720069877805, 0.001109739998355508, 0.0010796220012707636, 0.0010928669944405556, 0.00081408501137048, 0.0008074020006461068, 0.0007264180021593347, 0.0007288019987754525, 0.0007725660107098519, 0.000837679996038787, 0.0006852889928268269, 0.0006680859951302409, 0.0008222309988923369, 0.0007051780121400952, 0.0008092960051726551, 0.000908585003344342, 0.0006905790069140493, 0.0008121020073303952, 0.0008560849964851514, 0.010726829990744592, 0.01271988800726831, 0.012466845000744796, 0.013700601004529744, 0.013997578993439673, 0.008848022000165656, 0.009042060992214829, 0.010221274002105929, 0.009210614996845834, 0.009312328998930752, 0.009487622999586163, 0.008716128999367356, 0.008373686010600068, 0.008980725004221313, 0.009854974996414969, 0.008640514002763666, 0.010423651008750312, 0.00943894000374712, 0.010434411000460386, 0.009385798999574035, 0.12524232499708887, 0.11476525300531648, 0.11610626299807335, 0.11679672099126034, 0.115810136005166, 0.07015161799790803, 0.07199680199846625, 0.07475618300668428, 0.07168520800769329, 0.07131615100661293, 0.05936235499393661, 0.055796624990762204, 0.056186449990491376, 0.05358368900488131, 0.054465203007566736, 0.07580067400704138, 0.07581662401207721, 0.07824985099432526, 0.07035019500472116, 0.07166152700665407, 1.2965347580029627, 1.3138676910020877, 1.38066072500078, 1.3762260549992789, 1.2970302650064696, 0.7018798999924911, 0.7123233099991921, 0.6962309530063066, 0.7080862069997238, 0.726606233001803, 0.4665944839944132, 0.4636751670041122, 0.4556421899906127, 0.4594735410064458, 0.4718462369928602, 0.37072063300001906, 0.3802505510102492, 0.3843481020012405, 0.3702076280023903, 0.3894032649986912], \"yaxis\": \"y8\"}, {\"hovertemplate\": \"Sorting Algorithm=quick<br>Construct=tasks<br>Cutoff=1000<br>Size=%{x}<br>Duration (s)=%{y}<extra></extra>\", \"legendgroup\": \"quick\", \"line\": {\"color\": \"rgb(85,168,104)\", \"dash\": \"solid\"}, \"mode\": \"lines\", \"name\": \"quick\", \"showlegend\": false, \"type\": \"scattergl\", \"x\": [1000, 1000, 1000, 1000, 1000, 1000, 1000, 1000, 1000, 1000, 1000, 1000, 1000, 1000, 1000, 1000, 1000, 1000, 1000, 1000, 10000, 10000, 10000, 10000, 10000, 10000, 10000, 10000, 10000, 10000, 10000, 10000, 10000, 10000, 10000, 10000, 10000, 10000, 10000, 10000, 100000, 100000, 100000, 100000, 100000, 100000, 100000, 100000, 100000, 100000, 100000, 100000, 100000, 100000, 100000, 100000, 100000, 100000, 100000, 100000, 1000000, 1000000, 1000000, 1000000, 1000000, 1000000, 1000000, 1000000, 1000000, 1000000, 1000000, 1000000, 1000000, 1000000, 1000000, 1000000, 1000000, 1000000, 1000000, 1000000, 10000000, 10000000, 10000000, 10000000, 10000000, 10000000, 10000000, 10000000, 10000000, 10000000, 10000000, 10000000, 10000000, 10000000, 10000000, 10000000, 10000000, 10000000, 10000000, 10000000], \"xaxis\": \"x9\", \"y\": [0.00022060099581722167, 0.00013239299005363137, 0.00012557000445667654, 0.00012583100760821253, 0.00012147199595347048, 0.00012862600851804018, 0.00011466900468803942, 0.00011211499804630877, 0.00011235399870201944, 0.00011134200030937794, 0.00012108200462535025, 0.00012161298946011811, 0.0001253689988516271, 0.00012514900299720466, 0.00012419698759913445, 0.00012939699809066954, 0.000124537997180596, 0.00013489699631463736, 0.00012418700498528779, 0.00012757399235852063, 0.0008904710120987146, 0.0008346149988938122, 0.0008344439993379637, 0.0008092060015769674, 0.0009621380013413728, 0.0008197360002668574, 0.0007823140040272848, 0.0006114179996075109, 0.000742137010092847, 0.0007615549984620883, 0.0005835449992446229, 0.0005353329906938598, 0.0005932829953962937, 0.0005753089935751632, 0.0005419249937403947, 0.0005580260040005669, 0.0004732439992949367, 0.000520824993145652, 0.0004586559953168034, 0.0004938130005029961, 0.013857922007446177, 0.011132054991321638, 0.012999080994632095, 0.012701953994110228, 0.012544653000077231, 0.006667865993222222, 0.010074995996546932, 0.00906602799659595, 0.007844866006053053, 0.007492382006603294, 0.005430643999716267, 0.007231623996631242, 0.0076179519965080544, 0.005984581002849154, 0.007642779004527256, 0.005039135008701122, 0.00549527700059116, 0.005618802999379113, 0.005234819007455371, 0.005490928000654094, 0.11516231700079516, 0.11608280400105285, 0.11573224500170907, 0.11651140300091355, 0.11661236299551092, 0.070418546005385, 0.06841896699916104, 0.06871453100757208, 0.06965049800055567, 0.07043752199388109, 0.04471208399627358, 0.04435042200202588, 0.04413857900362928, 0.04662104000453837, 0.044431978996726684, 0.040718623000429936, 0.041032323002582416, 0.04534761299146339, 0.039765912995790124, 0.04386967999744229, 1.301517268002499, 1.27822148600535, 1.3404595699976198, 1.26892586798931, 1.30424015900644, 0.7046995449927635, 0.6933213849988533, 0.7066386160004186, 0.6937876459996914, 0.7100902199890698, 0.44068065899773506, 0.4422132710024016, 0.4392603189917281, 0.4456036810006481, 0.439115244007553, 0.3397940160066355, 0.34672559400496533, 0.3424953779904172, 0.3443188600067515, 0.3429630919999909], \"yaxis\": \"y9\"}, {\"hovertemplate\": \"Sorting Algorithm=quick<br>Construct=sections<br>Cutoff=0<br>Size=%{x}<br>Duration (s)=%{y}<extra></extra>\", \"legendgroup\": \"quick\", \"line\": {\"color\": \"rgb(85,168,104)\", \"dash\": \"solid\"}, \"mode\": \"lines\", \"name\": \"quick\", \"showlegend\": false, \"type\": \"scattergl\", \"x\": [1000, 1000, 1000, 1000, 1000, 1000, 1000, 1000, 1000, 1000, 1000, 1000, 1000, 1000, 1000, 1000, 1000, 1000, 1000, 1000, 10000, 10000, 10000, 10000, 10000, 10000, 10000, 10000, 10000, 10000, 10000, 10000, 10000, 10000, 10000, 10000, 10000, 10000, 10000, 10000, 100000, 100000, 100000, 100000, 100000, 100000, 100000, 100000, 100000, 100000, 100000, 100000, 100000, 100000, 100000, 100000, 100000, 100000, 100000, 100000, 1000000, 1000000, 1000000, 1000000, 1000000, 1000000, 1000000, 1000000, 1000000, 1000000, 1000000, 1000000, 1000000, 1000000, 1000000, 1000000, 1000000, 1000000, 1000000, 1000000, 10000000, 10000000, 10000000, 10000000, 10000000, 10000000, 10000000, 10000000, 10000000, 10000000, 10000000, 10000000, 10000000, 10000000, 10000000, 10000000, 10000000, 10000000, 10000000, 10000000], \"xaxis\": \"x4\", \"y\": [0.0005464139976538718, 0.000536135004949756, 0.0005269760004011914, 0.0005258749879430981, 0.0005194330005906521, 0.00028625699633266777, 0.0005329580017132685, 0.0002820690133376047, 0.00028581600054167206, 0.0002786020049825311, 0.0002778909984044731, 0.00029448200075421477, 0.0002812870079651475, 0.0004303619934944436, 0.00027755000337492675, 0.00033154401171486825, 0.00030991200765129173, 0.00031284701253753155, 0.00031256700458470727, 0.0003207529953215271, 0.003467734000878409, 0.004048433009302244, 0.002835095001501031, 0.0028999190108152106, 0.0028903609927510843, 0.005549591005546972, 0.00409339899488259, 0.00326491599844303, 0.003475117991911248, 0.0043857380078407004, 0.002809937999700196, 0.002769009006442502, 0.0028186840063426644, 0.0027807410078821704, 0.002800699992803857, 0.002952880997327157, 0.002843752008629963, 0.002964271989185363, 0.002865222995751537, 0.0028522880020318553, 0.030422324009123255, 0.030411924002692107, 0.030316389995277856, 0.03074847698735539, 0.0301147660065908, 0.030553164004231807, 0.030384159996174283, 0.029871249993448142, 0.03055896400474012, 0.030775155988521874, 0.031229104002704844, 0.03134889299690258, 0.03048433100047987, 0.031332852013292715, 0.030860138998832557, 0.030600771991885267, 0.03093946899753064, 0.031147396002779718, 0.030906807005521838, 0.03104969099513255, 0.27325836299860384, 0.2746707049955148, 0.2561943839973537, 0.25691989400365856, 0.2558115660067415, 0.265152598003624, 0.26693552199867554, 0.2603294299915433, 0.2588798819924705, 0.2578061469976092, 0.2563497509981971, 0.2595347310125362, 0.26225076500850264, 0.25905278700520284, 0.2590150020114379, 0.2599760419980157, 0.25654180299898144, 0.24336046299140435, 0.2538505270058522, 0.253001350996783, 3.5062702900031586, 3.4168244060128927, 3.407866724999621, 3.561914304998936, 3.469712379999692, 3.504996543008019, 3.4376714500103844, 3.534705205995124, 3.4568259940133435, 3.4120504899910884, 3.4733797630033223, 3.498205458992743, 3.4568706590071088, 3.551263986009872, 3.5018172989948653, 3.4325324469973566, 3.5134449969918933, 3.4987144979968434, 3.453986869004438, 3.4905974430002966], \"yaxis\": \"y4\"}, {\"hovertemplate\": \"Sorting Algorithm=quick<br>Construct=sections<br>Cutoff=100<br>Size=%{x}<br>Duration (s)=%{y}<extra></extra>\", \"legendgroup\": \"quick\", \"line\": {\"color\": \"rgb(85,168,104)\", \"dash\": \"solid\"}, \"mode\": \"lines\", \"name\": \"quick\", \"showlegend\": false, \"type\": \"scattergl\", \"x\": [1000, 1000, 1000, 1000, 1000, 1000, 1000, 1000, 1000, 1000, 1000, 1000, 1000, 1000, 1000, 1000, 1000, 1000, 1000, 1000, 10000, 10000, 10000, 10000, 10000, 10000, 10000, 10000, 10000, 10000, 10000, 10000, 10000, 10000, 10000, 10000, 10000, 10000, 10000, 10000, 100000, 100000, 100000, 100000, 100000, 100000, 100000, 100000, 100000, 100000, 100000, 100000, 100000, 100000, 100000, 100000, 100000, 100000, 100000, 100000, 1000000, 1000000, 1000000, 1000000, 1000000, 1000000, 1000000, 1000000, 1000000, 1000000, 1000000, 1000000, 1000000, 1000000, 1000000, 1000000, 1000000, 1000000, 1000000, 1000000, 10000000, 10000000, 10000000, 10000000, 10000000, 10000000, 10000000, 10000000, 10000000, 10000000, 10000000, 10000000, 10000000, 10000000, 10000000, 10000000, 10000000, 10000000, 10000000, 10000000], \"xaxis\": \"x5\", \"y\": [0.0001127259893110022, 0.0001935600012075156, 0.0001882590004242957, 0.00010162399848923088, 9.714599582366644e-05, 0.00010021099296864122, 0.0001053809974109754, 9.989101090468465e-05, 9.933899855241181e-05, 9.954000415746121e-05, 9.712598694022746e-05, 0.00010623299749568105, 0.00010418900637887418, 0.00010205499711446464, 9.811800555326043e-05, 0.00010187498992308974, 9.973999112844467e-05, 0.000101073004771024, 9.752598998602481e-05, 0.00012850599887315184, 0.0012634240119950846, 0.0012295290071051568, 0.0012394579971442, 0.00111521000508219, 0.0012332659971434625, 0.0012471219961298632, 0.0011006319982698187, 0.0011027769942302257, 0.0012523219920694828, 0.0017627570050535726, 0.0012565709912450984, 0.0011491049954202026, 0.0012242689990671352, 0.0011631219967966901, 0.0011176559928571805, 0.0012247999984538185, 0.0012062140012858436, 0.0012053730024490505, 0.0011782410001615062, 0.0011495859944261613, 0.01683606101141777, 0.016015432993299328, 0.016674963000696152, 0.01668646399048157, 0.018387855001492426, 0.015749985992442816, 0.01664446500944905, 0.01824903899978381, 0.018284447010955773, 0.018476454002666287, 0.016782989012426697, 0.018611210995004512, 0.016643922994262542, 0.016027787001803517, 0.015878300997428596, 0.015454149994184263, 0.01582469799905084, 0.015431145991897209, 0.01604572001087945, 0.015943093996611424, 0.15356886301015038, 0.14229484400129874, 0.15480211400426924, 0.15372538699011784, 0.15544271799444687, 0.14776408699981405, 0.15332266299810726, 0.13789062800060492, 0.14163733299938033, 0.15411788799974602, 0.13794630100892394, 0.13811517400608864, 0.14526919700438154, 0.13788084700354375, 0.14383345299575012, 0.1565018359979149, 0.1371791139972629, 0.13683726100134666, 0.1329396539949812, 0.13757583900587633, 2.165049867995549, 2.1945752870087745, 2.1964223760005552, 2.181865149002988, 2.2034103429905367, 2.159371246001683, 2.201594504993409, 2.1741968550049933, 2.116900737994001, 2.198463642998832, 2.134548358997563, 2.16247437299171, 2.1402485620055813, 2.1216054469987284, 2.2040396810043603, 2.204413878993364, 2.0694569749903167, 2.134082744989428, 2.133333286998095, 2.005520801001694], \"yaxis\": \"y5\"}, {\"hovertemplate\": \"Sorting Algorithm=quick<br>Construct=sections<br>Cutoff=1000<br>Size=%{x}<br>Duration (s)=%{y}<extra></extra>\", \"legendgroup\": \"quick\", \"line\": {\"color\": \"rgb(85,168,104)\", \"dash\": \"solid\"}, \"mode\": \"lines\", \"name\": \"quick\", \"showlegend\": false, \"type\": \"scattergl\", \"x\": [1000, 1000, 1000, 1000, 1000, 1000, 1000, 1000, 1000, 1000, 1000, 1000, 1000, 1000, 1000, 1000, 1000, 1000, 1000, 1000, 10000, 10000, 10000, 10000, 10000, 10000, 10000, 10000, 10000, 10000, 10000, 10000, 10000, 10000, 10000, 10000, 10000, 10000, 10000, 10000, 100000, 100000, 100000, 100000, 100000, 100000, 100000, 100000, 100000, 100000, 100000, 100000, 100000, 100000, 100000, 100000, 100000, 100000, 100000, 100000, 1000000, 1000000, 1000000, 1000000, 1000000, 1000000, 1000000, 1000000, 1000000, 1000000, 1000000, 1000000, 1000000, 1000000, 1000000, 1000000, 1000000, 1000000, 1000000, 1000000, 10000000, 10000000, 10000000, 10000000, 10000000, 10000000, 10000000, 10000000, 10000000, 10000000, 10000000, 10000000, 10000000, 10000000, 10000000, 10000000, 10000000, 10000000, 10000000, 10000000], \"xaxis\": \"x6\", \"y\": [8.647599315736441e-05, 8.623499888926744e-05, 8.683500345796347e-05, 8.562399307265876e-05, 8.58939893078059e-05, 8.747700485400854e-05, 8.95510020200163e-05, 8.654499833937734e-05, 8.66250047693029e-05, 9.035199764184652e-05, 8.532300125807524e-05, 8.96909914445132e-05, 8.863898983690886e-05, 8.547300240024926e-05, 8.674600394442677e-05, 0.00010057199688162656, 8.666599751450121e-05, 8.712599810678512e-05, 8.651601092424244e-05, 8.660599996801466e-05, 0.0011810559954028574, 0.0011814770114142448, 0.0011774189915740862, 0.0011764269875129685, 0.0012043909955536947, 0.0017066610016627235, 0.0015151849947869778, 0.0010195779905188829, 0.0010732509981608018, 0.001125820999732241, 0.0011635929986368865, 0.0010641019907779992, 0.0010770880035124721, 0.0010638819949235767, 0.0011195480037713423, 0.0011765880044549706, 0.0011246280046179893, 0.0011432640021666884, 0.001169644994661212, 0.001163513006758876, 0.01798706900444813, 0.015262094995705413, 0.015205567004159091, 0.015117619012016803, 0.01646996199269779, 0.017831261007813737, 0.015233318001264706, 0.016454690994578414, 0.017821112007368356, 0.015190778009127825, 0.016410597003414296, 0.016372885002056137, 0.01942530598898884, 0.015528333009569906, 0.01549844499095343, 0.015512821992160752, 0.015486261996557003, 0.015196477994322775, 0.015679521005949937, 0.01541964399802964, 0.1509224289911799, 0.15256132998911198, 0.1406710489973193, 0.15296499799296726, 0.15325151399883907, 0.1537563979945844, 0.13397428501048125, 0.13366598599532153, 0.1340137070073979, 0.1346081219962798, 0.14079779399617107, 0.13447581000218636, 0.14520115399500355, 0.13848889400833286, 0.13777595000283327, 0.13668119900103193, 0.14298716199118644, 0.14258553500985727, 0.13710401399293914, 0.13488754999707453, 2.131366450994392, 2.148756332011544, 2.096034771995619, 2.15871058999619, 2.169516351990751, 2.092001445998904, 2.167892187004327, 2.135227014994598, 2.165584433998447, 2.1462662129924865, 2.1673774990049424, 2.1389545099955285, 2.1553169370017717, 2.168503105000127, 2.145274723006878, 2.1183640389936045, 2.130364002994611, 2.138844907996827, 2.1689163839910175, 2.088940278001246], \"yaxis\": \"y6\"}],                        {\"annotations\": [{\"font\": {}, \"showarrow\": false, \"text\": \"Cutoff=0\", \"x\": 0.15666666666666665, \"xanchor\": \"center\", \"xref\": \"paper\", \"y\": 1.0, \"yanchor\": \"bottom\", \"yref\": \"paper\"}, {\"font\": {}, \"showarrow\": false, \"text\": \"Cutoff=100\", \"x\": 0.49, \"xanchor\": \"center\", \"xref\": \"paper\", \"y\": 1.0, \"yanchor\": \"bottom\", \"yref\": \"paper\"}, {\"font\": {}, \"showarrow\": false, \"text\": \"Cutoff=1000\", \"x\": 0.8233333333333333, \"xanchor\": \"center\", \"xref\": \"paper\", \"y\": 1.0, \"yanchor\": \"bottom\", \"yref\": \"paper\"}, {\"font\": {}, \"showarrow\": false, \"text\": \"Construct=parallel\", \"textangle\": 90, \"x\": 0.98, \"xanchor\": \"left\", \"xref\": \"paper\", \"y\": 0.11375, \"yanchor\": \"middle\", \"yref\": \"paper\"}, {\"font\": {}, \"showarrow\": false, \"text\": \"Construct=sections\", \"textangle\": 90, \"x\": 0.98, \"xanchor\": \"left\", \"xref\": \"paper\", \"y\": 0.37124999999999997, \"yanchor\": \"middle\", \"yref\": \"paper\"}, {\"font\": {}, \"showarrow\": false, \"text\": \"Construct=tasks\", \"textangle\": 90, \"x\": 0.98, \"xanchor\": \"left\", \"xref\": \"paper\", \"y\": 0.62875, \"yanchor\": \"middle\", \"yref\": \"paper\"}, {\"font\": {}, \"showarrow\": false, \"text\": \"Construct=serial\", \"textangle\": 90, \"x\": 0.98, \"xanchor\": \"left\", \"xref\": \"paper\", \"y\": 0.88625, \"yanchor\": \"middle\", \"yref\": \"paper\"}], \"height\": 800, \"legend\": {\"title\": {\"text\": \"Sorting Algorithm\"}, \"tracegroupgap\": 0}, \"template\": {\"data\": {\"bar\": [{\"error_x\": {\"color\": \"rgb(36,36,36)\"}, \"error_y\": {\"color\": \"rgb(36,36,36)\"}, \"marker\": {\"line\": {\"color\": \"rgb(234,234,242)\", \"width\": 0.5}}, \"type\": \"bar\"}], \"barpolar\": [{\"marker\": {\"line\": {\"color\": \"rgb(234,234,242)\", \"width\": 0.5}}, \"type\": \"barpolar\"}], \"carpet\": [{\"aaxis\": {\"endlinecolor\": \"rgb(36,36,36)\", \"gridcolor\": \"white\", \"linecolor\": \"white\", \"minorgridcolor\": \"white\", \"startlinecolor\": \"rgb(36,36,36)\"}, \"baxis\": {\"endlinecolor\": \"rgb(36,36,36)\", \"gridcolor\": \"white\", \"linecolor\": \"white\", \"minorgridcolor\": \"white\", \"startlinecolor\": \"rgb(36,36,36)\"}, \"type\": \"carpet\"}], \"choropleth\": [{\"colorbar\": {\"outlinewidth\": 0, \"tickcolor\": \"rgb(36,36,36)\", \"ticklen\": 8, \"ticks\": \"outside\", \"tickwidth\": 2}, \"type\": \"choropleth\"}], \"contour\": [{\"colorbar\": {\"outlinewidth\": 0, \"tickcolor\": \"rgb(36,36,36)\", \"ticklen\": 8, \"ticks\": \"outside\", \"tickwidth\": 2}, \"colorscale\": [[0.0, \"rgb(2,4,25)\"], [0.06274509803921569, \"rgb(24,15,41)\"], [0.12549019607843137, \"rgb(47,23,57)\"], [0.18823529411764706, \"rgb(71,28,72)\"], [0.25098039215686274, \"rgb(97,30,82)\"], [0.3137254901960784, \"rgb(123,30,89)\"], [0.3764705882352941, \"rgb(150,27,91)\"], [0.4392156862745098, \"rgb(177,22,88)\"], [0.5019607843137255, \"rgb(203,26,79)\"], [0.5647058823529412, \"rgb(223,47,67)\"], [0.6274509803921569, \"rgb(236,76,61)\"], [0.6901960784313725, \"rgb(242,107,73)\"], [0.7529411764705882, \"rgb(244,135,95)\"], [0.8156862745098039, \"rgb(245,162,122)\"], [0.8784313725490196, \"rgb(246,188,153)\"], [0.9411764705882353, \"rgb(247,212,187)\"], [1.0, \"rgb(250,234,220)\"]], \"type\": \"contour\"}], \"contourcarpet\": [{\"colorbar\": {\"outlinewidth\": 0, \"tickcolor\": \"rgb(36,36,36)\", \"ticklen\": 8, \"ticks\": \"outside\", \"tickwidth\": 2}, \"type\": \"contourcarpet\"}], \"heatmap\": [{\"colorbar\": {\"outlinewidth\": 0, \"tickcolor\": \"rgb(36,36,36)\", \"ticklen\": 8, \"ticks\": \"outside\", \"tickwidth\": 2}, \"colorscale\": [[0.0, \"rgb(2,4,25)\"], [0.06274509803921569, \"rgb(24,15,41)\"], [0.12549019607843137, \"rgb(47,23,57)\"], [0.18823529411764706, \"rgb(71,28,72)\"], [0.25098039215686274, \"rgb(97,30,82)\"], [0.3137254901960784, \"rgb(123,30,89)\"], [0.3764705882352941, \"rgb(150,27,91)\"], [0.4392156862745098, \"rgb(177,22,88)\"], [0.5019607843137255, \"rgb(203,26,79)\"], [0.5647058823529412, \"rgb(223,47,67)\"], [0.6274509803921569, \"rgb(236,76,61)\"], [0.6901960784313725, \"rgb(242,107,73)\"], [0.7529411764705882, \"rgb(244,135,95)\"], [0.8156862745098039, \"rgb(245,162,122)\"], [0.8784313725490196, \"rgb(246,188,153)\"], [0.9411764705882353, \"rgb(247,212,187)\"], [1.0, \"rgb(250,234,220)\"]], \"type\": \"heatmap\"}], \"heatmapgl\": [{\"colorbar\": {\"outlinewidth\": 0, \"tickcolor\": \"rgb(36,36,36)\", \"ticklen\": 8, \"ticks\": \"outside\", \"tickwidth\": 2}, \"colorscale\": [[0.0, \"rgb(2,4,25)\"], [0.06274509803921569, \"rgb(24,15,41)\"], [0.12549019607843137, \"rgb(47,23,57)\"], [0.18823529411764706, \"rgb(71,28,72)\"], [0.25098039215686274, \"rgb(97,30,82)\"], [0.3137254901960784, \"rgb(123,30,89)\"], [0.3764705882352941, \"rgb(150,27,91)\"], [0.4392156862745098, \"rgb(177,22,88)\"], [0.5019607843137255, \"rgb(203,26,79)\"], [0.5647058823529412, \"rgb(223,47,67)\"], [0.6274509803921569, \"rgb(236,76,61)\"], [0.6901960784313725, \"rgb(242,107,73)\"], [0.7529411764705882, \"rgb(244,135,95)\"], [0.8156862745098039, \"rgb(245,162,122)\"], [0.8784313725490196, \"rgb(246,188,153)\"], [0.9411764705882353, \"rgb(247,212,187)\"], [1.0, \"rgb(250,234,220)\"]], \"type\": \"heatmapgl\"}], \"histogram\": [{\"marker\": {\"colorbar\": {\"outlinewidth\": 0, \"tickcolor\": \"rgb(36,36,36)\", \"ticklen\": 8, \"ticks\": \"outside\", \"tickwidth\": 2}}, \"type\": \"histogram\"}], \"histogram2d\": [{\"colorbar\": {\"outlinewidth\": 0, \"tickcolor\": \"rgb(36,36,36)\", \"ticklen\": 8, \"ticks\": \"outside\", \"tickwidth\": 2}, \"colorscale\": [[0.0, \"rgb(2,4,25)\"], [0.06274509803921569, \"rgb(24,15,41)\"], [0.12549019607843137, \"rgb(47,23,57)\"], [0.18823529411764706, \"rgb(71,28,72)\"], [0.25098039215686274, \"rgb(97,30,82)\"], [0.3137254901960784, \"rgb(123,30,89)\"], [0.3764705882352941, \"rgb(150,27,91)\"], [0.4392156862745098, \"rgb(177,22,88)\"], [0.5019607843137255, \"rgb(203,26,79)\"], [0.5647058823529412, \"rgb(223,47,67)\"], [0.6274509803921569, \"rgb(236,76,61)\"], [0.6901960784313725, \"rgb(242,107,73)\"], [0.7529411764705882, \"rgb(244,135,95)\"], [0.8156862745098039, \"rgb(245,162,122)\"], [0.8784313725490196, \"rgb(246,188,153)\"], [0.9411764705882353, \"rgb(247,212,187)\"], [1.0, \"rgb(250,234,220)\"]], \"type\": \"histogram2d\"}], \"histogram2dcontour\": [{\"colorbar\": {\"outlinewidth\": 0, \"tickcolor\": \"rgb(36,36,36)\", \"ticklen\": 8, \"ticks\": \"outside\", \"tickwidth\": 2}, \"colorscale\": [[0.0, \"rgb(2,4,25)\"], [0.06274509803921569, \"rgb(24,15,41)\"], [0.12549019607843137, \"rgb(47,23,57)\"], [0.18823529411764706, \"rgb(71,28,72)\"], [0.25098039215686274, \"rgb(97,30,82)\"], [0.3137254901960784, \"rgb(123,30,89)\"], [0.3764705882352941, \"rgb(150,27,91)\"], [0.4392156862745098, \"rgb(177,22,88)\"], [0.5019607843137255, \"rgb(203,26,79)\"], [0.5647058823529412, \"rgb(223,47,67)\"], [0.6274509803921569, \"rgb(236,76,61)\"], [0.6901960784313725, \"rgb(242,107,73)\"], [0.7529411764705882, \"rgb(244,135,95)\"], [0.8156862745098039, \"rgb(245,162,122)\"], [0.8784313725490196, \"rgb(246,188,153)\"], [0.9411764705882353, \"rgb(247,212,187)\"], [1.0, \"rgb(250,234,220)\"]], \"type\": \"histogram2dcontour\"}], \"mesh3d\": [{\"colorbar\": {\"outlinewidth\": 0, \"tickcolor\": \"rgb(36,36,36)\", \"ticklen\": 8, \"ticks\": \"outside\", \"tickwidth\": 2}, \"type\": \"mesh3d\"}], \"parcoords\": [{\"line\": {\"colorbar\": {\"outlinewidth\": 0, \"tickcolor\": \"rgb(36,36,36)\", \"ticklen\": 8, \"ticks\": \"outside\", \"tickwidth\": 2}}, \"type\": \"parcoords\"}], \"pie\": [{\"automargin\": true, \"type\": \"pie\"}], \"scatter\": [{\"marker\": {\"colorbar\": {\"outlinewidth\": 0, \"tickcolor\": \"rgb(36,36,36)\", \"ticklen\": 8, \"ticks\": \"outside\", \"tickwidth\": 2}}, \"type\": \"scatter\"}], \"scatter3d\": [{\"line\": {\"colorbar\": {\"outlinewidth\": 0, \"tickcolor\": \"rgb(36,36,36)\", \"ticklen\": 8, \"ticks\": \"outside\", \"tickwidth\": 2}}, \"marker\": {\"colorbar\": {\"outlinewidth\": 0, \"tickcolor\": \"rgb(36,36,36)\", \"ticklen\": 8, \"ticks\": \"outside\", \"tickwidth\": 2}}, \"type\": \"scatter3d\"}], \"scattercarpet\": [{\"marker\": {\"colorbar\": {\"outlinewidth\": 0, \"tickcolor\": \"rgb(36,36,36)\", \"ticklen\": 8, \"ticks\": \"outside\", \"tickwidth\": 2}}, \"type\": \"scattercarpet\"}], \"scattergeo\": [{\"marker\": {\"colorbar\": {\"outlinewidth\": 0, \"tickcolor\": \"rgb(36,36,36)\", \"ticklen\": 8, \"ticks\": \"outside\", \"tickwidth\": 2}}, \"type\": \"scattergeo\"}], \"scattergl\": [{\"marker\": {\"colorbar\": {\"outlinewidth\": 0, \"tickcolor\": \"rgb(36,36,36)\", \"ticklen\": 8, \"ticks\": \"outside\", \"tickwidth\": 2}}, \"type\": \"scattergl\"}], \"scattermapbox\": [{\"marker\": {\"colorbar\": {\"outlinewidth\": 0, \"tickcolor\": \"rgb(36,36,36)\", \"ticklen\": 8, \"ticks\": \"outside\", \"tickwidth\": 2}}, \"type\": \"scattermapbox\"}], \"scatterpolar\": [{\"marker\": {\"colorbar\": {\"outlinewidth\": 0, \"tickcolor\": \"rgb(36,36,36)\", \"ticklen\": 8, \"ticks\": \"outside\", \"tickwidth\": 2}}, \"type\": \"scatterpolar\"}], \"scatterpolargl\": [{\"marker\": {\"colorbar\": {\"outlinewidth\": 0, \"tickcolor\": \"rgb(36,36,36)\", \"ticklen\": 8, \"ticks\": \"outside\", \"tickwidth\": 2}}, \"type\": \"scatterpolargl\"}], \"scatterternary\": [{\"marker\": {\"colorbar\": {\"outlinewidth\": 0, \"tickcolor\": \"rgb(36,36,36)\", \"ticklen\": 8, \"ticks\": \"outside\", \"tickwidth\": 2}}, \"type\": \"scatterternary\"}], \"surface\": [{\"colorbar\": {\"outlinewidth\": 0, \"tickcolor\": \"rgb(36,36,36)\", \"ticklen\": 8, \"ticks\": \"outside\", \"tickwidth\": 2}, \"colorscale\": [[0.0, \"rgb(2,4,25)\"], [0.06274509803921569, \"rgb(24,15,41)\"], [0.12549019607843137, \"rgb(47,23,57)\"], [0.18823529411764706, \"rgb(71,28,72)\"], [0.25098039215686274, \"rgb(97,30,82)\"], [0.3137254901960784, \"rgb(123,30,89)\"], [0.3764705882352941, \"rgb(150,27,91)\"], [0.4392156862745098, \"rgb(177,22,88)\"], [0.5019607843137255, \"rgb(203,26,79)\"], [0.5647058823529412, \"rgb(223,47,67)\"], [0.6274509803921569, \"rgb(236,76,61)\"], [0.6901960784313725, \"rgb(242,107,73)\"], [0.7529411764705882, \"rgb(244,135,95)\"], [0.8156862745098039, \"rgb(245,162,122)\"], [0.8784313725490196, \"rgb(246,188,153)\"], [0.9411764705882353, \"rgb(247,212,187)\"], [1.0, \"rgb(250,234,220)\"]], \"type\": \"surface\"}], \"table\": [{\"cells\": {\"fill\": {\"color\": \"rgb(231,231,240)\"}, \"line\": {\"color\": \"white\"}}, \"header\": {\"fill\": {\"color\": \"rgb(183,183,191)\"}, \"line\": {\"color\": \"white\"}}, \"type\": \"table\"}]}, \"layout\": {\"annotationdefaults\": {\"arrowcolor\": \"rgb(67,103,167)\"}, \"autotypenumbers\": \"strict\", \"coloraxis\": {\"colorbar\": {\"outlinewidth\": 0, \"tickcolor\": \"rgb(36,36,36)\", \"ticklen\": 8, \"ticks\": \"outside\", \"tickwidth\": 2}}, \"colorscale\": {\"sequential\": [[0.0, \"rgb(2,4,25)\"], [0.06274509803921569, \"rgb(24,15,41)\"], [0.12549019607843137, \"rgb(47,23,57)\"], [0.18823529411764706, \"rgb(71,28,72)\"], [0.25098039215686274, \"rgb(97,30,82)\"], [0.3137254901960784, \"rgb(123,30,89)\"], [0.3764705882352941, \"rgb(150,27,91)\"], [0.4392156862745098, \"rgb(177,22,88)\"], [0.5019607843137255, \"rgb(203,26,79)\"], [0.5647058823529412, \"rgb(223,47,67)\"], [0.6274509803921569, \"rgb(236,76,61)\"], [0.6901960784313725, \"rgb(242,107,73)\"], [0.7529411764705882, \"rgb(244,135,95)\"], [0.8156862745098039, \"rgb(245,162,122)\"], [0.8784313725490196, \"rgb(246,188,153)\"], [0.9411764705882353, \"rgb(247,212,187)\"], [1.0, \"rgb(250,234,220)\"]], \"sequentialminus\": [[0.0, \"rgb(2,4,25)\"], [0.06274509803921569, \"rgb(24,15,41)\"], [0.12549019607843137, \"rgb(47,23,57)\"], [0.18823529411764706, \"rgb(71,28,72)\"], [0.25098039215686274, \"rgb(97,30,82)\"], [0.3137254901960784, \"rgb(123,30,89)\"], [0.3764705882352941, \"rgb(150,27,91)\"], [0.4392156862745098, \"rgb(177,22,88)\"], [0.5019607843137255, \"rgb(203,26,79)\"], [0.5647058823529412, \"rgb(223,47,67)\"], [0.6274509803921569, \"rgb(236,76,61)\"], [0.6901960784313725, \"rgb(242,107,73)\"], [0.7529411764705882, \"rgb(244,135,95)\"], [0.8156862745098039, \"rgb(245,162,122)\"], [0.8784313725490196, \"rgb(246,188,153)\"], [0.9411764705882353, \"rgb(247,212,187)\"], [1.0, \"rgb(250,234,220)\"]]}, \"colorway\": [\"rgb(76,114,176)\", \"rgb(221,132,82)\", \"rgb(85,168,104)\", \"rgb(196,78,82)\", \"rgb(129,114,179)\", \"rgb(147,120,96)\", \"rgb(218,139,195)\", \"rgb(140,140,140)\", \"rgb(204,185,116)\", \"rgb(100,181,205)\"], \"font\": {\"color\": \"rgb(36,36,36)\"}, \"geo\": {\"bgcolor\": \"white\", \"lakecolor\": \"white\", \"landcolor\": \"rgb(234,234,242)\", \"showlakes\": true, \"showland\": true, \"subunitcolor\": \"white\"}, \"hoverlabel\": {\"align\": \"left\"}, \"hovermode\": \"closest\", \"paper_bgcolor\": \"white\", \"plot_bgcolor\": \"rgb(234,234,242)\", \"polar\": {\"angularaxis\": {\"gridcolor\": \"white\", \"linecolor\": \"white\", \"showgrid\": true, \"ticks\": \"\"}, \"bgcolor\": \"rgb(234,234,242)\", \"radialaxis\": {\"gridcolor\": \"white\", \"linecolor\": \"white\", \"showgrid\": true, \"ticks\": \"\"}}, \"scene\": {\"xaxis\": {\"backgroundcolor\": \"rgb(234,234,242)\", \"gridcolor\": \"white\", \"gridwidth\": 2, \"linecolor\": \"white\", \"showbackground\": true, \"showgrid\": true, \"ticks\": \"\", \"zerolinecolor\": \"white\"}, \"yaxis\": {\"backgroundcolor\": \"rgb(234,234,242)\", \"gridcolor\": \"white\", \"gridwidth\": 2, \"linecolor\": \"white\", \"showbackground\": true, \"showgrid\": true, \"ticks\": \"\", \"zerolinecolor\": \"white\"}, \"zaxis\": {\"backgroundcolor\": \"rgb(234,234,242)\", \"gridcolor\": \"white\", \"gridwidth\": 2, \"linecolor\": \"white\", \"showbackground\": true, \"showgrid\": true, \"ticks\": \"\", \"zerolinecolor\": \"white\"}}, \"shapedefaults\": {\"fillcolor\": \"rgb(67,103,167)\", \"line\": {\"width\": 0}, \"opacity\": 0.5}, \"ternary\": {\"aaxis\": {\"gridcolor\": \"white\", \"linecolor\": \"white\", \"showgrid\": true, \"ticks\": \"\"}, \"baxis\": {\"gridcolor\": \"white\", \"linecolor\": \"white\", \"showgrid\": true, \"ticks\": \"\"}, \"bgcolor\": \"rgb(234,234,242)\", \"caxis\": {\"gridcolor\": \"white\", \"linecolor\": \"white\", \"showgrid\": true, \"ticks\": \"\"}}, \"xaxis\": {\"automargin\": true, \"gridcolor\": \"white\", \"linecolor\": \"white\", \"showgrid\": true, \"ticks\": \"\", \"title\": {\"standoff\": 15}, \"zerolinecolor\": \"white\"}, \"yaxis\": {\"automargin\": true, \"gridcolor\": \"white\", \"linecolor\": \"white\", \"showgrid\": true, \"ticks\": \"\", \"title\": {\"standoff\": 15}, \"zerolinecolor\": \"white\"}}}, \"title\": {\"text\": \"C Sorting Algorithm Runtimes\"}, \"xaxis\": {\"anchor\": \"y\", \"domain\": [0.0, 0.3133333333333333], \"gridwidth\": 2, \"showgrid\": true, \"title\": {\"text\": \"Size\"}}, \"xaxis10\": {\"anchor\": \"y10\", \"domain\": [0.0, 0.3133333333333333], \"gridwidth\": 2, \"matches\": \"x\", \"showgrid\": true, \"showticklabels\": false}, \"xaxis11\": {\"anchor\": \"y11\", \"domain\": [0.3333333333333333, 0.6466666666666666], \"gridwidth\": 2, \"matches\": \"x\", \"showgrid\": true, \"showticklabels\": false}, \"xaxis12\": {\"anchor\": \"y12\", \"domain\": [0.6666666666666666, 0.98], \"gridwidth\": 2, \"matches\": \"x\", \"showgrid\": true, \"showticklabels\": false}, \"xaxis2\": {\"anchor\": \"y2\", \"domain\": [0.3333333333333333, 0.6466666666666666], \"gridwidth\": 2, \"matches\": \"x\", \"showgrid\": true, \"title\": {\"text\": \"Size\"}}, \"xaxis3\": {\"anchor\": \"y3\", \"domain\": [0.6666666666666666, 0.98], \"gridwidth\": 2, \"matches\": \"x\", \"showgrid\": true, \"title\": {\"text\": \"Size\"}}, \"xaxis4\": {\"anchor\": \"y4\", \"domain\": [0.0, 0.3133333333333333], \"gridwidth\": 2, \"matches\": \"x\", \"showgrid\": true, \"showticklabels\": false}, \"xaxis5\": {\"anchor\": \"y5\", \"domain\": [0.3333333333333333, 0.6466666666666666], \"gridwidth\": 2, \"matches\": \"x\", \"showgrid\": true, \"showticklabels\": false}, \"xaxis6\": {\"anchor\": \"y6\", \"domain\": [0.6666666666666666, 0.98], \"gridwidth\": 2, \"matches\": \"x\", \"showgrid\": true, \"showticklabels\": false}, \"xaxis7\": {\"anchor\": \"y7\", \"domain\": [0.0, 0.3133333333333333], \"gridwidth\": 2, \"matches\": \"x\", \"showgrid\": true, \"showticklabels\": false}, \"xaxis8\": {\"anchor\": \"y8\", \"domain\": [0.3333333333333333, 0.6466666666666666], \"gridwidth\": 2, \"matches\": \"x\", \"showgrid\": true, \"showticklabels\": false}, \"xaxis9\": {\"anchor\": \"y9\", \"domain\": [0.6666666666666666, 0.98], \"gridwidth\": 2, \"matches\": \"x\", \"showgrid\": true, \"showticklabels\": false}, \"yaxis\": {\"anchor\": \"x\", \"domain\": [0.0, 0.2275], \"gridwidth\": 2, \"showgrid\": true, \"title\": {\"text\": \"Duration (s)\"}, \"type\": \"log\"}, \"yaxis10\": {\"anchor\": \"x10\", \"domain\": [0.7725, 1.0], \"gridwidth\": 2, \"matches\": \"y\", \"showgrid\": true, \"title\": {\"text\": \"Duration (s)\"}, \"type\": \"log\"}, \"yaxis11\": {\"anchor\": \"x11\", \"domain\": [0.7725, 1.0], \"gridwidth\": 2, \"matches\": \"y\", \"showgrid\": true, \"showticklabels\": false, \"type\": \"log\"}, \"yaxis12\": {\"anchor\": \"x12\", \"domain\": [0.7725, 1.0], \"gridwidth\": 2, \"matches\": \"y\", \"showgrid\": true, \"showticklabels\": false, \"type\": \"log\"}, \"yaxis2\": {\"anchor\": \"x2\", \"domain\": [0.0, 0.2275], \"gridwidth\": 2, \"matches\": \"y\", \"showgrid\": true, \"showticklabels\": false, \"type\": \"log\"}, \"yaxis3\": {\"anchor\": \"x3\", \"domain\": [0.0, 0.2275], \"gridwidth\": 2, \"matches\": \"y\", \"showgrid\": true, \"showticklabels\": false, \"type\": \"log\"}, \"yaxis4\": {\"anchor\": \"x4\", \"domain\": [0.2575, 0.485], \"gridwidth\": 2, \"matches\": \"y\", \"showgrid\": true, \"title\": {\"text\": \"Duration (s)\"}, \"type\": \"log\"}, \"yaxis5\": {\"anchor\": \"x5\", \"domain\": [0.2575, 0.485], \"gridwidth\": 2, \"matches\": \"y\", \"showgrid\": true, \"showticklabels\": false, \"type\": \"log\"}, \"yaxis6\": {\"anchor\": \"x6\", \"domain\": [0.2575, 0.485], \"gridwidth\": 2, \"matches\": \"y\", \"showgrid\": true, \"showticklabels\": false, \"type\": \"log\"}, \"yaxis7\": {\"anchor\": \"x7\", \"domain\": [0.515, 0.7425], \"gridwidth\": 2, \"matches\": \"y\", \"showgrid\": true, \"title\": {\"text\": \"Duration (s)\"}, \"type\": \"log\"}, \"yaxis8\": {\"anchor\": \"x8\", \"domain\": [0.515, 0.7425], \"gridwidth\": 2, \"matches\": \"y\", \"showgrid\": true, \"showticklabels\": false, \"type\": \"log\"}, \"yaxis9\": {\"anchor\": \"x9\", \"domain\": [0.515, 0.7425], \"gridwidth\": 2, \"matches\": \"y\", \"showgrid\": true, \"showticklabels\": false, \"type\": \"log\"}},                        {\"responsive\": true}                    ).then(function(){\n",
       "                            \n",
       "var gd = document.getElementById('f96473b9-578a-4a20-863d-c5f05359634f');\n",
       "var x = new MutationObserver(function (mutations, observer) {{\n",
       "        var display = window.getComputedStyle(gd).display;\n",
       "        if (!display || display === 'none') {{\n",
       "            console.log([gd, 'removed!']);\n",
       "            Plotly.purge(gd);\n",
       "            observer.disconnect();\n",
       "        }}\n",
       "}});\n",
       "\n",
       "// Listen for the removal of the full notebook cells\n",
       "var notebookContainer = gd.closest('#notebook-container');\n",
       "if (notebookContainer) {{\n",
       "    x.observe(notebookContainer, {childList: true});\n",
       "}}\n",
       "\n",
       "// Listen for the clearing of the current output cell\n",
       "var outputEl = gd.closest('.output');\n",
       "if (outputEl) {{\n",
       "    x.observe(outputEl, {childList: true});\n",
       "}}\n",
       "\n",
       "                        })                };                });            </script>        </div>"
      ]
     },
     "metadata": {},
     "output_type": "display_data"
    }
   ],
   "source": [
    "fig = px.line(\n",
    "    df,\n",
    "    y='Duration', x='Size', color='Algorithm',\n",
    "    facet_col='Cutoff', facet_col_wrap=3,\n",
    "    facet_row='Construct',\n",
    "    template='seaborn',\n",
    "    log_y=True, \n",
    "    height=800,\n",
    "    title='C Sorting Algorithm Runtimes',\n",
    "    labels={\n",
    "        \"Duration\": \"Duration (s)\",\n",
    "        \"Algorithm\": \"Sorting Algorithm\",\n",
    "     },\n",
    ")\n",
    "\n",
    "fig.update_xaxes(showgrid=True, gridwidth=2)#, gridcolor='LightPink')\n",
    "fig.update_yaxes(showgrid=True, gridwidth=2)#, gridcolor='LightPink')\n",
    "\n",
    "# for (algorithm, size) in means.index:\n",
    "# for algorithm in means.index.get_level_values('Algorithm').unique():\n",
    "#     trace = go.Scatter(means.loc[algorithm], y=)\n",
    "#     fig.add_line(x=)\n",
    "    # fig.add_line(x='Algorithm', y=, name=\"Last year\")\n",
    "\n",
    "fig.show()"
   ]
  },
  {
   "cell_type": "code",
   "execution_count": null,
   "metadata": {},
   "outputs": [],
   "source": []
  }
 ],
 "metadata": {
  "kernelspec": {
   "display_name": "ledger",
   "language": "python",
   "name": "ledger"
  },
  "language_info": {
   "codemirror_mode": {
    "name": "ipython",
    "version": 3
   },
   "file_extension": ".py",
   "mimetype": "text/x-python",
   "name": "python",
   "nbconvert_exporter": "python",
   "pygments_lexer": "ipython3",
   "version": "3.8.5"
  }
 },
 "nbformat": 4,
 "nbformat_minor": 4
}
